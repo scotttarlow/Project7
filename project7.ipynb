{
 "cells": [
  {
   "cell_type": "markdown",
   "metadata": {},
   "source": [
    "# Introduction\n",
    "\n",
    "The goal of this project is to discover what the most pertanent features of airpots that cause depature delays. Given is are a few data sets, which when cleaned and fitted involve 72 airports around the united states. To do this, I will reduce the target variable (airport delay proxies) using TSNE. This will allow me to use other properties of the the airports to use as a feature set to predict airport delays.  The ML algorithims used will be Linear Regression, SGD Regression, K-Neighbors Regressor, Random Forest Regressor, and Support Vector Regressor. "
   ]
  },
  {
   "cell_type": "code",
   "execution_count": 1,
   "metadata": {
    "collapsed": false
   },
   "outputs": [],
   "source": [
    "#libraries\n",
    "import pandas as pd\n",
    "import seaborn as sns\n",
    "import matplotlib.pyplot as plt\n",
    "import numpy as np\n",
    "import scipy as sp\n",
    "%matplotlib inline\n",
    "from sqlalchemy import create_engine\n",
    "from sklearn.linear_model import LinearRegression,SGDRegressor\n",
    "from sklearn.model_selection import train_test_split,GridSearchCV\n",
    "from sklearn.manifold import TSNE\n",
    "from sklearn.neighbors import KNeighborsRegressor\n",
    "from sklearn.ensemble import RandomForestRegressor\n",
    "from sklearn.svm import SVR\n",
    "from sklearn.preprocessing import StandardScaler"
   ]
  },
  {
   "cell_type": "markdown",
   "metadata": {},
   "source": [
    "#EDA\n",
    "\n",
    "First I will load in all the datasets, merge them so they match up, and make sure each feature has no nans"
   ]
  },
  {
   "cell_type": "code",
   "execution_count": 2,
   "metadata": {
    "collapsed": false
   },
   "outputs": [],
   "source": [
    "#loading in data\n",
    "operations_df = pd.read_csv('assets/Airport_operations.csv')\n",
    "cancellations_df = pd.read_csv('assets/airport_cancellations.csv')\n",
    "airports_df = pd.read_csv('assets/airports.csv')\n",
    "\n",
    "#for merging with cancellations_df\n",
    "operations_df.rename(columns={'airport':'Airport','year':'Year'},inplace=True)\n",
    "\n",
    "new = pd.merge(operations_df,cancellations_df,how='inner',on=['Airport', 'Year'])\n",
    "\n",
    "#for merging with new\n",
    "airports_df.rename(columns={'LocID':'Airport'},inplace=True)\n",
    "\n",
    "Clean_Airport_df = pd.merge(new,airports_df,how='inner',on=['Airport'])"
   ]
  },
  {
   "cell_type": "code",
   "execution_count": 3,
   "metadata": {
    "collapsed": false
   },
   "outputs": [
    {
     "name": "stdout",
     "output_type": "stream",
     "text": [
      "<class 'pandas.core.frame.DataFrame'>\n",
      "Int64Index: 799 entries, 0 to 798\n",
      "Data columns (total 31 columns):\n",
      "Airport                               799 non-null object\n",
      "Year                                  799 non-null int64\n",
      "departures for metric computation     799 non-null int64\n",
      "arrivals for metric computation       799 non-null int64\n",
      "percent on-time gate departures       799 non-null float64\n",
      "percent on-time airport departures    799 non-null float64\n",
      "percent on-time gate arrivals         799 non-null float64\n",
      "average_gate_departure_delay          799 non-null float64\n",
      "average_taxi_out_time                 799 non-null float64\n",
      "average taxi out delay                799 non-null float64\n",
      "average airport departure delay       799 non-null float64\n",
      "average airborne delay                799 non-null float64\n",
      "average taxi in delay                 799 non-null float64\n",
      "average block delay                   799 non-null float64\n",
      "average gate arrival delay            799 non-null float64\n",
      "Departure Cancellations               799 non-null float64\n",
      "Arrival Cancellations                 799 non-null float64\n",
      "Departure Diversions                  799 non-null float64\n",
      "Arrival Diversions                    799 non-null float64\n",
      "Key                                   799 non-null float64\n",
      "AP_NAME                               799 non-null object\n",
      "ALIAS                                 799 non-null object\n",
      "Facility Type                         799 non-null object\n",
      "FAA REGION                            799 non-null object\n",
      "COUNTY                                799 non-null object\n",
      "CITY                                  799 non-null object\n",
      "STATE                                 799 non-null object\n",
      "AP Type                               799 non-null object\n",
      "Latitude                              799 non-null float64\n",
      "Longitude                             799 non-null float64\n",
      "Boundary Data Available               799 non-null object\n",
      "dtypes: float64(18), int64(3), object(10)\n",
      "memory usage: 199.8+ KB\n"
     ]
    }
   ],
   "source": [
    "Clean_Airport_df.info()"
   ]
  },
  {
   "cell_type": "markdown",
   "metadata": {},
   "source": [
    "# Postgres stuff\n",
    "\n",
    "Below is taking the cleaned airport set and storing it in a PSQL database"
   ]
  },
  {
   "cell_type": "markdown",
   "metadata": {},
   "source": [
    "You are connected to database \"project7\" as user \"Scott\" via socket in \"/tmp\" at port \"5432\"."
   ]
  },
  {
   "cell_type": "code",
   "execution_count": 1,
   "metadata": {
    "collapsed": false
   },
   "outputs": [],
   "source": [
    "#user = 'Scott'\n",
    "#url = 'localhost'\n",
    "#port = 5432\n",
    "#database = 'project7'\n",
    "#password = ''\n",
    "\n",
    "#engine = create_engine(\"postgresql://{}:{}@{}:{}/{}\".format(user, password, url, port, database))\n",
    "\n",
    "#Clean_Airport_df.to_sql('data', engine)\n",
    "\n",
    "#result = engine.execute(\"select * from data;\")\n",
    "\n",
    "#result.fetchall()"
   ]
  },
  {
   "cell_type": "markdown",
   "metadata": {},
   "source": [
    "Above I created a postgres database, loaded the pandas data frame into database as table 'data' and used sqlalchemy to prove I did it."
   ]
  },
  {
   "cell_type": "code",
   "execution_count": 5,
   "metadata": {
    "collapsed": false
   },
   "outputs": [
    {
     "data": {
      "text/plain": [
       "percent on-time airport departures   -0.954832\n",
       "percent on-time gate departures      -0.764464\n",
       "percent on-time gate arrivals        -0.712975\n",
       "Year                                 -0.023332\n",
       "Key                                   0.176816\n",
       "Latitude                              0.240283\n",
       "Departure Diversions                  0.360954\n",
       "arrivals for metric computation       0.390470\n",
       "departures for metric computation     0.391838\n",
       "Arrival Diversions                    0.444050\n",
       "Arrival Cancellations                 0.487547\n",
       "average taxi in delay                 0.504119\n",
       "Departure Cancellations               0.504939\n",
       "Longitude                             0.506213\n",
       "average airborne delay                0.554790\n",
       "average block delay                   0.589096\n",
       "average_taxi_out_time                 0.688469\n",
       "average taxi out delay                0.733528\n",
       "average gate arrival delay            0.838877\n",
       "average_gate_departure_delay          0.886479\n",
       "average airport departure delay       1.000000\n",
       "Name: average airport departure delay, dtype: float64"
      ]
     },
     "execution_count": 5,
     "metadata": {},
     "output_type": "execute_result"
    }
   ],
   "source": [
    "Clean_Airport_df.corr()['average airport departure delay'].sort_values()"
   ]
  },
  {
   "cell_type": "markdown",
   "metadata": {},
   "source": [
    "Correlation calcualtion shows that Longitude, Depature Cancelations, Arrival Calculations and Arrival Diversions are strong predictors of airport depature delay"
   ]
  },
  {
   "cell_type": "code",
   "execution_count": 7,
   "metadata": {
    "collapsed": false
   },
   "outputs": [
    {
     "data": {
      "text/plain": [
       "<matplotlib.axes._subplots.AxesSubplot at 0x1130477d0>"
      ]
     },
     "execution_count": 7,
     "metadata": {},
     "output_type": "execute_result"
    },
    {
     "data": {
      "image/png": "[encoded data removed]",
      "text/plain": [
       "<matplotlib.figure.Figure at 0x1124d5490>"
      ]
     },
     "metadata": {},
     "output_type": "display_data"
    }
   ],
   "source": [
    "sns.regplot(Clean_Airport_df['Longitude'],Clean_Airport_df['average airport departure delay'])"
   ]
  },
  {
   "cell_type": "markdown",
   "metadata": {},
   "source": [
    "The Scatter plot above shows that average airport depature has a \"kinda\" linear relationship with Longitude"
   ]
  },
  {
   "cell_type": "code",
   "execution_count": 8,
   "metadata": {
    "collapsed": false
   },
   "outputs": [
    {
     "data": {
      "text/plain": [
       "<matplotlib.collections.PathCollection at 0x11272a690>"
      ]
     },
     "execution_count": 8,
     "metadata": {},
     "output_type": "execute_result"
    },
    {
     "data": {
      "image/png": "[encoded data removed]",
      "text/plain": [
       "<matplotlib.figure.Figure at 0x11311e450>"
      ]
     },
     "metadata": {},
     "output_type": "display_data"
    }
   ],
   "source": [
    "plt.scatter(Clean_Airport_df['Longitude'],Clean_Airport_df['Latitude'],c=Clean_Airport_df['average airport departure delay'])"
   ]
  },
  {
   "cell_type": "markdown",
   "metadata": {},
   "source": [
    "The scatter plot above plots the Longitude on the independent axis and Latitude on the dependent axis. The color is average airport depature delay, with darker being hues being more airport depature delay. It's also good to note that not only does the dely increase from west to east, but, the density of airports also increases. This means that Longitude can also serve as a proxy for density"
   ]
  },
  {
   "cell_type": "markdown",
   "metadata": {},
   "source": [
    "# Initial Model"
   ]
  },
  {
   "cell_type": "code",
   "execution_count": 10,
   "metadata": {
    "collapsed": true
   },
   "outputs": [],
   "source": [
    "x_train,x_test,y_train,y_test = train_test_split(Clean_Airport_df['Longitude'],Clean_Airport_df['average airport departure delay'],random_state=30)"
   ]
  },
  {
   "cell_type": "code",
   "execution_count": 11,
   "metadata": {
    "collapsed": true
   },
   "outputs": [],
   "source": [
    "lin = LinearRegression()"
   ]
  },
  {
   "cell_type": "code",
   "execution_count": 12,
   "metadata": {
    "collapsed": false
   },
   "outputs": [
    {
     "data": {
      "text/plain": [
       "LinearRegression(copy_X=True, fit_intercept=True, n_jobs=1, normalize=False)"
      ]
     },
     "execution_count": 12,
     "metadata": {},
     "output_type": "execute_result"
    }
   ],
   "source": [
    "lin.fit(X=x_train.reshape(-1,1),y=y_train)"
   ]
  },
  {
   "cell_type": "code",
   "execution_count": 13,
   "metadata": {
    "collapsed": false
   },
   "outputs": [
    {
     "data": {
      "text/plain": [
       "0.3134608273984073"
      ]
     },
     "execution_count": 13,
     "metadata": {},
     "output_type": "execute_result"
    }
   ],
   "source": [
    "lin.score(x_test.reshape(-1,1),y_test)"
   ]
  },
  {
   "cell_type": "markdown",
   "metadata": {},
   "source": [
    "Initial Linear model shows a decent, 0.31 test score when only using Longitude to predict average airport delay."
   ]
  },
  {
   "cell_type": "markdown",
   "metadata": {},
   "source": [
    "# Using dimensonality_reduction to create \"Delay\" Parameter"
   ]
  },
  {
   "cell_type": "code",
   "execution_count": 15,
   "metadata": {
    "collapsed": false
   },
   "outputs": [],
   "source": [
    "features = ['percent on-time airport departures',\n",
    "            'percent on-time gate departures',\n",
    "            'percent on-time gate arrivals',\n",
    "            'average airborne delay',\n",
    "            'average block delay',\n",
    "            'average_taxi_out_time',\n",
    "            'average taxi out delay',\n",
    "            'average gate arrival delay',\n",
    "            'average_gate_departure_delay',\n",
    "            'average airport departure delay']\n",
    "\n",
    "delay_features_df = Clean_Airport_df[features]"
   ]
  },
  {
   "cell_type": "markdown",
   "metadata": {},
   "source": [
    "Beacuse what the proper \"delay\" is in this data set is ambiguious, I will use TSNE to take the 10 delay features and turn them into a single delay targe"
   ]
  },
  {
   "cell_type": "code",
   "execution_count": 16,
   "metadata": {
    "collapsed": false
   },
   "outputs": [],
   "source": [
    "temp = delay_features_df.as_matrix()\n",
    "dem_reduct = TSNE(n_components=1)\n",
    "delay_factor = dem_reduct.fit_transform(temp)"
   ]
  },
  {
   "cell_type": "markdown",
   "metadata": {},
   "source": [
    "# Grid Searched SGD Regressor "
   ]
  },
  {
   "cell_type": "code",
   "execution_count": 48,
   "metadata": {
    "collapsed": false
   },
   "outputs": [],
   "source": [
    "predictive_factors = ['Year',\n",
    "                      'Key',\n",
    "                      'Latitude',\n",
    "                      'Departure Diversions',\n",
    "                      'arrivals for metric computation',\n",
    "                      'departures for metric computation',\n",
    "                      'Arrival Diversions',\n",
    "                      'Arrival Cancellations',\n",
    "                      'Departure Cancellations',\n",
    "                      'Longitude'\n",
    "                     ]\n",
    "\n",
    "feature_df = Clean_Airport_df[predictive_factors]"
   ]
  },
  {
   "cell_type": "markdown",
   "metadata": {},
   "source": [
    "The feature set I will be using in the varity of models will be the ones listed in predictive_factors. "
   ]
  },
  {
   "cell_type": "code",
   "execution_count": 56,
   "metadata": {
    "collapsed": true
   },
   "outputs": [],
   "source": [
    "x_train,x_test,y_train,y_test = train_test_split(feature_df,delay_factor,random_state=30)"
   ]
  },
  {
   "cell_type": "code",
   "execution_count": 57,
   "metadata": {
    "collapsed": false
   },
   "outputs": [],
   "source": [
    "params={'penalty':['l2','l1','elasticnet'],\n",
    "       'alpha':[0.0001,0.001,0.01,0.1,1],\n",
    "       'l1_ratio':[0,0.05,0.1,0.15,0.2,0.25,0.3,0.35,0.4,0.45,0.5],\n",
    "       'random_state':[30]   \n",
    "}"
   ]
  },
  {
   "cell_type": "code",
   "execution_count": 58,
   "metadata": {
    "collapsed": false
   },
   "outputs": [],
   "source": [
    "grid_SGD = GridSearchCV(SGDRegressor(),param_grid=params,n_jobs=-1)"
   ]
  },
  {
   "cell_type": "code",
   "execution_count": 59,
   "metadata": {
    "collapsed": false
   },
   "outputs": [
    {
     "data": {
      "text/plain": [
       "GridSearchCV(cv=None, error_score='raise',\n",
       "       estimator=SGDRegressor(alpha=0.0001, average=False, epsilon=0.1, eta0=0.01,\n",
       "       fit_intercept=True, l1_ratio=0.15, learning_rate='invscaling',\n",
       "       loss='squared_loss', n_iter=5, penalty='l2', power_t=0.25,\n",
       "       random_state=None, shuffle=True, verbose=0, warm_start=False),\n",
       "       fit_params={}, iid=True, n_jobs=-1,\n",
       "       param_grid={'penalty': ['l2', 'l1', 'elasticnet'], 'alpha': [0.0001, 0.001, 0.01, 0.1, 1], 'random_state': [30], 'l1_ratio': [0, 0.05, 0.1, 0.15, 0.2, 0.25, 0.3, 0.35, 0.4, 0.45, 0.5]},\n",
       "       pre_dispatch='2*n_jobs', refit=True, return_train_score=True,\n",
       "       scoring=None, verbose=0)"
      ]
     },
     "execution_count": 59,
     "metadata": {},
     "output_type": "execute_result"
    }
   ],
   "source": [
    "grid_SGD.fit(x_train,y_train.ravel())"
   ]
  },
  {
   "cell_type": "code",
   "execution_count": 60,
   "metadata": {
    "collapsed": false
   },
   "outputs": [],
   "source": [
    "best_SGD = grid_SGD.best_estimator_"
   ]
  },
  {
   "cell_type": "code",
   "execution_count": 61,
   "metadata": {
    "collapsed": false
   },
   "outputs": [
    {
     "data": {
      "text/plain": [
       "-3.3704979427582352e+34"
      ]
     },
     "execution_count": 61,
     "metadata": {},
     "output_type": "execute_result"
    }
   ],
   "source": [
    "grid_SGD.score(x_test,y_test)"
   ]
  },
  {
   "cell_type": "markdown",
   "metadata": {},
   "source": [
    "# KN Regressor"
   ]
  },
  {
   "cell_type": "code",
   "execution_count": 62,
   "metadata": {
    "collapsed": true
   },
   "outputs": [],
   "source": [
    "KNR = KNeighborsRegressor()"
   ]
  },
  {
   "cell_type": "code",
   "execution_count": 63,
   "metadata": {
    "collapsed": true
   },
   "outputs": [],
   "source": [
    "params={'n_neighbors':[1,2,3,4,5,6,7,8,9,10]\n",
    "       }"
   ]
  },
  {
   "cell_type": "code",
   "execution_count": 64,
   "metadata": {
    "collapsed": true
   },
   "outputs": [],
   "source": [
    "grid_KNR = GridSearchCV(KNR,param_grid=params,n_jobs=-1)"
   ]
  },
  {
   "cell_type": "code",
   "execution_count": 65,
   "metadata": {
    "collapsed": false
   },
   "outputs": [
    {
     "data": {
      "text/plain": [
       "GridSearchCV(cv=None, error_score='raise',\n",
       "       estimator=KNeighborsRegressor(algorithm='auto', leaf_size=30, metric='minkowski',\n",
       "          metric_params=None, n_jobs=1, n_neighbors=5, p=2,\n",
       "          weights='uniform'),\n",
       "       fit_params={}, iid=True, n_jobs=-1,\n",
       "       param_grid={'n_neighbors': [1, 2, 3, 4, 5, 6, 7, 8, 9, 10]},\n",
       "       pre_dispatch='2*n_jobs', refit=True, return_train_score=True,\n",
       "       scoring=None, verbose=0)"
      ]
     },
     "execution_count": 65,
     "metadata": {},
     "output_type": "execute_result"
    }
   ],
   "source": [
    "grid_KNR.fit(x_train,y_train)"
   ]
  },
  {
   "cell_type": "code",
   "execution_count": 66,
   "metadata": {
    "collapsed": false
   },
   "outputs": [
    {
     "data": {
      "text/plain": [
       "0.27326933726969349"
      ]
     },
     "execution_count": 66,
     "metadata": {},
     "output_type": "execute_result"
    }
   ],
   "source": [
    "grid_KNR.score(x_test,y_test)"
   ]
  },
  {
   "cell_type": "markdown",
   "metadata": {},
   "source": [
    "# Random Forest Regressor"
   ]
  },
  {
   "cell_type": "code",
   "execution_count": 67,
   "metadata": {
    "collapsed": true
   },
   "outputs": [],
   "source": [
    "RFR = RandomForestRegressor()"
   ]
  },
  {
   "cell_type": "code",
   "execution_count": 68,
   "metadata": {
    "collapsed": false
   },
   "outputs": [],
   "source": [
    "n_estimators = np.linspace(1,200,50)\n",
    "n_estimators= n_estimators.astype(int)"
   ]
  },
  {
   "cell_type": "code",
   "execution_count": 69,
   "metadata": {
    "collapsed": false
   },
   "outputs": [],
   "source": [
    "params = {'n_estimators':n_estimators}"
   ]
  },
  {
   "cell_type": "code",
   "execution_count": 70,
   "metadata": {
    "collapsed": false
   },
   "outputs": [],
   "source": [
    "grid_RFR = GridSearchCV(RFR,param_grid=params,n_jobs=-1)"
   ]
  },
  {
   "cell_type": "code",
   "execution_count": 71,
   "metadata": {
    "collapsed": false
   },
   "outputs": [
    {
     "data": {
      "text/plain": [
       "GridSearchCV(cv=None, error_score='raise',\n",
       "       estimator=RandomForestRegressor(bootstrap=True, criterion='mse', max_depth=None,\n",
       "           max_features='auto', max_leaf_nodes=None,\n",
       "           min_impurity_split=1e-07, min_samples_leaf=1,\n",
       "           min_samples_split=2, min_weight_fraction_leaf=0.0,\n",
       "           n_estimators=10, n_jobs=1, oob_score=False, random_state=None,\n",
       "           verbose=0, warm_start=False),\n",
       "       fit_params={}, iid=True, n_jobs=-1,\n",
       "       param_grid={'n_estimators': array([  1,   5,   9,  13,  17,  21,  25,  29,  33,  37,  41,  45,  49,\n",
       "        53,  57,  61,  65,  70,  74,  78,  82,  86,  90,  94,  98, 102,\n",
       "       106, 110, 114, 118, 122, 126, 130, 135, 139, 143, 147, 151, 155,\n",
       "       159, 163, 167, 171, 175, 179, 183, 187, 191, 195, 200])},\n",
       "       pre_dispatch='2*n_jobs', refit=True, return_train_score=True,\n",
       "       scoring=None, verbose=0)"
      ]
     },
     "execution_count": 71,
     "metadata": {},
     "output_type": "execute_result"
    }
   ],
   "source": [
    "grid_RFR.fit(x_train,y_train.ravel())"
   ]
  },
  {
   "cell_type": "code",
   "execution_count": 72,
   "metadata": {
    "collapsed": false
   },
   "outputs": [
    {
     "data": {
      "text/plain": [
       "array([  1,   5,   9,  13,  17,  21,  25,  29,  33,  37,  41,  45,  49,\n",
       "        53,  57,  61,  65,  70,  74,  78,  82,  86,  90,  94,  98, 102,\n",
       "       106, 110, 114, 118, 122, 126, 130, 135, 139, 143, 147, 151, 155,\n",
       "       159, 163, 167, 171, 175, 179, 183, 187, 191, 195, 200])"
      ]
     },
     "execution_count": 72,
     "metadata": {},
     "output_type": "execute_result"
    }
   ],
   "source": [
    "n_estimators"
   ]
  },
  {
   "cell_type": "code",
   "execution_count": 73,
   "metadata": {
    "collapsed": false
   },
   "outputs": [
    {
     "data": {
      "text/plain": [
       "0.7188783522390283"
      ]
     },
     "execution_count": 73,
     "metadata": {},
     "output_type": "execute_result"
    }
   ],
   "source": [
    "grid_RFR.score(x_test,y_test)"
   ]
  },
  {
   "cell_type": "code",
   "execution_count": 74,
   "metadata": {
    "collapsed": false
   },
   "outputs": [
    {
     "data": {
      "text/plain": [
       "0.94407778810754117"
      ]
     },
     "execution_count": 74,
     "metadata": {},
     "output_type": "execute_result"
    }
   ],
   "source": [
    "grid_RFR.score(x_train,y_train)"
   ]
  },
  {
   "cell_type": "markdown",
   "metadata": {},
   "source": [
    "# Support Vector Regressor"
   ]
  },
  {
   "cell_type": "code",
   "execution_count": 75,
   "metadata": {
    "collapsed": true
   },
   "outputs": [],
   "source": [
    "params = {'C':[1e-3,3e-3,1e-2,3e-2,1e-1,3e-1,1,3,10,30,100,300,1000],'kernel':['rbf','sigmoid']}"
   ]
  },
  {
   "cell_type": "code",
   "execution_count": 76,
   "metadata": {
    "collapsed": true
   },
   "outputs": [],
   "source": [
    "grid_SVR = GridSearchCV(SVR(),param_grid=params,n_jobs=-1)"
   ]
  },
  {
   "cell_type": "code",
   "execution_count": 80,
   "metadata": {
    "collapsed": false
   },
   "outputs": [
    {
     "data": {
      "text/plain": [
       "GridSearchCV(cv=None, error_score='raise',\n",
       "       estimator=SVR(C=1.0, cache_size=200, coef0=0.0, degree=3, epsilon=0.1, gamma='auto',\n",
       "  kernel='rbf', max_iter=-1, shrinking=True, tol=0.001, verbose=False),\n",
       "       fit_params={}, iid=True, n_jobs=-1,\n",
       "       param_grid={'kernel': ['rbf', 'sigmoid'], 'C': [0.001, 0.003, 0.01, 0.03, 0.1, 0.3, 1, 3, 10, 30, 100, 300, 1000]},\n",
       "       pre_dispatch='2*n_jobs', refit=True, return_train_score=True,\n",
       "       scoring=None, verbose=0)"
      ]
     },
     "execution_count": 80,
     "metadata": {},
     "output_type": "execute_result"
    }
   ],
   "source": [
    "grid_SVR.fit(x_train,y_train.ravel())"
   ]
  },
  {
   "cell_type": "code",
   "execution_count": 81,
   "metadata": {
    "collapsed": false
   },
   "outputs": [
    {
     "data": {
      "text/plain": [
       "-0.01136516625991657"
      ]
     },
     "execution_count": 81,
     "metadata": {},
     "output_type": "execute_result"
    }
   ],
   "source": [
    "grid_SVR.score(x_test,y_test)"
   ]
  },
  {
   "cell_type": "markdown",
   "metadata": {},
   "source": [
    "# Results \n",
    "\n",
    "The Random Forest Regressor had a Training score of : 0.94 and a Test score of : 0.72. This was byfar the best model, and seems to be a strong predictor of airport delay with the given features. "
   ]
  },
  {
   "cell_type": "code",
   "execution_count": 108,
   "metadata": {
    "collapsed": true
   },
   "outputs": [],
   "source": [
    "feature_val =[ val for val in grid_RFR.best_estimator_.feature_importances_]\n",
    "results_df = pd.DataFrame([predictive_factors,feature_val])"
   ]
  },
  {
   "cell_type": "code",
   "execution_count": 111,
   "metadata": {
    "collapsed": false
   },
   "outputs": [],
   "source": [
    "results_df = results_df.T"
   ]
  },
  {
   "cell_type": "code",
   "execution_count": 115,
   "metadata": {
    "collapsed": false
   },
   "outputs": [
    {
     "data": {
      "text/html": [
       "<div>\n",
       "<table border=\"1\" class=\"dataframe\">\n",
       "  <thead>\n",
       "    <tr style=\"text-align: right;\">\n",
       "      <th></th>\n",
       "      <th>0</th>\n",
       "      <th>1</th>\n",
       "    </tr>\n",
       "  </thead>\n",
       "  <tbody>\n",
       "    <tr>\n",
       "      <th>9</th>\n",
       "      <td>Longitude</td>\n",
       "      <td>0.200369</td>\n",
       "    </tr>\n",
       "    <tr>\n",
       "      <th>5</th>\n",
       "      <td>departures for metric computation</td>\n",
       "      <td>0.18625</td>\n",
       "    </tr>\n",
       "    <tr>\n",
       "      <th>7</th>\n",
       "      <td>Arrival Cancellations</td>\n",
       "      <td>0.108045</td>\n",
       "    </tr>\n",
       "    <tr>\n",
       "      <th>4</th>\n",
       "      <td>arrivals for metric computation</td>\n",
       "      <td>0.107675</td>\n",
       "    </tr>\n",
       "    <tr>\n",
       "      <th>8</th>\n",
       "      <td>Departure Cancellations</td>\n",
       "      <td>0.0975354</td>\n",
       "    </tr>\n",
       "    <tr>\n",
       "      <th>0</th>\n",
       "      <td>Year</td>\n",
       "      <td>0.0931141</td>\n",
       "    </tr>\n",
       "    <tr>\n",
       "      <th>3</th>\n",
       "      <td>Departure Diversions</td>\n",
       "      <td>0.0526476</td>\n",
       "    </tr>\n",
       "    <tr>\n",
       "      <th>6</th>\n",
       "      <td>Arrival Diversions</td>\n",
       "      <td>0.0525134</td>\n",
       "    </tr>\n",
       "    <tr>\n",
       "      <th>1</th>\n",
       "      <td>Key</td>\n",
       "      <td>0.05187</td>\n",
       "    </tr>\n",
       "    <tr>\n",
       "      <th>2</th>\n",
       "      <td>Latitude</td>\n",
       "      <td>0.0499806</td>\n",
       "    </tr>\n",
       "  </tbody>\n",
       "</table>\n",
       "</div>"
      ],
      "text/plain": [
       "                                   0          1\n",
       "9                          Longitude   0.200369\n",
       "5  departures for metric computation    0.18625\n",
       "7              Arrival Cancellations   0.108045\n",
       "4    arrivals for metric computation   0.107675\n",
       "8            Departure Cancellations  0.0975354\n",
       "0                               Year  0.0931141\n",
       "3               Departure Diversions  0.0526476\n",
       "6                 Arrival Diversions  0.0525134\n",
       "1                                Key    0.05187\n",
       "2                           Latitude  0.0499806"
      ]
     },
     "execution_count": 115,
     "metadata": {},
     "output_type": "execute_result"
    }
   ],
   "source": [
    "results_df.sort_values(1,ascending=False)"
   ]
  },
  {
   "cell_type": "markdown",
   "metadata": {},
   "source": [
    "The most predictive features of airport delay are Longitude, airport depatures, arrival cancellations, airport arrivals, and Departure Cancellations. Longitude, airport depatures, and airport arrivals are difficult paramters for an airport to change. However, if the FAA can do a better job controlling both Arrival and Departure cancelations, airport delays should be reduced. Furthermore, what is evident from this study is that Airports that are located in the Eastern United States, near many other airports, with many arrivals and depatrues are more likely to have significant delays than less busy and western airports."
   ]
  },
  {
   "cell_type": "code",
   "execution_count": null,
   "metadata": {
    "collapsed": true
   },
   "outputs": [],
   "source": []
  }
 ],
 "metadata": {
  "anaconda-cloud": {},
  "kernelspec": {
   "display_name": "Python [default]",
   "language": "python",
   "name": "python2"
  },
  "language_info": {
   "codemirror_mode": {
    "name": "ipython",
    "version": 2
   },
   "file_extension": ".py",
   "mimetype": "text/x-python",
   "name": "python",
   "nbconvert_exporter": "python",
   "pygments_lexer": "ipython2",
   "version": "2.7.12"
  }
 },
 "nbformat": 4,
 "nbformat_minor": 1
}
