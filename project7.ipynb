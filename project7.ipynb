{
 "cells": [
  {
   "cell_type": "markdown",
   "metadata": {},
   "source": [
    "# Introduction\n",
    "\n",
    "The goal of this project is to discover what the most pertanent features of airpots that cause depature delays. Given is are a few data sets, which when cleaned and fitted involve 72 airports around the united states. To do this, I will reduce the target variable (airport delay proxies) using TSNE. This will allow me to use other properties of the the airports to use as a feature set to predict airport delays.  The ML algorithims used will be Linear Regression, SGD Regression, K-Neighbors Regressor, Random Forest Regressor, and Support Vector Regressor. "
   ]
  },
  {
   "cell_type": "code",
   "execution_count": 1,
   "metadata": {
    "collapsed": false
   },
   "outputs": [],
   "source": [
    "#libraries\n",
    "import pandas as pd\n",
    "import seaborn as sns\n",
    "import matplotlib.pyplot as plt\n",
    "import numpy as np\n",
    "import scipy as sp\n",
    "%matplotlib inline\n",
    "from sqlalchemy import create_engine\n",
    "from sklearn.linear_model import LinearRegression,SGDRegressor\n",
    "from sklearn.model_selection import train_test_split,GridSearchCV\n",
    "from sklearn.manifold import TSNE\n",
    "from sklearn.neighbors import KNeighborsRegressor\n",
    "from sklearn.ensemble import RandomForestRegressor\n",
    "from sklearn.svm import SVR\n",
    "from sklearn.preprocessing import StandardScaler"
   ]
  },
  {
   "cell_type": "markdown",
   "metadata": {},
   "source": [
    "#EDA\n",
    "\n",
    "First I will load in all the datasets, merge them so they match up, and make sure each feature has no nans"
   ]
  },
  {
   "cell_type": "code",
   "execution_count": 2,
   "metadata": {
    "collapsed": false
   },
   "outputs": [],
   "source": [
    "#loading in data\n",
    "operations_df = pd.read_csv('assets/Airport_operations.csv')\n",
    "cancellations_df = pd.read_csv('assets/airport_cancellations.csv')\n",
    "airports_df = pd.read_csv('assets/airports.csv')\n",
    "\n",
    "#for merging with cancellations_df\n",
    "operations_df.rename(columns={'airport':'Airport','year':'Year'},inplace=True)\n",
    "\n",
    "new = pd.merge(operations_df,cancellations_df,how='inner',on=['Airport', 'Year'])\n",
    "\n",
    "#for merging with new\n",
    "airports_df.rename(columns={'LocID':'Airport'},inplace=True)\n",
    "\n",
    "Clean_Airport_df = pd.merge(new,airports_df,how='inner',on=['Airport'])"
   ]
  },
  {
   "cell_type": "code",
   "execution_count": 3,
   "metadata": {
    "collapsed": false
   },
   "outputs": [
    {
     "name": "stdout",
     "output_type": "stream",
     "text": [
      "<class 'pandas.core.frame.DataFrame'>\n",
      "Int64Index: 799 entries, 0 to 798\n",
      "Data columns (total 31 columns):\n",
      "Airport                               799 non-null object\n",
      "Year                                  799 non-null int64\n",
      "departures for metric computation     799 non-null int64\n",
      "arrivals for metric computation       799 non-null int64\n",
      "percent on-time gate departures       799 non-null float64\n",
      "percent on-time airport departures    799 non-null float64\n",
      "percent on-time gate arrivals         799 non-null float64\n",
      "average_gate_departure_delay          799 non-null float64\n",
      "average_taxi_out_time                 799 non-null float64\n",
      "average taxi out delay                799 non-null float64\n",
      "average airport departure delay       799 non-null float64\n",
      "average airborne delay                799 non-null float64\n",
      "average taxi in delay                 799 non-null float64\n",
      "average block delay                   799 non-null float64\n",
      "average gate arrival delay            799 non-null float64\n",
      "Departure Cancellations               799 non-null float64\n",
      "Arrival Cancellations                 799 non-null float64\n",
      "Departure Diversions                  799 non-null float64\n",
      "Arrival Diversions                    799 non-null float64\n",
      "Key                                   799 non-null float64\n",
      "AP_NAME                               799 non-null object\n",
      "ALIAS                                 799 non-null object\n",
      "Facility Type                         799 non-null object\n",
      "FAA REGION                            799 non-null object\n",
      "COUNTY                                799 non-null object\n",
      "CITY                                  799 non-null object\n",
      "STATE                                 799 non-null object\n",
      "AP Type                               799 non-null object\n",
      "Latitude                              799 non-null float64\n",
      "Longitude                             799 non-null float64\n",
      "Boundary Data Available               799 non-null object\n",
      "dtypes: float64(18), int64(3), object(10)\n",
      "memory usage: 199.8+ KB\n"
     ]
    }
   ],
   "source": [
    "Clean_Airport_df.info()"
   ]
  },
  {
   "cell_type": "markdown",
   "metadata": {},
   "source": [
    "# Postgres stuff\n",
    "\n",
    "Below is taking the cleaned airport set and storing it in a PSQL database"
   ]
  },
  {
   "cell_type": "markdown",
   "metadata": {},
   "source": [
    "You are connected to database \"project7\" as user \"Scott\" via socket in \"/tmp\" at port \"5432\"."
   ]
  },
  {
   "cell_type": "code",
   "execution_count": 4,
   "metadata": {
    "collapsed": false
   },
   "outputs": [
    {
     "data": {
      "text/plain": [
       "[(0L, u'ABQ', 2004L, 53971L, 53818L, 0.803, 0.7809, 0.7921, 10.38, 9.89, 2.43, 12.1, 2.46, 0.83, 2.55, 10.87, 242.0, 235.0, 71.0, 46.0, 2348.0, u'ALBUQUERQUE INTL SUNPORT', u\"Albuquerque Int'l Sunport\", u'Airport', u'ASW', u'BERNALILLO', u'ALBUQUERQUE', u'NM', u'Federalized/Commercial', 35.040194, -106.609194, u'Yes'),\n",
       " (1L, u'ABQ', 2005L, 51829L, 51877L, 0.814, 0.7922, 0.8001, 9.6, 9.79, 2.29, 11.2, 2.26, 0.89, 2.34, 10.24, 221.0, 190.0, 61.0, 33.0, 2348.0, u'ALBUQUERQUE INTL SUNPORT', u\"Albuquerque Int'l Sunport\", u'Airport', u'ASW', u'BERNALILLO', u'ALBUQUERQUE', u'NM', u'Federalized/Commercial', 35.040194, -106.609194, u'Yes'),\n",
       " (2L, u'ABQ', 2006L, 49682L, 51199L, 0.7983, 0.7756, 0.7746, 10.84, 9.89, 2.16, 12.33, 2.12, 0.84, 2.66, 11.82, 392.0, 329.0, 71.0, 124.0, 2348.0, u'ALBUQUERQUE INTL SUNPORT', u\"Albuquerque Int'l Sunport\", u'Airport', u'ASW', u'BERNALILLO', u'ALBUQUERQUE', u'NM', u'Federalized/Commercial', 35.040194, -106.609194, u'Yes'),\n",
       " (3L, u'ABQ', 2007L, 53255L, 53611L, 0.8005, 0.7704, 0.7647, 11.29, 10.34, 2.4, 12.95, 2.19, 1.29, 3.06, 12.71, 366.0, 304.0, 107.0, 45.0, 2348.0, u'ALBUQUERQUE INTL SUNPORT', u\"Albuquerque Int'l Sunport\", u'Airport', u'ASW', u'BERNALILLO', u'ALBUQUERQUE', u'NM', u'Federalized/Commercial', 35.040194, -106.609194, u'Yes'),\n",
       " (4L, u'ABQ', 2008L, 49589L, 49512L, 0.8103, 0.7844, 0.7875, 10.79, 10.41, 2.41, 12.32, 1.82, 1.03, 2.79, 11.48, 333.0, 300.0, 79.0, 42.0, 2348.0, u'ALBUQUERQUE INTL SUNPORT', u\"Albuquerque Int'l Sunport\", u'Airport', u'ASW', u'BERNALILLO', u'ALBUQUERQUE', u'NM', u'Federalized/Commercial', 35.040194, -106.609194, u'Yes'),\n",
       " (5L, u'ABQ', 2009L, 42550L, 42704L, 0.8341, 0.8147, 0.8224, 9.24, 9.88, 1.89, 10.45, 1.74, 0.92, 1.98, 9.27, 192.0, 162.0, 74.0, 26.0, 2348.0, u'ALBUQUERQUE INTL SUNPORT', u\"Albuquerque Int'l Sunport\", u'Airport', u'ASW', u'BERNALILLO', u'ALBUQUERQUE', u'NM', u'Federalized/Commercial', 35.040194, -106.609194, u'Yes'),\n",
       " (6L, u'ABQ', 2010L, 42302L, 42169L, 0.8144, 0.7907, 0.8047, 10.25, 9.95, 2.05, 11.58, 1.66, 0.95, 1.9, 10.23, 222.0, 177.0, 71.0, 50.0, 2348.0, u'ALBUQUERQUE INTL SUNPORT', u\"Albuquerque Int'l Sunport\", u'Airport', u'ASW', u'BERNALILLO', u'ALBUQUERQUE', u'NM', u'Federalized/Commercial', 35.040194, -106.609194, u'Yes'),\n",
       " (7L, u'ABQ', 2011L, 42283L, 42297L, 0.8072, 0.7758, 0.8022, 10.81, 10.5, 2.51, 12.57, 1.58, 0.84, 1.87, 10.63, 345.0, 294.0, 77.0, 61.0, 2348.0, u'ALBUQUERQUE INTL SUNPORT', u\"Albuquerque Int'l Sunport\", u'Airport', u'ASW', u'BERNALILLO', u'ALBUQUERQUE', u'NM', u'Federalized/Commercial', 35.040194, -106.609194, u'Yes'),\n",
       " (8L, u'ABQ', 2012L, 39105L, 39107L, 0.8219, 0.794, 0.8177, 10.55, 10.27, 2.32, 12.11, 1.41, 0.98, 1.8, 9.73, 237.0, 181.0, 65.0, 60.0, 2348.0, u'ALBUQUERQUE INTL SUNPORT', u\"Albuquerque Int'l Sunport\", u'Airport', u'ASW', u'BERNALILLO', u'ALBUQUERQUE', u'NM', u'Federalized/Commercial', 35.040194, -106.609194, u'Yes'),\n",
       " (9L, u'ABQ', 2013L, 35277L, 34989L, 0.771, 0.7402, 0.7554, 12.56, 10.77, 2.64, 14.28, 1.6, 0.92, 2.35, 12.76, 232.0, 212.0, 62.0, 46.0, 2348.0, u'ALBUQUERQUE INTL SUNPORT', u\"Albuquerque Int'l Sunport\", u'Airport', u'ASW', u'BERNALILLO', u'ALBUQUERQUE', u'NM', u'Federalized/Commercial', 35.040194, -106.609194, u'Yes'),\n",
       " (10L, u'ABQ', 2014L, 33292L, 33137L, 0.7451, 0.7148, 0.732, 14.3, 10.64, 2.41, 15.99, 1.73, 1.02, 2.4, 14.72, 315.0, 274.0, 66.0, 37.0, 2348.0, u'ALBUQUERQUE INTL SUNPORT', u\"Albuquerque Int'l Sunport\", u'Airport', u'ASW', u'BERNALILLO', u'ALBUQUERQUE', u'NM', u'Federalized/Commercial', 35.040194, -106.609194, u'Yes'),\n",
       " (11L, u'ANC', 2004L, 16503L, 15511L, 0.7109, 0.677, 0.6502, 21.45, 12.41, 2.92, 23.05, 4.03, 1.08, 5.93, 22.62, 473.0, 532.0, 73.0, 30.0, 246.0, u'TED STEVENS ANCHORAGE INTL', u\"Ted Stevens Anchorage Int'l Airport\", u'Airport', u'AAL', u'ANCHORAGE', u'ANCHORAGE', u'AK', u'Federalized/Commercial', 61.174083, -149.998194, u'Yes'),\n",
       " (12L, u'ANC', 2005L, 72043L, 67034L, 0.7394, 0.7061, 0.6955, 18.36, 12.19, 2.78, 19.97, 3.65, 1.01, 4.96, 19.35, 424.0, 484.0, 74.0, 31.0, 246.0, u'TED STEVENS ANCHORAGE INTL', u\"Ted Stevens Anchorage Int'l Airport\", u'Airport', u'AAL', u'ANCHORAGE', u'ANCHORAGE', u'AK', u'Federalized/Commercial', 61.174083, -149.998194, u'Yes'),\n",
       " (13L, u'ANC', 2006L, 75708L, 69995L, 0.7771, 0.7455, 0.711, 15.56, 12.84, 2.54, 17.07, 4.29, 0.72, 5.83, 17.71, 367.0, 436.0, 88.0, 50.0, 246.0, u'TED STEVENS ANCHORAGE INTL', u\"Ted Stevens Anchorage Int'l Airport\", u'Airport', u'AAL', u'ANCHORAGE', u'ANCHORAGE', u'AK', u'Federalized/Commercial', 61.174083, -149.998194, u'Yes'),\n",
       " (14L, u'ANC', 2007L, 78741L, 73323L, 0.7838, 0.7457, 0.7196, 15.69, 13.19, 2.29, 17.52, 5.13, 0.39, 5.87, 18.09, 359.0, 423.0, 93.0, 54.0, 246.0, u'TED STEVENS ANCHORAGE INTL', u\"Ted Stevens Anchorage Int'l Airport\", u'Airport', u'AAL', u'ANCHORAGE', u'ANCHORAGE', u'AK', u'Federalized/Commercial', 61.174083, -149.998194, u'Yes'),\n",
       " (15L, u'ANC', 2008L, 76606L, 72479L, 0.7972, 0.7698, 0.7573, 13.45, 13.44, 1.86, 14.72, 5.13, 0.63, 5.93, 15.89, 268.0, 355.0, 97.0, 57.0, 246.0, u'TED STEVENS ANCHORAGE INTL', u\"Ted Stevens Anchorage Int'l Airport\", u'Airport', u'AAL', u'ANCHORAGE', u'ANCHORAGE', u'AK', u'Federalized/Commercial', 61.174083, -149.998194, u'Yes'),\n",
       " (16L, u'ANC', 2009L, 67252L, 63135L, 0.8112, 0.7952, 0.8264, 15.1, 12.49, 1.55, 15.88, 3.85, 0.31, 4.19, 15.95, 354.0, 421.0, 84.0, 80.0, 246.0, u'TED STEVENS ANCHORAGE INTL', u\"Ted Stevens Anchorage Int'l Airport\", u'Airport', u'AAL', u'ANCHORAGE', u'ANCHORAGE', u'AK', u'Federalized/Commercial', 61.174083, -149.998194, u'Yes'),\n",
       " (17L, u'ANC', 2010L, 73089L, 68125L, 0.7992, 0.776, 0.8045, 17.77, 11.97, 1.79, 18.83, 3.75, 0.37, 3.91, 20.28, 149.0, 204.0, 84.0, 32.0, 246.0, u'TED STEVENS ANCHORAGE INTL', u\"Ted Stevens Anchorage Int'l Airport\", u'Airport', u'AAL', u'ANCHORAGE', u'ANCHORAGE', u'AK', u'Federalized/Commercial', 61.174083, -149.998194, u'Yes'),\n",
       " (18L, u'ANC', 2011L, 72556L, 66845L, 0.8276, 0.805, 0.8292, 14.56, 11.89, 1.66, 15.6, 3.92, 0.55, 4.01, 13.93, 191.0, 265.0, 87.0, 36.0, 246.0, u'TED STEVENS ANCHORAGE INTL', u\"Ted Stevens Anchorage Int'l Airport\", u'Airport', u'AAL', u'ANCHORAGE', u'ANCHORAGE', u'AK', u'Federalized/Commercial', 61.174083, -149.998194, u'Yes'),\n",
       " (19L, u'ANC', 2012L, 70322L, 66453L, 0.8442, 0.8235, 0.8521, 10.01, 11.71, 1.52, 11.0, 3.86, 0.34, 3.75, 9.33, 216.0, 284.0, 78.0, 36.0, 246.0, u'TED STEVENS ANCHORAGE INTL', u\"Ted Stevens Anchorage Int'l Airport\", u'Airport', u'AAL', u'ANCHORAGE', u'ANCHORAGE', u'AK', u'Federalized/Commercial', 61.174083, -149.998194, u'Yes'),\n",
       " (20L, u'ANC', 2013L, 69984L, 65469L, 0.8432, 0.8228, 0.8631, 9.18, 12.03, 1.51, 10.09, 3.4, 0.47, 3.82, 8.46, 141.0, 184.0, 65.0, 40.0, 246.0, u'TED STEVENS ANCHORAGE INTL', u\"Ted Stevens Anchorage Int'l Airport\", u'Airport', u'AAL', u'ANCHORAGE', u'ANCHORAGE', u'AK', u'Federalized/Commercial', 61.174083, -149.998194, u'Yes'),\n",
       " (21L, u'ANC', 2014L, 71099L, 66704L, 0.8288, 0.8074, 0.86, 11.33, 11.33, 1.33, 12.34, 4.09, 0.54, 4.57, 10.82, 111.0, 162.0, 74.0, 28.0, 246.0, u'TED STEVENS ANCHORAGE INTL', u\"Ted Stevens Anchorage Int'l Airport\", u'Airport', u'AAL', u'ANCHORAGE', u'ANCHORAGE', u'AK', u'Federalized/Commercial', 61.174083, -149.998194, u'Yes'),\n",
       " (22L, u'ATL', 2004L, 477323L, 473249L, 0.7596, 0.5757, 0.737, 13.59, 20.45, 8.73, 21.36, 5.0, 2.79, 4.69, 15.31, 7870.0, 8433.0, 737.0, 772.0, 921.0, u'HARTSFIELD - JACKSON ATLANTA INTL', u\"Hartsfield-Jackson Atlanta Int'l\", u'Airport', u'ASO', u'FULTON', u'ATLANTA', u'GA', u'Federalized/Commercial', 33.6367, -84.427864, u'Yes'),\n",
       " (23L, u'ATL', 2005L, 484570L, 480171L, 0.7413, 0.6216, 0.7337, 15.5, 18.52, 7.26, 21.8, 4.24, 2.72, 4.62, 17.23, 13837.0, 14480.0, 790.0, 1080.0, 921.0, u'HARTSFIELD - JACKSON ATLANTA INTL', u\"Hartsfield-Jackson Atlanta Int'l\", u'Airport', u'ASO', u'FULTON', u'ATLANTA', u'GA', u'Federalized/Commercial', 33.6367, -84.427864, u'Yes'),\n",
       " (24L, u'ATL', 2006L, 483334L, 478735L, 0.715, 0.5324, 0.7205, 16.2, 20.38, 9.63, 24.85, 3.71, 4.13, 4.72, 16.95, 6624.0, 7301.0, 913.0, 787.0, 921.0, u'HARTSFIELD - JACKSON ATLANTA INTL', u\"Hartsfield-Jackson Atlanta Int'l\", u'Airport', u'ASO', u'FULTON', u'ATLANTA', u'GA', u'Federalized/Commercial', 33.6367, -84.427864, u'Yes'),\n",
       " (25L, u'ATL', 2007L, 491826L, 486799L, 0.7167, 0.5713, 0.7446, 16.77, 19.67, 8.28, 24.18, 3.88, 4.17, 4.43, 16.09, 6796.0, 7790.0, 920.0, 1045.0, 921.0, u'HARTSFIELD - JACKSON ATLANTA INTL', u\"Hartsfield-Jackson Atlanta Int'l\", u'Airport', u'ASO', u'FULTON', u'ATLANTA', u'GA', u'Federalized/Commercial', 33.6367, -84.427864, u'Yes'),\n",
       " (26L, u'ATL', 2008L, 482903L, 478627L, 0.7696, 0.6071, 0.7559, 13.86, 20.6, 9.01, 21.59, 4.11, 4.07, 5.09, 15.71, 5830.0, 6705.0, 982.0, 1072.0, 921.0, u'HARTSFIELD - JACKSON ATLANTA INTL', u\"Hartsfield-Jackson Atlanta Int'l\", u'Airport', u'ASO', u'FULTON', u'ATLANTA', u'GA', u'Federalized/Commercial', 33.6367, -84.427864, u'Yes'),\n",
       " (27L, u'ATL', 2009L, 479957L, 475882L, 0.7775, 0.59, 0.7335, 13.2, 21.84, 9.73, 21.48, 3.31, 4.75, 5.7, 16.54, 5324.0, 6303.0, 1064.0, 1116.0, 921.0, u'HARTSFIELD - JACKSON ATLANTA INTL', u\"Hartsfield-Jackson Atlanta Int'l\", u'Airport', u'ASO', u'FULTON', u'ATLANTA', u'GA', u'Federalized/Commercial', 33.6367, -84.427864, u'Yes'),\n",
       " (28L, u'ATL', 2010L, 469542L, 465911L, 0.7961, 0.6405, 0.7956, 12.82, 21.26, 8.61, 19.9, 2.66, 4.32, 3.67, 14.16, 8198.0, 9279.0, 971.0, 945.0, 921.0, u'HARTSFIELD - JACKSON ATLANTA INTL', u\"Hartsfield-Jackson Atlanta Int'l\", u'Airport', u'ASO', u'FULTON', u'ATLANTA', u'GA', u'Federalized/Commercial', 33.6367, -84.427864, u'Yes'),\n",
       " (29L, u'ATL', 2011L, 454954L, 453734L, 0.8008, 0.673, 0.8068, 12.2, 20.33, 7.52, 18.25, 2.41, 4.0, 3.54, 12.56, 6555.0, 7484.0, 903.0, 812.0, 921.0, u'HARTSFIELD - JACKSON ATLANTA INTL', u\"Hartsfield-Jackson Atlanta Int'l\", u'Airport', u'ASO', u'FULTON', u'ATLANTA', u'GA', u'Federalized/Commercial', 33.6367, -84.427864, u'Yes'),\n",
       " (30L, u'ATL', 2012L, 457501L, 455968L, 0.832, 0.7401, 0.8422, 9.84, 18.8, 6.03, 14.44, 1.62, 3.13, 2.89, 10.27, 2259.0, 2782.0, 798.0, 655.0, 921.0, u'HARTSFIELD - JACKSON ATLANTA INTL', u\"Hartsfield-Jackson Atlanta Int'l\", u'Airport', u'ASO', u'FULTON', u'ATLANTA', u'GA', u'Federalized/Commercial', 33.6367, -84.427864, u'Yes'),\n",
       " (31L, u'ATL', 2013L, 448180L, 445498L, 0.7917, 0.7025, 0.807, 12.28, 18.2, 5.83, 16.98, 2.38, 2.6, 3.64, 12.74, 2916.0, 3450.0, 870.0, 655.0, 921.0, u'HARTSFIELD - JACKSON ATLANTA INTL', u\"Hartsfield-Jackson Atlanta Int'l\", u'Airport', u'ASO', u'FULTON', u'ATLANTA', u'GA', u'Federalized/Commercial', 33.6367, -84.427864, u'Yes'),\n",
       " (32L, u'ATL', 2014L, 428954L, 428312L, 0.7899, 0.7134, 0.8123, 11.99, 17.4, 4.92, 15.93, 2.74, 2.77, 3.21, 12.42, 5977.0, 6483.0, 781.0, 655.0, 921.0, u'HARTSFIELD - JACKSON ATLANTA INTL', u\"Hartsfield-Jackson Atlanta Int'l\", u'Airport', u'ASO', u'FULTON', u'ATLANTA', u'GA', u'Federalized/Commercial', 33.6367, -84.427864, u'Yes'),\n",
       " (33L, u'AUS', 2004L, 14094L, 14052L, 0.7845, 0.7658, 0.7486, 12.05, 11.0, 2.33, 13.73, 2.85, 0.82, 3.26, 13.95, 477.0, 436.0, 53.0, 40.0, 3097.0, u'AUSTIN-BERGSTROM INTL', u\"Austin-Bergstrom Int'l Airport\", u'Airport', u'ASW', u'TRAVIS', u'AUSTIN', u'TX', u'Federalized/Commercial', 30.194528, -97.669889, u'Yes'),\n",
       " (34L, u'AUS', 2005L, 55790L, 55678L, 0.8107, 0.7892, 0.7641, 10.31, 10.98, 2.42, 12.04, 2.61, 0.99, 2.74, 12.62, 435.0, 411.0, 57.0, 76.0, 3097.0, u'AUSTIN-BERGSTROM INTL', u\"Austin-Bergstrom Int'l Airport\", u'Airport', u'ASW', u'TRAVIS', u'AUSTIN', u'TX', u'Federalized/Commercial', 30.194528, -97.669889, u'Yes'),\n",
       " (35L, u'AUS', 2006L, 56809L, 56704L, 0.7826, 0.7579, 0.7424, 12.29, 11.33, 2.34, 13.95, 2.39, 1.02, 3.28, 14.35, 440.0, 387.0, 82.0, 51.0, 3097.0, u'AUSTIN-BERGSTROM INTL', u\"Austin-Bergstrom Int'l Airport\", u'Airport', u'ASW', u'TRAVIS', u'AUSTIN', u'TX', u'Federalized/Commercial', 30.194528, -97.669889, u'Yes'),\n",
       " (36L, u'AUS', 2007L, 62255L, 62685L, 0.7789, 0.7499, 0.7241, 12.84, 12.1, 2.74, 14.79, 2.41, 1.27, 3.45, 15.39, 827.0, 773.0, 116.0, 114.0, 3097.0, u'AUSTIN-BERGSTROM INTL', u\"Austin-Bergstrom Int'l Airport\", u'Airport', u'ASW', u'TRAVIS', u'AUSTIN', u'TX', u'Federalized/Commercial', 30.194528, -97.669889, u'Yes'),\n",
       " (37L, u'AUS', 2008L, 60425L, 60559L, 0.7986, 0.773, 0.7473, 11.77, 12.11, 2.6, 13.51, 2.05, 1.02, 3.06, 14.42, 732.0, 688.0, 95.0, 86.0, 3097.0, u'AUSTIN-BERGSTROM INTL', u\"Austin-Bergstrom Int'l Airport\", u'Airport', u'ASW', u'TRAVIS', u'AUSTIN', u'TX', u'Federalized/Commercial', 30.194528, -97.669889, u'Yes'),\n",
       " (38L, u'AUS', 2009L, 53686L, 53651L, 0.8154, 0.7943, 0.772, 10.91, 11.67, 2.05, 12.23, 2.26, 1.16, 2.69, 12.73, 298.0, 261.0, 72.0, 69.0, 3097.0, u'AUSTIN-BERGSTROM INTL', u\"Austin-Bergstrom Int'l Airport\", u'Airport', u'ASW', u'TRAVIS', u'AUSTIN', u'TX', u'Federalized/Commercial', 30.194528, -97.669889, u'Yes'),\n",
       " (39L, u'AUS', 2010L, 54502L, 54481L, 0.8068, 0.7857, 0.7734, 10.98, 11.46, 1.91, 12.18, 1.88, 0.91, 2.36, 12.38, 356.0, 307.0, 74.0, 67.0, 3097.0, u'AUSTIN-BERGSTROM INTL', u\"Austin-Bergstrom Int'l Airport\", u'Airport', u'ASW', u'TRAVIS', u'AUSTIN', u'TX', u'Federalized/Commercial', 30.194528, -97.669889, u'Yes'),\n",
       " (40L, u'AUS', 2011L, 55584L, 55526L, 0.8051, 0.7841, 0.7738, 11.29, 11.38, 1.97, 12.56, 1.65, 0.97, 2.42, 12.56, 425.0, 399.0, 102.0, 30.0, 3097.0, u'AUSTIN-BERGSTROM INTL', u\"Austin-Bergstrom Int'l Airport\", u'Airport', u'ASW', u'TRAVIS', u'AUSTIN', u'TX', u'Federalized/Commercial', 30.194528, -97.669889, u'Yes'),\n",
       " (41L, u'AUS', 2012L, 56043L, 55752L, 0.8083, 0.784, 0.7769, 10.98, 11.59, 2.25, 12.46, 1.69, 1.18, 2.46, 12.3, 353.0, 323.0, 80.0, 60.0, 3097.0, u'AUSTIN-BERGSTROM INTL', u\"Austin-Bergstrom Int'l Airport\", u'Airport', u'ASW', u'TRAVIS', u'AUSTIN', u'TX', u'Federalized/Commercial', 30.194528, -97.669889, u'Yes'),\n",
       " (42L, u'AUS', 2013L, 58240L, 58316L, 0.7716, 0.7433, 0.7261, 13.25, 11.8, 2.33, 14.85, 1.8, 1.19, 3.04, 16.35, 390.0, 318.0, 84.0, 80.0, 3097.0, u'AUSTIN-BERGSTROM INTL', u\"Austin-Bergstrom Int'l Airport\", u'Airport', u'ASW', u'TRAVIS', u'AUSTIN', u'TX', u'Federalized/Commercial', 30.194528, -97.669889, u'Yes'),\n",
       " (43L, u'AUS', 2014L, 60588L, 60264L, 0.7627, 0.7382, 0.7222, 14.16, 11.76, 2.06, 15.59, 2.25, 1.08, 2.88, 16.2, 484.0, 435.0, 88.0, 97.0, 3097.0, u'AUSTIN-BERGSTROM INTL', u\"Austin-Bergstrom Int'l Airport\", u'Airport', u'ASW', u'TRAVIS', u'AUSTIN', u'TX', u'Federalized/Commercial', 30.194528, -97.669889, u'Yes'),\n",
       " (44L, u'BDL', 2004L, 52897L, 52093L, 0.8222, 0.7719, 0.768, 10.26, 13.58, 3.95, 13.1, 2.95, 0.89, 3.48, 12.95, 426.0, 368.0, 70.0, 26.0, 755.0, u'BRADLEY INTL', u\"Bradley Int'l Airport\", u'Airport', u'ANE', u'HARTFORD', u'WINDSOR LOCKS', u'CT', u'Federalized/Commercial', 41.939145, -72.683371, u'Yes'),\n",
       " (45L, u'BDL', 2005L, 58287L, 57128L, 0.8108, 0.7668, 0.7549, 11.34, 13.03, 3.66, 13.86, 3.06, 1.03, 3.38, 14.02, 719.0, 669.0, 74.0, 32.0, 755.0, u'BRADLEY INTL', u\"Bradley Int'l Airport\", u'Airport', u'ANE', u'HARTFORD', u'WINDSOR LOCKS', u'CT', u'Federalized/Commercial', 41.939145, -72.683371, u'Yes'),\n",
       " (46L, u'BDL', 2006L, 54169L, 53701L, 0.794, 0.7496, 0.7488, 12.09, 13.02, 3.32, 14.51, 2.9, 1.01, 3.47, 14.12, 561.0, 486.0, 78.0, 34.0, 755.0, u'BRADLEY INTL', u\"Bradley Int'l Airport\", u'Airport', u'ANE', u'HARTFORD', u'WINDSOR LOCKS', u'CT', u'Federalized/Commercial', 41.939145, -72.683371, u'Yes'),\n",
       " (47L, u'BDL', 2007L, 52603L, 52050L, 0.783, 0.7305, 0.7226, 13.64, 13.71, 3.76, 16.59, 3.12, 1.19, 3.7, 15.85, 757.0, 685.0, 82.0, 40.0, 755.0, u'BRADLEY INTL', u\"Bradley Int'l Airport\", u'Airport', u'ANE', u'HARTFORD', u'WINDSOR LOCKS', u'CT', u'Federalized/Commercial', 41.939145, -72.683371, u'Yes'),\n",
       " (48L, u'BDL', 2008L, 47467L, 46956L, 0.8105, 0.7682, 0.7525, 12.27, 13.56, 3.32, 14.74, 3.39, 1.08, 3.46, 14.4, 587.0, 499.0, 74.0, 80.0, 755.0, u'BRADLEY INTL', u\"Bradley Int'l Airport\", u'Airport', u'ANE', u'HARTFORD', u'WINDSOR LOCKS', u'CT', u'Federalized/Commercial', 41.939145, -72.683371, u'Yes'),\n",
       " (49L, u'BDL', 2009L, 39994L, 39698L, 0.8349, 0.7944, 0.7933, 10.26, 13.02, 2.89, 12.33, 2.97, 0.86, 2.93, 11.7, 347.0, 314.0, 79.0, 52.0, 755.0, u'BRADLEY INTL', u\"Bradley Int'l Airport\", u'Airport', u'ANE', u'HARTFORD', u'WINDSOR LOCKS', u'CT', u'Federalized/Commercial', 41.939145, -72.683371, u'Yes'),\n",
       " (50L, u'BDL', 2010L, 39685L, 39309L, 0.8154, 0.7707, 0.7748, 10.79, 13.07, 3.0, 12.89, 3.04, 0.97, 3.19, 12.62, 466.0, 425.0, 71.0, 35.0, 755.0, u'BRADLEY INTL', u\"Bradley Int'l Airport\", u'Airport', u'ANE', u'HARTFORD', u'WINDSOR LOCKS', u'CT', u'Federalized/Commercial', 41.939145, -72.683371, u'Yes'),\n",
       " (51L, u'BDL', 2011L, 42774L, 42628L, 0.8042, 0.7676, 0.7715, 12.24, 12.81, 2.67, 14.15, 2.9, 0.99, 2.78, 13.42, 614.0, 554.0, 54.0, 35.0, 755.0, u'BRADLEY INTL', u\"Bradley Int'l Airport\", u'Airport', u'ANE', u'HARTFORD', u'WINDSOR LOCKS', u'CT', u'Federalized/Commercial', 41.939145, -72.683371, u'Yes'),\n",
       " (52L, u'BDL', 2012L, 39274L, 39122L, 0.8166, 0.7863, 0.7832, 11.2, 12.4, 2.33, 12.77, 2.34, 0.76, 2.43, 12.46, 295.0, 257.0, 48.0, 26.0, 755.0, u'BRADLEY INTL', u\"Bradley Int'l Airport\", u'Airport', u'ANE', u'HARTFORD', u'WINDSOR LOCKS', u'CT', u'Federalized/Commercial', 41.939145, -72.683371, u'Yes'),\n",
       " (53L, u'BDL', 2013L, 38505L, 38508L, 0.7931, 0.7521, 0.7493, 12.7, 12.62, 2.69, 14.8, 2.46, 0.9, 2.97, 14.58, 364.0, 331.0, 45.0, 17.0, 755.0, u'BRADLEY INTL', u\"Bradley Int'l Airport\", u'Airport', u'ANE', u'HARTFORD', u'WINDSOR LOCKS', u'CT', u'Federalized/Commercial', 41.939145, -72.683371, u'Yes'),\n",
       " (54L, u'BDL', 2014L, 39279L, 39109L, 0.7953, 0.7605, 0.7569, 12.64, 12.76, 2.58, 14.39, 2.34, 0.95, 2.64, 14.79, 467.0, 421.0, 57.0, 32.0, 755.0, u'BRADLEY INTL', u\"Bradley Int'l Airport\", u'Airport', u'ANE', u'HARTFORD', u'WINDSOR LOCKS', u'CT', u'Federalized/Commercial', 41.939145, -72.683371, u'Yes'),\n",
       " (55L, u'BHM', 2004L, 9336L, 9557L, 0.7822, 0.7528, 0.7282, 12.41, 10.5, 2.77, 14.25, 2.45, 1.07, 2.63, 14.41, 402.0, 332.0, 71.0, 24.0, 263.0, u'BIRMINGHAM-SHUTTLESWORTH INTL', u\"Birmingham Int'l Airport\", u'Airport', u'ASO', u'JEFFERSON', u'BIRMINGHAM', u'AL', u'Federalized/Commercial', 33.563889, -86.752306, u'Yes'),\n",
       " (56L, u'BHM', 2005L, 36146L, 36973L, 0.7815, 0.7555, 0.719, 12.01, 10.64, 2.93, 13.86, 2.47, 0.99, 2.55, 14.95, 419.0, 395.0, 63.0, 25.0, 263.0, u'BIRMINGHAM-SHUTTLESWORTH INTL', u\"Birmingham Int'l Airport\", u'Airport', u'ASO', u'JEFFERSON', u'BIRMINGHAM', u'AL', u'Federalized/Commercial', 33.563889, -86.752306, u'Yes'),\n",
       " (57L, u'BHM', 2006L, 33169L, 33672L, 0.7537, 0.7279, 0.6976, 14.13, 11.11, 2.66, 15.96, 2.54, 0.94, 3.33, 16.07, 287.0, 257.0, 53.0, 30.0, 263.0, u'BIRMINGHAM-SHUTTLESWORTH INTL', u\"Birmingham Int'l Airport\", u'Airport', u'ASO', u'JEFFERSON', u'BIRMINGHAM', u'AL', u'Federalized/Commercial', 33.563889, -86.752306, u'Yes'),\n",
       " (58L, u'BHM', 2007L, 35612L, 35925L, 0.7583, 0.7257, 0.7055, 14.55, 11.77, 2.84, 16.69, 2.68, 0.81, 3.28, 17.23, 459.0, 371.0, 59.0, 23.0, 263.0, u'BIRMINGHAM-SHUTTLESWORTH INTL', u\"Birmingham Int'l Airport\", u'Airport', u'ASO', u'JEFFERSON', u'BIRMINGHAM', u'AL', u'Federalized/Commercial', 33.563889, -86.752306, u'Yes'),\n",
       " (59L, u'BHM', 2008L, 34605L, 34766L, 0.7715, 0.7406, 0.7289, 13.82, 11.94, 2.88, 15.82, 2.14, 0.65, 3.0, 15.37, 385.0, 341.0, 58.0, 42.0, 263.0, u'BIRMINGHAM-SHUTTLESWORTH INTL', u\"Birmingham Int'l Airport\", u'Airport', u'ASO', u'JEFFERSON', u'BIRMINGHAM', u'AL', u'Federalized/Commercial', 33.563889, -86.752306, u'Yes'),\n",
       " (60L, u'BHM', 2009L, 29422L, 29959L, 0.7785, 0.7362, 0.7443, 13.02, 12.38, 3.21, 15.3, 1.82, 0.73, 2.77, 14.34, 249.0, 209.0, 61.0, 64.0, 263.0, u'BIRMINGHAM-SHUTTLESWORTH INTL', u\"Birmingham Int'l Airport\", u'Airport', u'ASO', u'JEFFERSON', u'BIRMINGHAM', u'AL', u'Federalized/Commercial', 33.563889, -86.752306, u'Yes'),\n",
       " (61L, u'BHM', 2010L, 29563L, 29907L, 0.7792, 0.7303, 0.7449, 12.62, 12.54, 3.22, 15.07, 1.5, 0.75, 2.28, 13.49, 315.0, 266.0, 60.0, 55.0, 263.0, u'BIRMINGHAM-SHUTTLESWORTH INTL', u\"Birmingham Int'l Airport\", u'Airport', u'ASO', u'JEFFERSON', u'BIRMINGHAM', u'AL', u'Federalized/Commercial', 33.563889, -86.752306, u'Yes'),\n",
       " (62L, u'BHM', 2011L, 27376L, 27705L, 0.7898, 0.7573, 0.7509, 12.37, 11.8, 2.34, 13.84, 1.59, 0.62, 2.32, 13.38, 266.0, 243.0, 42.0, 55.0, 263.0, u'BIRMINGHAM-SHUTTLESWORTH INTL', u\"Birmingham Int'l Airport\", u'Airport', u'ASO', u'JEFFERSON', u'BIRMINGHAM', u'AL', u'Federalized/Commercial', 33.563889, -86.752306, u'Yes'),\n",
       " (63L, u'BHM', 2012L, 26436L, 26597L, 0.8107, 0.7832, 0.7638, 11.45, 11.86, 2.21, 12.89, 1.28, 0.71, 1.93, 13.18, 147.0, 143.0, 31.0, 18.0, 263.0, u'BIRMINGHAM-SHUTTLESWORTH INTL', u\"Birmingham Int'l Airport\", u'Airport', u'ASO', u'JEFFERSON', u'BIRMINGHAM', u'AL', u'Federalized/Commercial', 33.563889, -86.752306, u'Yes'),\n",
       " (64L, u'BHM', 2013L, 24460L, 24402L, 0.7691, 0.7327, 0.7165, 13.62, 12.45, 2.6, 15.48, 1.55, 1.03, 2.85, 15.4, 203.0, 186.0, 50.0, 52.0, 263.0, u'BIRMINGHAM-SHUTTLESWORTH INTL', u\"Birmingham Int'l Airport\", u'Airport', u'ASO', u'JEFFERSON', u'BIRMINGHAM', u'AL', u'Federalized/Commercial', 33.563889, -86.752306, u'Yes'),\n",
       " (65L, u'BHM', 2014L, 23725L, 23682L, 0.7421, 0.7183, 0.7016, 15.58, 12.19, 2.05, 16.75, 1.74, 0.93, 2.93, 16.7, 336.0, 311.0, 46.0, 30.0, 263.0, u'BIRMINGHAM-SHUTTLESWORTH INTL', u\"Birmingham Int'l Airport\", u'Airport', u'ASO', u'JEFFERSON', u'BIRMINGHAM', u'AL', u'Federalized/Commercial', 33.563889, -86.752306, u'Yes'),\n",
       " (66L, u'BNA', 2004L, 84167L, 84551L, 0.7849, 0.7597, 0.7638, 11.37, 10.63, 2.5, 13.34, 3.52, 0.75, 2.83, 12.8, 752.0, 723.0, 163.0, 49.0, 3061.0, u'NASHVILLE INTL', u\"Nashville Int'l Airport\", u'Airport', u'ASO', u'DAVIDSON', u'NASHVILLE', u'TN', u'Federalized/Commercial', 36.124472, -86.678194, u'Yes'),\n",
       " (67L, u'BNA', 2005L, 83922L, 84108L, 0.7837, 0.7614, 0.7655, 11.61, 10.9, 2.51, 13.43, 3.48, 0.89, 2.57, 12.79, 706.0, 642.0, 138.0, 84.0, 3061.0, u'NASHVILLE INTL', u\"Nashville Int'l Airport\", u'Airport', u'ASO', u'DAVIDSON', u'NASHVILLE', u'TN', u'Federalized/Commercial', 36.124472, -86.678194, u'Yes'),\n",
       " (68L, u'BNA', 2006L, 80868L, 80903L, 0.7649, 0.7339, 0.7472, 13.18, 11.6, 2.74, 15.21, 3.35, 1.0, 2.82, 14.26, 739.0, 712.0, 187.0, 87.0, 3061.0, u'NASHVILLE INTL', u\"Nashville Int'l Airport\", u'Airport', u'ASO', u'DAVIDSON', u'NASHVILLE', u'TN', u'Federalized/Commercial', 36.124472, -86.678194, u'Yes'),\n",
       " (69L, u'BNA', 2007L, 81020L, 81183L, 0.7513, 0.7282, 0.7265, 14.56, 11.51, 2.37, 16.08, 3.26, 1.31, 3.11, 15.83, 973.0, 931.0, 163.0, 82.0, 3061.0, u'NASHVILLE INTL', u\"Nashville Int'l Airport\", u'Airport', u'ASO', u'DAVIDSON', u'NASHVILLE', u'TN', u'Federalized/Commercial', 36.124472, -86.678194, u'Yes'),\n",
       " (70L, u'BNA', 2008L, 75174L, 75172L, 0.7713, 0.7424, 0.7518, 13.75, 11.66, 2.56, 15.57, 2.88, 1.1, 2.95, 14.53, 791.0, 743.0, 169.0, 58.0, 3061.0, u'NASHVILLE INTL', u\"Nashville Int'l Airport\", u'Airport', u'ASO', u'DAVIDSON', u'NASHVILLE', u'TN', u'Federalized/Commercial', 36.124472, -86.678194, u'Yes'),\n",
       " (71L, u'BNA', 2009L, 69219L, 69209L, 0.7961, 0.7722, 0.7871, 12.05, 11.37, 2.18, 13.35, 2.61, 1.03, 2.72, 12.04, 573.0, 496.0, 132.0, 78.0, 3061.0, u'NASHVILLE INTL', u\"Nashville Int'l Airport\", u'Airport', u'ASO', u'DAVIDSON', u'NASHVILLE', u'TN', u'Federalized/Commercial', 36.124472, -86.678194, u'Yes'),\n",
       " (72L, u'BNA', 2010L, 69024L, 69292L, 0.7733, 0.736, 0.783, 12.74, 11.8, 2.64, 14.54, 2.3, 1.09, 2.52, 11.87, 886.0, 830.0, 137.0, 98.0, 3061.0, u'NASHVILLE INTL', u\"Nashville Int'l Airport\", u'Airport', u'ASO', u'DAVIDSON', u'NASHVILLE', u'TN', u'Federalized/Commercial', 36.124472, -86.678194, u'Yes'),\n",
       " (73L, u'BNA', 2011L, 69429L, 69281L, 0.7883, 0.7602, 0.7869, 12.51, 11.51, 2.43, 14.06, 1.94, 0.86, 2.48, 12.22, 795.0, 772.0, 140.0, 79.0, 3061.0, u'NASHVILLE INTL', u\"Nashville Int'l Airport\", u'Airport', u'ASO', u'DAVIDSON', u'NASHVILLE', u'TN', u'Federalized/Commercial', 36.124472, -86.678194, u'Yes'),\n",
       " (74L, u'BNA', 2012L, 69369L, 69234L, 0.8155, 0.791, 0.805, 11.02, 11.28, 2.24, 12.32, 1.68, 0.97, 2.13, 11.09, 579.0, 527.0, 100.0, 89.0, 3061.0, u'NASHVILLE INTL', u\"Nashville Int'l Airport\", u'Airport', u'ASO', u'DAVIDSON', u'NASHVILLE', u'TN', u'Federalized/Commercial', 36.124472, -86.678194, u'Yes'),\n",
       " (75L, u'BNA', 2013L, 71623L, 71103L, 0.7639, 0.7292, 0.7599, 13.91, 12.07, 2.96, 15.84, 1.61, 1.19, 2.76, 13.85, 870.0, 775.0, 157.0, 71.0, 3061.0, u'NASHVILLE INTL', u\"Nashville Int'l Airport\", u'Airport', u'ASO', u'DAVIDSON', u'NASHVILLE', u'TN', u'Federalized/Commercial', 36.124472, -86.678194, u'Yes'),\n",
       " (76L, u'BNA', 2014L, 70497L, 70414L, 0.7404, 0.7064, 0.7364, 15.44, 12.15, 2.71, 17.31, 1.85, 1.21, 3.01, 15.4, 1266.0, 1222.0, 152.0, 60.0, 3061.0, u'NASHVILLE INTL', u\"Nashville Int'l Airport\", u'Airport', u'ASO', u'DAVIDSON', u'NASHVILLE', u'TN', u'Federalized/Commercial', 36.124472, -86.678194, u'Yes'),\n",
       " (77L, u'BOS', 2004L, 188413L, 184869L, 0.8095, 0.7234, 0.7755, 11.35, 18.2, 6.25, 16.15, 3.96, 1.91, 4.45, 12.95, 3332.0, 3343.0, 269.0, 127.0, 1531.0, u'GENERAL EDWARD LAWRENCE LOGAN INTL', u\"Logan Int'l Airport\", u'Airport', u'ANE', u'SUFFOLK', u'BOSTON', u'MA', u'Public Use', 42.362972, -71.006417, u'Yes'),\n",
       " (78L, u'BOS', 2005L, 190420L, 185755L, 0.7728, 0.6902, 0.7267, 14.0, 18.04, 5.91, 18.53, 4.48, 2.25, 5.19, 16.65, 4199.0, 4155.0, 266.0, 185.0, 1531.0, u'GENERAL EDWARD LAWRENCE LOGAN INTL', u\"Logan Int'l Airport\", u'Airport', u'ANE', u'SUFFOLK', u'BOSTON', u'MA', u'Public Use', 42.362972, -71.006417, u'Yes'),\n",
       " (79L, u'BOS', 2006L, 187003L, 182418L, 0.7739, 0.694, 0.7175, 14.18, 18.25, 5.9, 18.61, 4.43, 1.82, 5.14, 17.55, 3359.0, 3302.0, 377.0, 142.0, 1531.0, u'GENERAL EDWARD LAWRENCE LOGAN INTL', u\"Logan Int'l Airport\", u'Airport', u'ANE', u'SUFFOLK', u'BOSTON', u'MA', u'Public Use', 42.362972, -71.006417, u'Yes'),\n",
       " (80L, u'BOS', 2007L, 183078L, 179565L, 0.7553, 0.6567, 0.7024, 15.82, 19.3, 6.8, 21.48, 4.55, 2.23, 5.01, 18.48, 4379.0, 4257.0, 268.0, 192.0, 1531.0, u'GENERAL EDWARD LAWRENCE LOGAN INTL', u\"Logan Int'l Airport\", u'Airport', u'ANE', u'SUFFOLK', u'BOSTON', u'MA', u'Public Use', 42.362972, -71.006417, u'Yes'),\n",
       " (81L, u'BOS', 2008L, 170491L, 166566L, 0.7897, 0.7075, 0.7311, 14.03, 18.91, 5.84, 18.72, 4.79, 1.75, 4.79, 17.44, 3655.0, 3601.0, 354.0, 183.0, 1531.0, u'GENERAL EDWARD LAWRENCE LOGAN INTL', u\"Logan Int'l Airport\", u'Airport', u'ANE', u'SUFFOLK', u'BOSTON', u'MA', u'Public Use', 42.362972, -71.006417, u'Yes'),\n",
       " (82L, u'BOS', 2009L, 162271L, 160775L, 0.8209, 0.7492, 0.7649, 11.52, 18.32, 5.39, 15.59, 4.22, 1.64, 4.22, 14.92, 2891.0, 2838.0, 284.0, 126.0, 1531.0, u'GENERAL EDWARD LAWRENCE LOGAN INTL', u\"Logan Int'l Airport\", u'Airport', u'ANE', u'SUFFOLK', u'BOSTON', u'MA', u'Public Use', 42.362972, -71.006417, u'Yes'),\n",
       " (83L, u'BOS', 2010L, 164933L, 162520L, 0.8095, 0.727, 0.7612, 11.7, 18.39, 5.47, 15.99, 4.32, 1.49, 4.24, 14.6, 3071.0, 3035.0, 275.0, 137.0, 1531.0, u'GENERAL EDWARD LAWRENCE LOGAN INTL', u\"Logan Int'l Airport\", u'Airport', u'ANE', u'SUFFOLK', u'BOSTON', u'MA', u'Public Use', 42.362972, -71.006417, u'Yes'),\n",
       " (84L, u'BOS', 2011L, 168358L, 164961L, 0.7878, 0.7065, 0.7378, 13.38, 18.15, 5.2, 17.57, 4.26, 2.02, 4.24, 16.17, 3621.0, 3633.0, 320.0, 113.0, 1531.0, u'GENERAL EDWARD LAWRENCE LOGAN INTL', u\"Logan Int'l Airport\", u'Airport', u'ANE', u'SUFFOLK', u'BOSTON', u'MA', u'Public Use', 42.362972, -71.006417, u'Yes'),\n",
       " (85L, u'BOS', 2012L, 161639L, 158227L, 0.8204, 0.7563, 0.795, 11.56, 17.15, 4.23, 14.82, 3.53, 1.86, 3.0, 11.98, 1498.0, 1523.0, 215.0, 79.0, 1531.0, u'GENERAL EDWARD LAWRENCE LOGAN INTL', u\"Logan Int'l Airport\", u'Airport', u'ANE', u'SUFFOLK', u'BOSTON', u'MA', u'Public Use', 42.362972, -71.006417, u'Yes'),\n",
       " (86L, u'BOS', 2013L, 167549L, 164108L, 0.7987, 0.7174, 0.7682, 12.81, 18.19, 5.29, 17.08, 3.2, 1.87, 3.46, 13.77, 1640.0, 1633.0, 275.0, 148.0, 1531.0, u'GENERAL EDWARD LAWRENCE LOGAN INTL', u\"Logan Int'l Airport\", u'Airport', u'ANE', u'SUFFOLK', u'BOSTON', u'MA', u'Public Use', 42.362972, -71.006417, u'Yes'),\n",
       " (87L, u'BOS', 2014L, 170013L, 165166L, 0.8067, 0.7295, 0.7696, 11.73, 18.19, 5.0, 15.68, 3.23, 1.62, 3.23, 13.8, 2316.0, 2330.0, 349.0, 121.0, 1531.0, u'GENERAL EDWARD LAWRENCE LOGAN INTL', u\"Logan Int'l Airport\", u'Airport', u'ANE', u'SUFFOLK', u'BOSTON', u'MA', u'Public Use', 42.362972, -71.006417, u'Yes'),\n",
       " (88L, u'BUF', 2004L, 12215L, 12188L, 0.7764, 0.7403, 0.7173, 12.94, 12.41, 3.16, 15.0, 2.29, 0.85, 2.85, 15.89, 514.0, 435.0, 40.0, 46.0, 2431.0, u'BUFFALO NIAGARA INTL', u\"Buffalo Niagara Int'l Airport\", u'Airport', u'AEA', u'ERIE', u'BUFFALO', u'NY', u'Federalized/Commercial', 42.940417, -78.730583, u'Yes'),\n",
       " (89L, u'BUF', 2005L, 46558L, 46582L, 0.7535, 0.716, 0.7104, 14.94, 12.46, 3.32, 17.14, 2.08, 1.21, 3.14, 16.67, 456.0, 416.0, 41.0, 35.0, 2431.0, u'BUFFALO NIAGARA INTL', u\"Buffalo Niagara Int'l Airport\", u'Airport', u'AEA', u'ERIE', u'BUFFALO', u'NY', u'Federalized/Commercial', 42.940417, -78.730583, u'Yes'),\n",
       " (90L, u'BUF', 2006L, 45322L, 45345L, 0.7477, 0.712, 0.7095, 15.26, 12.62, 3.17, 17.51, 2.46, 1.16, 3.59, 16.63, 559.0, 489.0, 87.0, 37.0, 2431.0, u'BUFFALO NIAGARA INTL', u\"Buffalo Niagara Int'l Airport\", u'Airport', u'AEA', u'ERIE', u'BUFFALO', u'NY', u'Federalized/Commercial', 42.940417, -78.730583, u'Yes'),\n",
       " (91L, u'BUF', 2007L, 44568L, 44509L, 0.729, 0.6837, 0.6785, 17.39, 13.03, 3.25, 20.01, 3.41, 0.83, 4.07, 19.13, 689.0, 622.0, 54.0, 46.0, 2431.0, u'BUFFALO NIAGARA INTL', u\"Buffalo Niagara Int'l Airport\", u'Airport', u'AEA', u'ERIE', u'BUFFALO', u'NY', u'Federalized/Commercial', 42.940417, -78.730583, u'Yes'),\n",
       " (92L, u'BUF', 2008L, 43245L, 42984L, 0.7606, 0.7239, 0.7287, 16.06, 12.88, 3.02, 18.18, 3.56, 0.93, 3.82, 16.65, 611.0, 539.0, 60.0, 37.0, 2431.0, u'BUFFALO NIAGARA INTL', u\"Buffalo Niagara Int'l Airport\", u'Airport', u'AEA', u'ERIE', u'BUFFALO', u'NY', u'Federalized/Commercial', 42.940417, -78.730583, u'Yes'),\n",
       " (93L, u'BUF', 2009L, 40467L, 40256L, 0.7901, 0.7502, 0.761, 13.9, 12.88, 3.02, 16.17, 3.33, 1.0, 3.07, 13.92, 344.0, 301.0, 38.0, 45.0, 2431.0, u'BUFFALO NIAGARA INTL', u\"Buffalo Niagara Int'l Airport\", u'Airport', u'AEA', u'ERIE', u'BUFFALO', u'NY', u'Federalized/Commercial', 42.940417, -78.730583, u'Yes'),\n",
       " (94L, u'BUF', 2010L, 39546L, 39398L, 0.7826, 0.7362, 0.7534, 13.93, 12.95, 3.1, 16.25, 3.08, 1.03, 2.83, 14.56, 483.0, 421.0, 46.0, 33.0, 2431.0, u'BUFFALO NIAGARA INTL', u\"Buffalo Niagara Int'l Airport\", u'Airport', u'AEA', u'ERIE', u'BUFFALO', u'NY', u'Federalized/Commercial', 42.940417, -78.730583, u'Yes'),\n",
       " (95L, u'BUF', 2011L, 39067L, 38890L, 0.7663, 0.7338, 0.7574, 15.14, 12.08, 2.38, 16.74, 2.66, 0.78, 2.76, 14.96, 387.0, 362.0, 45.0, 27.0, 2431.0, u'BUFFALO NIAGARA INTL', u\"Buffalo Niagara Int'l Airport\", u'Airport', u'AEA', u'ERIE', u'BUFFALO', u'NY', u'Federalized/Commercial', 42.940417, -78.730583, u'Yes'),\n",
       " (96L, u'BUF', 2012L, 38909L, 38714L, 0.7857, 0.7638, 0.7744, 13.48, 11.54, 1.88, 14.63, 2.37, 0.9, 2.28, 13.34, 330.0, 298.0, 35.0, 36.0, 2431.0, u'BUFFALO NIAGARA INTL', u\"Buffalo Niagara Int'l Airport\", u'Airport', u'AEA', u'ERIE', u'BUFFALO', u'NY', u'Federalized/Commercial', 42.940417, -78.730583, u'Yes'),\n",
       " (97L, u'BUF', 2013L, 38706L, 38393L, 0.7736, 0.7248, 0.7437, 14.56, 12.71, 3.22, 16.95, 2.33, 1.15, 2.76, 15.31, 422.0, 356.0, 27.0, 21.0, 2431.0, u'BUFFALO NIAGARA INTL', u\"Buffalo Niagara Int'l Airport\", u'Airport', u'AEA', u'ERIE', u'BUFFALO', u'NY', u'Federalized/Commercial', 42.940417, -78.730583, u'Yes'),\n",
       " (98L, u'BUF', 2014L, 34314L, 34112L, 0.7584, 0.7237, 0.7376, 15.53, 12.17, 2.42, 17.26, 2.33, 0.7, 2.5, 15.96, 612.0, 562.0, 46.0, 27.0, 2431.0, u'BUFFALO NIAGARA INTL', u\"Buffalo Niagara Int'l Airport\", u'Airport', u'AEA', u'ERIE', u'BUFFALO', u'NY', u'Federalized/Commercial', 42.940417, -78.730583, u'Yes'),\n",
       " (99L, u'BUR', 2004L, 38148L, 37293L, 0.7792, 0.7637, 0.7703, 11.33, 10.28, 2.12, 12.78, 2.55, 0.58, 2.33, 11.73, 263.0, 260.0, 98.0, 23.0, 496.0, u'BOB HOPE', u'Bob Hope Airport', u'Airport', u'AWP', u'LOS ANGELES', u'BURBANK', u'CA', u'Federalized/Commercial', 34.200667, -118.358667, u'Yes'),\n",
       " (100L, u'BUR', 2005L, 40769L, 40424L, 0.7733, 0.7435, 0.747, 11.33, 10.93, 2.73, 13.47, 2.66, 0.89, 2.89, 12.56, 285.0, 235.0, 110.0, 19.0, 496.0, u'BOB HOPE', u'Bob Hope Airport', u'Airport', u'AWP', u'LOS ANGELES', u'BURBANK', u'CA', u'Federalized/Commercial', 34.200667, -118.358667, u'Yes'),\n",
       " (101L, u'BUR', 2006L, 42697L, 42915L, 0.7762, 0.7414, 0.7631, 11.4, 11.56, 2.74, 13.5, 2.57, 0.58, 2.63, 11.79, 427.0, 400.0, 217.0, 69.0, 496.0, u'BOB HOPE', u'Bob Hope Airport', u'Airport', u'AWP', u'LOS ANGELES', u'BURBANK', u'CA', u'Federalized/Commercial', 34.200667, -118.358667, u'Yes'),\n",
       " (102L, u'BUR', 2007L, 43833L, 43406L, 0.7804, 0.7448, 0.7707, 11.79, 11.89, 2.74, 13.86, 2.8, 0.69, 2.52, 11.99, 517.0, 477.0, 288.0, 34.0, 496.0, u'BOB HOPE', u'Bob Hope Airport', u'Airport', u'AWP', u'LOS ANGELES', u'BURBANK', u'CA', u'Federalized/Commercial', 34.200667, -118.358667, u'Yes'),\n",
       " (103L, u'BUR', 2008L, 40341L, 40135L, 0.7948, 0.772, 0.7942, 10.78, 11.6, 2.24, 12.24, 2.29, 0.71, 2.16, 10.9, 535.0, 507.0, 141.0, 56.0, 496.0, u'BOB HOPE', u'Bob Hope Airport', u'Airport', u'AWP', u'LOS ANGELES', u'BURBANK', u'CA', u'Federalized/Commercial', 34.200667, -118.358667, u'Yes'),\n",
       " (104L, u'BUR', 2009L, 34863L, 34744L, 0.8419, 0.8302, 0.8305, 8.3, 10.9, 1.72, 9.19, 2.4, 0.57, 1.73, 8.61, 412.0, 390.0, 115.0, 47.0, 496.0, u'BOB HOPE', u'Bob Hope Airport', u'Airport', u'AWP', u'LOS ANGELES', u'BURBANK', u'CA', u'Federalized/Commercial', 34.200667, -118.358667, u'Yes'),\n",
       " (105L, u'BUR', 2010L, 34610L, 34039L, 0.8092, 0.7926, 0.8027, 9.99, 10.76, 1.89, 11.16, 2.02, 0.66, 1.74, 9.96, 465.0, 444.0, 124.0, 46.0, 496.0, u'BOB HOPE', u'Bob Hope Airport', u'Airport', u'AWP', u'LOS ANGELES', u'BURBANK', u'CA', u'Federalized/Commercial', 34.200667, -118.358667, u'Yes'),\n",
       " (106L, u'BUR', 2011L, 32875L, 32495L, 0.8194, 0.7992, 0.7949, 9.6, 10.95, 2.07, 10.81, 2.07, 0.59, 2.06, 10.38, 493.0, 426.0, 76.0, 66.0, 496.0, u'BOB HOPE', u'Bob Hope Airport', u'Airport', u'AWP', u'LOS ANGELES', u'BURBANK', u'CA', u'Federalized/Commercial', 34.200667, -118.358667, u'Yes'),\n",
       " (107L, u'BUR', 2012L, 32152L, 31902L, 0.8369, 0.8173, 0.8249, 8.88, 10.94, 2.09, 10.16, 1.81, 0.59, 1.56, 8.8, 488.0, 456.0, 33.0, 40.0, 496.0, u'BOB HOPE', u'Bob Hope Airport', u'Airport', u'AWP', u'LOS ANGELES', u'BURBANK', u'CA', u'Federalized/Commercial', 34.200667, -118.358667, u'Yes'),\n",
       " (108L, u'BUR', 2013L, 31469L, 31215L, 0.8072, 0.7889, 0.8009, 10.2, 10.77, 1.87, 11.44, 1.73, 0.51, 1.62, 10.14, 399.0, 386.0, 30.0, 8.0, 496.0, u'BOB HOPE', u'Bob Hope Airport', u'Airport', u'AWP', u'LOS ANGELES', u'BURBANK', u'CA', u'Federalized/Commercial', 34.200667, -118.358667, u'Yes'),\n",
       " (109L, u'BUR', 2014L, 30148L, 29885L, 0.7821, 0.7613, 0.7657, 11.3, 10.86, 1.95, 12.58, 2.05, 0.52, 1.84, 12.19, 427.0, 403.0, 36.0, 39.0, 496.0, u'BOB HOPE', u'Bob Hope Airport', u'Airport', u'AWP', u'LOS ANGELES', u'BURBANK', u'CA', u'Federalized/Commercial', 34.200667, -118.358667, u'Yes'),\n",
       " (110L, u'BWI', 2004L, 131690L, 131476L, 0.781, 0.7491, 0.7853, 11.53, 12.09, 3.14, 14.07, 4.65, 1.06, 2.99, 12.14, 1186.0, 1093.0, 162.0, 176.0, 1556.0, u'BALTIMORE/WASHINGTON INTL THURGOOD MARSHAL', u\"Baltimore Washington Int'l Airport\", u'Airport', u'AEA', u'ANNE ARUNDEL', u'BALTIMORE', u'MD', u'Federalized/Commercial', 39.175361, -76.668333, u'Yes'),\n",
       " (111L, u'BWI', 2005L, 132011L, 131803L, 0.7682, 0.7354, 0.7787, 12.58, 12.05, 3.39, 15.28, 4.33, 1.11, 2.76, 12.66, 1407.0, 1313.0, 153.0, 150.0, 1556.0, u'BALTIMORE/WASHINGTON INTL THURGOOD MARSHAL', u\"Baltimore Washington Int'l Airport\", u'Airport', u'AEA', u'ANNE ARUNDEL', u'BALTIMORE', u'MD', u'Federalized/Commercial', 39.175361, -76.668333, u'Yes'),\n",
       " (112L, u'BWI', 2006L, 131521L, 131308L, 0.7608, 0.7255, 0.7703, 13.35, 11.98, 3.17, 15.8, 4.14, 0.92, 2.69, 13.13, 1127.0, 1057.0, 165.0, 172.0, 1556.0, u'BALTIMORE/WASHINGTON INTL THURGOOD MARSHAL', u\"Baltimore Washington Int'l Airport\", u'Airport', u'AEA', u'ANNE ARUNDEL', u'BALTIMORE', u'MD', u'Federalized/Commercial', 39.175361, -76.668333, u'Yes'),\n",
       " (113L, u'BWI', 2007L, 130735L, 130812L, 0.748, 0.702, 0.7493, 14.67, 12.5, 3.59, 17.67, 3.83, 1.41, 3.21, 14.58, 1759.0, 1614.0, 154.0, 162.0, 1556.0, u'BALTIMORE/WASHINGTON INTL THURGOOD MARSHAL', u\"Baltimore Washington Int'l Airport\", u'Airport', u'AEA', u'ANNE ARUNDEL', u'BALTIMORE', u'MD', u'Federalized/Commercial', 39.175361, -76.668333, u'Yes'),\n",
       " (114L, u'BWI', 2008L, 123340L, 123587L, 0.7833, 0.7467, 0.7824, 13.24, 12.0, 2.97, 15.53, 3.37, 1.22, 2.88, 13.23, 1002.0, 964.0, 206.0, 128.0, 1556.0, u'BALTIMORE/WASHINGTON INTL THURGOOD MARSHAL', u\"Baltimore Washington Int'l Airport\", u'Airport', u'AEA', u'ANNE ARUNDEL', u'BALTIMORE', u'MD', u'Federalized/Commercial', 39.175361, -76.668333, u'Yes'),\n",
       " (115L, u'BWI', 2009L, 121056L, 120992L, 0.7886, 0.7335, 0.8134, 12.09, 12.82, 3.82, 15.24, 3.06, 1.43, 2.69, 10.74, 1042.0, 970.0, 206.0, 172.0, 1556.0, u'BALTIMORE/WASHINGTON INTL THURGOOD MARSHAL', u\"Baltimore Washington Int'l Airport\", u'Airport', u'AEA', u'ANNE ARUNDEL', u'BALTIMORE', u'MD', u'Federalized/Commercial', 39.175361, -76.668333, u'Yes'),\n",
       " (116L, u'BWI', 2010L, 124683L, 124272L, 0.7613, 0.7112, 0.7952, 13.1, 12.52, 3.39, 15.8, 3.1, 1.66, 2.83, 11.51, 2282.0, 2180.0, 203.0, 229.0, 1556.0, u'BALTIMORE/WASHINGTON INTL THURGOOD MARSHAL', u\"Baltimore Washington Int'l Airport\", u'Airport', u'AEA', u'ANNE ARUNDEL', u'BALTIMORE', u'MD', u'Federalized/Commercial', 39.175361, -76.668333, u'Yes'),\n",
       " (117L, u'BWI', 2011L, 127281L, 126806L, 0.773, 0.7239, 0.8038, 13.55, 12.53, 3.35, 16.31, 2.75, 1.54, 2.77, 11.92, 1567.0, 1418.0, 177.0, 310.0, 1556.0, u'BALTIMORE/WASHINGTON INTL THURGOOD MARSHAL', u\"Baltimore Washington Int'l Airport\", u'Airport', u'AEA', u'ANNE ARUNDEL', u'BALTIMORE', u'MD', u'Federalized/Commercial', 39.175361, -76.668333, u'Yes'),\n",
       " (118L, u'BWI', 2012L, 124035L, 123690L, 0.7756, 0.7216, 0.8055, 13.02, 12.65, 3.46, 15.78, 2.55, 1.69, 2.83, 11.56, 1511.0, 1400.0, 151.0, 296.0, 1556.0, u'BALTIMORE/WASHINGTON INTL THURGOOD MARSHAL', u\"Baltimore Washington Int'l Airport\", u'Airport', u'AEA', u'ANNE ARUNDEL', u'BALTIMORE', u'MD', u'Federalized/Commercial', 39.175361, -76.668333, u'Yes'),\n",
       " (119L, u'BWI', 2013L, 118012L, 117135L, 0.7305, 0.6674, 0.7756, 15.23, 13.1, 3.92, 18.53, 2.28, 2.05, 2.84, 12.83, 954.0, 878.0, 145.0, 208.0, 1556.0, u'BALTIMORE/WASHINGTON INTL THURGOOD MARSHAL', u\"Baltimore Washington Int'l Airport\", u'Airport', u'AEA', u'ANNE ARUNDEL', u'BALTIMORE', u'MD', u'Federalized/Commercial', 39.175361, -76.668333, u'Yes'),\n",
       " (120L, u'BWI', 2014L, 110589L, 110243L, 0.7159, 0.6517, 0.7672, 16.1, 13.34, 3.97, 19.4, 3.27, 1.74, 2.75, 13.73, 1588.0, 1549.0, 213.0, 181.0, 1556.0, u'BALTIMORE/WASHINGTON INTL THURGOOD MARSHAL', u\"Baltimore Washington Int'l Airport\", u'Airport', u'AEA', u'ANNE ARUNDEL', u'BALTIMORE', u'MD', u'Federalized/Commercial', 39.175361, -76.668333, u'Yes'),\n",
       " (121L, u'CLE', 2004L, 122511L, 121774L, 0.8433, 0.7643, 0.7949, 9.31, 17.06, 6.18, 13.63, 3.76, 1.59, 4.56, 11.9, 1438.0, 1498.0, 173.0, 131.0, 2527.0, u'CLEVELAND-HOPKINS INTL', u\"Cleveland-Hopkins Int'l Airport\", u'Airport', u'AGL', u'CUYAHOGA', u'CLEVELAND', u'OH', u'Federalized/Commercial', 41.409417, -81.854694, u'Yes'),\n",
       " (122L, u'CLE', 2005L, 122375L, 121467L, 0.8304, 0.7623, 0.7798, 10.15, 16.84, 5.44, 13.91, 3.36, 1.91, 4.38, 12.72, 1207.0, 1216.0, 158.0, 152.0, 2527.0, u'CLEVELAND-HOPKINS INTL', u\"Cleveland-Hopkins Int'l Airport\", u'Airport', u'AGL', u'CUYAHOGA', u'CLEVELAND', u'OH', u'Federalized/Commercial', 41.409417, -81.854694, u'Yes'),\n",
       " (123L, u'CLE', 2006L, 117753L, 116801L, 0.8323, 0.7866, 0.7861, 10.34, 15.81, 4.09, 13.05, 3.12, 1.14, 3.95, 12.86, 1116.0, 1114.0, 182.0, 164.0, 2527.0, u'CLEVELAND-HOPKINS INTL', u\"Cleveland-Hopkins Int'l Airport\", u'Airport', u'AGL', u'CUYAHOGA', u'CLEVELAND', u'OH', u'Federalized/Commercial', 41.409417, -81.854694, u'Yes'),\n",
       " (124L, u'CLE', 2007L, 114795L, 114523L, 0.7907, 0.7195, 0.7518, 12.89, 16.07, 4.76, 16.64, 3.7, 1.8, 4.41, 14.93, 1427.0, 1422.0, 182.0, 125.0, 2527.0, u'CLEVELAND-HOPKINS INTL', u\"Cleveland-Hopkins Int'l Airport\", u'Airport', u'AGL', u'CUYAHOGA', u'CLEVELAND', u'OH', u'Federalized/Commercial', 41.409417, -81.854694, u'Yes'),\n",
       " (125L, u'CLE', 2008L, 111315L, 111455L, 0.8072, 0.7576, 0.7842, 12.53, 14.71, 3.53, 15.18, 3.48, 1.19, 3.46, 13.47, 1359.0, 1306.0, 178.0, 156.0, 2527.0, u'CLEVELAND-HOPKINS INTL', u\"Cleveland-Hopkins Int'l Airport\", u'Airport', u'AGL', u'CUYAHOGA', u'CLEVELAND', u'OH', u'Federalized/Commercial', 41.409417, -81.854694, u'Yes'),\n",
       " (126L, u'CLE', 2009L, 95317L, 95461L, 0.8599, 0.8295, 0.8456, 8.97, 13.06, 2.52, 10.66, 3.04, 0.87, 2.42, 9.39, 628.0, 578.0, 131.0, 90.0, 2527.0, u'CLEVELAND-HOPKINS INTL', u\"Cleveland-Hopkins Int'l Airport\", u'Airport', u'AGL', u'CUYAHOGA', u'CLEVELAND', u'OH', u'Federalized/Commercial', 41.409417, -81.854694, u'Yes'),\n",
       " (127L, u'CLE', 2010L, 91769L, 91615L, 0.8416, 0.7968, 0.8151, 9.88, 12.98, 2.98, 12.09, 2.98, 1.25, 3.2, 11.06, 801.0, 809.0, 117.0, 55.0, 2527.0, u'CLEVELAND-HOPKINS INTL', u\"Cleveland-Hopkins Int'l Airport\", u'Airport', u'AGL', u'CUYAHOGA', u'CLEVELAND', u'OH', u'Federalized/Commercial', 41.409417, -81.854694, u'Yes'),\n",
       " (128L, u'CLE', 2011L, 89033L, 89039L, 0.8135, 0.778, 0.7923, 12.06, 12.54, 2.74, 14.0, 3.05, 1.21, 3.17, 12.89, 1022.0, 1010.0, 116.0, 69.0, 2527.0, u'CLEVELAND-HOPKINS INTL', u\"Cleveland-Hopkins Int'l Airport\", u'Airport', u'AGL', u'CUYAHOGA', u'CLEVELAND', u'OH', u'Federalized/Commercial', 41.409417, -81.854694, u'Yes'),\n",
       " (129L, u'CLE', 2012L, 85359L, 85279L, 0.8093, 0.7809, 0.8019, 12.41, 12.24, 2.3, 13.93, 2.72, 1.18, 2.19, 12.49, 654.0, 666.0, 98.0, 57.0, 2527.0, u'CLEVELAND-HOPKINS INTL', u\"Cleveland-Hopkins Int'l Airport\", u'Airport', u'AGL', u'CUYAHOGA', u'CLEVELAND', u'OH', u'Federalized/Commercial', 41.409417, -81.854694, u'Yes'),\n",
       " (130L, u'CLE', 2013L, 85240L, 84805L, 0.7837, 0.7384, 0.7667, 14.34, 12.94, 3.04, 16.64, 2.7, 1.19, 2.65, 15.02, 759.0, 762.0, 117.0, 54.0, 2527.0, u'CLEVELAND-HOPKINS INTL', u\"Cleveland-Hopkins Int'l Airport\", u'Airport', u'AGL', u'CUYAHOGA', u'CLEVELAND', u'OH', u'Federalized/Commercial', 41.409417, -81.854694, u'Yes'),\n",
       " (131L, u'CLE', 2014L, 60369L, 60247L, 0.7761, 0.7203, 0.7512, 15.1, 13.37, 3.36, 17.84, 2.47, 1.14, 2.78, 16.3, 1282.0, 1280.0, 124.0, 74.0, 2527.0, u'CLEVELAND-HOPKINS INTL', u\"Cleveland-Hopkins Int'l Airport\", u'Airport', u'AGL', u'CUYAHOGA', u'CLEVELAND', u'OH', u'Federalized/Commercial', 41.409417, -81.854694, u'Yes'),\n",
       " (132L, u'CLT', 2004L, 211833L, 210977L, 0.7748, 0.7225, 0.8178, 11.85, 15.08, 3.6, 14.4, 5.66, 0.7, 2.82, 9.67, 1519.0, 1593.0, 178.0, 132.0, 2094.0, u'CHARLOTTE/DOUGLAS INTL', u\"Charlotte/Douglas Int'l Airport\", u'Airport', u'ASO', u'MECKLENBURG', u'CHARLOTTE', u'NC', u'Federalized/Commercial', 35.213741, -80.949069, u'Yes'),\n",
       " (133L, u'CLT', 2005L, 241565L, 240918L, 0.7481, 0.6569, 0.7899, 13.3, 15.87, 5.08, 17.36, 5.95, 1.78, 3.28, 11.4, 1715.0, 1881.0, 196.0, 165.0, 2094.0, u'CHARLOTTE/DOUGLAS INTL', u\"Charlotte/Douglas Int'l Airport\", u'Airport', u'ASO', u'MECKLENBURG', u'CHARLOTTE', u'NC', u'Federalized/Commercial', 35.213741, -80.949069, u'Yes'),\n",
       " (134L, u'CLT', 2006L, 234974L, 234521L, 0.7799, 0.6602, 0.7785, 12.07, 17.3, 6.28, 17.31, 5.89, 2.15, 4.06, 12.22, 1569.0, 1742.0, 283.0, 204.0, 2094.0, u'CHARLOTTE/DOUGLAS INTL', u\"Charlotte/Douglas Int'l Airport\", u'Airport', u'ASO', u'MECKLENBURG', u'CHARLOTTE', u'NC', u'Federalized/Commercial', 35.213741, -80.949069, u'Yes'),\n",
       " (135L, u'CLT', 2007L, 241960L, 241616L, 0.7296, 0.5971, 0.7395, 14.59, 17.95, 6.61, 20.42, 4.93, 2.54, 4.46, 14.04, 2170.0, 2406.0, 288.0, 131.0, 2094.0, u'CHARLOTTE/DOUGLAS INTL', u\"Charlotte/Douglas Int'l Airport\", u'Airport', u'ASO', u'MECKLENBURG', u'CHARLOTTE', u'NC', u'Federalized/Commercial', 35.213741, -80.949069, u'Yes'),\n",
       " (136L, u'CLT', 2008L, 248162L, 248224L, 0.7861, 0.6276, 0.7835, 12.19, 18.92, 7.78, 19.12, 3.86, 1.93, 4.15, 11.93, 1986.0, 2227.0, 277.0, 254.0, 2094.0, u'CHARLOTTE/DOUGLAS INTL', u\"Charlotte/Douglas Int'l Airport\", u'Airport', u'ASO', u'MECKLENBURG', u'CHARLOTTE', u'NC', u'Federalized/Commercial', 35.213741, -80.949069, u'Yes'),\n",
       " (137L, u'CLT', 2009L, 238676L, 238622L, 0.8175, 0.68, 0.8058, 10.31, 18.47, 7.03, 16.31, 2.98, 1.55, 3.8, 10.53, 1149.0, 1331.0, 254.0, 165.0, 2094.0, u'CHARLOTTE/DOUGLAS INTL', u\"Charlotte/Douglas Int'l Airport\", u'Airport', u'ASO', u'MECKLENBURG', u'CHARLOTTE', u'NC', u'Federalized/Commercial', 35.213741, -80.949069, u'Yes'),\n",
       " (138L, u'CLT', 2010L, 248474L, 248301L, 0.8324, 0.739, 0.8324, 9.88, 17.16, 5.44, 14.38, 2.64, 2.66, 3.17, 9.66, 1616.0, 1790.0, 217.0, 175.0, 2094.0, u'CHARLOTTE/DOUGLAS INTL', u\"Charlotte/Douglas Int'l Airport\", u'Airport', u'ASO', u'MECKLENBURG', u'CHARLOTTE', u'NC', u'Federalized/Commercial', 35.213741, -80.949069, u'Yes'),\n",
       " (139L, u'CLT', 2011L, 254209L, 253986L, 0.7902, 0.6927, 0.7926, 12.33, 17.85, 5.52, 16.84, 2.39, 3.44, 3.58, 11.82, 2230.0, 2505.0, 242.0, 290.0, 2094.0, u'CHARLOTTE/DOUGLAS INTL', u\"Charlotte/Douglas Int'l Airport\", u'Airport', u'ASO', u'MECKLENBURG', u'CHARLOTTE', u'NC', u'Federalized/Commercial', 35.213741, -80.949069, u'Yes'),\n",
       " (140L, u'CLT', 2012L, 260789L, 260134L, 0.8348, 0.7641, 0.8453, 9.39, 16.9, 4.44, 12.73, 2.58, 2.99, 2.68, 8.71, 1097.0, 1342.0, 194.0, 174.0, 2094.0, u'CHARLOTTE/DOUGLAS INTL', u\"Charlotte/Douglas Int'l Airport\", u'Airport', u'ASO', u'MECKLENBURG', u'CHARLOTTE', u'NC', u'Federalized/Commercial', 35.213741, -80.949069, u'Yes'),\n",
       " (141L, u'CLT', 2013L, 263287L, 262066L, 0.805, 0.7169, 0.8076, 11.37, 17.79, 5.18, 15.41, 3.36, 2.86, 3.6, 11.02, 1701.0, 1968.0, 260.0, 159.0, 2094.0, u'CHARLOTTE/DOUGLAS INTL', u\"Charlotte/Douglas Int'l Airport\", u'Airport', u'ASO', u'MECKLENBURG', u'CHARLOTTE', u'NC', u'Federalized/Commercial', 35.213741, -80.949069, u'Yes'),\n",
       " (142L, u'CLT', 2014L, 257713L, 257585L, 0.7841, 0.7102, 0.8166, 12.23, 16.75, 4.19, 15.69, 3.09, 3.11, 2.93, 10.55, 1925.0, 2145.0, 163.0, 214.0, 2094.0, u'CHARLOTTE/DOUGLAS INTL', u\"Charlotte/Douglas Int'l Airport\", u'Airport', u'ASO', u'MECKLENBURG', u'CHARLOTTE', u'NC', u'Federalized/Commercial', 35.213741, -80.949069, u'Yes'),\n",
       " (143L, u'CVG', 2004L, 252037L, 251102L, 0.8091, 0.7481, 0.8077, 10.71, 15.74, 3.98, 14.13, 5.43, 0.71, 3.13, 10.98, 5656.0, 7136.0, 319.0, 320.0, 1418.0, u'CINCINNATI/NORTHERN KENTUCKY INTL', u'Cincinnati-Northern Ky Intl Airport', u'Airport', u'ASO', u'BOONE', u'COVINGTON', u'KY', u'Public Use', 39.048837, -84.667822, u'Yes'),\n",
       " (144L, u'CVG', 2005L, 242191L, 241472L, 0.8382, 0.7663, 0.8276, 8.84, 15.77, 4.64, 12.78, 4.54, 1.52, 2.8, 9.86, 4606.0, 5803.0, 350.0, 256.0, 1418.0, u'CINCINNATI/NORTHERN KENTUCKY INTL', u'Cincinnati-Northern Ky Intl Airport', u'Airport', u'ASO', u'BOONE', u'COVINGTON', u'KY', u'Public Use', 39.048837, -84.667822, u'Yes'),\n",
       " (145L, u'CVG', 2006L, 168752L, 168780L, 0.844, 0.7892, 0.8319, 8.55, 14.61, 3.65, 11.45, 4.32, 1.09, 2.88, 9.77, 1816.0, 2359.0, 296.0, 236.0, 1418.0, u'CINCINNATI/NORTHERN KENTUCKY INTL', u'Cincinnati-Northern Ky Intl Airport', u'Airport', u'ASO', u'BOONE', u'COVINGTON', u'KY', u'Public Use', 39.048837, -84.667822, u'Yes'),\n",
       " (146L, u'CVG', 2007L, 159430L, 159414L, 0.7968, 0.7165, 0.7908, 11.75, 15.69, 4.9, 16.04, 3.94, 1.41, 3.31, 12.69, 2415.0, 2908.0, 249.0, 153.0, 1418.0, u'CINCINNATI/NORTHERN KENTUCKY INTL', u'Cincinnati-Northern Ky Intl Airport', u'Airport', u'ASO', u'BOONE', u'COVINGTON', u'KY', u'Public Use', 39.048837, -84.667822, u'Yes'),\n",
       " (147L, u'CVG', 2008L, 138516L, 138424L, 0.8117, 0.7372, 0.8107, 11.15, 16.36, 4.72, 15.23, 3.71, 1.43, 3.06, 11.79, 1853.0, 2144.0, 205.0, 158.0, 1418.0, u'CINCINNATI/NORTHERN KENTUCKY INTL', u'Cincinnati-Northern Ky Intl Airport', u'Airport', u'ASO', u'BOONE', u'COVINGTON', u'KY', u'Public Use', 39.048837, -84.667822, u'Yes'),\n",
       " (148L, u'CVG', 2009L, 107128L, 107179L, 0.8287, 0.7778, 0.8433, 10.01, 15.68, 3.66, 13.02, 3.45, 1.92, 2.4, 9.51, 1056.0, 1249.0, 171.0, 99.0, 1418.0, u'CINCINNATI/NORTHERN KENTUCKY INTL', u'Cincinnati-Northern Ky Intl Airport', u'Airport', u'ASO', u'BOONE', u'COVINGTON', u'KY', u'Public Use', 39.048837, -84.667822, u'Yes'),\n",
       " (149L, u'CVG', 2010L, 83433L, 83424L, 0.8015, 0.7496, 0.8054, 11.85, 15.57, 3.57, 14.74, 2.36, 2.48, 2.76, 11.65, 943.0, 1111.0, 127.0, 103.0, 1418.0, u'CINCINNATI/NORTHERN KENTUCKY INTL', u'Cincinnati-Northern Ky Intl Airport', u'Airport', u'ASO', u'BOONE', u'COVINGTON', u'KY', u'Public Use', 39.048837, -84.667822, u'Yes'),\n",
       " (150L, u'CVG', 2011L, 75511L, 75374L, 0.8014, 0.7752, 0.8142, 12.39, 13.84, 1.93, 13.75, 1.55, 1.37, 2.12, 10.95, 667.0, 623.0, 62.0, 60.0, 1418.0, u'CINCINNATI/NORTHERN KENTUCKY INTL', u'Cincinnati-Northern Ky Intl Airport', u'Airport', u'ASO', u'BOONE', u'COVINGTON', u'KY', u'Public Use', 39.048837, -84.667822, u'Yes'),\n",
       " (151L, u'CVG', 2012L, 66723L, 66503L, 0.8139, 0.7951, 0.8321, 11.65, 13.34, 1.71, 12.68, 1.51, 1.02, 1.76, 10.05, 495.0, 456.0, 70.0, 39.0, 1418.0, u'CINCINNATI/NORTHERN KENTUCKY INTL', u'Cincinnati-Northern Ky Intl Airport', u'Airport', u'ASO', u'BOONE', u'COVINGTON', u'KY', u'Public Use', 39.048837, -84.667822, u'Yes'),\n",
       " (152L, u'CVG', 2013L, 63176L, 63114L, 0.7831, 0.7423, 0.804, 13.96, 14.7, 3.3, 16.31, 1.89, 0.77, 2.54, 12.61, 965.0, 921.0, 76.0, 42.0, 1418.0, u'CINCINNATI/NORTHERN KENTUCKY INTL', u'Cincinnati-Northern Ky Intl Airport', u'Airport', u'ASO', u'BOONE', u'COVINGTON', u'KY', u'Public Use', 39.048837, -84.667822, u'Yes'),\n",
       " (153L, u'CVG', 2014L, 61186L, 61428L, 0.7589, 0.7332, 0.7822, 14.96, 13.28, 2.08, 16.33, 1.59, 1.41, 2.7, 13.26, 670.0, 592.0, 47.0, 35.0, 1418.0, u'CINCINNATI/NORTHERN KENTUCKY INTL', u'Cincinnati-Northern Ky Intl Airport', u'Airport', u'ASO', u'BOONE', u'COVINGTON', u'KY', u'Public Use', 39.048837, -84.667822, u'Yes'),\n",
       " (154L, u'DAL', 2004L, 58591L, 57844L, 0.705, 0.6938, 0.7463, 13.87, 8.15, 1.86, 15.42, 4.72, 0.65, 2.32, 13.12, 1186.0, 1272.0, 64.0, 83.0, 3149.0, u'DALLAS LOVE FIELD', u'Dallas Love Field', u'Airport', u'ASW', u'DALLAS', u'DALLAS', u'TX', u'Federalized/Commercial', 32.847111, -96.851778, u'Yes'),\n",
       " (155L, u'DAL', 2005L, 53226L, 53340L, 0.7268, 0.7118, 0.7686, 12.73, 8.57, 1.95, 14.46, 4.89, 0.75, 2.14, 11.96, 969.0, 1012.0, 55.0, 64.0, 3149.0, u'DALLAS LOVE FIELD', u'Dallas Love Field', u'Airport', u'ASW', u'DALLAS', u'DALLAS', u'TX', u'Federalized/Commercial', 32.847111, -96.851778, u'Yes'),\n",
       " (156L, u'DAL', 2006L, 60231L, 60432L, 0.7372, 0.7152, 0.7612, 13.3, 9.27, 2.12, 15.09, 4.44, 0.76, 2.1, 12.87, 968.0, 1023.0, 60.0, 74.0, 3149.0, u'DALLAS LOVE FIELD', u'Dallas Love Field', u'Airport', u'ASW', u'DALLAS', u'DALLAS', u'TX', u'Federalized/Commercial', 32.847111, -96.851778, u'Yes'),\n",
       " (157L, u'DAL', 2007L, 65714L, 65822L, 0.705, 0.6708, 0.7264, 16.04, 9.89, 2.52, 18.22, 4.7, 0.88, 2.75, 15.36, 1029.0, 1129.0, 90.0, 201.0, 3149.0, u'DALLAS LOVE FIELD', u'Dallas Love Field', u'Airport', u'ASW', u'DALLAS', u'DALLAS', u'TX', u'Federalized/Commercial', 32.847111, -96.851778, u'Yes'),\n",
       " (158L, u'DAL', 2008L, 63362L, 63315L, 0.7219, 0.6868, 0.7486, 14.79, 9.73, 2.33, 16.9, 3.61, 0.86, 2.35, 13.96, 975.0, 1064.0, 113.0, 139.0, 3149.0, u'DALLAS LOVE FIELD', u'Dallas Love Field', u'Airport', u'ASW', u'DALLAS', u'DALLAS', u'TX', u'Federalized/Commercial', 32.847111, -96.851778, u'Yes'),\n",
       " (159L, u'DAL', 2009L, 55238L, 55165L, 0.7464, 0.7203, 0.7948, 13.49, 9.47, 2.09, 15.15, 3.65, 0.65, 1.75, 11.08, 663.0, 737.0, 129.0, 107.0, 3149.0, u'DALLAS LOVE FIELD', u'Dallas Love Field', u'Airport', u'ASW', u'DALLAS', u'DALLAS', u'TX', u'Federalized/Commercial', 32.847111, -96.851778, u'Yes'),\n",
       " (160L, u'DAL', 2010L, 53342L, 53200L, 0.6971, 0.67, 0.7557, 15.57, 9.61, 2.21, 17.22, 3.45, 0.91, 1.75, 13.04, 729.0, 790.0, 116.0, 124.0, 3149.0, u'DALLAS LOVE FIELD', u'Dallas Love Field', u'Airport', u'ASW', u'DALLAS', u'DALLAS', u'TX', u'Federalized/Commercial', 32.847111, -96.851778, u'Yes'),\n",
       " (161L, u'DAL', 2011L, 54947L, 54757L, 0.7169, 0.6965, 0.7637, 14.78, 9.28, 1.78, 15.98, 2.74, 0.94, 1.8, 13.33, 911.0, 906.0, 77.0, 156.0, 3149.0, u'DALLAS LOVE FIELD', u'Dallas Love Field', u'Airport', u'ASW', u'DALLAS', u'DALLAS', u'TX', u'Federalized/Commercial', 32.847111, -96.851778, u'Yes'),\n",
       " (162L, u'DAL', 2012L, 55964L, 55754L, 0.7543, 0.7373, 0.7899, 12.62, 9.21, 1.77, 13.71, 2.56, 0.88, 1.71, 11.5, 588.0, 595.0, 74.0, 84.0, 3149.0, u'DALLAS LOVE FIELD', u'Dallas Love Field', u'Airport', u'ASW', u'DALLAS', u'DALLAS', u'TX', u'Federalized/Commercial', 32.847111, -96.851778, u'Yes'),\n",
       " (163L, u'DAL', 2013L, 57314L, 56767L, 0.6899, 0.6547, 0.7289, 14.96, 10.1, 2.51, 16.83, 2.31, 1.6, 2.34, 14.26, 475.0, 544.0, 88.0, 95.0, 3149.0, u'DALLAS LOVE FIELD', u'Dallas Love Field', u'Airport', u'ASW', u'DALLAS', u'DALLAS', u'TX', u'Federalized/Commercial', 32.847111, -96.851778, u'Yes'),\n",
       " (164L, u'DAL', 2014L, 59618L, 59515L, 0.6465, 0.611, 0.7078, 18.04, 10.31, 2.28, 20.04, 2.52, 1.36, 2.47, 16.19, 654.0, 733.0, 79.0, 115.0, 3149.0, u'DALLAS LOVE FIELD', u'Dallas Love Field', u'Airport', u'ASW', u'DALLAS', u'DALLAS', u'TX', u'Federalized/Commercial', 32.847111, -96.851778, u'Yes'),\n",
       " (165L, u'DAY', 2004L, 41845L, 41844L, 0.7263, 0.6853, 0.7494, 14.95, 13.53, 3.79, 17.18, 1.61, 0.58, 2.59, 14.27, 418.0, 385.0, 35.0, 29.0, 2554.0, u'JAMES M COX DAYTON INTL', u\"Dayton Int'l Airport\", u'Airport', u'AGL', u'MONTGOMERY', u'DAYTON', u'OH', u'Federalized/Commercial', 39.902251, -84.21941, u'Yes'),\n",
       " (166L, u'DAY', 2005L, 39119L, 38814L, 0.7608, 0.7145, 0.7529, 13.27, 12.83, 3.66, 15.58, 1.52, 0.96, 2.64, 14.24, 378.0, 354.0, 31.0, 22.0, 2554.0, u'JAMES M COX DAYTON INTL', u\"Dayton Int'l Airport\", u'Airport', u'AGL', u'MONTGOMERY', u'DAYTON', u'OH', u'Federalized/Commercial', 39.902251, -84.21941, u'Yes'),\n",
       " (167L, u'DAY', 2006L, 31367L, 31203L, 0.7851, 0.7528, 0.751, 12.91, 12.61, 2.72, 14.58, 1.61, 0.56, 2.81, 14.39, 238.0, 247.0, 27.0, 9.0, 2554.0, u'JAMES M COX DAYTON INTL', u\"Dayton Int'l Airport\", u'Airport', u'AGL', u'MONTGOMERY', u'DAYTON', u'OH', u'Federalized/Commercial', 39.902251, -84.21941, u'Yes'),\n",
       " (168L, u'DAY', 2007L, 29440L, 29659L, 0.794, 0.7589, 0.7326, 13.17, 12.55, 2.81, 14.97, 2.23, 1.03, 3.02, 16.03, 446.0, 403.0, 50.0, 20.0, 2554.0, u'JAMES M COX DAYTON INTL', u\"Dayton Int'l Airport\", u'Airport', u'AGL', u'MONTGOMERY', u'DAYTON', u'OH', u'Federalized/Commercial', 39.902251, -84.21941, u'Yes'),\n",
       " (169L, u'DAY', 2008L, 28610L, 28723L, 0.8115, 0.7562, 0.7574, 12.64, 13.06, 3.66, 15.41, 2.52, 0.99, 3.08, 14.42, 362.0, 345.0, 42.0, 26.0, 2554.0, u'JAMES M COX DAYTON INTL', u\"Dayton Int'l Airport\", u'Airport', u'AGL', u'MONTGOMERY', u'DAYTON', u'OH', u'Federalized/Commercial', 39.902251, -84.21941, u'Yes'),\n",
       " (170L, u'DAY', 2009L, 25257L, 25284L, 0.8304, 0.7793, 0.7846, 11.02, 12.81, 3.16, 13.47, 1.95, 0.97, 2.8, 12.49, 240.0, 206.0, 50.0, 27.0, 2554.0, u'JAMES M COX DAYTON INTL', u\"Dayton Int'l Airport\", u'Airport', u'AGL', u'MONTGOMERY', u'DAYTON', u'OH', u'Federalized/Commercial', 39.902251, -84.21941, u'Yes'),\n",
       " (171L, u'DAY', 2010L, 24635L, 24681L, 0.8428, 0.7836, 0.7888, 10.34, 13.47, 3.56, 13.12, 1.66, 0.66, 2.92, 12.57, 288.0, 260.0, 22.0, 26.0, 2554.0, u'JAMES M COX DAYTON INTL', u\"Dayton Int'l Airport\", u'Airport', u'AGL', u'MONTGOMERY', u'DAYTON', u'OH', u'Federalized/Commercial', 39.902251, -84.21941, u'Yes'),\n",
       " (172L, u'DAY', 2011L, 23861L, 23868L, 0.8266, 0.7919, 0.7664, 11.48, 12.96, 2.57, 13.27, 1.49, 0.76, 3.05, 14.13, 385.0, 360.0, 29.0, 30.0, 2554.0, u'JAMES M COX DAYTON INTL', u\"Dayton Int'l Airport\", u'Airport', u'AGL', u'MONTGOMERY', u'DAYTON', u'OH', u'Federalized/Commercial', 39.902251, -84.21941, u'Yes'),\n",
       " (173L, u'DAY', 2012L, 23185L, 23150L, 0.8314, 0.8033, 0.776, 10.95, 12.61, 2.22, 12.36, 1.41, 1.04, 2.44, 12.97, 262.0, 240.0, 28.0, 18.0, 2554.0, u'JAMES M COX DAYTON INTL', u\"Dayton Int'l Airport\", u'Airport', u'AGL', u'MONTGOMERY', u'DAYTON', u'OH', u'Federalized/Commercial', 39.902251, -84.21941, u'Yes'),\n",
       " (174L, u'DAY', 2013L, 22095L, 22366L, 0.7947, 0.7419, 0.7479, 13.32, 13.46, 3.27, 15.85, 1.37, 1.07, 2.86, 15.1, 333.0, 305.0, 20.0, 10.0, 2554.0, u'JAMES M COX DAYTON INTL', u\"Dayton Int'l Airport\", u'Airport', u'AGL', u'MONTGOMERY', u'DAYTON', u'OH', u'Federalized/Commercial', 39.902251, -84.21941, u'Yes'),\n",
       " (175L, u'DAY', 2014L, 20533L, 20524L, 0.7732, 0.7349, 0.7199, 14.44, 12.77, 2.5, 16.44, 1.69, 0.84, 3.1, 16.72, 428.0, 404.0, 27.0, 13.0, 2554.0, u'JAMES M COX DAYTON INTL', u\"Dayton Int'l Airport\", u'Airport', u'AGL', u'MONTGOMERY', u'DAYTON', u'OH', u'Federalized/Commercial', 39.902251, -84.21941, u'Yes'),\n",
       " (176L, u'DCA', 2004L, 134223L, 134342L, 0.8238, 0.7812, 0.8254, 10.11, 14.0, 3.97, 12.8, 4.07, 1.06, 3.09, 10.02, 2349.0, 2159.0, 164.0, 190.0, 769.0, u'RONALD REAGAN WASHINGTON NATIONAL', u'Reagan National Airport', u'Airport', u'AEA', u'ARLINGTON', u'WASHINGTON', u'DC', u'Public Use', 38.851916, -77.037699, u'Yes'),\n",
       " (177L, u'DCA', 2005L, 138576L, 138447L, 0.8128, 0.7483, 0.812, 11.48, 14.62, 5.13, 15.24, 4.32, 1.74, 3.43, 11.12, 2855.0, 2743.0, 191.0, 262.0, 769.0, u'RONALD REAGAN WASHINGTON NATIONAL', u'Reagan National Airport', u'Airport', u'AEA', u'ARLINGTON', u'WASHINGTON', u'DC', u'Public Use', 38.851916, -77.037699, u'Yes'),\n",
       " (178L, u'DCA', 2006L, 137261L, 137325L, 0.8014, 0.7245, 0.7912, 11.95, 15.49, 5.4, 16.15, 3.73, 1.53, 3.86, 12.32, 2495.0, 2411.0, 182.0, 298.0, 769.0, u'RONALD REAGAN WASHINGTON NATIONAL', u'Reagan National Airport', u'Airport', u'AEA', u'ARLINGTON', u'WASHINGTON', u'DC', u'Public Use', 38.851916, -77.037699, u'Yes'),\n",
       " (179L, u'DCA', 2007L, 135433L, 135603L, 0.7665, 0.6801, 0.7575, 14.71, 16.21, 5.75, 19.45, 2.87, 1.76, 4.05, 14.57, 3282.0, 3119.0, 212.0, 212.0, 769.0, u'RONALD REAGAN WASHINGTON NATIONAL', u'Reagan National Airport', u'Airport', u'AEA', u'ARLINGTON', u'WASHINGTON', u'DC', u'Public Use', 38.851916, -77.037699, u'Yes'),\n",
       " (180L, u'DCA', 2008L, 135908L, 136051L, 0.8213, 0.7474, 0.8126, 11.67, 15.81, 4.98, 15.69, 4.22, 1.29, 3.12, 11.25, 2735.0, 2623.0, 191.0, 136.0, 769.0, u'RONALD REAGAN WASHINGTON NATIONAL', u'Reagan National Airport', u'Airport', u'AEA', u'ARLINGTON', u'WASHINGTON', u'DC', u'Public Use', 38.851916, -77.037699, u'Yes'),\n",
       " (181L, u'DCA', 2009L, 133298L, 133540L, 0.8398, 0.7676, 0.8315, 10.56, 15.83, 4.95, 14.43, 3.6, 1.23, 2.96, 10.12, 1941.0, 1817.0, 159.0, 237.0, 769.0, u'RONALD REAGAN WASHINGTON NATIONAL', u'Reagan National Airport', u'Airport', u'AEA', u'ARLINGTON', u'WASHINGTON', u'DC', u'Public Use', 38.851916, -77.037699, u'Yes'),\n",
       " (182L, u'DCA', 2010L, 133228L, 133440L, 0.8385, 0.7749, 0.8347, 10.64, 15.67, 4.36, 13.92, 3.67, 1.44, 2.84, 10.09, 3253.0, 3132.0, 155.0, 168.0, 769.0, u'RONALD REAGAN WASHINGTON NATIONAL', u'Reagan National Airport', u'Airport', u'AEA', u'ARLINGTON', u'WASHINGTON', u'DC', u'Public Use', 38.851916, -77.037699, u'Yes'),\n",
       " (183L, u'DCA', 2011L, 138494L, 138864L, 0.7982, 0.7353, 0.8045, 13.12, 16.11, 4.3, 16.51, 4.13, 1.28, 3.09, 12.11, 2496.0, 2367.0, 151.0, 285.0, 769.0, u'RONALD REAGAN WASHINGTON NATIONAL', u'Reagan National Airport', u'Airport', u'AEA', u'ARLINGTON', u'WASHINGTON', u'DC', u'Public Use', 38.851916, -77.037699, u'Yes'),\n",
       " (184L, u'DCA', 2012L, 140272L, 140686L, 0.8058, 0.7397, 0.8295, 12.2, 15.67, 3.86, 15.28, 3.45, 1.07, 2.55, 10.64, 1766.0, 1690.0, 125.0, 189.0, 769.0, u'RONALD REAGAN WASHINGTON NATIONAL', u'Reagan National Airport', u'Airport', u'AEA', u'ARLINGTON', u'WASHINGTON', u'DC', u'Public Use', 38.851916, -77.037699, u'Yes'),\n",
       " (185L, u'DCA', 2013L, 142830L, 142923L, 0.7975, 0.7158, 0.8199, 13.01, 16.51, 4.67, 17.0, 3.39, 1.19, 2.63, 11.38, 1711.0, 1621.0, 148.0, 169.0, 769.0, u'RONALD REAGAN WASHINGTON NATIONAL', u'Reagan National Airport', u'Airport', u'AEA', u'ARLINGTON', u'WASHINGTON', u'DC', u'Public Use', 38.851916, -77.037699, u'Yes'),\n",
       " (186L, u'DCA', 2014L, 139074L, 139259L, 0.7807, 0.6936, 0.8132, 13.55, 16.59, 4.58, 17.56, 3.35, 1.45, 2.63, 11.39, 2269.0, 2167.0, 130.0, 175.0, 769.0, u'RONALD REAGAN WASHINGTON NATIONAL', u'Reagan National Airport', u'Airport', u'AEA', u'ARLINGTON', u'WASHINGTON', u'DC', u'Public Use', 38.851916, -77.037699, u'Yes'),\n",
       " (187L, u'DEN', 2004L, 278131L, 273449L, 0.8134, 0.7687, 0.8259, 10.26, 13.91, 3.26, 12.59, 3.73, 1.33, 3.43, 9.74, 1379.0, 1503.0, 254.0, 232.0, 706.0, u'DENVER INTL', u\"Denver Int'l Airport\", u'Airport', u'ANM', u'DENVER', u'DENVER', u'CO', u'Federalized/Commercial', 39.861667, -104.673167, u'Yes'),\n",
       " (188L, u'DEN', 2005L, 279946L, 275578L, 0.804, 0.7617, 0.8216, 11.25, 13.91, 3.29, 13.7, 3.93, 1.98, 3.29, 10.27, 1975.0, 2152.0, 338.0, 262.0, 706.0, u'DENVER INTL', u\"Denver Int'l Airport\", u'Airport', u'ANM', u'DENVER', u'DENVER', u'CO', u'Federalized/Commercial', 39.861667, -104.673167, u'Yes'),\n",
       " (189L, u'DEN', 2006L, 297895L, 294284L, 0.784, 0.732, 0.7907, 12.8, 14.51, 3.92, 15.81, 3.64, 2.15, 4.07, 12.04, 4413.0, 4621.0, 425.0, 278.0, 706.0, u'DENVER INTL', u\"Denver Int'l Airport\", u'Airport', u'ANM', u'DENVER', u'DENVER', u'CO', u'Federalized/Commercial', 39.861667, -104.673167, u'Yes'),\n",
       " (190L, u'DEN', 2007L, 306308L, 305681L, 0.7614, 0.6819, 0.7544, 14.11, 15.94, 5.46, 18.54, 4.48, 2.44, 4.64, 14.34, 3805.0, 4134.0, 456.0, 282.0, 706.0, u'DENVER INTL', u\"Denver Int'l Airport\", u'Airport', u'ANM', u'DENVER', u'DENVER', u'CO', u'Federalized/Commercial', 39.861667, -104.673167, u'Yes'),\n",
       " (191L, u'DEN', 2008L, 309021L, 308882L, 0.7753, 0.7023, 0.7658, 12.84, 15.65, 4.6, 16.56, 4.79, 2.22, 4.3, 13.29, 2725.0, 2984.0, 527.0, 384.0, 706.0, u'DENVER INTL', u\"Denver Int'l Airport\", u'Airport', u'ANM', u'DENVER', u'DENVER', u'CO', u'Federalized/Commercial', 39.861667, -104.673167, u'Yes'),\n",
       " (192L, u'DEN', 2009L, 302078L, 301936L, 0.7815, 0.7174, 0.7976, 12.54, 15.54, 4.43, 16.1, 4.87, 2.05, 3.91, 11.54, 2779.0, 2978.0, 522.0, 564.0, 706.0, u'DENVER INTL', u\"Denver Int'l Airport\", u'Airport', u'ANM', u'DENVER', u'DENVER', u'CO', u'Federalized/Commercial', 39.861667, -104.673167, u'Yes'),\n",
       " (193L, u'DEN', 2010L, 313514L, 313279L, 0.7968, 0.7447, 0.8219, 11.42, 14.34, 3.47, 14.14, 4.23, 2.06, 2.99, 10.58, 2457.0, 2730.0, 572.0, 686.0, 706.0, u'DENVER INTL', u\"Denver Int'l Airport\", u'Airport', u'ANM', u'DENVER', u'DENVER', u'CO', u'Federalized/Commercial', 39.861667, -104.673167, u'Yes'),\n",
       " (194L, u'DEN', 2011L, 313976L, 313459L, 0.7833, 0.7313, 0.8149, 12.48, 14.01, 3.71, 15.43, 3.73, 2.02, 3.07, 10.84, 2921.0, 3104.0, 539.0, 648.0, 706.0, u'DENVER INTL', u\"Denver Int'l Airport\", u'Airport', u'ANM', u'DENVER', u'DENVER', u'CO', u'Federalized/Commercial', 39.861667, -104.673167, u'Yes'),\n",
       " (195L, u'DEN', 2012L, 304100L, 304910L, 0.7748, 0.7232, 0.8112, 12.86, 13.55, 3.32, 15.48, 2.9, 2.06, 2.68, 10.88, 2000.0, 2228.0, 495.0, 314.0, 706.0, u'DENVER INTL', u\"Denver Int'l Airport\", u'Airport', u'ANM', u'DENVER', u'DENVER', u'CO', u'Federalized/Commercial', 39.861667, -104.673167, u'Yes'),\n",
       " (196L, u'DEN', 2013L, 287348L, 288563L, 0.72, 0.6542, 0.7532, 16.43, 14.76, 4.34, 20.01, 2.3, 2.45, 3.87, 14.92, 2694.0, 2898.0, 461.0, 727.0, 706.0, u'DENVER INTL', u\"Denver Int'l Airport\", u'Airport', u'ANM', u'DENVER', u'DENVER', u'CO', u'Federalized/Commercial', 39.861667, -104.673167, u'Yes'),\n",
       " (197L, u'DEN', 2014L, 281772L, 282305L, 0.7168, 0.6482, 0.7582, 16.64, 15.0, 4.36, 20.28, 2.86, 1.98, 3.84, 15.16, 3140.0, 3475.0, 496.0, 772.0, 706.0, u'DENVER INTL', u\"Denver Int'l Airport\", u'Airport', u'ANM', u'DENVER', u'DENVER', u'CO', u'Federalized/Commercial', 39.861667, -104.673167, u'Yes'),\n",
       " (198L, u'DFW', 2004L, 396314L, 394112L, 0.8051, 0.7152, 0.818, 11.21, 18.02, 6.61, 16.46, 2.42, 4.63, 4.34, 11.37, 5535.0, 6147.0, 589.0, 1154.0, 3150.0, u'DALLAS/FORT WORTH INTL', u\"Dallas/Ft Worth Int'l Airport\", u'Airport', u'ASW', u'TARRANT', u'DALLAS-FORT WORTH', u'TX', u'Federalized/Commercial', 32.896828, -97.037996, u'Yes'),\n",
       " (199L, u'DFW', 2005L, 350842L, 349641L, 0.7909, 0.7238, 0.8128, 11.63, 17.01, 5.27, 15.75, 2.49, 5.03, 3.98, 11.23, 4140.0, 4541.0, 582.0, 889.0, 3150.0, u'DALLAS/FORT WORTH INTL', u\"Dallas/Ft Worth Int'l Airport\", u'Airport', u'ASW', u'TARRANT', u'DALLAS-FORT WORTH', u'TX', u'Federalized/Commercial', 32.896828, -97.037996, u'Yes'),\n",
       " (200L, u'DFW', 2006L, 343597L, 342755L, 0.7606, 0.6959, 0.7891, 13.47, 16.77, 5.2, 17.5, 2.02, 4.1, 3.84, 12.71, 5502.0, 5839.0, 551.0, 1085.0, 3150.0, u'DALLAS/FORT WORTH INTL', u\"Dallas/Ft Worth Int'l Airport\", u'Airport', u'ASW', u'TARRANT', u'DALLAS-FORT WORTH', u'TX', u'Federalized/Commercial', 32.896828, -97.037996, u'Yes'),\n",
       " (201L, u'DFW', 2007L, 337258L, 336365L, 0.7186, 0.6556, 0.7341, 17.25, 16.84, 5.18, 21.59, 2.57, 4.44, 4.98, 17.23, 9372.0, 9767.0, 600.0, 1948.0, 3150.0, u'DALLAS/FORT WORTH INTL', u\"Dallas/Ft Worth Int'l Airport\", u'Airport', u'ASW', u'TARRANT', u'DALLAS-FORT WORTH', u'TX', u'Federalized/Commercial', 32.896828, -97.037996, u'Yes'),\n",
       " (202L, u'DFW', 2008L, 322443L, 321755L, 0.7479, 0.693, 0.7702, 14.25, 15.86, 4.4, 17.77, 2.49, 4.33, 4.32, 14.05, 7272.0, 7716.0, 635.0, 1250.0, 3150.0, u'DALLAS/FORT WORTH INTL', u\"Dallas/Ft Worth Int'l Airport\", u'Airport', u'ASW', u'TARRANT', u'DALLAS-FORT WORTH', u'TX', u'Federalized/Commercial', 32.896828, -97.037996, u'Yes'),\n",
       " (203L, u'DFW', 2009L, 314983L, 314726L, 0.7542, 0.7045, 0.7958, 14.64, 15.43, 4.04, 17.79, 2.72, 3.68, 3.73, 13.06, 5101.0, 5435.0, 651.0, 1299.0, 3150.0, u'DALLAS/FORT WORTH INTL', u\"Dallas/Ft Worth Int'l Airport\", u'Airport', u'ASW', u'TARRANT', u'DALLAS-FORT WORTH', u'TX', u'Federalized/Commercial', 32.896828, -97.037996, u'Yes'),\n",
       " (204L, u'DFW', 2010L, 321172L, 320558L, 0.7897, 0.7456, 0.8251, 12.31, 14.82, 3.61, 15.04, 2.17, 3.67, 2.91, 10.95, 4507.0, 4799.0, 719.0, 1234.0, 3150.0, u'DALLAS/FORT WORTH INTL', u\"Dallas/Ft Worth Int'l Airport\", u'Airport', u'ASW', u'TARRANT', u'DALLAS-FORT WORTH', u'TX', u'Federalized/Commercial', 32.896828, -97.037996, u'Yes'),\n",
       " (205L, u'DFW', 2011L, 318711L, 317906L, 0.7924, 0.7541, 0.8304, 12.2, 14.35, 3.26, 14.56, 1.9, 3.32, 2.86, 11.05, 6114.0, 6403.0, 764.0, 1122.0, 3150.0, u'DALLAS/FORT WORTH INTL', u\"Dallas/Ft Worth Int'l Airport\", u'Airport', u'ASW', u'TARRANT', u'DALLAS-FORT WORTH', u'TX', u'Federalized/Commercial', 32.896828, -97.037996, u'Yes'),\n",
       " (206L, u'DFW', 2012L, 319889L, 319208L, 0.7913, 0.7512, 0.8234, 12.3, 14.46, 3.38, 14.7, 2.0, 3.64, 2.97, 11.6, 4980.0, 5291.0, 663.0, 1125.0, 3150.0, u'DALLAS/FORT WORTH INTL', u\"Dallas/Ft Worth Int'l Airport\", u'Airport', u'ASW', u'TARRANT', u'DALLAS-FORT WORTH', u'TX', u'Federalized/Commercial', 32.896828, -97.037996, u'Yes'),\n",
       " (207L, u'DFW', 2013L, 333290L, 331439L, 0.7457, 0.6982, 0.7884, 15.05, 14.67, 3.57, 17.85, 2.21, 4.21, 3.55, 13.99, 7150.0, 7467.0, 707.0, 1170.0, 3150.0, u'DALLAS/FORT WORTH INTL', u\"Dallas/Ft Worth Int'l Airport\", u'Airport', u'ASW', u'TARRANT', u'DALLAS-FORT WORTH', u'TX', u'Federalized/Commercial', 32.896828, -97.037996, u'Yes'),\n",
       " (208L, u'DFW', 2014L, 334660L, 334397L, 0.7504, 0.699, 0.766, 14.82, 15.01, 3.96, 17.94, 2.62, 4.95, 4.44, 15.98, 6830.0, 7324.0, 741.0, 1164.0, 3150.0, u'DALLAS/FORT WORTH INTL', u\"Dallas/Ft Worth Int'l Airport\", u'Airport', u'ASW', u'TARRANT', u'DALLAS-FORT WORTH', u'TX', u'Federalized/Commercial', 32.896828, -97.037996, u'Yes'),\n",
       " (209L, u'DTW', 2004L, 252361L, 250939L, 0.8091, 0.7363, 0.8271, 10.76, 17.39, 5.0, 14.41, 4.83, 2.06, 3.54, 9.78, 2171.0, 2315.0, 252.0, 190.0, 1633.0, u'DETROIT METROPOLITAN WAYNE COUNTY', u'Detroit Metropolitan Airport', u'Airport', u'AGL', u'WAYNE', u'DETROIT', u'MI', u'Federalized/Commercial', 42.212444, -83.353389, u'Yes'),\n",
       " (210L, u'DTW', 2005L, 253845L, 252143L, 0.7487, 0.6651, 0.7947, 14.04, 17.9, 5.39, 18.32, 4.72, 2.36, 3.28, 12.24, 2513.0, 2628.0, 318.0, 260.0, 1633.0, u'DETROIT METROPOLITAN WAYNE COUNTY', u'Detroit Metropolitan Airport', u'Airport', u'AGL', u'WAYNE', u'DETROIT', u'MI', u'Federalized/Commercial', 42.212444, -83.353389, u'Yes'),\n",
       " (211L, u'DTW', 2006L, 232361L, 231634L, 0.7755, 0.6902, 0.789, 12.29, 17.89, 5.2, 16.43, 5.16, 2.29, 3.94, 12.27, 1934.0, 2067.0, 265.0, 163.0, 1633.0, u'DETROIT METROPOLITAN WAYNE COUNTY', u'Detroit Metropolitan Airport', u'Airport', u'AGL', u'WAYNE', u'DETROIT', u'MI', u'Federalized/Commercial', 42.212444, -83.353389, u'Yes'),\n",
       " (212L, u'DTW', 2007L, 228892L, 226666L, 0.7778, 0.6483, 0.7485, 12.88, 20.08, 7.04, 19.11, 4.88, 3.73, 5.0, 15.31, 4103.0, 4484.0, 355.0, 307.0, 1633.0, u'DETROIT METROPOLITAN WAYNE COUNTY', u'Detroit Metropolitan Airport', u'Airport', u'AGL', u'WAYNE', u'DETROIT', u'MI', u'Federalized/Commercial', 42.212444, -83.353389, u'Yes'),\n",
       " (213L, u'DTW', 2008L, 226840L, 225224L, 0.7995, 0.7105, 0.8029, 11.99, 19.78, 5.65, 16.63, 4.27, 2.88, 3.51, 12.53, 2583.0, 2995.0, 402.0, 206.0, 1633.0, u'DETROIT METROPOLITAN WAYNE COUNTY', u'Detroit Metropolitan Airport', u'Airport', u'AGL', u'WAYNE', u'DETROIT', u'MI', u'Federalized/Commercial', 42.212444, -83.353389, u'Yes'),\n",
       " (214L, u'DTW', 2009L, 211239L, 210518L, 0.8311, 0.7286, 0.8224, 9.85, 20.08, 6.06, 14.68, 4.24, 2.55, 3.27, 10.62, 1512.0, 1954.0, 424.0, 207.0, 1633.0, u'DETROIT METROPOLITAN WAYNE COUNTY', u'Detroit Metropolitan Airport', u'Airport', u'AGL', u'WAYNE', u'DETROIT', u'MI', u'Federalized/Commercial', 42.212444, -83.353389, u'Yes'),\n",
       " (215L, u'DTW', 2010L, 221903L, 220623L, 0.7825, 0.6769, 0.788, 12.93, 20.03, 6.09, 17.98, 4.72, 2.89, 3.48, 12.77, 3149.0, 3669.0, 397.0, 297.0, 1633.0, u'DETROIT METROPOLITAN WAYNE COUNTY', u'Detroit Metropolitan Airport', u'Airport', u'AGL', u'WAYNE', u'DETROIT', u'MI', u'Federalized/Commercial', 42.212444, -83.353389, u'Yes'),\n",
       " (216L, u'DTW', 2011L, 216449L, 216041L, 0.792, 0.7427, 0.8157, 12.56, 17.55, 3.25, 14.95, 4.74, 0.92, 2.15, 11.07, 1485.0, 1643.0, 178.0, 170.0, 1633.0, u'DETROIT METROPOLITAN WAYNE COUNTY', u'Detroit Metropolitan Airport', u'Airport', u'AGL', u'WAYNE', u'DETROIT', u'MI', u'Federalized/Commercial', 42.212444, -83.353389, u'Yes'),\n",
       " (217L, u'DTW', 2012L, 208723L, 208264L, 0.8052, 0.7585, 0.843, 12.2, 17.33, 3.16, 14.47, 3.96, 0.85, 1.74, 9.8, 838.0, 892.0, 168.0, 151.0, 1633.0, u'DETROIT METROPOLITAN WAYNE COUNTY', u'Detroit Metropolitan Airport', u'Airport', u'AGL', u'WAYNE', u'DETROIT', u'MI', u'Federalized/Commercial', 42.212444, -83.353389, u'Yes'),\n",
       " (218L, u'DTW', 2013L, 207053L, 206364L, 0.819, 0.7171, 0.824, 11.94, 19.89, 6.08, 16.78, 4.23, 1.32, 2.61, 11.85, 2279.0, 2580.0, 365.0, 273.0, 1633.0, u'DETROIT METROPOLITAN WAYNE COUNTY', u'Detroit Metropolitan Airport', u'Airport', u'AGL', u'WAYNE', u'DETROIT', u'MI', u'Federalized/Commercial', 42.212444, -83.353389, u'Yes'),\n",
       " (219L, u'DTW', 2014L, 192007L, 192080L, 0.8045, 0.7477, 0.8217, 12.54, 17.47, 3.72, 15.45, 4.12, 0.89, 2.27, 11.64, 1866.0, 1868.0, 211.0, 190.0, 1633.0, u'DETROIT METROPOLITAN WAYNE COUNTY', u'Detroit Metropolitan Airport', u'Airport', u'AGL', u'WAYNE', u'DETROIT', u'MI', u'Federalized/Commercial', 42.212444, -83.353389, u'Yes'),\n",
       " (220L, u'EWR', 2004L, 212226L, 209575L, 0.7921, 0.5698, 0.7147, 12.87, 25.93, 12.73, 23.59, 5.93, 2.21, 6.04, 18.54, 3883.0, 3981.0, 295.0, 418.0, 2332.0, u'NEWARK LIBERTY INTL', u\"Newark Liberty Int'l Airport\", u'Airport', u'AEA', u'ESSEX', u'NEWARK', u'NJ', u'Federalized/Commercial', 40.6925, -74.168667, u'Yes'),\n",
       " (221L, u'EWR', 2005L, 211790L, 209551L, 0.7421, 0.5255, 0.6528, 16.02, 25.96, 12.31, 26.62, 6.22, 2.63, 7.52, 23.18, 4622.0, 4696.0, 317.0, 472.0, 2332.0, u'NEWARK LIBERTY INTL', u\"Newark Liberty Int'l Airport\", u'Airport', u'AEA', u'ESSEX', u'NEWARK', u'NJ', u'Federalized/Commercial', 40.6925, -74.168667, u'Yes'),\n",
       " (222L, u'EWR', 2006L, 214805L, 213118L, 0.7189, 0.4525, 0.6383, 18.07, 29.13, 15.42, 31.8, 6.21, 2.65, 7.25, 24.79, 4557.0, 4650.0, 346.0, 756.0, 2332.0, u'NEWARK LIBERTY INTL', u\"Newark Liberty Int'l Airport\", u'Airport', u'AEA', u'ESSEX', u'NEWARK', u'NJ', u'Federalized/Commercial', 40.6925, -74.168667, u'Yes'),\n",
       " (223L, u'EWR', 2007L, 209019L, 207435L, 0.6903, 0.4335, 0.618, 21.24, 28.74, 15.22, 35.34, 5.49, 2.8, 6.89, 27.78, 5926.0, 5992.0, 345.0, 718.0, 2332.0, u'NEWARK LIBERTY INTL', u\"Newark Liberty Int'l Airport\", u'Airport', u'AEA', u'ESSEX', u'NEWARK', u'NJ', u'Federalized/Commercial', 40.6925, -74.168667, u'Yes'),\n",
       " (224L, u'EWR', 2008L, 207145L, 206270L, 0.7034, 0.4371, 0.6404, 20.24, 28.98, 15.63, 34.57, 4.83, 3.18, 5.64, 26.55, 4511.0, 4608.0, 324.0, 545.0, 2332.0, u'NEWARK LIBERTY INTL', u\"Newark Liberty Int'l Airport\", u'Airport', u'AEA', u'ESSEX', u'NEWARK', u'NJ', u'Federalized/Commercial', 40.6925, -74.168667, u'Yes'),\n",
       " (225L, u'EWR', 2009L, 196298L, 195150L, 0.7408, 0.4957, 0.6701, 17.99, 25.74, 13.09, 29.7, 4.66, 2.15, 5.12, 24.88, 2969.0, 3013.0, 348.0, 484.0, 2332.0, u'NEWARK LIBERTY INTL', u\"Newark Liberty Int'l Airport\", u'Airport', u'AEA', u'ESSEX', u'NEWARK', u'NJ', u'Federalized/Commercial', 40.6925, -74.168667, u'Yes'),\n",
       " (226L, u'EWR', 2010L, 192614L, 191370L, 0.754, 0.61, 0.7203, 16.22, 20.94, 8.1, 23.19, 4.11, 1.96, 4.1, 19.37, 3706.0, 3750.0, 299.0, 391.0, 2332.0, u'NEWARK LIBERTY INTL', u\"Newark Liberty Int'l Airport\", u'Airport', u'AEA', u'ESSEX', u'NEWARK', u'NJ', u'Federalized/Commercial', 40.6925, -74.168667, u'Yes'),\n",
       " (227L, u'EWR', 2011L, 192879L, 191645L, 0.7318, 0.5873, 0.669, 17.77, 20.99, 8.49, 25.08, 4.85, 2.54, 5.14, 22.32, 4502.0, 4525.0, 286.0, 491.0, 2332.0, u'NEWARK LIBERTY INTL', u\"Newark Liberty Int'l Airport\", u'Airport', u'AEA', u'ESSEX', u'NEWARK', u'NJ', u'Federalized/Commercial', 40.6925, -74.168667, u'Yes'),\n",
       " (228L, u'EWR', 2012L, 196105L, 195110L, 0.7217, 0.5716, 0.7009, 18.06, 21.33, 8.71, 25.66, 3.9, 2.86, 3.61, 19.91, 3821.0, 3915.0, 315.0, 310.0, 2332.0, u'NEWARK LIBERTY INTL', u\"Newark Liberty Int'l Airport\", u'Airport', u'AEA', u'ESSEX', u'NEWARK', u'NJ', u'Federalized/Commercial', 40.6925, -74.168667, u'Yes'),\n",
       " (229L, u'EWR', 2013L, 196365L, 194358L, 0.7264, 0.5815, 0.7095, 18.13, 20.91, 8.41, 25.53, 3.54, 2.51, 3.46, 20.23, 3350.0, 3579.0, 358.0, 461.0, 2332.0, u'NEWARK LIBERTY INTL', u\"Newark Liberty Int'l Airport\", u'Airport', u'AEA', u'ESSEX', u'NEWARK', u'NJ', u'Federalized/Commercial', 40.6925, -74.168667, u'Yes'),\n",
       " (230L, u'EWR', 2014L, 189545L, 188206L, 0.7211, 0.573, 0.7153, 17.96, 20.68, 8.37, 25.46, 3.86, 2.72, 3.15, 19.63, 4814.0, 5197.0, 349.0, 239.0, 2332.0, u'NEWARK LIBERTY INTL', u\"Newark Liberty Int'l Airport\", u'Airport', u'AEA', u'ESSEX', u'NEWARK', u'NJ', u'Federalized/Commercial', 40.6925, -74.168667, u'Yes'),\n",
       " (231L, u'FLL', 2004L, 106389L, 106749L, 0.7699, 0.7044, 0.7454, 13.27, 16.27, 4.67, 16.89, 3.5, 0.93, 3.83, 14.38, 987.0, 963.0, 199.0, 124.0, 801.0, u'FORT LAUDERDALE/HOLLYWOOD INTL', u\"Ft Lauderdale/Hollywood Int'l Arpt\", u'Airport', u'ASO', u'BROWARD', u'FORT LAUDERDALE', u'FL', u'Federalized/Commercial', 26.072596, -80.152741, u'Yes'),\n",
       " (232L, u'FLL', 2005L, 121481L, 120277L, 0.7194, 0.6436, 0.7197, 16.6, 16.78, 5.4, 20.96, 3.67, 1.2, 4.13, 16.34, 1367.0, 1302.0, 205.0, 187.0, 801.0, u'FORT LAUDERDALE/HOLLYWOOD INTL', u\"Ft Lauderdale/Hollywood Int'l Arpt\", u'Airport', u'ASO', u'BROWARD', u'FORT LAUDERDALE', u'FL', u'Federalized/Commercial', 26.072596, -80.152741, u'Yes'),\n",
       " (233L, u'FLL', 2006L, 111601L, 110317L, 0.7736, 0.7279, 0.7762, 13.13, 15.28, 3.83, 15.92, 3.58, 1.04, 3.22, 12.77, 526.0, 501.0, 238.0, 121.0, 801.0, u'FORT LAUDERDALE/HOLLYWOOD INTL', u\"Ft Lauderdale/Hollywood Int'l Arpt\", u'Airport', u'ASO', u'BROWARD', u'FORT LAUDERDALE', u'FL', u'Federalized/Commercial', 26.072596, -80.152741, u'Yes'),\n",
       " (234L, u'FLL', 2007L, 117119L, 116401L, 0.7411, 0.6724, 0.7247, 15.62, 15.72, 4.45, 19.4, 2.56, 1.24, 3.68, 16.31, 709.0, 674.0, 232.0, 130.0, 801.0, u'FORT LAUDERDALE/HOLLYWOOD INTL', u\"Ft Lauderdale/Hollywood Int'l Arpt\", u'Airport', u'ASO', u'BROWARD', u'FORT LAUDERDALE', u'FL', u'Federalized/Commercial', 26.072596, -80.152741, u'Yes'),\n",
       " (235L, u'FLL', 2008L, 113379L, 112391L, 0.755, 0.6863, 0.7326, 15.67, 16.59, 4.77, 19.63, 2.8, 1.21, 4.13, 16.04, 542.0, 500.0, 235.0, 197.0, 801.0, u'FORT LAUDERDALE/HOLLYWOOD INTL', u\"Ft Lauderdale/Hollywood Int'l Arpt\", u'Airport', u'ASO', u'BROWARD', u'FORT LAUDERDALE', u'FL', u'Federalized/Commercial', 26.072596, -80.152741, u'Yes'),\n",
       " (236L, u'FLL', 2009L, 102633L, 101149L, 0.7687, 0.7213, 0.7719, 14.02, 15.75, 3.68, 16.81, 2.95, 1.29, 3.67, 13.33, 381.0, 376.0, 225.0, 128.0, 801.0, u'FORT LAUDERDALE/HOLLYWOOD INTL', u\"Ft Lauderdale/Hollywood Int'l Arpt\", u'Airport', u'ASO', u'BROWARD', u'FORT LAUDERDALE', u'FL', u'Federalized/Commercial', 26.072596, -80.152741, u'Yes'),\n",
       " (237L, u'FLL', 2010L, 104078L, 102652L, 0.772, 0.7276, 0.7713, 14.17, 15.13, 3.24, 16.71, 3.04, 1.06, 3.21, 13.67, 750.0, 733.0, 202.0, 126.0, 801.0, u'FORT LAUDERDALE/HOLLYWOOD INTL', u\"Ft Lauderdale/Hollywood Int'l Arpt\", u'Airport', u'ASO', u'BROWARD', u'FORT LAUDERDALE', u'FL', u'Federalized/Commercial', 26.072596, -80.152741, u'Yes'),\n",
       " (238L, u'FLL', 2011L, 104576L, 103097L, 0.7665, 0.7049, 0.7647, 14.5, 15.87, 4.16, 17.8, 2.08, 1.12, 3.46, 14.28, 767.0, 745.0, 206.0, 128.0, 801.0, u'FORT LAUDERDALE/HOLLYWOOD INTL', u\"Ft Lauderdale/Hollywood Int'l Arpt\", u'Airport', u'ASO', u'BROWARD', u'FORT LAUDERDALE', u'FL', u'Federalized/Commercial', 26.072596, -80.152741, u'Yes'),\n",
       " (239L, u'FLL', 2012L, 106550L, 106006L, 0.7756, 0.7149, 0.7693, 15.41, 16.12, 4.3, 18.71, 2.06, 0.93, 3.27, 14.17, 537.0, 500.0, 182.0, 166.0, 801.0, u'FORT LAUDERDALE/HOLLYWOOD INTL', u\"Ft Lauderdale/Hollywood Int'l Arpt\", u'Airport', u'ASO', u'BROWARD', u'FORT LAUDERDALE', u'FL', u'Federalized/Commercial', 26.072596, -80.152741, u'Yes'),\n",
       " (240L, u'FLL', 2013L, 104830L, 104066L, 0.7426, 0.6766, 0.7342, 16.57, 16.74, 4.47, 20.12, 2.26, 1.15, 3.9, 16.12, 410.0, 401.0, 219.0, 206.0, 801.0, u'FORT LAUDERDALE/HOLLYWOOD INTL', u\"Ft Lauderdale/Hollywood Int'l Arpt\", u'Airport', u'ASO', u'BROWARD', u'FORT LAUDERDALE', u'FL', u'Federalized/Commercial', 26.072596, -80.152741, u'Yes'),\n",
       " (241L, u'FLL', 2014L, 106272L, 105742L, 0.729, 0.6799, 0.7434, 16.55, 15.94, 3.58, 19.36, 2.43, 1.21, 3.88, 15.53, 875.0, 894.0, 206.0, 157.0, 801.0, u'FORT LAUDERDALE/HOLLYWOOD INTL', u\"Ft Lauderdale/Hollywood Int'l Arpt\", u'Airport', u'ASO', u'BROWARD', u'FORT LAUDERDALE', u'FL', u'Federalized/Commercial', 26.072596, -80.152741, u'Yes'),\n",
       " (242L, u'HNL', 2004L, 92661L, 91206L, 0.8673, 0.8664, 0.836, 11.26, 14.96, 1.17, 11.37, 3.51, 0.86, 4.15, 10.69, 96.0, 89.0, 33.0, 41.0, 975.0, u'HONOLULU INTL', u\"Honolulu Int'l Airport\", u'Airport', u'AWP', u'HONOLULU', u'HONOLULU', u'HI', u'Federalized/Commercial', 21.318681, -157.922429, u'Yes'),\n",
       " (243L, u'HNL', 2005L, 97359L, 95239L, 0.8672, 0.8734, 0.8282, 10.75, 12.79, 0.8, 10.5, 2.73, 1.65, 3.68, 10.19, 92.0, 81.0, 26.0, 49.0, 975.0, u'HONOLULU INTL', u\"Honolulu Int'l Airport\", u'Airport', u'AWP', u'HONOLULU', u'HONOLULU', u'HI', u'Federalized/Commercial', 21.318681, -157.922429, u'Yes'),\n",
       " (244L, u'HNL', 2006L, 101458L, 100974L, 0.8861, 0.879, 0.8495, 7.2, 12.37, 1.63, 7.75, 2.59, 0.87, 3.47, 8.55, 608.0, 568.0, 20.0, 53.0, 975.0, u'HONOLULU INTL', u\"Honolulu Int'l Airport\", u'Airport', u'AWP', u'HONOLULU', u'HONOLULU', u'HI', u'Federalized/Commercial', 21.318681, -157.922429, u'Yes'),\n",
       " (245L, u'HNL', 2007L, 102986L, 111266L, 0.8858, 0.8823, 0.8633, 7.77, 11.93, 1.36, 8.11, 2.38, 0.81, 2.95, 9.14, 407.0, 416.0, 23.0, 43.0, 975.0, u'HONOLULU INTL', u\"Honolulu Int'l Airport\", u'Airport', u'AWP', u'HONOLULU', u'HONOLULU', u'HI', u'Federalized/Commercial', 21.318681, -157.922429, u'Yes'),\n",
       " (246L, u'HNL', 2008L, 91217L, 100500L, 0.8652, 0.8433, 0.8411, 8.23, 11.9, 2.02, 9.48, 2.11, 1.25, 3.56, 10.0, 463.0, 484.0, 47.0, 50.0, 975.0, u'HONOLULU INTL', u\"Honolulu Int'l Airport\", u'Airport', u'AWP', u'HONOLULU', u'HONOLULU', u'HI', u'Federalized/Commercial', 21.318681, -157.922429, u'Yes'),\n",
       " (247L, u'HNL', 2009L, 90128L, 91124L, 0.8678, 0.8394, 0.8452, 7.5, 12.35, 2.25, 8.95, 1.88, 1.47, 4.24, 9.04, 250.0, 260.0, 58.0, 83.0, 975.0, u'HONOLULU INTL', u\"Honolulu Int'l Airport\", u'Airport', u'AWP', u'HONOLULU', u'HONOLULU', u'HI', u'Federalized/Commercial', 21.318681, -157.922429, u'Yes'),\n",
       " (248L, u'HNL', 2010L, 83392L, 83811L, 0.8789, 0.8535, 0.8461, 6.95, 12.65, 2.26, 8.28, 1.99, 1.62, 4.37, 8.91, 225.0, 214.0, 70.0, 70.0, 975.0, u'HONOLULU INTL', u\"Honolulu Int'l Airport\", u'Airport', u'AWP', u'HONOLULU', u'HONOLULU', u'HI', u'Federalized/Commercial', 21.318681, -157.922429, u'Yes'),\n",
       " (249L, u'HNL', 2011L, 83128L, 83426L, 0.8815, 0.8611, 0.8678, 7.0, 12.66, 1.96, 8.09, 1.79, 1.09, 3.35, 7.99, 369.0, 361.0, 56.0, 54.0, 975.0, u'HONOLULU INTL', u\"Honolulu Int'l Airport\", u'Airport', u'AWP', u'HONOLULU', u'HONOLULU', u'HI', u'Federalized/Commercial', 21.318681, -157.922429, u'Yes'),\n",
       " (250L, u'HNL', 2012L, 88261L, 88228L, 0.8791, 0.8523, 0.8629, 7.32, 13.0, 2.24, 8.67, 1.49, 1.32, 3.22, 8.0, 258.0, 269.0, 55.0, 62.0, 975.0, u'HONOLULU INTL', u\"Honolulu Int'l Airport\", u'Airport', u'AWP', u'HONOLULU', u'HONOLULU', u'HI', u'Federalized/Commercial', 21.318681, -157.922429, u'Yes'),\n",
       " (251L, u'HNL', 2013L, 87945L, 87896L, 0.8734, 0.8479, 0.8504, 7.96, 13.32, 2.27, 9.3, 1.64, 1.3, 3.28, 9.23, 448.0, 457.0, 57.0, 52.0, 975.0, u'HONOLULU INTL', u\"Honolulu Int'l Airport\", u'Airport', u'AWP', u'HONOLULU', u'HONOLULU', u'HI', u'Federalized/Commercial', 21.318681, -157.922429, u'Yes'),\n",
       " (252L, u'HNL', 2014L, 90752L, 88621L, 0.8882, 0.86, 0.8577, 6.45, 13.52, 2.31, 7.84, 1.91, 1.17, 3.5, 8.22, 179.0, 166.0, 64.0, 78.0, 975.0, u'HONOLULU INTL', u\"Honolulu Int'l Airport\", u'Airport', u'AWP', u'HONOLULU', u'HONOLULU', u'HI', u'Federalized/Commercial', 21.318681, -157.922429, u'Yes'),\n",
       " (253L, u'HOU', 2004L, 65315L, 65458L, 0.728, 0.7156, 0.7639, 13.61, 8.95, 2.26, 15.34, 5.35, 0.92, 2.58, 12.23, 1238.0, 1186.0, 114.0, 217.0, 3341.0, u'WILLIAM P HOBBY', u'William P Hobby Airport', u'Airport', u'ASW', u'HARRIS', u'HOUSTON', u'TX', u'Federalized/Commercial', 29.645419, -95.278889, u'Yes'),\n",
       " (254L, u'HOU', 2005L, 62927L, 62981L, 0.7235, 0.7055, 0.7628, 13.98, 9.38, 2.52, 16.17, 5.45, 1.05, 2.48, 12.48, 1289.0, 1224.0, 163.0, 257.0, 3341.0, u'WILLIAM P HOBBY', u'William P Hobby Airport', u'Airport', u'ASW', u'HARRIS', u'HOUSTON', u'TX', u'Federalized/Commercial', 29.645419, -95.278889, u'Yes'),\n",
       " (255L, u'HOU', 2006L, 63002L, 62901L, 0.7085, 0.6939, 0.7515, 15.18, 8.69, 1.68, 16.5, 5.25, 1.09, 2.46, 13.16, 1009.0, 1043.0, 80.0, 176.0, 3341.0, u'WILLIAM P HOBBY', u'William P Hobby Airport', u'Airport', u'ASW', u'HARRIS', u'HOUSTON', u'TX', u'Federalized/Commercial', 29.645419, -95.278889, u'Yes'),\n",
       " (256L, u'HOU', 2007L, 64971L, 64877L, 0.7014, 0.6714, 0.7303, 16.37, 9.25, 2.42, 18.35, 5.5, 1.21, 2.93, 14.8, 940.0, 951.0, 114.0, 265.0, 3341.0, u'WILLIAM P HOBBY', u'William P Hobby Airport', u'Airport', u'ASW', u'HARRIS', u'HOUSTON', u'TX', u'Federalized/Commercial', 29.645419, -95.278889, u'Yes'),\n",
       " (257L, u'HOU', 2008L, 62474L, 62377L, 0.7152, 0.6879, 0.75, 15.53, 9.39, 2.41, 17.36, 4.13, 1.3, 2.61, 13.83, 1584.0, 1554.0, 104.0, 215.0, 3341.0, u'WILLIAM P HOBBY', u'William P Hobby Airport', u'Airport', u'ASW', u'HARRIS', u'HOUSTON', u'TX', u'Federalized/Commercial', 29.645419, -95.278889, u'Yes'),\n",
       " (258L, u'HOU', 2009L, 59009L, 59006L, 0.7383, 0.7209, 0.7915, 14.27, 8.92, 1.73, 15.48, 2.41, 1.5, 2.0, 11.13, 844.0, 808.0, 105.0, 240.0, 3341.0, u'WILLIAM P HOBBY', u'William P Hobby Airport', u'Airport', u'ASW', u'HARRIS', u'HOUSTON', u'TX', u'Federalized/Commercial', 29.645419, -95.278889, u'Yes'),\n",
       " (259L, u'HOU', 2010L, 58084L, 58176L, 0.6841, 0.6558, 0.7649, 16.07, 9.29, 2.16, 17.73, 1.86, 1.86, 2.16, 12.07, 864.0, 842.0, 102.0, 170.0, 3341.0, u'WILLIAM P HOBBY', u'William P Hobby Airport', u'Airport', u'ASW', u'HARRIS', u'HOUSTON', u'TX', u'Federalized/Commercial', 29.645419, -95.278889, u'Yes'),\n",
       " (260L, u'HOU', 2011L, 60853L, 60660L, 0.7082, 0.6824, 0.779, 15.4, 9.03, 1.8, 16.83, 1.37, 1.46, 1.93, 12.07, 868.0, 887.0, 122.0, 85.0, 3341.0, u'WILLIAM P HOBBY', u'William P Hobby Airport', u'Airport', u'ASW', u'HARRIS', u'HOUSTON', u'TX', u'Federalized/Commercial', 29.645419, -95.278889, u'Yes'),\n",
       " (261L, u'HOU', 2012L, 63731L, 63771L, 0.7228, 0.6964, 0.7963, 14.35, 9.12, 1.87, 15.88, 1.33, 1.49, 1.92, 10.77, 594.0, 609.0, 120.0, 138.0, 3341.0, u'WILLIAM P HOBBY', u'William P Hobby Airport', u'Airport', u'ASW', u'HARRIS', u'HOUSTON', u'TX', u'Federalized/Commercial', 29.645419, -95.278889, u'Yes'),\n",
       " (262L, u'HOU', 2013L, 67223L, 67673L, 0.6686, 0.6321, 0.7436, 16.24, 9.41, 2.16, 18.16, 1.29, 1.71, 2.46, 13.19, 540.0, 553.0, 117.0, 117.0, 3341.0, u'WILLIAM P HOBBY', u'William P Hobby Airport', u'Airport', u'ASW', u'HARRIS', u'HOUSTON', u'TX', u'Federalized/Commercial', 29.645419, -95.278889, u'Yes'),\n",
       " (263L, u'HOU', 2014L, 68319L, 68348L, 0.6526, 0.6237, 0.7159, 18.51, 9.72, 2.3, 20.22, 2.11, 1.73, 3.0, 15.8, 955.0, 980.0, 145.0, 153.0, 3341.0, u'WILLIAM P HOBBY', u'William P Hobby Airport', u'Airport', u'ASW', u'HARRIS', u'HOUSTON', u'TX', u'Federalized/Commercial', 29.645419, -95.278889, u'Yes'),\n",
       " (264L, u'HPN', 2004L, 34104L, 33880L, 0.6116, 0.5583, 0.5732, 20.8, 14.22, 4.88, 24.1, 4.3, 1.73, 5.73, 22.43, 349.0, 315.0, 24.0, 47.0, 2502.0, u'WESTCHESTER COUNTY', u'Westchester County Airport', u'Airport', u'AEA', u'WESTCHESTER', u'WHITE PLAINS', u'NY', u'Federalized/Commercial', 41.066944, -73.707556, u'Yes'),\n",
       " (265L, u'HPN', 2005L, 33059L, 32858L, 0.5622, 0.5171, 0.5604, 23.28, 13.01, 3.84, 25.76, 4.01, 1.45, 5.02, 23.6, 320.0, 281.0, 14.0, 41.0, 2502.0, u'WESTCHESTER COUNTY', u'Westchester County Airport', u'Airport', u'AEA', u'WESTCHESTER', u'WHITE PLAINS', u'NY', u'Federalized/Commercial', 41.066944, -73.707556, u'Yes'),\n",
       " (266L, u'HPN', 2006L, 31937L, 32086L, 0.5494, 0.5159, 0.55, 23.3, 14.4, 3.48, 25.65, 4.17, 1.85, 5.17, 24.01, 290.0, 258.0, 29.0, 45.0, 2502.0, u'WESTCHESTER COUNTY', u'Westchester County Airport', u'Airport', u'AEA', u'WESTCHESTER', u'WHITE PLAINS', u'NY', u'Federalized/Commercial', 41.066944, -73.707556, u'Yes'),\n",
       " (267L, u'HPN', 2007L, 35911L, 36118L, 0.5299, 0.4612, 0.5136, 25.84, 16.01, 5.23, 30.62, 4.67, 3.07, 6.97, 27.16, 600.0, 522.0, 49.0, 97.0, 2502.0, u'WESTCHESTER COUNTY', u'Westchester County Airport', u'Airport', u'AEA', u'WESTCHESTER', u'WHITE PLAINS', u'NY', u'Federalized/Commercial', 41.066944, -73.707556, u'Yes'),\n",
       " (268L, u'HPN', 2008L, 31907L, 32126L, 0.5768, 0.5266, 0.5896, 22.72, 15.43, 3.93, 26.0, 4.68, 1.13, 4.56, 23.18, 346.0, 295.0, 36.0, 97.0, 2502.0, u'WESTCHESTER COUNTY', u'Westchester County Airport', u'Airport', u'AEA', u'WESTCHESTER', u'WHITE PLAINS', u'NY', u'Federalized/Commercial', 41.066944, -73.707556, u'Yes'),\n",
       " (269L, u'HPN', 2009L, 27647L, 27642L, 0.6116, 0.5824, 0.6245, 20.39, 13.84, 2.44, 22.14, 3.96, 0.83, 4.15, 20.54, 200.0, 170.0, 32.0, 99.0, 2502.0, u'WESTCHESTER COUNTY', u'Westchester County Airport', u'Airport', u'AEA', u'WESTCHESTER', u'WHITE PLAINS', u'NY', u'Federalized/Commercial', 41.066944, -73.707556, u'Yes'),\n",
       " (270L, u'HPN', 2010L, 30180L, 30438L, 0.6084, 0.5779, 0.6159, 20.5, 13.17, 2.45, 22.38, 3.63, 0.92, 4.55, 20.77, 305.0, 269.0, 32.0, 61.0, 2502.0, u'WESTCHESTER COUNTY', u'Westchester County Airport', u'Airport', u'AEA', u'WESTCHESTER', u'WHITE PLAINS', u'NY', u'Federalized/Commercial', 41.066944, -73.707556, u'Yes'),\n",
       " (271L, u'HPN', 2011L, 30813L, 31566L, 0.5993, 0.5731, 0.5965, 21.64, 12.73, 2.39, 23.32, 3.87, 1.2, 4.67, 22.31, 328.0, 293.0, 20.0, 66.0, 2502.0, u'WESTCHESTER COUNTY', u'Westchester County Airport', u'Airport', u'AEA', u'WESTCHESTER', u'WHITE PLAINS', u'NY', u'Federalized/Commercial', 41.066944, -73.707556, u'Yes'),\n",
       " (272L, u'HPN', 2012L, 31387L, 32243L, 0.6036, 0.5851, 0.6174, 19.91, 12.05, 1.77, 21.07, 3.71, 0.94, 4.01, 20.23, 171.0, 145.0, 19.0, 84.0, 2502.0, u'WESTCHESTER COUNTY', u'Westchester County Airport', u'Airport', u'AEA', u'WESTCHESTER', u'WHITE PLAINS', u'NY', u'Federalized/Commercial', 41.066944, -73.707556, u'Yes'),\n",
       " (273L, u'HPN', 2013L, 30725L, 31431L, 0.5824, 0.53, 0.5891, 21.07, 13.36, 3.33, 24.31, 3.22, 0.74, 4.14, 21.72, 263.0, 195.0, 24.0, 88.0, 2502.0, u'WESTCHESTER COUNTY', u'Westchester County Airport', u'Airport', u'AEA', u'WESTCHESTER', u'WHITE PLAINS', u'NY', u'Federalized/Commercial', 41.066944, -73.707556, u'Yes'),\n",
       " (274L, u'HPN', 2014L, 30230L, 30777L, 0.5837, 0.5233, 0.5846, 21.29, 13.75, 3.53, 24.89, 3.39, 0.99, 4.6, 22.3, 474.0, 386.0, 23.0, 112.0, 2502.0, u'WESTCHESTER COUNTY', u'Westchester County Airport', u'Airport', u'AEA', u'WESTCHESTER', u'WHITE PLAINS', u'NY', u'Federalized/Commercial', 41.066944, -73.707556, u'Yes'),\n",
       " (275L, u'IAD', 2004L, 212945L, 215986L, 0.7261, 0.6179, 0.7484, 15.71, 18.82, 7.17, 21.45, 5.05, 1.28, 3.79, 15.09, 2856.0, 3197.0, 271.0, 260.0, 770.0, u'WASHINGTON DULLES INTL', u\"Washington-Dulles Int'l Airport\", u'Airport', u'AEA', u'LOUDOUN', u'WASHINGTON', u'DC', u'Federalized/Commercial', 38.947444, -77.459944, u'Yes'),\n",
       " (276L, u'IAD', 2005L, 233140L, 236001L, 0.7425, 0.6573, 0.7632, 15.07, 18.64, 5.8, 19.41, 4.38, 1.75, 3.57, 14.15, 2452.0, 2604.0, 182.0, 140.0, 770.0, u'WASHINGTON DULLES INTL', u\"Washington-Dulles Int'l Airport\", u'Airport', u'AEA', u'LOUDOUN', u'WASHINGTON', u'DC', u'Federalized/Commercial', 38.947444, -77.459944, u'Yes'),\n",
       " (277L, u'IAD', 2006L, 169691L, 172953L, 0.7311, 0.6822, 0.7441, 16.89, 17.16, 4.23, 19.91, 4.36, 1.93, 3.28, 15.84, 2232.0, 2422.0, 238.0, 226.0, 770.0, u'WASHINGTON DULLES INTL', u\"Washington-Dulles Int'l Airport\", u'Airport', u'AEA', u'LOUDOUN', u'WASHINGTON', u'DC', u'Federalized/Commercial', 38.947444, -77.459944, u'Yes'),\n",
       " (278L, u'IAD', 2007L, 171679L, 173013L, 0.7147, 0.6361, 0.7193, 17.92, 18.06, 5.34, 22.55, 4.73, 1.83, 3.67, 17.52, 2920.0, 3116.0, 180.0, 168.0, 770.0, u'WASHINGTON DULLES INTL', u\"Washington-Dulles Int'l Airport\", u'Airport', u'AEA', u'LOUDOUN', u'WASHINGTON', u'DC', u'Federalized/Commercial', 38.947444, -77.459944, u'Yes'),\n",
       " (279L, u'IAD', 2008L, 164378L, 164798L, 0.7155, 0.6368, 0.7327, 18.33, 17.92, 4.99, 22.68, 4.19, 1.35, 3.11, 17.04, 2077.0, 2210.0, 189.0, 150.0, 770.0, u'WASHINGTON DULLES INTL', u\"Washington-Dulles Int'l Airport\", u'Airport', u'AEA', u'LOUDOUN', u'WASHINGTON', u'DC', u'Federalized/Commercial', 38.947444, -77.459944, u'Yes'),\n",
       " (280L, u'IAD', 2009L, 156324L, 155395L, 0.7718, 0.7197, 0.7876, 14.57, 16.72, 3.78, 17.53, 3.8, 1.49, 2.74, 12.74, 1315.0, 1317.0, 181.0, 122.0, 770.0, u'WASHINGTON DULLES INTL', u\"Washington-Dulles Int'l Airport\", u'Airport', u'AEA', u'LOUDOUN', u'WASHINGTON', u'DC', u'Federalized/Commercial', 38.947444, -77.459944, u'Yes'),\n",
       " (281L, u'IAD', 2010L, 155124L, 154841L, 0.7742, 0.7211, 0.7804, 14.33, 16.0, 3.72, 17.29, 3.02, 1.38, 2.71, 13.36, 2020.0, 2076.0, 193.0, 181.0, 770.0, u'WASHINGTON DULLES INTL', u\"Washington-Dulles Int'l Airport\", u'Airport', u'AEA', u'LOUDOUN', u'WASHINGTON', u'DC', u'Federalized/Commercial', 38.947444, -77.459944, u'Yes'),\n",
       " (282L, u'IAD', 2011L, 152047L, 151481L, 0.7477, 0.6884, 0.7527, 16.59, 16.04, 4.04, 20.01, 3.03, 1.59, 3.34, 15.34, 1804.0, 1842.0, 186.0, 177.0, 770.0, u'WASHINGTON DULLES INTL', u\"Washington-Dulles Int'l Airport\", u'Airport', u'AEA', u'LOUDOUN', u'WASHINGTON', u'DC', u'Federalized/Commercial', 38.947444, -77.459944, u'Yes'),\n",
       " (283L, u'IAD', 2012L, 143837L, 143568L, 0.7412, 0.6805, 0.7634, 16.25, 15.66, 3.77, 19.45, 2.48, 1.37, 2.49, 14.45, 1698.0, 1740.0, 169.0, 135.0, 770.0, u'WASHINGTON DULLES INTL', u\"Washington-Dulles Int'l Airport\", u'Airport', u'AEA', u'LOUDOUN', u'WASHINGTON', u'DC', u'Federalized/Commercial', 38.947444, -77.459944, u'Yes'),\n",
       " (284L, u'IAD', 2013L, 141951L, 141085L, 0.7262, 0.6559, 0.7421, 17.29, 16.28, 4.42, 21.13, 2.44, 1.49, 2.76, 15.92, 1700.0, 1770.0, 159.0, 122.0, 770.0, u'WASHINGTON DULLES INTL', u\"Washington-Dulles Int'l Airport\", u'Airport', u'AEA', u'LOUDOUN', u'WASHINGTON', u'DC', u'Federalized/Commercial', 38.947444, -77.459944, u'Yes'),\n",
       " (285L, u'IAD', 2014L, 134578L, 133877L, 0.6957, 0.6266, 0.723, 19.34, 15.94, 3.85, 23.11, 2.78, 1.49, 3.05, 17.66, 2032.0, 2035.0, 130.0, 121.0, 770.0, u'WASHINGTON DULLES INTL', u\"Washington-Dulles Int'l Airport\", u'Airport', u'AEA', u'LOUDOUN', u'WASHINGTON', u'DC', u'Federalized/Commercial', 38.947444, -77.459944, u'Yes'),\n",
       " (286L, u'IAH', 2004L, 247146L, 246368L, 0.8607, 0.6809, 0.8084, 8.39, 21.45, 9.56, 16.32, 3.37, 3.81, 5.42, 11.19, 1825.0, 2010.0, 344.0, 885.0, 3185.0, u'GEORGE BUSH INTERCONTINENTAL/HOUSTON', u\"Bush Intercon'l Airport\", u'Airport', u'ASW', u'HARRIS', u'HOUSTON', u'TX', u'Federalized/Commercial', 29.984444, -95.341444, u'Yes'),\n",
       " (287L, u'IAH', 2005L, 271941L, 269537L, 0.8442, 0.7184, 0.8178, 9.05, 20.32, 7.34, 14.84, 3.53, 2.32, 4.75, 10.7, 3426.0, 3545.0, 426.0, 766.0, 3185.0, u'GEORGE BUSH INTERCONTINENTAL/HOUSTON', u\"Bush Intercon'l Airport\", u'Airport', u'ASW', u'HARRIS', u'HOUSTON', u'TX', u'Federalized/Commercial', 29.984444, -95.341444, u'Yes'),\n",
       " (288L, u'IAH', 2006L, 291421L, 289276L, 0.7952, 0.6599, 0.7757, 12.51, 21.28, 7.67, 18.86, 3.53, 3.21, 5.41, 13.91, 2374.0, 2500.0, 577.0, 1539.0, 3185.0, u'GEORGE BUSH INTERCONTINENTAL/HOUSTON', u\"Bush Intercon'l Airport\", u'Airport', u'ASW', u'HARRIS', u'HOUSTON', u'TX', u'Federalized/Commercial', 29.984444, -95.341444, u'Yes'),\n",
       " (289L, u'IAH', 2007L, 291242L, 290346L, 0.786, 0.6935, 0.7757, 13.19, 19.69, 5.73, 18.14, 3.47, 2.9, 4.4, 14.45, 2033.0, 2166.0, 518.0, 1174.0, 3185.0, u'GEORGE BUSH INTERCONTINENTAL/HOUSTON', u\"Bush Intercon'l Airport\", u'Airport', u'ASW', u'HARRIS', u'HOUSTON', u'TX', u'Federalized/Commercial', 29.984444, -95.341444, u'Yes'),\n",
       " (290L, u'IAH', 2008L, 278764L, 278546L, 0.8003, 0.7205, 0.7854, 12.2, 18.07, 5.0, 16.37, 3.54, 2.42, 4.23, 14.04, 3261.0, 3366.0, 508.0, 769.0, 3185.0, u'GEORGE BUSH INTERCONTINENTAL/HOUSTON', u\"Bush Intercon'l Airport\", u'Airport', u'ASW', u'HARRIS', u'HOUSTON', u'TX', u'Federalized/Commercial', 29.984444, -95.341444, u'Yes'),\n",
       " (291L, u'IAH', 2009L, 261290L, 261184L, 0.8416, 0.7503, 0.8127, 9.42, 17.48, 5.36, 13.79, 2.96, 2.29, 4.3, 11.34, 1249.0, 1333.0, 510.0, 768.0, 3185.0, u'GEORGE BUSH INTERCONTINENTAL/HOUSTON', u\"Bush Intercon'l Airport\", u'Airport', u'ASW', u'HARRIS', u'HOUSTON', u'TX', u'Federalized/Commercial', 29.984444, -95.341444, u'Yes'),\n",
       " (292L, u'IAH', 2010L, 257236L, 256761L, 0.8211, 0.7483, 0.8066, 10.37, 16.05, 4.26, 13.73, 2.66, 1.99, 4.48, 11.27, 1375.0, 1484.0, 486.0, 544.0, 3185.0, u'GEORGE BUSH INTERCONTINENTAL/HOUSTON', u\"Bush Intercon'l Airport\", u'Airport', u'ASW', u'HARRIS', u'HOUSTON', u'TX', u'Federalized/Commercial', 29.984444, -95.341444, u'Yes'),\n",
       " (293L, u'IAH', 2011L, 254998L, 254038L, 0.8034, 0.7179, 0.7943, 11.6, 16.52, 4.84, 15.52, 2.44, 2.26, 3.94, 12.38, 2105.0, 2364.0, 527.0, 463.0, 3185.0, u'GEORGE BUSH INTERCONTINENTAL/HOUSTON', u\"Bush Intercon'l Airport\", u'Airport', u'ASW', u'HARRIS', u'HOUSTON', u'TX', u'Federalized/Commercial', 29.984444, -95.341444, u'Yes'),\n",
       " (294L, u'IAH', 2012L, 247043L, 246118L, 0.7671, 0.674, 0.7915, 14.18, 16.44, 5.12, 18.43, 2.07, 2.41, 3.09, 13.28, 1898.0, 2168.0, 469.0, 530.0, 3185.0, u'GEORGE BUSH INTERCONTINENTAL/HOUSTON', u\"Bush Intercon'l Airport\", u'Airport', u'ASW', u'HARRIS', u'HOUSTON', u'TX', u'Federalized/Commercial', 29.984444, -95.341444, u'Yes'),\n",
       " (295L, u'IAH', 2013L, 241954L, 242330L, 0.7753, 0.7058, 0.7929, 13.62, 15.93, 4.37, 17.05, 1.71, 2.2, 3.08, 13.06, 1894.0, 2280.0, 511.0, 499.0, 3185.0, u'GEORGE BUSH INTERCONTINENTAL/HOUSTON', u\"Bush Intercon'l Airport\", u'Airport', u'ASW', u'HARRIS', u'HOUSTON', u'TX', u'Federalized/Commercial', 29.984444, -95.341444, u'Yes'),\n",
       " (296L, u'IAH', 2014L, 245284L, 245369L, 0.754, 0.6729, 0.7649, 14.92, 16.62, 4.98, 18.98, 2.65, 2.57, 3.79, 15.19, 3744.0, 4297.0, 576.0, 625.0, 3185.0, u'GEORGE BUSH INTERCONTINENTAL/HOUSTON', u\"Bush Intercon'l Airport\", u'Airport', u'ASW', u'HARRIS', u'HOUSTON', u'TX', u'Federalized/Commercial', 29.984444, -95.341444, u'Yes'),\n",
       " (297L, u'IND', 2004L, 86320L, 86866L, 0.7792, 0.7424, 0.7445, 12.28, 12.98, 3.18, 14.49, 2.97, 1.35, 4.43, 13.98, 509.0, 480.0, 63.0, 26.0, 1266.0, u'INDIANAPOLIS INTL', u\"Indianapolis Int'l Airport\", u'Airport', u'AGL', u'MARION', u'INDIANAPOLIS', u'IN', u'Federalized/Commercial', 39.717299, -86.294661, u'Yes'),\n",
       " (298L, u'IND', 2005L, 92901L, 93187L, 0.7605, 0.7179, 0.737, 13.27, 13.21, 3.57, 15.64, 3.12, 1.74, 5.02, 14.75, 608.0, 572.0, 103.0, 49.0, 1266.0, u'INDIANAPOLIS INTL', u\"Indianapolis Int'l Airport\", u'Airport', u'AGL', u'MARION', u'INDIANAPOLIS', u'IN', u'Federalized/Commercial', 39.717299, -86.294661, u'Yes'),\n",
       " (299L, u'IND', 2006L, 87866L, 87860L, 0.7781, 0.7396, 0.7379, 12.62, 13.39, 3.18, 14.74, 2.95, 1.64, 4.71, 14.4, 387.0, 359.0, 125.0, 53.0, 1266.0, u'INDIANAPOLIS INTL', u\"Indianapolis Int'l Airport\", u'Airport', u'AGL', u'MARION', u'INDIANAPOLIS', u'IN', u'Federalized/Commercial', 39.717299, -86.294661, u'Yes'),\n",
       " (300L, u'IND', 2007L, 85550L, 85626L, 0.7714, 0.7229, 0.708, 13.65, 14.19, 3.69, 16.55, 3.27, 2.34, 5.08, 16.83, 991.0, 945.0, 131.0, 54.0, 1266.0, u'INDIANAPOLIS INTL', u\"Indianapolis Int'l Airport\", u'Airport', u'AGL', u'MARION', u'INDIANAPOLIS', u'IN', u'Federalized/Commercial', 39.717299, -86.294661, u'Yes'),\n",
       " (301L, u'IND', 2008L, 84243L, 84597L, 0.7975, 0.7502, 0.7633, 12.14, 14.14, 3.49, 14.85, 3.19, 1.33, 3.95, 13.51, 749.0, 708.0, 102.0, 69.0, 1266.0, u'INDIANAPOLIS INTL', u\"Indianapolis Int'l Airport\", u'Airport', u'AGL', u'MARION', u'INDIANAPOLIS', u'IN', u'Federalized/Commercial', 39.717299, -86.294661, u'Yes'),\n",
       " (302L, u'IND', 2009L, 74138L, 74235L, 0.8193, 0.7832, 0.8183, 10.92, 13.12, 2.67, 12.95, 2.92, 0.46, 2.99, 10.27, 520.0, 490.0, 97.0, 70.0, 1266.0, u'INDIANAPOLIS INTL', u\"Indianapolis Int'l Airport\", u'Airport', u'AGL', u'MARION', u'INDIANAPOLIS', u'IN', u'Federalized/Commercial', 39.717299, -86.294661, u'Yes'),\n",
       " (303L, u'IND', 2010L, 71636L, 71856L, 0.7958, 0.7501, 0.7974, 11.77, 13.16, 3.05, 14.12, 2.85, 0.46, 3.0, 11.43, 622.0, 560.0, 103.0, 60.0, 1266.0, u'INDIANAPOLIS INTL', u\"Indianapolis Int'l Airport\", u'Airport', u'AGL', u'MARION', u'INDIANAPOLIS', u'IN', u'Federalized/Commercial', 39.717299, -86.294661, u'Yes'),\n",
       " (304L, u'IND', 2011L, 68885L, 68918L, 0.7856, 0.7603, 0.784, 12.53, 12.19, 2.02, 13.93, 2.63, 0.78, 2.89, 12.35, 598.0, 524.0, 64.0, 68.0, 1266.0, u'INDIANAPOLIS INTL', u\"Indianapolis Int'l Airport\", u'Airport', u'AGL', u'MARION', u'INDIANAPOLIS', u'IN', u'Federalized/Commercial', 39.717299, -86.294661, u'Yes'),\n",
       " (305L, u'IND', 2012L, 68311L, 68266L, 0.8098, 0.7831, 0.8027, 11.2, 12.05, 1.86, 12.52, 2.16, 0.81, 2.46, 10.92, 296.0, 251.0, 63.0, 48.0, 1266.0, u'INDIANAPOLIS INTL', u\"Indianapolis Int'l Airport\", u'Airport', u'AGL', u'MARION', u'INDIANAPOLIS', u'IN', u'Federalized/Commercial', 39.717299, -86.294661, u'Yes'),\n",
       " (306L, u'IND', 2013L, 67136L, 66993L, 0.7664, 0.7252, 0.7706, 13.89, 12.77, 2.78, 16.18, 2.04, 1.02, 2.84, 13.29, 434.0, 376.0, 82.0, 49.0, 1266.0, u'INDIANAPOLIS INTL', u\"Indianapolis Int'l Airport\", u'Airport', u'AGL', u'MARION', u'INDIANAPOLIS', u'IN', u'Federalized/Commercial', 39.717299, -86.294661, u'Yes'),\n",
       " (307L, u'IND', 2014L, 66542L, 66383L, 0.7231, 0.6907, 0.7524, 15.78, 12.8, 2.5, 17.63, 2.06, 1.18, 3.07, 14.49, 786.0, 680.0, 66.0, 68.0, 1266.0, u'INDIANAPOLIS INTL', u\"Indianapolis Int'l Airport\", u'Airport', u'AGL', u'MARION', u'INDIANAPOLIS', u'IN', u'Federalized/Commercial', 39.717299, -86.294661, u'Yes'),\n",
       " (308L, u'ISP', 2004L, 4045L, 4061L, 0.84, 0.8156, 0.7956, 8.27, 10.04, 2.73, 10.6, 3.06, 1.09, 2.52, 10.56, 237.0, 214.0, 39.0, 55.0, 2465.0, u'LONG ISLAND MAC ARTHUR', u'Long Island Macarthur Airport', u'Airport', u'AEA', u'SUFFOLK', u'NEW YORK', u'NY', u'Federalized/Commercial', 40.79525, -73.100222, u'Yes'),\n",
       " (309L, u'ISP', 2005L, 17364L, 17291L, 0.8102, 0.7899, 0.792, 10.45, 9.84, 2.58, 12.45, 3.17, 1.02, 2.31, 11.34, 210.0, 213.0, 36.0, 13.0, 2465.0, u'LONG ISLAND MAC ARTHUR', u'Long Island Macarthur Airport', u'Airport', u'AEA', u'SUFFOLK', u'NEW YORK', u'NY', u'Federalized/Commercial', 40.79525, -73.100222, u'Yes'),\n",
       " (310L, u'ISP', 2006L, 15706L, 15641L, 0.8008, 0.7945, 0.7896, 11.63, 8.59, 1.33, 12.39, 3.62, 0.59, 2.11, 11.93, 173.0, 181.0, 27.0, 62.0, 2465.0, u'LONG ISLAND MAC ARTHUR', u'Long Island Macarthur Airport', u'Airport', u'AEA', u'SUFFOLK', u'NEW YORK', u'NY', u'Federalized/Commercial', 40.79525, -73.100222, u'Yes'),\n",
       " (311L, u'ISP', 2007L, 15214L, 15170L, 0.8096, 0.7861, 0.7713, 11.49, 8.91, 1.8, 12.99, 3.72, 0.67, 2.14, 13.55, 175.0, 166.0, 26.0, 34.0, 2465.0, u'LONG ISLAND MAC ARTHUR', u'Long Island Macarthur Airport', u'Airport', u'AEA', u'SUFFOLK', u'NEW YORK', u'NY', u'Federalized/Commercial', 40.79525, -73.100222, u'Yes'),\n",
       " (312L, u'ISP', 2008L, 13736L, 12677L, 0.8058, 0.7879, 0.7726, 11.95, 8.6, 1.55, 13.02, 2.28, 0.76, 1.98, 13.43, 70.0, 76.0, 28.0, 22.0, 2465.0, u'LONG ISLAND MAC ARTHUR', u'Long Island Macarthur Airport', u'Airport', u'AEA', u'SUFFOLK', u'NEW YORK', u'NY', u'Federalized/Commercial', 40.79525, -73.100222, u'Yes'),\n",
       " (313L, u'ISP', 2009L, 10590L, 10593L, 0.8155, 0.7973, 0.7861, 10.74, 8.4, 1.36, 11.66, 1.75, 0.81, 1.9, 11.73, 84.0, 75.0, 26.0, 37.0, 2465.0, u'LONG ISLAND MAC ARTHUR', u'Long Island Macarthur Airport', u'Airport', u'AEA', u'SUFFOLK', u'NEW YORK', u'NY', u'Federalized/Commercial', 40.79525, -73.100222, u'Yes'),\n",
       " (314L, u'ISP', 2010L, 9856L, 9770L, 0.7876, 0.767, 0.7407, 11.42, 8.55, 1.57, 12.71, 1.75, 0.61, 2.12, 13.92, 178.0, 172.0, 21.0, 27.0, 2465.0, u'LONG ISLAND MAC ARTHUR', u'Long Island Macarthur Airport', u'Airport', u'AEA', u'SUFFOLK', u'NEW YORK', u'NY', u'Federalized/Commercial', 40.79525, -73.100222, u'Yes'),\n",
       " (315L, u'ISP', 2011L, 9556L, 9546L, 0.8036, 0.7882, 0.763, 12.66, 8.64, 1.51, 13.8, 1.42, 0.5, 1.89, 15.37, 147.0, 138.0, 16.0, 29.0, 2465.0, u'LONG ISLAND MAC ARTHUR', u'Long Island Macarthur Airport', u'Airport', u'AEA', u'SUFFOLK', u'NEW YORK', u'NY', u'Federalized/Commercial', 40.79525, -73.100222, u'Yes'),\n",
       " (316L, u'ISP', 2012L, 8716L, 8710L, 0.7868, 0.7728, 0.754, 13.61, 8.38, 1.22, 14.57, 1.23, 0.45, 1.97, 15.33, 67.0, 74.0, 10.0, 19.0, 2465.0, u'LONG ISLAND MAC ARTHUR', u'Long Island Macarthur Airport', u'Airport', u'AEA', u'SUFFOLK', u'NEW YORK', u'NY', u'Federalized/Commercial', 40.79525, -73.100222, u'Yes'),\n",
       " (317L, u'ISP', 2013L, 8344L, 8291L, 0.7572, 0.7285, 0.7059, 13.38, 8.61, 1.4, 14.73, 1.27, 0.42, 2.57, 16.9, 70.0, 67.0, 12.0, 13.0, 2465.0, u'LONG ISLAND MAC ARTHUR', u'Long Island Macarthur Airport', u'Airport', u'AEA', u'SUFFOLK', u'NEW YORK', u'NY', u'Federalized/Commercial', 40.79525, -73.100222, u'Yes'),\n",
       " (318L, u'ISP', 2014L, 7816L, 7776L, 0.7238, 0.7033, 0.6817, 17.02, 9.08, 1.56, 18.18, 1.26, 0.46, 2.6, 19.89, 103.0, 104.0, 17.0, 19.0, 2465.0, u'LONG ISLAND MAC ARTHUR', u'Long Island Macarthur Airport', u'Airport', u'AEA', u'SUFFOLK', u'NEW YORK', u'NY', u'Federalized/Commercial', 40.79525, -73.100222, u'Yes'),\n",
       " (319L, u'JAX', 2004L, 11321L, 11447L, 0.7824, 0.7584, 0.7496, 11.9, 11.64, 2.5, 13.57, 1.55, 0.7, 2.23, 13.15, 645.0, 558.0, 94.0, 63.0, 809.0, u'JACKSONVILLE INTL', u\"Jacksonville Int'l Airport\", u'Airport', u'ASO', u'DUVAL', u'JACKSONVILLE', u'FL', u'Federalized/Commercial', 30.494056, -81.687861, u'Yes'),\n",
       " (320L, u'JAX', 2005L, 46410L, 46695L, 0.777, 0.7525, 0.739, 12.67, 11.76, 2.65, 14.53, 1.69, 1.04, 3.01, 14.12, 363.0, 296.0, 91.0, 32.0, 809.0, u'JACKSONVILLE INTL', u\"Jacksonville Int'l Airport\", u'Airport', u'ASO', u'DUVAL', u'JACKSONVILLE', u'FL', u'Federalized/Commercial', 30.494056, -81.687861, u'Yes'),\n",
       " (321L, u'JAX', 2006L, 45885L, 46065L, 0.7822, 0.7587, 0.7469, 12.35, 11.88, 2.44, 14.05, 1.5, 1.01, 2.85, 13.68, 311.0, 287.0, 114.0, 41.0, 809.0, u'JACKSONVILLE INTL', u\"Jacksonville Int'l Airport\", u'Airport', u'ASO', u'DUVAL', u'JACKSONVILLE', u'FL', u'Federalized/Commercial', 30.494056, -81.687861, u'Yes'),\n",
       " (322L, u'JAX', 2007L, 48344L, 48598L, 0.7744, 0.7407, 0.7117, 13.44, 12.76, 3.02, 15.64, 1.37, 1.48, 3.45, 15.88, 446.0, 414.0, 122.0, 44.0, 809.0, u'JACKSONVILLE INTL', u\"Jacksonville Int'l Airport\", u'Airport', u'ASO', u'DUVAL', u'JACKSONVILLE', u'FL', u'Federalized/Commercial', 30.494056, -81.687861, u'Yes'),\n",
       " (323L, u'JAX', 2008L, 43779L, 44043L, 0.7964, 0.7701, 0.7487, 12.5, 12.69, 2.65, 14.28, 1.44, 0.94, 3.59, 14.34, 495.0, 434.0, 85.0, 73.0, 809.0, u'JACKSONVILLE INTL', u\"Jacksonville Int'l Airport\", u'Airport', u'ASO', u'DUVAL', u'JACKSONVILLE', u'FL', u'Federalized/Commercial', 30.494056, -81.687861, u'Yes'),\n",
       " (324L, u'JAX', 2009L, 38246L, 38209L, 0.8212, 0.7858, 0.7799, 10.76, 12.97, 2.97, 12.78, 1.28, 0.89, 3.14, 12.04, 274.0, 220.0, 88.0, 64.0, 809.0, u'JACKSONVILLE INTL', u\"Jacksonville Int'l Airport\", u'Airport', u'ASO', u'DUVAL', u'JACKSONVILLE', u'FL', u'Federalized/Commercial', 30.494056, -81.687861, u'Yes'),\n",
       " (325L, u'JAX', 2010L, 37272L, 37361L, 0.8334, 0.8011, 0.7832, 9.92, 12.66, 2.68, 11.57, 1.15, 0.87, 2.65, 11.9, 444.0, 384.0, 95.0, 40.0, 809.0, u'JACKSONVILLE INTL', u\"Jacksonville Int'l Airport\", u'Airport', u'ASO', u'DUVAL', u'JACKSONVILLE', u'FL', u'Federalized/Commercial', 30.494056, -81.687861, u'Yes'),\n",
       " (326L, u'JAX', 2011L, 38130L, 38079L, 0.822, 0.8009, 0.7781, 10.98, 12.32, 2.22, 12.26, 1.19, 0.81, 2.78, 12.45, 367.0, 333.0, 75.0, 39.0, 809.0, u'JACKSONVILLE INTL', u\"Jacksonville Int'l Airport\", u'Airport', u'ASO', u'DUVAL', u'JACKSONVILLE', u'FL', u'Federalized/Commercial', 30.494056, -81.687861, u'Yes'),\n",
       " (327L, u'JAX', 2012L, 34150L, 34070L, 0.8279, 0.8054, 0.7868, 10.71, 12.44, 2.21, 11.99, 1.1, 1.04, 2.42, 12.28, 234.0, 194.0, 56.0, 37.0, 809.0, u'JACKSONVILLE INTL', u\"Jacksonville Int'l Airport\", u'Airport', u'ASO', u'DUVAL', u'JACKSONVILLE', u'FL', u'Federalized/Commercial', 30.494056, -81.687861, u'Yes'),\n",
       " (328L, u'JAX', 2013L, 34562L, 34417L, 0.7957, 0.7692, 0.7514, 12.73, 12.64, 2.34, 14.16, 1.26, 1.15, 2.72, 14.29, 279.0, 237.0, 71.0, 41.0, 809.0, u'JACKSONVILLE INTL', u\"Jacksonville Int'l Airport\", u'Airport', u'ASO', u'DUVAL', u'JACKSONVILLE', u'FL', u'Federalized/Commercial', 30.494056, -81.687861, u'Yes'),\n",
       " (329L, u'JAX', 2014L, 35084L, 35010L, 0.7868, 0.7596, 0.7414, 13.32, 12.7, 2.19, 14.77, 2.11, 0.85, 3.09, 14.92, 468.0, 417.0, 71.0, 39.0, 809.0, u'JACKSONVILLE INTL', u\"Jacksonville Int'l Airport\", u'Airport', u'ASO', u'DUVAL', u'JACKSONVILLE', u'FL', u'Federalized/Commercial', 30.494056, -81.687861, u'Yes'),\n",
       " (330L, u'JFK', 2004L, 151115L, 148127L, 0.7543, 0.6028, 0.7461, 15.07, 23.79, 8.75, 22.43, 3.64, 2.95, 4.65, 14.91, 1340.0, 1194.0, 218.0, 211.0, 2458.0, u'JOHN F KENNEDY INTL', u\"John F Kennedy Int'l Airport\", u'Airport', u'AEA', u'QUEENS', u'NEW YORK', u'NY', u'Federalized/Commercial', 40.639751, -73.778926, u'Yes'),\n",
       " (331L, u'JFK', 2005L, 164971L, 162914L, 0.7133, 0.5107, 0.6936, 17.38, 27.58, 12.17, 27.8, 4.4, 3.9, 5.72, 18.4, 1915.0, 1749.0, 245.0, 407.0, 2458.0, u'JOHN F KENNEDY INTL', u\"John F Kennedy Int'l Airport\", u'Airport', u'AEA', u'QUEENS', u'NEW YORK', u'NY', u'Federalized/Commercial', 40.639751, -73.778926, u'Yes'),\n",
       " (332L, u'JFK', 2006L, 180139L, 178673L, 0.7182, 0.4423, 0.6704, 18.44, 32.94, 17.12, 33.84, 4.7, 3.35, 5.99, 20.65, 1932.0, 1767.0, 465.0, 489.0, 2458.0, u'JOHN F KENNEDY INTL', u\"John F Kennedy Int'l Airport\", u'Airport', u'AEA', u'QUEENS', u'NEW YORK', u'NY', u'Federalized/Commercial', 40.639751, -73.778926, u'Yes'),\n",
       " (333L, u'JFK', 2007L, 210060L, 209898L, 0.6688, 0.3808, 0.6298, 22.68, 35.76, 18.94, 40.51, 6.63, 4.01, 7.21, 24.92, 4102.0, 4089.0, 236.0, 635.0, 2458.0, u'JOHN F KENNEDY INTL', u\"John F Kennedy Int'l Airport\", u'Airport', u'AEA', u'QUEENS', u'NEW YORK', u'NY', u'Federalized/Commercial', 40.639751, -73.778926, u'Yes'),\n",
       " (334L, u'JFK', 2008L, 208347L, 207144L, 0.7343, 0.5042, 0.667, 18.44, 33.31, 14.31, 31.57, 6.38, 3.93, 6.34, 22.66, 3196.0, 3200.0, 447.0, 530.0, 2458.0, u'JOHN F KENNEDY INTL', u\"John F Kennedy Int'l Airport\", u'Airport', u'AEA', u'QUEENS', u'NEW YORK', u'NY', u'Federalized/Commercial', 40.639751, -73.778926, u'Yes'),\n",
       " (335L, u'JFK', 2009L, 201184L, 199397L, 0.7784, 0.5814, 0.7249, 14.42, 31.07, 11.98, 25.05, 5.69, 3.63, 5.04, 17.71, 2618.0, 2728.0, 307.0, 375.0, 2458.0, u'JOHN F KENNEDY INTL', u\"John F Kennedy Int'l Airport\", u'Airport', u'AEA', u'QUEENS', u'NEW YORK', u'NY', u'Federalized/Commercial', 40.639751, -73.778926, u'Yes'),\n",
       " (336L, u'JFK', 2010L, 192101L, 190038L, 0.7348, 0.57, 0.739, 17.87, 28.7, 10.1, 26.98, 5.09, 3.74, 4.32, 17.39, 3797.0, 3849.0, 234.0, 401.0, 2458.0, u'JOHN F KENNEDY INTL', u\"John F Kennedy Int'l Airport\", u'Airport', u'AEA', u'QUEENS', u'NEW YORK', u'NY', u'Federalized/Commercial', 40.639751, -73.778926, u'Yes'),\n",
       " (337L, u'JFK', 2011L, 197805L, 196354L, 0.7393, 0.5989, 0.7407, 17.29, 25.98, 8.5, 24.82, 5.16, 2.55, 3.82, 17.21, 2580.0, 2595.0, 241.0, 400.0, 2458.0, u'JOHN F KENNEDY INTL', u\"John F Kennedy Int'l Airport\", u'Airport', u'AEA', u'QUEENS', u'NEW YORK', u'NY', u'Federalized/Commercial', 40.639751, -73.778926, u'Yes'),\n",
       " (338L, u'JFK', 2012L, 194788L, 193893L, 0.7697, 0.6409, 0.7819, 14.83, 24.98, 7.55, 21.27, 4.32, 2.02, 2.97, 13.89, 1591.0, 1613.0, 174.0, 305.0, 2458.0, u'JOHN F KENNEDY INTL', u\"John F Kennedy Int'l Airport\", u'Airport', u'AEA', u'QUEENS', u'NEW YORK', u'NY', u'Federalized/Commercial', 40.639751, -73.778926, u'Yes'),\n",
       " (339L, u'JFK', 2013L, 196105L, 193781L, 0.7457, 0.6038, 0.7375, 16.09, 25.53, 8.61, 23.64, 4.21, 2.38, 3.88, 16.85, 1962.0, 2007.0, 238.0, 259.0, 2458.0, u'JOHN F KENNEDY INTL', u\"John F Kennedy Int'l Airport\", u'Airport', u'AEA', u'QUEENS', u'NEW YORK', u'NY', u'Federalized/Commercial', 40.639751, -73.778926, u'Yes'),\n",
       " (340L, u'JFK', 2014L, 206239L, 205660L, 0.7373, 0.5878, 0.7344, 16.64, 25.1, 8.04, 23.83, 4.69, 2.61, 4.05, 17.23, 2319.0, 2380.0, 209.0, 389.0, 2458.0, u'JOHN F KENNEDY INTL', u\"John F Kennedy Int'l Airport\", u'Airport', u'AEA', u'QUEENS', u'NEW YORK', u'NY', u'Federalized/Commercial', 40.639751, -73.778926, u'Yes'),\n",
       " (341L, u'LAS', 2004L, 196424L, 196144L, 0.7609, 0.6589, 0.7631, 12.72, 16.2, 5.89, 17.67, 2.38, 1.51, 3.29, 13.28, 1484.0, 1347.0, 289.0, 195.0, 2410.0, u'MC CARRAN INTL', u\"Mccarran Int'l Airport\", u'Airport', u'AWP', u'CLARK', u'LAS VEGAS', u'NV', u'Federalized/Commercial', 36.080056, -115.15225, u'Yes'),\n",
       " (342L, u'LAS', 2005L, 212089L, 212329L, 0.741, 0.6581, 0.7621, 13.41, 15.39, 4.69, 17.3, 2.19, 1.77, 3.09, 12.99, 1400.0, 1271.0, 300.0, 173.0, 2410.0, u'MC CARRAN INTL', u\"Mccarran Int'l Airport\", u'Airport', u'AWP', u'CLARK', u'LAS VEGAS', u'NV', u'Federalized/Commercial', 36.080056, -115.15225, u'Yes'),\n",
       " (343L, u'LAS', 2006L, 216984L, 217891L, 0.737, 0.6255, 0.7433, 13.78, 16.45, 6.0, 18.81, 2.16, 1.8, 3.66, 13.76, 1609.0, 1460.0, 377.0, 245.0, 2410.0, u'MC CARRAN INTL', u\"Mccarran Int'l Airport\", u'Airport', u'AWP', u'CLARK', u'LAS VEGAS', u'NV', u'Federalized/Commercial', 36.080056, -115.15225, u'Yes'),\n",
       " (344L, u'LAS', 2007L, 223643L, 225495L, 0.7447, 0.6177, 0.7494, 13.81, 16.9, 6.56, 19.42, 2.29, 2.01, 3.4, 13.79, 1842.0, 1677.0, 424.0, 181.0, 2410.0, u'MC CARRAN INTL', u\"Mccarran Int'l Airport\", u'Airport', u'AWP', u'CLARK', u'LAS VEGAS', u'NV', u'Federalized/Commercial', 36.080056, -115.15225, u'Yes'),\n",
       " (345L, u'LAS', 2008L, 207552L, 208196L, 0.762, 0.6664, 0.7586, 13.95, 16.28, 5.65, 18.58, 2.24, 1.7, 3.63, 13.92, 2057.0, 1805.0, 339.0, 400.0, 2410.0, u'MC CARRAN INTL', u\"Mccarran Int'l Airport\", u'Airport', u'AWP', u'CLARK', u'LAS VEGAS', u'NV', u'Federalized/Commercial', 36.080056, -115.15225, u'Yes'),\n",
       " (346L, u'LAS', 2009L, 183201L, 183116L, 0.7923, 0.7356, 0.8069, 11.31, 14.47, 3.94, 14.28, 1.76, 1.53, 2.71, 10.42, 991.0, 924.0, 272.0, 146.0, 2410.0, u'MC CARRAN INTL', u\"Mccarran Int'l Airport\", u'Airport', u'AWP', u'CLARK', u'LAS VEGAS', u'NV', u'Federalized/Commercial', 36.080056, -115.15225, u'Yes'),\n",
       " (347L, u'LAS', 2010L, 174475L, 174562L, 0.7742, 0.7168, 0.8008, 12.32, 14.14, 3.87, 15.26, 1.61, 1.57, 2.24, 10.79, 1016.0, 964.0, 303.0, 174.0, 2410.0, u'MC CARRAN INTL', u\"Mccarran Int'l Airport\", u'Airport', u'AWP', u'CLARK', u'LAS VEGAS', u'NV', u'Federalized/Commercial', 36.080056, -115.15225, u'Yes'),\n",
       " (348L, u'LAS', 2011L, 181828L, 181770L, 0.775, 0.7176, 0.7955, 12.37, 14.26, 3.79, 15.27, 1.57, 1.59, 2.56, 11.14, 1143.0, 1088.0, 281.0, 160.0, 2410.0, u'MC CARRAN INTL', u\"Mccarran Int'l Airport\", u'Airport', u'AWP', u'CLARK', u'LAS VEGAS', u'NV', u'Federalized/Commercial', 36.080056, -115.15225, u'Yes'),\n",
       " (349L, u'LAS', 2012L, 179153L, 180035L, 0.7802, 0.7286, 0.8051, 12.47, 13.93, 3.5, 15.13, 1.47, 2.1, 2.34, 10.84, 918.0, 817.0, 239.0, 182.0, 2410.0, u'MC CARRAN INTL', u\"Mccarran Int'l Airport\", u'Airport', u'AWP', u'CLARK', u'LAS VEGAS', u'NV', u'Federalized/Commercial', 36.080056, -115.15225, u'Yes'),\n",
       " (350L, u'LAS', 2013L, 177409L, 179793L, 0.7477, 0.6901, 0.7771, 14.46, 13.99, 3.62, 17.37, 1.29, 1.73, 2.66, 12.84, 777.0, 726.0, 274.0, 156.0, 2410.0, u'MC CARRAN INTL', u\"Mccarran Int'l Airport\", u'Airport', u'AWP', u'CLARK', u'LAS VEGAS', u'NV', u'Federalized/Commercial', 36.080056, -115.15225, u'Yes'),\n",
       " (351L, u'LAS', 2014L, 181578L, 181929L, 0.7394, 0.6887, 0.7643, 14.77, 13.61, 3.35, 17.47, 1.71, 1.77, 2.89, 13.47, 1115.0, 1035.0, 266.0, 159.0, 2410.0, u'MC CARRAN INTL', u\"Mccarran Int'l Airport\", u'Airport', u'AWP', u'CLARK', u'LAS VEGAS', u'NV', u'Federalized/Commercial', 36.080056, -115.15225, u'Yes'),\n",
       " (352L, u'LAX', 2004L, 307973L, 307061L, 0.8144, 0.7604, 0.8093, 10.17, 14.08, 4.1, 13.22, 3.03, 2.41, 3.52, 10.47, 2508.0, 2727.0, 382.0, 270.0, 584.0, u'LOS ANGELES INTL', u\"Los Angeles Int'l Airport\", u'Airport', u'AWP', u'LOS ANGELES', u'LOS ANGELES', u'CA', u'Federalized/Commercial', 33.942496, -118.408068, u'Yes'),\n",
       " (353L, u'LAX', 2005L, 306439L, 306044L, 0.801, 0.7546, 0.7923, 10.55, 13.9, 3.72, 13.22, 3.02, 2.37, 3.54, 11.22, 2379.0, 2592.0, 363.0, 171.0, 584.0, u'LOS ANGELES INTL', u\"Los Angeles Int'l Airport\", u'Airport', u'AWP', u'LOS ANGELES', u'LOS ANGELES', u'CA', u'Federalized/Commercial', 33.942496, -118.408068, u'Yes'),\n",
       " (354L, u'LAX', 2006L, 306821L, 306201L, 0.7819, 0.7213, 0.7561, 11.81, 14.82, 4.36, 15.0, 3.18, 2.93, 4.11, 13.23, 3028.0, 3248.0, 379.0, 260.0, 584.0, u'LOS ANGELES INTL', u\"Los Angeles Int'l Airport\", u'Airport', u'AWP', u'LOS ANGELES', u'LOS ANGELES', u'CA', u'Federalized/Commercial', 33.942496, -118.408068, u'Yes'),\n",
       " (355L, u'LAX', 2007L, 316257L, 316715L, 0.777, 0.6992, 0.7501, 12.42, 15.71, 4.81, 16.24, 3.19, 3.58, 4.05, 14.09, 3259.0, 3417.0, 398.0, 208.0, 584.0, u'LOS ANGELES INTL', u\"Los Angeles Int'l Airport\", u'Airport', u'AWP', u'LOS ANGELES', u'LOS ANGELES', u'CA', u'Federalized/Commercial', 33.942496, -118.408068, u'Yes'),\n",
       " (356L, u'LAX', 2008L, 293640L, 294144L, 0.7942, 0.7478, 0.7675, 12.15, 14.82, 3.37, 14.62, 3.07, 2.69, 3.93, 13.51, 2838.0, 3077.0, 476.0, 237.0, 584.0, u'LOS ANGELES INTL', u\"Los Angeles Int'l Airport\", u'Airport', u'AWP', u'LOS ANGELES', u'LOS ANGELES', u'CA', u'Federalized/Commercial', 33.942496, -118.408068, u'Yes'),\n",
       " (357L, u'LAX', 2009L, 262782L, 262838L, 0.833, 0.8032, 0.8153, 9.95, 13.68, 2.63, 11.65, 2.75, 2.15, 2.77, 10.83, 1911.0, 2000.0, 363.0, 209.0, 584.0, u'LOS ANGELES INTL', u\"Los Angeles Int'l Airport\", u'Airport', u'AWP', u'LOS ANGELES', u'LOS ANGELES', u'CA', u'Federalized/Commercial', 33.942496, -118.408068, u'Yes'),\n",
       " (358L, u'LAX', 2010L, 269895L, 270550L, 0.8106, 0.7674, 0.7992, 11.27, 14.09, 3.22, 13.57, 2.65, 2.97, 2.92, 11.59, 2206.0, 2292.0, 420.0, 240.0, 584.0, u'LOS ANGELES INTL', u\"Los Angeles Int'l Airport\", u'Airport', u'AWP', u'LOS ANGELES', u'LOS ANGELES', u'CA', u'Federalized/Commercial', 33.942496, -118.408068, u'Yes'),\n",
       " (359L, u'LAX', 2011L, 284127L, 284618L, 0.8082, 0.7493, 0.7809, 11.02, 14.86, 3.96, 14.02, 2.77, 3.31, 3.63, 12.32, 2617.0, 2764.0, 439.0, 341.0, 584.0, u'LOS ANGELES INTL', u\"Los Angeles Int'l Airport\", u'Airport', u'AWP', u'LOS ANGELES', u'LOS ANGELES', u'CA', u'Federalized/Commercial', 33.942496, -118.408068, u'Yes'),\n",
       " (360L, u'LAX', 2012L, 284637L, 285252L, 0.8022, 0.7334, 0.7884, 11.55, 15.39, 4.44, 14.95, 2.47, 4.0, 3.12, 12.14, 2315.0, 2493.0, 479.0, 241.0, 584.0, u'LOS ANGELES INTL', u\"Los Angeles Int'l Airport\", u'Airport', u'AWP', u'LOS ANGELES', u'LOS ANGELES', u'CA', u'Federalized/Commercial', 33.942496, -118.408068, u'Yes'),\n",
       " (361L, u'LAX', 2013L, 288214L, 288965L, 0.8001, 0.7435, 0.7844, 11.69, 15.21, 3.98, 14.58, 2.33, 3.53, 3.17, 12.66, 2441.0, 2541.0, 494.0, 332.0, 584.0, u'LOS ANGELES INTL', u\"Los Angeles Int'l Airport\", u'Airport', u'AWP', u'LOS ANGELES', u'LOS ANGELES', u'CA', u'Federalized/Commercial', 33.942496, -118.408068, u'Yes'),\n",
       " (362L, u'LAX', 2014L, 303156L, 302628L, 0.7681, 0.7048, 0.7652, 13.32, 15.44, 4.09, 16.46, 2.64, 3.9, 3.63, 13.99, 2493.0, 2726.0, 601.0, 298.0, 584.0, u'LOS ANGELES INTL', u\"Los Angeles Int'l Airport\", u'Airport', u'AWP', u'LOS ANGELES', u'LOS ANGELES', u'CA', u'Federalized/Commercial', 33.942496, -118.408068, u'Yes'),\n",
       " (363L, u'LGA', 2004L, 196421L, 196310L, 0.7963, 0.621, 0.7518, 12.44, 23.28, 10.18, 20.77, 5.29, 2.42, 4.57, 15.47, 4347.0, 4241.0, 265.0, 449.0, 2462.0, u'LA GUARDIA', u'Laguardia Airport', u'Airport', u'AEA', u'QUEENS', u'NEW YORK', u'NY', u'Federalized/Commercial', 40.77725, -73.872611, u'Yes'),\n",
       " (364L, u'LGA', 2005L, 196606L, 196474L, 0.7429, 0.569, 0.6829, 16.09, 22.44, 10.35, 24.55, 5.73, 2.41, 5.67, 20.41, 5060.0, 4879.0, 271.0, 592.0, 2462.0, u'LA GUARDIA', u'Laguardia Airport', u'Airport', u'AEA', u'QUEENS', u'NEW YORK', u'NY', u'Federalized/Commercial', 40.77725, -73.872611, u'Yes'),\n",
       " (365L, u'LGA', 2006L, 196274L, 196378L, 0.7398, 0.5213, 0.6671, 16.55, 25.75, 13.0, 27.64, 5.97, 2.39, 5.99, 21.05, 4718.0, 4668.0, 278.0, 537.0, 2462.0, u'LA GUARDIA', u'Laguardia Airport', u'Airport', u'AEA', u'QUEENS', u'NEW YORK', u'NY', u'Federalized/Commercial', 40.77725, -73.872611, u'Yes'),\n",
       " (366L, u'LGA', 2007L, 191343L, 191847L, 0.7004, 0.4267, 0.6109, 19.48, 27.32, 15.0, 33.26, 6.93, 2.56, 6.84, 25.0, 6415.0, 6304.0, 290.0, 573.0, 2462.0, u'LA GUARDIA', u'Laguardia Airport', u'Airport', u'AEA', u'QUEENS', u'NEW YORK', u'NY', u'Federalized/Commercial', 40.77725, -73.872611, u'Yes'),\n",
       " (367L, u'LGA', 2008L, 186037L, 186204L, 0.7458, 0.4705, 0.6572, 16.86, 27.03, 14.71, 30.04, 7.28, 2.43, 5.96, 22.23, 5753.0, 5721.0, 270.0, 701.0, 2462.0, u'LA GUARDIA', u'Laguardia Airport', u'Airport', u'AEA', u'QUEENS', u'NEW YORK', u'NY', u'Federalized/Commercial', 40.77725, -73.872611, u'Yes'),\n",
       " (368L, u'LGA', 2009L, 174192L, 174054L, 0.79, 0.572, 0.7178, 13.77, 24.42, 11.96, 24.08, 7.01, 1.89, 4.73, 18.38, 4007.0, 3943.0, 272.0, 546.0, 2462.0, u'LA GUARDIA', u'Laguardia Airport', u'Airport', u'AEA', u'QUEENS', u'NEW YORK', u'NY', u'Federalized/Commercial', 40.77725, -73.872611, u'Yes'),\n",
       " (369L, u'LGA', 2010L, 178701L, 178938L, 0.7996, 0.5804, 0.7617, 12.95, 24.42, 11.53, 22.85, 5.83, 2.35, 3.62, 14.95, 4336.0, 4301.0, 272.0, 483.0, 2462.0, u'LA GUARDIA', u'Laguardia Airport', u'Airport', u'AEA', u'QUEENS', u'NEW YORK', u'NY', u'Federalized/Commercial', 40.77725, -73.872611, u'Yes'),\n",
       " (370L, u'LGA', 2011L, 180288L, 180945L, 0.7639, 0.5437, 0.7373, 15.96, 24.68, 11.67, 26.25, 6.14, 1.96, 3.54, 17.7, 4636.0, 4658.0, 215.0, 434.0, 2462.0, u'LA GUARDIA', u'Laguardia Airport', u'Airport', u'AEA', u'QUEENS', u'NEW YORK', u'NY', u'Federalized/Commercial', 40.77725, -73.872611, u'Yes'),\n",
       " (371L, u'LGA', 2012L, 181426L, 182054L, 0.804, 0.5906, 0.7814, 12.82, 23.97, 10.98, 22.33, 5.13, 2.25, 2.97, 14.19, 3408.0, 3361.0, 205.0, 398.0, 2462.0, u'LA GUARDIA', u'Laguardia Airport', u'Airport', u'AEA', u'QUEENS', u'NEW YORK', u'NY', u'Federalized/Commercial', 40.77725, -73.872611, u'Yes'),\n",
       " (372L, u'LGA', 2013L, 182284L, 181998L, 0.7698, 0.5486, 0.746, 15.72, 24.43, 11.25, 25.84, 5.25, 2.24, 3.28, 17.29, 3311.0, 3319.0, 211.0, 545.0, 2462.0, u'LA GUARDIA', u'Laguardia Airport', u'Airport', u'AEA', u'QUEENS', u'NEW YORK', u'NY', u'Federalized/Commercial', 40.77725, -73.872611, u'Yes'),\n",
       " (373L, u'LGA', 2014L, 180282L, 180537L, 0.7599, 0.5318, 0.7498, 15.75, 24.61, 11.21, 25.92, 4.79, 2.34, 3.19, 16.47, 4672.0, 4762.0, 247.0, 433.0, 2462.0, u'LA GUARDIA', u'Laguardia Airport', u'Airport', u'AEA', u'QUEENS', u'NEW YORK', u'NY', u'Federalized/Commercial', 40.77725, -73.872611, u'Yes'),\n",
       " (374L, u'LGB', 2004L, 3663L, 3749L, 0.8438, 0.8329, 0.7437, 8.82, 12.35, 1.96, 9.81, 1.98, 0.63, 4.15, 12.79, 92.0, 85.0, 32.0, 79.0, 582.0, u'LONG BEACH /DAUGHERTY FIELD/', u'Long Beach Airport', u'Airport', u'AWP', u'LOS ANGELES', u'LONG BEACH', u'CA', u'Federalized/Commercial', 33.817754, -118.151733, u'Yes'),\n",
       " (375L, u'LGB', 2005L, 15607L, 15858L, 0.8484, 0.8274, 0.7743, 8.24, 12.48, 2.29, 9.57, 1.59, 0.82, 3.25, 11.52, 49.0, 46.0, 33.0, 53.0, 582.0, u'LONG BEACH /DAUGHERTY FIELD/', u'Long Beach Airport', u'Airport', u'AWP', u'LOS ANGELES', u'LONG BEACH', u'CA', u'Federalized/Commercial', 33.817754, -118.151733, u'Yes'),\n",
       " (376L, u'LGB', 2006L, 15360L, 16113L, 0.8435, 0.8121, 0.7752, 8.66, 13.68, 3.01, 10.65, 1.71, 0.78, 4.2, 11.26, 65.0, 63.0, 34.0, 120.0, 582.0, u'LONG BEACH /DAUGHERTY FIELD/', u'Long Beach Airport', u'Airport', u'AWP', u'LOS ANGELES', u'LONG BEACH', u'CA', u'Federalized/Commercial', 33.817754, -118.151733, u'Yes'),\n",
       " (377L, u'LGB', 2007L, 16866L, 17042L, 0.8255, 0.7819, 0.7832, 9.67, 15.3, 3.79, 12.19, 2.02, 1.39, 4.06, 11.9, 157.0, 147.0, 44.0, 43.0, 582.0, u'LONG BEACH /DAUGHERTY FIELD/', u'Long Beach Airport', u'Airport', u'AWP', u'LOS ANGELES', u'LONG BEACH', u'CA', u'Federalized/Commercial', 33.817754, -118.151733, u'Yes'),\n",
       " (378L, u'LGB', 2008L, 17722L, 17958L, 0.8261, 0.8062, 0.7886, 10.59, 14.45, 2.46, 11.97, 2.26, 1.72, 4.49, 12.59, 134.0, 135.0, 46.0, 89.0, 582.0, u'LONG BEACH /DAUGHERTY FIELD/', u'Long Beach Airport', u'Airport', u'AWP', u'LOS ANGELES', u'LONG BEACH', u'CA', u'Federalized/Commercial', 33.817754, -118.151733, u'Yes'),\n",
       " (379L, u'LGB', 2009L, 16686L, 16753L, 0.8676, 0.8544, 0.8367, 7.68, 13.56, 2.14, 8.72, 2.14, 1.19, 3.34, 9.05, 72.0, 69.0, 24.0, 47.0, 582.0, u'LONG BEACH /DAUGHERTY FIELD/', u'Long Beach Airport', u'Airport', u'AWP', u'LOS ANGELES', u'LONG BEACH', u'CA', u'Federalized/Commercial', 33.817754, -118.151733, u'Yes'),\n",
       " (380L, u'LGB', 2010L, 16764L, 16706L, 0.8193, 0.7895, 0.824, 10.85, 14.17, 2.88, 12.79, 2.36, 1.47, 3.11, 10.48, 129.0, 127.0, 23.0, 34.0, 582.0, u'LONG BEACH /DAUGHERTY FIELD/', u'Long Beach Airport', u'Airport', u'AWP', u'LOS ANGELES', u'LONG BEACH', u'CA', u'Federalized/Commercial', 33.817754, -118.151733, u'Yes'),\n",
       " (381L, u'LGB', 2011L, 16578L, 16559L, 0.8351, 0.8176, 0.8283, 10.04, 13.38, 2.23, 11.24, 2.73, 0.86, 2.69, 10.17, 99.0, 83.0, 17.0, 41.0, 582.0, u'LONG BEACH /DAUGHERTY FIELD/', u'Long Beach Airport', u'Airport', u'AWP', u'LOS ANGELES', u'LONG BEACH', u'CA', u'Federalized/Commercial', 33.817754, -118.151733, u'Yes'),\n",
       " (382L, u'LGB', 2012L, 15954L, 15899L, 0.8441, 0.8343, 0.8496, 9.72, 12.57, 1.81, 10.49, 2.26, 0.6, 2.22, 9.25, 84.0, 66.0, 9.0, 20.0, 582.0, u'LONG BEACH /DAUGHERTY FIELD/', u'Long Beach Airport', u'Airport', u'AWP', u'LOS ANGELES', u'LONG BEACH', u'CA', u'Federalized/Commercial', 33.817754, -118.151733, u'Yes'),\n",
       " (383L, u'LGB', 2013L, 14945L, 15163L, 0.8599, 0.8462, 0.8432, 8.51, 12.63, 2.03, 9.49, 2.19, 0.63, 2.37, 9.17, 98.0, 96.0, 18.0, 12.0, 582.0, u'LONG BEACH /DAUGHERTY FIELD/', u'Long Beach Airport', u'Airport', u'AWP', u'LOS ANGELES', u'LONG BEACH', u'CA', u'Federalized/Commercial', 33.817754, -118.151733, u'Yes'),\n",
       " (384L, u'LGB', 2014L, 14641L, 14736L, 0.8434, 0.8288, 0.832, 9.26, 12.5, 1.86, 10.14, 2.37, 0.63, 2.37, 9.71, 130.0, 123.0, 14.0, 29.0, 582.0, u'LONG BEACH /DAUGHERTY FIELD/', u'Long Beach Airport', u'Airport', u'AWP', u'LOS ANGELES', u'LONG BEACH', u'CA', u'Federalized/Commercial', 33.817754, -118.151733, u'Yes'),\n",
       " (385L, u'MCI', 2004L, 79314L, 79750L, 0.8214, 0.7974, 0.775, 10.05, 11.1, 2.74, 11.96, 3.05, 0.84, 3.13, 12.41, 670.0, 576.0, 121.0, 98.0, 1892.0, u'KANSAS CITY INTL', u\"Kansas City Int'l Airport\", u'Airport', u'ACE', u'PLATTE', u'KANSAS CITY', u'MO', u'Federalized/Commercial', 39.297605, -94.713906, u'Yes'),\n",
       " (386L, u'MCI', 2005L, 78603L, 79179L, 0.8126, 0.7882, 0.7634, 10.72, 11.06, 2.65, 12.64, 2.82, 0.99, 2.91, 13.16, 688.0, 602.0, 100.0, 137.0, 1892.0, u'KANSAS CITY INTL', u\"Kansas City Int'l Airport\", u'Airport', u'ACE', u'PLATTE', u'KANSAS CITY', u'MO', u'Federalized/Commercial', 39.297605, -94.713906, u'Yes'),\n",
       " (387L, u'MCI', 2006L, 80635L, 81982L, 0.7984, 0.7765, 0.7451, 11.99, 10.99, 2.34, 13.53, 2.72, 0.98, 3.43, 14.09, 544.0, 474.0, 122.0, 70.0, 1892.0, u'KANSAS CITY INTL', u\"Kansas City Int'l Airport\", u'Airport', u'ACE', u'PLATTE', u'KANSAS CITY', u'MO', u'Federalized/Commercial', 39.297605, -94.713906, u'Yes'),\n",
       " (388L, u'MCI', 2007L, 92612L, 92916L, 0.7823, 0.7447, 0.7376, 13.22, 11.97, 3.08, 15.54, 2.97, 1.31, 3.85, 15.03, 1147.0, 1006.0, 162.0, 151.0, 1892.0, u'KANSAS CITY INTL', u\"Kansas City Int'l Airport\", u'Airport', u'ACE', u'PLATTE', u'KANSAS CITY', u'MO', u'Federalized/Commercial', 39.297605, -94.713906, u'Yes'),\n",
       " (389L, u'MCI', 2008L, 83948L, 84279L, 0.7933, 0.7669, 0.7476, 12.93, 11.57, 2.44, 14.56, 2.69, 1.04, 3.62, 14.31, 841.0, 768.0, 158.0, 122.0, 1892.0, u'KANSAS CITY INTL', u\"Kansas City Int'l Airport\", u'Airport', u'ACE', u'PLATTE', u'KANSAS CITY', u'MO', u'Federalized/Commercial', 39.297605, -94.713906, u'Yes'),\n",
       " (390L, u'MCI', 2009L, 71385L, 71498L, 0.8298, 0.7994, 0.793, 10.61, 11.89, 2.8, 12.56, 2.76, 1.19, 2.98, 11.54, 538.0, 453.0, 102.0, 133.0, 1892.0, u'KANSAS CITY INTL', u\"Kansas City Int'l Airport\", u'Airport', u'ACE', u'PLATTE', u'KANSAS CITY', u'MO', u'Federalized/Commercial', 39.297605, -94.713906, u'Yes'),\n",
       " (391L, u'MCI', 2010L, 68953L, 69136L, 0.8147, 0.7874, 0.7975, 11.24, 11.46, 2.42, 12.81, 2.76, 1.06, 2.56, 11.46, 654.0, 605.0, 133.0, 186.0, 1892.0, u'KANSAS CITY INTL', u\"Kansas City Int'l Airport\", u'Airport', u'ACE', u'PLATTE', u'KANSAS CITY', u'MO', u'Federalized/Commercial', 39.297605, -94.713906, u'Yes'),\n",
       " (392L, u'MCI', 2011L, 68122L, 68087L, 0.7992, 0.7767, 0.7844, 12.58, 11.28, 2.21, 13.89, 2.56, 0.96, 2.6, 12.63, 818.0, 755.0, 120.0, 139.0, 1892.0, u'KANSAS CITY INTL', u\"Kansas City Int'l Airport\", u'Airport', u'ACE', u'PLATTE', u'KANSAS CITY', u'MO', u'Federalized/Commercial', 39.297605, -94.713906, u'Yes'),\n",
       " (393L, u'MCI', 2012L, 64377L, 64185L, 0.8309, 0.8145, 0.8101, 10.81, 10.89, 1.89, 11.82, 1.78, 0.89, 1.91, 11.22, 497.0, 434.0, 83.0, 103.0, 1892.0, u'KANSAS CITY INTL', u\"Kansas City Int'l Airport\", u'Airport', u'ACE', u'PLATTE', u'KANSAS CITY', u'MO', u'Federalized/Commercial', 39.297605, -94.713906, u'Yes'),\n",
       " (394L, u'MCI', 2013L, 62289L, 62112L, 0.795, 0.7622, 0.7621, 12.69, 11.61, 2.84, 14.59, 1.79, 1.07, 2.59, 14.05, 871.0, 771.0, 103.0, 83.0, 1892.0, u'KANSAS CITY INTL', u\"Kansas City Int'l Airport\", u'Airport', u'ACE', u'PLATTE', u'KANSAS CITY', u'MO', u'Federalized/Commercial', 39.297605, -94.713906, u'Yes'),\n",
       " (395L, u'MCI', 2014L, 61417L, 61249L, 0.7732, 0.7443, 0.7472, 14.14, 11.26, 2.36, 15.73, 2.17, 1.04, 2.72, 15.21, 824.0, 799.0, 129.0, 83.0, 1892.0, u'KANSAS CITY INTL', u\"Kansas City Int'l Airport\", u'Airport', u'ACE', u'PLATTE', u'KANSAS CITY', u'MO', u'Federalized/Commercial', 39.297605, -94.713906, u'Yes'),\n",
       " (396L, u'MCO', 2004L, 150156L, 150352L, 0.8138, 0.7698, 0.7847, 10.76, 13.83, 3.74, 13.62, 2.42, 1.45, 3.42, 11.94, 2240.0, 2190.0, 218.0, 139.0, 836.0, u'ORLANDO INTL', u\"Orlando Int'l Airport\", u'Airport', u'ASO', u'ORANGE', u'ORLANDO', u'FL', u'Federalized/Commercial', 28.429394, -81.308993, u'Yes'),\n",
       " (397L, u'MCO', 2005L, 166165L, 166776L, 0.7837, 0.7546, 0.7699, 12.54, 12.95, 2.85, 14.6, 2.74, 1.3, 3.57, 13.07, 856.0, 817.0, 281.0, 157.0, 836.0, u'ORLANDO INTL', u\"Orlando Int'l Airport\", u'Airport', u'ASO', u'ORANGE', u'ORLANDO', u'FL', u'Federalized/Commercial', 28.429394, -81.308993, u'Yes'),\n",
       " (398L, u'MCO', 2006L, 164499L, 164935L, 0.7929, 0.7546, 0.7902, 12.02, 13.03, 3.27, 14.49, 2.83, 1.52, 3.02, 11.99, 784.0, 721.0, 288.0, 171.0, 836.0, u'ORLANDO INTL', u\"Orlando Int'l Airport\", u'Airport', u'ASO', u'ORANGE', u'ORLANDO', u'FL', u'Federalized/Commercial', 28.429394, -81.308993, u'Yes'),\n",
       " (399L, u'MCO', 2007L, 170984L, 171358L, 0.776, 0.7269, 0.7575, 13.67, 13.65, 3.99, 16.74, 3.04, 1.81, 3.69, 14.19, 1153.0, 1087.0, 339.0, 177.0, 836.0, u'ORLANDO INTL', u\"Orlando Int'l Airport\", u'Airport', u'ASO', u'ORANGE', u'ORLANDO', u'FL', u'Federalized/Commercial', 28.429394, -81.308993, u'Yes'),\n",
       " (400L, u'MCO', 2008L, 159897L, 159942L, 0.7857, 0.7431, 0.7661, 13.44, 13.58, 3.67, 16.22, 1.61, 1.73, 4.01, 13.96, 1083.0, 1020.0, 397.0, 227.0, 836.0, u'ORLANDO INTL', u\"Orlando Int'l Airport\", u'Airport', u'ASO', u'ORANGE', u'ORLANDO', u'FL', u'Federalized/Commercial', 28.429394, -81.308993, u'Yes'),\n",
       " (401L, u'MCO', 2009L, 143712L, 142660L, 0.8077, 0.7739, 0.7967, 11.62, 12.9, 3.1, 13.81, 1.25, 1.9, 3.4, 11.79, 662.0, 625.0, 332.0, 201.0, 836.0, u'ORLANDO INTL', u\"Orlando Int'l Airport\", u'Airport', u'ASO', u'ORANGE', u'ORLANDO', u'FL', u'Federalized/Commercial', 28.429394, -81.308993, u'Yes'),\n",
       " (402L, u'MCO', 2010L, 146894L, 146304L, 0.7997, 0.758, 0.7947, 12.0, 13.05, 3.44, 14.52, 1.44, 2.15, 3.07, 11.88, 1167.0, 1125.0, 319.0, 174.0, 836.0, u'ORLANDO INTL', u\"Orlando Int'l Airport\", u'Airport', u'ASO', u'ORANGE', u'ORLANDO', u'FL', u'Federalized/Commercial', 28.429394, -81.308993, u'Yes'),\n",
       " (403L, u'MCO', 2011L, 148493L, 148527L, 0.806, 0.7627, 0.7927, 12.3, 13.45, 3.67, 14.98, 1.25, 2.27, 3.34, 12.36, 1224.0, 1178.0, 360.0, 235.0, 836.0, u'ORLANDO INTL', u\"Orlando Int'l Airport\", u'Airport', u'ASO', u'ORANGE', u'ORLANDO', u'FL', u'Federalized/Commercial', 28.429394, -81.308993, u'Yes'),\n",
       " (404L, u'MCO', 2012L, 144126L, 143983L, 0.8222, 0.7796, 0.8053, 11.15, 13.4, 3.58, 13.67, 1.37, 2.11, 2.96, 11.43, 767.0, 730.0, 253.0, 176.0, 836.0, u'ORLANDO INTL', u\"Orlando Int'l Airport\", u'Airport', u'ASO', u'ORANGE', u'ORLANDO', u'FL', u'Federalized/Commercial', 28.429394, -81.308993, u'Yes'),\n",
       " (405L, u'MCO', 2013L, 140125L, 139404L, 0.7822, 0.7416, 0.774, 13.52, 13.34, 3.29, 15.86, 1.44, 2.25, 3.49, 13.42, 611.0, 599.0, 301.0, 199.0, 836.0, u'ORLANDO INTL', u\"Orlando Int'l Airport\", u'Airport', u'ASO', u'ORANGE', u'ORLANDO', u'FL', u'Federalized/Commercial', 28.429394, -81.308993, u'Yes'),\n",
       " (406L, u'MCO', 2014L, 139833L, 139627L, 0.7548, 0.7096, 0.7571, 15.69, 13.81, 3.69, 18.46, 2.13, 2.16, 3.91, 15.16, 1249.0, 1251.0, 344.0, 311.0, 836.0, u'ORLANDO INTL', u\"Orlando Int'l Airport\", u'Airport', u'ASO', u'ORANGE', u'ORLANDO', u'FL', u'Federalized/Commercial', 28.429394, -81.308993, u'Yes'),\n",
       " (407L, u'MDW', 2004L, 136546L, 135948L, 0.7622, 0.6929, 0.7793, 12.15, 14.68, 4.98, 16.23, 5.06, 1.36, 3.58, 12.19, 1056.0, 1037.0, 130.0, 220.0, 1163.0, u'CHICAGO MIDWAY INTL', u\"Chicago Midway Int'l Airport\", u'Airport', u'AGL', u'COOK', u'CHICAGO', u'IL', u'Federalized/Commercial', 41.785972, -87.752417, u'Yes'),\n",
       " (408L, u'MDW', 2005L, 112579L, 111764L, 0.736, 0.7014, 0.7829, 13.25, 12.51, 3.47, 15.98, 4.62, 1.2, 2.72, 12.11, 1091.0, 1085.0, 127.0, 238.0, 1163.0, u'CHICAGO MIDWAY INTL', u\"Chicago Midway Int'l Airport\", u'Airport', u'AGL', u'COOK', u'CHICAGO', u'IL', u'Federalized/Commercial', 41.785972, -87.752417, u'Yes'),\n",
       " (409L, u'MDW', 2006L, 117357L, 116732L, 0.6915, 0.6492, 0.7464, 16.63, 11.99, 3.65, 19.65, 5.41, 1.27, 3.3, 14.54, 1122.0, 1145.0, 186.0, 423.0, 1163.0, u'CHICAGO MIDWAY INTL', u\"Chicago Midway Int'l Airport\", u'Airport', u'AGL', u'COOK', u'CHICAGO', u'IL', u'Federalized/Commercial', 41.785972, -87.752417, u'Yes'),\n",
       " (410L, u'MDW', 2007L, 120640L, 120302L, 0.6962, 0.6426, 0.746, 17.31, 11.68, 3.62, 20.36, 5.35, 1.5, 3.32, 14.87, 1368.0, 1287.0, 161.0, 403.0, 1163.0, u'CHICAGO MIDWAY INTL', u\"Chicago Midway Int'l Airport\", u'Airport', u'AGL', u'COOK', u'CHICAGO', u'IL', u'Federalized/Commercial', 41.785972, -87.752417, u'Yes'),\n",
       " (411L, u'MDW', 2008L, 106786L, 106657L, 0.7314, 0.6848, 0.7685, 15.7, 11.24, 3.35, 18.6, 3.94, 1.42, 2.81, 13.68, 1246.0, 1072.0, 191.0, 537.0, 1163.0, u'CHICAGO MIDWAY INTL', u\"Chicago Midway Int'l Airport\", u'Airport', u'AGL', u'COOK', u'CHICAGO', u'IL', u'Federalized/Commercial', 41.785972, -87.752417, u'Yes'),\n",
       " (412L, u'MDW', 2009L, 98079L, 98051L, 0.7383, 0.6853, 0.8051, 13.85, 11.42, 3.52, 16.78, 3.54, 1.24, 2.12, 10.64, 570.0, 582.0, 154.0, 308.0, 1163.0, u'CHICAGO MIDWAY INTL', u\"Chicago Midway Int'l Airport\", u'Airport', u'AGL', u'COOK', u'CHICAGO', u'IL', u'Federalized/Commercial', 41.785972, -87.752417, u'Yes'),\n",
       " (413L, u'MDW', 2010L, 96524L, 96752L, 0.6838, 0.6258, 0.7759, 16.13, 11.5, 3.54, 19.13, 3.75, 1.4, 2.31, 12.17, 1247.0, 1202.0, 201.0, 326.0, 1163.0, u'CHICAGO MIDWAY INTL', u\"Chicago Midway Int'l Airport\", u'Airport', u'AGL', u'COOK', u'CHICAGO', u'IL', u'Federalized/Commercial', 41.785972, -87.752417, u'Yes'),\n",
       " (414L, u'MDW', 2011L, 100892L, 101105L, 0.7121, 0.6652, 0.7941, 15.48, 11.04, 2.99, 17.94, 2.97, 1.29, 2.06, 11.71, 952.0, 1006.0, 204.0, 295.0, 1163.0, u'CHICAGO MIDWAY INTL', u\"Chicago Midway Int'l Airport\", u'Airport', u'AGL', u'COOK', u'CHICAGO', u'IL', u'Federalized/Commercial', 41.785972, -87.752417, u'Yes'),\n",
       " (415L, u'MDW', 2012L, 101517L, 101590L, 0.7349, 0.6928, 0.8093, 13.74, 10.54, 2.55, 15.8, 2.01, 1.56, 2.01, 10.34, 731.0, 754.0, 188.0, 229.0, 1163.0, u'CHICAGO MIDWAY INTL', u\"Chicago Midway Int'l Airport\", u'Airport', u'AGL', u'COOK', u'CHICAGO', u'IL', u'Federalized/Commercial', 41.785972, -87.752417, u'Yes'),\n",
       " (416L, u'MDW', 2013L, 101769L, 102887L, 0.6555, 0.5867, 0.7417, 17.63, 11.68, 3.86, 20.96, 2.28, 2.38, 3.25, 13.92, 724.0, 701.0, 160.0, 386.0, 1163.0, u'CHICAGO MIDWAY INTL', u\"Chicago Midway Int'l Airport\", u'Airport', u'AGL', u'COOK', u'CHICAGO', u'IL', u'Federalized/Commercial', 41.785972, -87.752417, u'Yes'),\n",
       " (417L, u'MDW', 2014L, 102373L, 102609L, 0.658, 0.5825, 0.7283, 19.25, 12.37, 4.25, 23.11, 3.79, 2.29, 3.88, 16.4, 2521.0, 2394.0, 189.0, 621.0, 1163.0, u'CHICAGO MIDWAY INTL', u\"Chicago Midway Int'l Airport\", u'Airport', u'AGL', u'COOK', u'CHICAGO', u'IL', u'Federalized/Commercial', 41.785972, -87.752417, u'Yes'),\n",
       " (418L, u'MEM', 2004L, 173254L, 169818L, 0.755, 0.6877, 0.7787, 12.21, 15.65, 4.33, 15.22, 3.95, 1.52, 4.69, 11.48, 749.0, 700.0, 87.0, 101.0, 3057.0, u'MEMPHIS INTL', u\"Memphis Int'l Airport\", u'Airport', u'ASO', u'SHELBY', u'MEMPHIS', u'TN', u'Federalized/Commercial', 35.042417, -89.976667, u'Yes'),\n",
       " (419L, u'MEM', 2005L, 176691L, 173030L, 0.7511, 0.677, 0.7797, 12.02, 16.06, 4.68, 15.3, 3.71, 1.96, 4.55, 11.3, 868.0, 859.0, 109.0, 72.0, 3057.0, u'MEMPHIS INTL', u\"Memphis Int'l Airport\", u'Airport', u'ASO', u'SHELBY', u'MEMPHIS', u'TN', u'Federalized/Commercial', 35.042417, -89.976667, u'Yes'),\n",
       " (420L, u'MEM', 2006L, 172206L, 169053L, 0.7544, 0.6609, 0.7492, 12.01, 17.43, 5.39, 16.09, 4.07, 1.93, 5.72, 13.0, 878.0, 863.0, 95.0, 55.0, 3057.0, u'MEMPHIS INTL', u\"Memphis Int'l Airport\", u'Airport', u'ASO', u'SHELBY', u'MEMPHIS', u'TN', u'Federalized/Commercial', 35.042417, -89.976667, u'Yes'),\n",
       " (421L, u'MEM', 2007L, 170568L, 166269L, 0.7396, 0.6421, 0.7554, 12.74, 18.08, 5.39, 17.15, 3.32, 1.82, 5.65, 13.43, 1583.0, 1799.0, 212.0, 191.0, 3057.0, u'MEMPHIS INTL', u\"Memphis Int'l Airport\", u'Airport', u'ASO', u'SHELBY', u'MEMPHIS', u'TN', u'Federalized/Commercial', 35.042417, -89.976667, u'Yes'),\n",
       " (422L, u'MEM', 2008L, 166979L, 163455L, 0.7602, 0.6777, 0.7887, 12.9, 17.72, 4.93, 17.01, 3.27, 1.97, 4.99, 12.12, 1516.0, 1732.0, 226.0, 271.0, 3057.0, u'MEMPHIS INTL', u\"Memphis Int'l Airport\", u'Airport', u'ASO', u'SHELBY', u'MEMPHIS', u'TN', u'Federalized/Commercial', 35.042417, -89.976667, u'Yes'),\n",
       " (423L, u'MEM', 2009L, 153914L, 153422L, 0.7825, 0.7, 0.8069, 10.94, 17.24, 4.61, 14.65, 3.03, 1.78, 4.52, 10.34, 918.0, 1094.0, 233.0, 154.0, 3057.0, u'MEMPHIS INTL', u\"Memphis Int'l Airport\", u'Airport', u'ASO', u'SHELBY', u'MEMPHIS', u'TN', u'Federalized/Commercial', 35.042417, -89.976667, u'Yes'),\n",
       " (424L, u'MEM', 2010L, 152842L, 151357L, 0.7585, 0.6867, 0.834, 12.76, 16.82, 4.36, 16.21, 2.36, 1.41, 3.03, 9.45, 1670.0, 1789.0, 197.0, 156.0, 3057.0, u'MEMPHIS INTL', u\"Memphis Int'l Airport\", u'Airport', u'ASO', u'SHELBY', u'MEMPHIS', u'TN', u'Federalized/Commercial', 35.042417, -89.976667, u'Yes'),\n",
       " (425L, u'MEM', 2011L, 139824L, 138518L, 0.6692, 0.6419, 0.8316, 17.04, 15.2, 2.14, 18.58, 2.18, 0.49, 2.44, 9.64, 1087.0, 1085.0, 111.0, 102.0, 3057.0, u'MEMPHIS INTL', u\"Memphis Int'l Airport\", u'Airport', u'ASO', u'SHELBY', u'MEMPHIS', u'TN', u'Federalized/Commercial', 35.042417, -89.976667, u'Yes'),\n",
       " (426L, u'MEM', 2012L, 118834L, 117676L, 0.6529, 0.6309, 0.8603, 15.89, 14.63, 1.73, 16.97, 1.87, 0.36, 1.78, 7.84, 428.0, 379.0, 76.0, 42.0, 3057.0, u'MEMPHIS INTL', u\"Memphis Int'l Airport\", u'Airport', u'ASO', u'SHELBY', u'MEMPHIS', u'TN', u'Federalized/Commercial', 35.042417, -89.976667, u'Yes'),\n",
       " (427L, u'MEM', 2013L, 100394L, 99057L, 0.6709, 0.6287, 0.8183, 16.35, 14.35, 2.43, 18.32, 1.97, 0.36, 2.4, 10.02, 661.0, 628.0, 74.0, 49.0, 3057.0, u'MEMPHIS INTL', u\"Memphis Int'l Airport\", u'Airport', u'ASO', u'SHELBY', u'MEMPHIS', u'TN', u'Federalized/Commercial', 35.042417, -89.976667, u'Yes'),\n",
       " (428L, u'MEM', 2014L, 91359L, 90576L, 0.5771, 0.5497, 0.7724, 19.86, 13.38, 1.36, 21.1, 2.45, 0.28, 3.12, 12.29, 445.0, 378.0, 53.0, 38.0, 3057.0, u'MEMPHIS INTL', u\"Memphis Int'l Airport\", u'Airport', u'ASO', u'SHELBY', u'MEMPHIS', u'TN', u'Federalized/Commercial', 35.042417, -89.976667, u'Yes'),\n",
       " (429L, u'MHT', 2004L, 10165L, 10188L, 0.7684, 0.7253, 0.7474, 13.75, 13.4, 3.81, 16.44, 2.4, 0.66, 2.81, 13.24, 340.0, 314.0, 61.0, 49.0, 2308.0, u'MANCHESTER', u'Manchester-Boston Regional Airport', u'Airport', u'ANE', u'HILLSBOROUGH', u'MANCHESTER', u'NH', u'Federalized/Commercial', 42.932806, -71.43575, u'Yes'),\n",
       " (430L, u'MHT', 2005L, 37653L, 37773L, 0.7626, 0.7278, 0.731, 15.17, 12.53, 3.26, 17.5, 2.53, 0.93, 2.99, 14.73, 534.0, 480.0, 50.0, 55.0, 2308.0, u'MANCHESTER', u'Manchester-Boston Regional Airport', u'Airport', u'ANE', u'HILLSBOROUGH', u'MANCHESTER', u'NH', u'Federalized/Commercial', 42.932806, -71.43575, u'Yes'),\n",
       " (431L, u'MHT', 2006L, 33142L, 33296L, 0.7221, 0.6897, 0.6964, 18.22, 12.48, 2.97, 20.37, 2.62, 0.85, 3.21, 16.93, 263.0, 252.0, 76.0, 27.0, 2308.0, u'MANCHESTER', u'Manchester-Boston Regional Airport', u'Airport', u'ANE', u'HILLSBOROUGH', u'MANCHESTER', u'NH', u'Federalized/Commercial', 42.932806, -71.43575, u'Yes'),\n",
       " (432L, u'MHT', 2007L, 33516L, 33343L, 0.7169, 0.677, 0.6758, 19.39, 12.94, 3.32, 21.9, 3.0, 0.88, 3.48, 18.28, 444.0, 426.0, 67.0, 14.0, 2308.0, u'MANCHESTER', u'Manchester-Boston Regional Airport', u'Airport', u'ANE', u'HILLSBOROUGH', u'MANCHESTER', u'NH', u'Federalized/Commercial', 42.932806, -71.43575, u'Yes'),\n",
       " (433L, u'MHT', 2008L, 30669L, 30628L, 0.7387, 0.7047, 0.7305, 17.21, 12.53, 2.75, 19.37, 2.4, 0.74, 2.97, 15.34, 298.0, 295.0, 63.0, 24.0, 2308.0, u'MANCHESTER', u'Manchester-Boston Regional Airport', u'Airport', u'ANE', u'HILLSBOROUGH', u'MANCHESTER', u'NH', u'Federalized/Commercial', 42.932806, -71.43575, u'Yes'),\n",
       " (434L, u'MHT', 2009L, 26259L, 26296L, 0.7413, 0.7193, 0.7618, 16.6, 11.58, 2.03, 18.03, 2.16, 0.67, 2.49, 13.31, 170.0, 158.0, 27.0, 17.0, 2308.0, u'MANCHESTER', u'Manchester-Boston Regional Airport', u'Airport', u'ANE', u'HILLSBOROUGH', u'MANCHESTER', u'NH', u'Federalized/Commercial', 42.932806, -71.43575, u'Yes'),\n",
       " (435L, u'MHT', 2010L, 25289L, 25343L, 0.7355, 0.7042, 0.7433, 16.39, 11.44, 2.33, 17.94, 2.03, 0.6, 2.35, 13.96, 235.0, 233.0, 42.0, 17.0, 2308.0, u'MANCHESTER', u'Manchester-Boston Regional Airport', u'Airport', u'ANE', u'HILLSBOROUGH', u'MANCHESTER', u'NH', u'Federalized/Commercial', 42.932806, -71.43575, u'Yes'),\n",
       " (436L, u'MHT', 2011L, 24368L, 24377L, 0.7113, 0.6867, 0.7609, 18.14, 11.14, 2.03, 19.56, 1.66, 0.54, 1.86, 13.91, 302.0, 289.0, 29.0, 10.0, 2308.0, u'MANCHESTER', u'Manchester-Boston Regional Airport', u'Airport', u'ANE', u'HILLSBOROUGH', u'MANCHESTER', u'NH', u'Federalized/Commercial', 42.932806, -71.43575, u'Yes'),\n",
       " (437L, u'MHT', 2012L, 21608L, 21521L, 0.6989, 0.6704, 0.7522, 18.47, 11.22, 2.17, 20.06, 1.4, 0.7, 1.64, 13.98, 121.0, 118.0, 26.0, 6.0, 2308.0, u'MANCHESTER', u'Manchester-Boston Regional Airport', u'Airport', u'ANE', u'HILLSBOROUGH', u'MANCHESTER', u'NH', u'Federalized/Commercial', 42.932806, -71.43575, u'Yes'),\n",
       " (438L, u'MHT', 2013L, 20830L, 20713L, 0.684, 0.6301, 0.7013, 18.83, 12.53, 3.55, 21.88, 1.34, 0.74, 2.15, 16.31, 183.0, 188.0, 32.0, 8.0, 2308.0, u'MANCHESTER', u'Manchester-Boston Regional Airport', u'Airport', u'ANE', u'HILLSBOROUGH', u'MANCHESTER', u'NH', u'Federalized/Commercial', 42.932806, -71.43575, u'Yes'),\n",
       " (439L, u'MHT', 2014L, 18635L, 18571L, 0.6649, 0.637, 0.701, 20.87, 11.18, 2.03, 22.62, 1.38, 0.48, 1.99, 16.6, 193.0, 185.0, 32.0, 7.0, 2308.0, u'MANCHESTER', u'Manchester-Boston Regional Airport', u'Airport', u'ANE', u'HILLSBOROUGH', u'MANCHESTER', u'NH', u'Federalized/Commercial', 42.932806, -71.43575, u'Yes'),\n",
       " (440L, u'MIA', 2004L, 154709L, 144138L, 0.7605, 0.7282, 0.7661, 15.18, 16.39, 3.01, 17.01, 2.14, 2.28, 3.83, 14.57, 1215.0, 1163.0, 128.0, 108.0, 825.0, u'MIAMI INTL', u\"Miami Int'l Airport\", u'Airport', u'ASO', u'DADE', u'MIAMI', u'FL', u'Federalized/Commercial', 25.795361, -80.290111, u'Yes'),\n",
       " (441L, u'MIA', 2005L, 153661L, 143341L, 0.722, 0.68, 0.7242, 18.06, 15.95, 3.59, 20.6, 2.53, 2.74, 4.46, 16.64, 1483.0, 1448.0, 188.0, 164.0, 825.0, u'MIAMI INTL', u\"Miami Int'l Airport\", u'Airport', u'ASO', u'DADE', u'MIAMI', u'FL', u'Federalized/Commercial', 25.795361, -80.290111, u'Yes'),\n",
       " (442L, u'MIA', 2006L, 155326L, 149223L, 0.7484, 0.7075, 0.7422, 16.66, 15.92, 3.44, 19.22, 2.22, 2.37, 3.89, 16.12, 748.0, 751.0, 175.0, 151.0, 825.0, u'MIAMI INTL', u\"Miami Int'l Airport\", u'Airport', u'ASO', u'DADE', u'MIAMI', u'FL', u'Federalized/Commercial', 25.795361, -80.290111, u'Yes'),\n",
       " (443L, u'MIA', 2007L, 153621L, 149731L, 0.7052, 0.6584, 0.6889, 19.39, 15.76, 3.49, 22.27, 1.94, 2.53, 4.21, 19.91, 844.0, 849.0, 185.0, 120.0, 825.0, u'MIAMI INTL', u\"Miami Int'l Airport\", u'Airport', u'ASO', u'DADE', u'MIAMI', u'FL', u'Federalized/Commercial', 25.795361, -80.290111, u'Yes'),\n",
       " (444L, u'MIA', 2008L, 148383L, 140270L, 0.7026, 0.6571, 0.6766, 20.11, 16.0, 3.37, 23.01, 2.9, 2.86, 5.23, 20.97, 787.0, 795.0, 176.0, 131.0, 825.0, u'MIAMI INTL', u\"Miami Int'l Airport\", u'Airport', u'ASO', u'DADE', u'MIAMI', u'FL', u'Federalized/Commercial', 25.795361, -80.290111, u'Yes'),\n",
       " (445L, u'MIA', 2009L, 145748L, 134669L, 0.7137, 0.6763, 0.7213, 18.89, 15.7, 3.03, 21.25, 3.05, 2.87, 4.73, 17.31, 572.0, 570.0, 221.0, 185.0, 825.0, u'MIAMI INTL', u\"Miami Int'l Airport\", u'Airport', u'ASO', u'DADE', u'MIAMI', u'FL', u'Federalized/Commercial', 25.795361, -80.290111, u'Yes'),\n",
       " (446L, u'MIA', 2010L, 155714L, 145274L, 0.7268, 0.6765, 0.7521, 18.32, 16.13, 3.54, 21.14, 2.86, 2.85, 3.86, 15.25, 1079.0, 1079.0, 233.0, 177.0, 825.0, u'MIAMI INTL', u\"Miami Int'l Airport\", u'Airport', u'ASO', u'DADE', u'MIAMI', u'FL', u'Federalized/Commercial', 25.795361, -80.290111, u'Yes'),\n",
       " (447L, u'MIA', 2011L, 164184L, 155362L, 0.735, 0.6871, 0.7666, 17.8, 16.2, 3.43, 20.51, 2.59, 2.25, 3.43, 14.36, 1458.0, 1522.0, 372.0, 278.0, 825.0, u'MIAMI INTL', u\"Miami Int'l Airport\", u'Airport', u'ASO', u'DADE', u'MIAMI', u'FL', u'Federalized/Commercial', 25.795361, -80.290111, u'Yes'),\n",
       " (448L, u'MIA', 2012L, 162815L, 157000L, 0.7445, 0.6962, 0.7651, 16.92, 16.25, 3.5, 19.61, 2.21, 2.56, 3.31, 14.94, 921.0, 960.0, 247.0, 237.0, 825.0, u'MIAMI INTL', u\"Miami Int'l Airport\", u'Airport', u'ASO', u'DADE', u'MIAMI', u'FL', u'Federalized/Commercial', 25.795361, -80.290111, u'Yes'),\n",
       " (449L, u'MIA', 2013L, 166455L, 159690L, 0.7684, 0.7153, 0.7821, 14.58, 16.41, 3.68, 17.44, 2.17, 2.35, 3.2, 14.02, 564.0, 596.0, 270.0, 203.0, 825.0, u'MIAMI INTL', u\"Miami Int'l Airport\", u'Airport', u'ASO', u'DADE', u'MIAMI', u'FL', u'Federalized/Commercial', 25.795361, -80.290111, u'Yes'),\n",
       " (450L, u'MIA', 2014L, 168629L, 164346L, 0.7783, 0.7172, 0.7825, 14.23, 17.11, 4.28, 17.44, 2.8, 2.4, 3.81, 14.61, 835.0, 948.0, 283.0, 337.0, 825.0, u'MIAMI INTL', u\"Miami Int'l Airport\", u'Airport', u'ASO', u'DADE', u'MIAMI', u'FL', u'Federalized/Commercial', 25.795361, -80.290111, u'Yes'),\n",
       " (451L, u'MKE', 2004L, 23109L, 23138L, 0.7742, 0.753, 0.7335, 11.78, 12.47, 2.42, 12.79, 2.6, 0.52, 3.43, 13.62, 406.0, 369.0, 46.0, 22.0, 3575.0, u'GENERAL MITCHELL INTL', u\"Gen Mitchell Int'l Airport\", u'Airport', u'AGL', u'MILWAUKEE', u'MILWAUKEE', u'WI', u'Federalized/Commercial', 42.946931, -87.897068, u'Yes'),\n",
       " (452L, u'MKE', 2005L, 94493L, 94132L, 0.7396, 0.6994, 0.7319, 14.01, 13.12, 3.24, 16.05, 2.01, 0.91, 3.2, 14.36, 416.0, 371.0, 57.0, 22.0, 3575.0, u'GENERAL MITCHELL INTL', u\"Gen Mitchell Int'l Airport\", u'Airport', u'AGL', u'MILWAUKEE', u'MILWAUKEE', u'WI', u'Federalized/Commercial', 42.946931, -87.897068, u'Yes'),\n",
       " (453L, u'MKE', 2006L, 87040L, 86797L, 0.7625, 0.7353, 0.7278, 13.46, 13.1, 2.3, 15.02, 1.75, 0.92, 3.78, 14.85, 477.0, 446.0, 68.0, 41.0, 3575.0, u'GENERAL MITCHELL INTL', u\"Gen Mitchell Int'l Airport\", u'Airport', u'AGL', u'MILWAUKEE', u'MILWAUKEE', u'WI', u'Federalized/Commercial', 42.946931, -87.897068, u'Yes'),\n",
       " (454L, u'MKE', 2007L, 86640L, 86703L, 0.7183, 0.6728, 0.6779, 16.08, 13.78, 2.99, 18.64, 1.98, 0.96, 4.75, 17.83, 808.0, 790.0, 83.0, 80.0, 3575.0, u'GENERAL MITCHELL INTL', u\"Gen Mitchell Int'l Airport\", u'Airport', u'AGL', u'MILWAUKEE', u'MILWAUKEE', u'WI', u'Federalized/Commercial', 42.946931, -87.897068, u'Yes'),\n",
       " (455L, u'MKE', 2008L, 80819L, 80349L, 0.7409, 0.7014, 0.724, 16.13, 14.25, 3.31, 18.64, 3.27, 0.97, 4.28, 16.45, 1200.0, 1162.0, 96.0, 137.0, 3575.0, u'GENERAL MITCHELL INTL', u\"Gen Mitchell Int'l Airport\", u'Airport', u'AGL', u'MILWAUKEE', u'MILWAUKEE', u'WI', u'Federalized/Commercial', 42.946931, -87.897068, u'Yes'),\n",
       " (456L, u'MKE', 2009L, 74866L, 74974L, 0.7979, 0.7646, 0.7996, 12.27, 13.3, 2.71, 14.26, 3.56, 0.84, 3.13, 11.34, 658.0, 670.0, 94.0, 92.0, 3575.0, u'GENERAL MITCHELL INTL', u\"Gen Mitchell Int'l Airport\", u'Airport', u'AGL', u'MILWAUKEE', u'MILWAUKEE', u'WI', u'Federalized/Commercial', 42.946931, -87.897068, u'Yes'),\n",
       " (457L, u'MKE', 2010L, 85455L, 85584L, 0.7871, 0.7547, 0.7901, 12.58, 12.59, 2.44, 14.32, 4.39, 1.01, 3.37, 11.85, 708.0, 683.0, 98.0, 134.0, 3575.0, u'GENERAL MITCHELL INTL', u\"Gen Mitchell Int'l Airport\", u'Airport', u'AGL', u'MILWAUKEE', u'MILWAUKEE', u'WI', u'Federalized/Commercial', 42.946931, -87.897068, u'Yes'),\n",
       " (458L, u'MKE', 2011L, 76548L, 76746L, 0.7831, 0.7428, 0.7791, 13.37, 12.75, 2.8, 15.63, 4.01, 0.93, 3.39, 12.86, 770.0, 758.0, 104.0, 72.0, 3575.0, u'GENERAL MITCHELL INTL', u\"Gen Mitchell Int'l Airport\", u'Airport', u'AGL', u'MILWAUKEE', u'MILWAUKEE', u'WI', u'Federalized/Commercial', 42.946931, -87.897068, u'Yes'),\n",
       " (459L, u'MKE', 2012L, 56232L, 56653L, 0.7984, 0.7681, 0.7932, 12.32, 12.1, 2.36, 14.02, 2.74, 1.07, 2.59, 11.51, 419.0, 372.0, 65.0, 96.0, 3575.0, u'GENERAL MITCHELL INTL', u\"Gen Mitchell Int'l Airport\", u'Airport', u'AGL', u'MILWAUKEE', u'MILWAUKEE', u'WI', u'Federalized/Commercial', 42.946931, -87.897068, u'Yes'),\n",
       " (460L, u'MKE', 2013L, 50040L, 50304L, 0.7491, 0.7026, 0.7387, 15.46, 12.86, 3.24, 17.98, 2.76, 1.32, 3.17, 14.8, 546.0, 484.0, 71.0, 63.0, 3575.0, u'GENERAL MITCHELL INTL', u\"Gen Mitchell Int'l Airport\", u'Airport', u'AGL', u'MILWAUKEE', u'MILWAUKEE', u'WI', u'Federalized/Commercial', 42.946931, -87.897068, u'Yes'),\n",
       " (461L, u'MKE', 2014L, 47897L, 47869L, 0.7361, 0.6938, 0.7126, 17.13, 12.79, 3.02, 19.41, 3.16, 1.17, 3.57, 16.65, 952.0, 860.0, 72.0, 59.0, 3575.0, u'GENERAL MITCHELL INTL', u\"Gen Mitchell Int'l Airport\", u'Airport', u'AGL', u'MILWAUKEE', u'MILWAUKEE', u'WI', u'Federalized/Commercial', 42.946931, -87.897068, u'Yes'),\n",
       " (462L, u'MSP', 2004L, 254994L, 253293L, 0.8041, 0.6918, 0.8128, 10.25, 17.44, 6.67, 15.33, 5.34, 1.4, 3.99, 10.28, 1912.0, 1972.0, 307.0, 304.0, 1791.0, u'MINNEAPOLIS-ST PAUL INTL/WOLD-CHAMBERLAIN', u\"Minneapolis/St Paul Int'l Airport\", u'Airport', u'AGL', u'HENNEPIN', u'MINNEAPOLIS', u'MN', u'Federalized/Commercial', 44.881972, -93.221778, u'Yes'),\n",
       " (463L, u'MSP', 2005L, 250633L, 249613L, 0.7559, 0.6256, 0.7905, 13.01, 18.31, 7.27, 18.97, 5.03, 1.97, 3.64, 11.89, 1785.0, 1935.0, 329.0, 358.0, 1791.0, u'MINNEAPOLIS-ST PAUL INTL/WOLD-CHAMBERLAIN', u\"Minneapolis/St Paul Int'l Airport\", u'Airport', u'AGL', u'HENNEPIN', u'MINNEAPOLIS', u'MN', u'Federalized/Commercial', 44.881972, -93.221778, u'Yes'),\n",
       " (464L, u'MSP', 2006L, 222831L, 223060L, 0.8, 0.7204, 0.8074, 10.9, 16.83, 5.12, 14.83, 3.66, 2.16, 3.36, 11.05, 1238.0, 1380.0, 286.0, 277.0, 1791.0, u'MINNEAPOLIS-ST PAUL INTL/WOLD-CHAMBERLAIN', u\"Minneapolis/St Paul Int'l Airport\", u'Airport', u'AGL', u'HENNEPIN', u'MINNEAPOLIS', u'MN', u'Federalized/Commercial', 44.881972, -93.221778, u'Yes'),\n",
       " (465L, u'MSP', 2007L, 214837L, 213716L, 0.7719, 0.6415, 0.7327, 13.0, 19.31, 7.27, 19.32, 4.42, 3.49, 5.49, 16.2, 3536.0, 3792.0, 344.0, 466.0, 1791.0, u'MINNEAPOLIS-ST PAUL INTL/WOLD-CHAMBERLAIN', u\"Minneapolis/St Paul Int'l Airport\", u'Airport', u'AGL', u'HENNEPIN', u'MINNEAPOLIS', u'MN', u'Federalized/Commercial', 44.881972, -93.221778, u'Yes'),\n",
       " (466L, u'MSP', 2008L, 213811L, 212956L, 0.8013, 0.7249, 0.7952, 11.11, 17.93, 4.83, 14.97, 4.36, 2.02, 3.96, 12.48, 1729.0, 1988.0, 321.0, 318.0, 1791.0, u'MINNEAPOLIS-ST PAUL INTL/WOLD-CHAMBERLAIN', u\"Minneapolis/St Paul Int'l Airport\", u'Airport', u'AGL', u'HENNEPIN', u'MINNEAPOLIS', u'MN', u'Federalized/Commercial', 44.881972, -93.221778, u'Yes'),\n",
       " (467L, u'MSP', 2009L, 207765L, 207199L, 0.8252, 0.7454, 0.8063, 9.81, 17.59, 4.7, 13.71, 4.29, 2.24, 3.73, 11.8, 1450.0, 1694.0, 316.0, 235.0, 1791.0, u'MINNEAPOLIS-ST PAUL INTL/WOLD-CHAMBERLAIN', u\"Minneapolis/St Paul Int'l Airport\", u'Airport', u'AGL', u'HENNEPIN', u'MINNEAPOLIS', u'MN', u'Federalized/Commercial', 44.881972, -93.221778, u'Yes'),\n",
       " (468L, u'MSP', 2010L, 208609L, 207351L, 0.8012, 0.7309, 0.7997, 11.44, 17.27, 4.3, 14.97, 4.06, 2.37, 3.23, 11.85, 2171.0, 2467.0, 299.0, 257.0, 1791.0, u'MINNEAPOLIS-ST PAUL INTL/WOLD-CHAMBERLAIN', u\"Minneapolis/St Paul Int'l Airport\", u'Airport', u'AGL', u'HENNEPIN', u'MINNEAPOLIS', u'MN', u'Federalized/Commercial', 44.881972, -93.221778, u'Yes'),\n",
       " (469L, u'MSP', 2011L, 207583L, 207577L, 0.8267, 0.7688, 0.8255, 10.31, 16.51, 3.72, 13.26, 4.1, 1.45, 2.61, 10.67, 1472.0, 1614.0, 214.0, 157.0, 1791.0, u'MINNEAPOLIS-ST PAUL INTL/WOLD-CHAMBERLAIN', u\"Minneapolis/St Paul Int'l Airport\", u'Airport', u'AGL', u'HENNEPIN', u'MINNEAPOLIS', u'MN', u'Federalized/Commercial', 44.881972, -93.221778, u'Yes'),\n",
       " (470L, u'MSP', 2012L, 203576L, 203737L, 0.8493, 0.8022, 0.855, 8.95, 16.09, 3.46, 11.47, 3.61, 1.18, 2.16, 8.77, 751.0, 868.0, 197.0, 169.0, 1791.0, u'MINNEAPOLIS-ST PAUL INTL/WOLD-CHAMBERLAIN', u\"Minneapolis/St Paul Int'l Airport\", u'Airport', u'AGL', u'HENNEPIN', u'MINNEAPOLIS', u'MN', u'Federalized/Commercial', 44.881972, -93.221778, u'Yes'),\n",
       " (471L, u'MSP', 2013L, 206304L, 206694L, 0.8312, 0.7433, 0.8226, 10.24, 17.8, 5.62, 14.69, 3.69, 1.15, 2.9, 11.23, 1620.0, 1875.0, 295.0, 187.0, 1791.0, u'MINNEAPOLIS-ST PAUL INTL/WOLD-CHAMBERLAIN', u\"Minneapolis/St Paul Int'l Airport\", u'Airport', u'AGL', u'HENNEPIN', u'MINNEAPOLIS', u'MN', u'Federalized/Commercial', 44.881972, -93.221778, u'Yes'),\n",
       " (472L, u'MSP', 2014L, 197864L, 198012L, 0.7892, 0.7255, 0.8037, 12.33, 16.36, 3.74, 15.46, 3.7, 0.9, 2.95, 12.25, 1356.0, 1423.0, 281.0, 172.0, 1791.0, u'MINNEAPOLIS-ST PAUL INTL/WOLD-CHAMBERLAIN', u\"Minneapolis/St Paul Int'l Airport\", u'Airport', u'AGL', u'HENNEPIN', u'MINNEAPOLIS', u'MN', u'Federalized/Commercial', 44.881972, -93.221778, u'Yes'),\n",
       " (473L, u'MSY', 2004L, 63061L, 63323L, 0.8166, 0.8019, 0.7721, 10.41, 10.01, 2.14, 11.77, 2.34, 0.82, 3.05, 12.09, 755.0, 659.0, 136.0, 155.0, 1501.0, u'LOUIS ARMSTRONG NEW ORLEANS INTL', u\"New Orleans Int'l Airport\", u'Airport', u'ASW', u'JEFFERSON', u'NEW ORLEANS', u'LA', u'Public Use', 29.993389, -90.258028, u'Yes'),\n",
       " (474L, u'MSY', 2005L, 46978L, 47441L, 0.7815, 0.7617, 0.7424, 12.41, 10.28, 2.58, 14.15, 2.73, 1.35, 3.38, 13.94, 1714.0, 1557.0, 97.0, 256.0, 1501.0, u'LOUIS ARMSTRONG NEW ORLEANS INTL', u\"New Orleans Int'l Airport\", u'Airport', u'ASW', u'JEFFERSON', u'NEW ORLEANS', u'LA', u'Public Use', 29.993389, -90.258028, u'Yes'),\n",
       " (475L, u'MSY', 2006L, 39738L, 39639L, 0.7809, 0.7574, 0.7497, 12.68, 10.55, 2.46, 14.36, 2.05, 0.8, 3.19, 13.59, 275.0, 245.0, 74.0, 42.0, 1501.0, u'LOUIS ARMSTRONG NEW ORLEANS INTL', u\"New Orleans Int'l Airport\", u'Airport', u'ASW', u'JEFFERSON', u'NEW ORLEANS', u'LA', u'Public Use', 29.993389, -90.258028, u'Yes'),\n",
       " (476L, u'MSY', 2007L, 46656L, 46787L, 0.7853, 0.7538, 0.7343, 13.05, 10.83, 2.73, 15.01, 2.2, 1.06, 3.44, 14.9, 380.0, 342.0, 77.0, 43.0, 1501.0, u'LOUIS ARMSTRONG NEW ORLEANS INTL', u\"New Orleans Int'l Airport\", u'Airport', u'ASW', u'JEFFERSON', u'NEW ORLEANS', u'LA', u'Public Use', 29.993389, -90.258028, u'Yes'),\n",
       " (477L, u'MSY', 2008L, 49916L, 49920L, 0.7991, 0.7735, 0.7627, 12.23, 10.57, 2.38, 13.86, 2.08, 0.96, 3.22, 13.35, 814.0, 772.0, 98.0, 61.0, 1501.0, u'LOUIS ARMSTRONG NEW ORLEANS INTL', u\"New Orleans Int'l Airport\", u'Airport', u'ASW', u'JEFFERSON', u'NEW ORLEANS', u'LA', u'Public Use', 29.993389, -90.258028, u'Yes'),\n",
       " (478L, u'MSY', 2009L, 45682L, 45770L, 0.8332, 0.8067, 0.7907, 10.13, 10.69, 2.37, 11.7, 1.99, 1.14, 2.87, 11.45, 204.0, 178.0, 85.0, 53.0, 1501.0, u'LOUIS ARMSTRONG NEW ORLEANS INTL', u\"New Orleans Int'l Airport\", u'Airport', u'ASW', u'JEFFERSON', u'NEW ORLEANS', u'LA', u'Public Use', 29.993389, -90.258028, u'Yes'),\n",
       " (479L, u'MSY', 2010L, 46923L, 47188L, 0.8169, 0.7898, 0.7903, 10.66, 10.73, 2.28, 12.18, 2.01, 1.28, 2.6, 11.27, 401.0, 356.0, 78.0, 68.0, 1501.0, u'LOUIS ARMSTRONG NEW ORLEANS INTL', u\"New Orleans Int'l Airport\", u'Airport', u'ASW', u'JEFFERSON', u'NEW ORLEANS', u'LA', u'Public Use', 29.993389, -90.258028, u'Yes'),\n",
       " (480L, u'MSY', 2011L, 48593L, 48753L, 0.8221, 0.8, 0.7925, 10.53, 10.57, 2.1, 11.85, 1.96, 1.17, 2.51, 11.31, 406.0, 358.0, 91.0, 46.0, 1501.0, u'LOUIS ARMSTRONG NEW ORLEANS INTL', u\"New Orleans Int'l Airport\", u'Airport', u'ASW', u'JEFFERSON', u'NEW ORLEANS', u'LA', u'Public Use', 29.993389, -90.258028, u'Yes'),\n",
       " (481L, u'MSY', 2012L, 47684L, 47777L, 0.8259, 0.8059, 0.7955, 10.37, 10.42, 2.02, 11.61, 1.67, 1.2, 2.37, 10.98, 568.0, 518.0, 55.0, 78.0, 1501.0, u'LOUIS ARMSTRONG NEW ORLEANS INTL', u\"New Orleans Int'l Airport\", u'Airport', u'ASW', u'JEFFERSON', u'NEW ORLEANS', u'LA', u'Public Use', 29.993389, -90.258028, u'Yes'),\n",
       " (482L, u'MSY', 2013L, 52334L, 52915L, 0.7943, 0.7732, 0.7647, 11.84, 10.42, 2.13, 13.12, 1.72, 1.18, 2.69, 13.0, 328.0, 297.0, 87.0, 69.0, 1501.0, u'LOUIS ARMSTRONG NEW ORLEANS INTL', u\"New Orleans Int'l Airport\", u'Airport', u'ASW', u'JEFFERSON', u'NEW ORLEANS', u'LA', u'Public Use', 29.993389, -90.258028, u'Yes'),\n",
       " (483L, u'MSY', 2014L, 53045L, 53084L, 0.7739, 0.751, 0.7516, 13.57, 10.56, 2.11, 14.87, 1.95, 1.16, 2.74, 14.28, 595.0, 530.0, 85.0, 102.0, 1501.0, u'LOUIS ARMSTRONG NEW ORLEANS INTL', u\"New Orleans Int'l Airport\", u'Airport', u'ASW', u'JEFFERSON', u'NEW ORLEANS', u'LA', u'Public Use', 29.993389, -90.258028, u'Yes'),\n",
       " (484L, u'OAK', 2004L, 96255L, 96429L, 0.7932, 0.769, 0.7908, 10.21, 10.58, 2.48, 12.21, 3.78, 0.91, 2.62, 10.76, 689.0, 655.0, 112.0, 69.0, 596.0, u'METROPOLITAN OAKLAND INTL', u\"Oakland Int'l Airport\", u'Airport', u'AWP', u'ALAMEDA', u'OAKLAND', u'CA', u'Federalized/Commercial', 37.721306, -122.220722, u'Yes'),\n",
       " (485L, u'OAK', 2005L, 96605L, 96399L, 0.781, 0.7551, 0.7752, 10.44, 10.86, 2.69, 12.35, 3.91, 1.03, 2.79, 11.19, 610.0, 634.0, 119.0, 74.0, 596.0, u'METROPOLITAN OAKLAND INTL', u\"Oakland Int'l Airport\", u'Airport', u'AWP', u'ALAMEDA', u'OAKLAND', u'CA', u'Federalized/Commercial', 37.721306, -122.220722, u'Yes'),\n",
       " (486L, u'OAK', 2006L, 98253L, 98229L, 0.7824, 0.7546, 0.7723, 10.69, 11.0, 2.5, 12.36, 3.58, 1.17, 3.08, 11.41, 918.0, 952.0, 115.0, 148.0, 596.0, u'METROPOLITAN OAKLAND INTL', u\"Oakland Int'l Airport\", u'Airport', u'AWP', u'ALAMEDA', u'OAKLAND', u'CA', u'Federalized/Commercial', 37.721306, -122.220722, u'Yes'),\n",
       " (487L, u'OAK', 2007L, 100168L, 99687L, 0.7917, 0.7525, 0.7822, 10.58, 11.14, 2.64, 12.55, 3.41, 1.58, 2.83, 11.36, 962.0, 962.0, 105.0, 61.0, 596.0, u'METROPOLITAN OAKLAND INTL', u\"Oakland Int'l Airport\", u'Airport', u'AWP', u'ALAMEDA', u'OAKLAND', u'CA', u'Federalized/Commercial', 37.721306, -122.220722, u'Yes'),\n",
       " (488L, u'OAK', 2008L, 87634L, 86950L, 0.8011, 0.7798, 0.785, 10.36, 10.22, 1.97, 11.63, 2.55, 0.89, 2.36, 11.24, 964.0, 979.0, 111.0, 73.0, 596.0, u'METROPOLITAN OAKLAND INTL', u\"Oakland Int'l Airport\", u'Airport', u'AWP', u'ALAMEDA', u'OAKLAND', u'CA', u'Federalized/Commercial', 37.721306, -122.220722, u'Yes'),\n",
       " (489L, u'OAK', 2009L, 69111L, 68371L, 0.8181, 0.8067, 0.8246, 9.29, 9.27, 1.45, 10.16, 2.07, 0.72, 1.58, 8.55, 599.0, 588.0, 55.0, 37.0, 596.0, u'METROPOLITAN OAKLAND INTL', u\"Oakland Int'l Airport\", u'Airport', u'AWP', u'ALAMEDA', u'OAKLAND', u'CA', u'Federalized/Commercial', 37.721306, -122.220722, u'Yes'),\n",
       " (490L, u'OAK', 2010L, 65832L, 65169L, 0.7772, 0.7617, 0.7899, 11.06, 9.16, 1.61, 12.03, 2.17, 0.69, 1.9, 10.5, 523.0, 549.0, 69.0, 35.0, 596.0, u'METROPOLITAN OAKLAND INTL', u\"Oakland Int'l Airport\", u'Airport', u'AWP', u'ALAMEDA', u'OAKLAND', u'CA', u'Federalized/Commercial', 37.721306, -122.220722, u'Yes'),\n",
       " (491L, u'OAK', 2011L, 64045L, 63242L, 0.7792, 0.7576, 0.7906, 11.11, 9.2, 1.82, 12.39, 1.89, 0.73, 1.76, 10.61, 603.0, 621.0, 61.0, 27.0, 596.0, u'METROPOLITAN OAKLAND INTL', u\"Oakland Int'l Airport\", u'Airport', u'AWP', u'ALAMEDA', u'OAKLAND', u'CA', u'Federalized/Commercial', 37.721306, -122.220722, u'Yes'),\n",
       " (492L, u'OAK', 2012L, 64124L, 63681L, 0.7932, 0.7478, 0.8041, 10.62, 10.37, 2.85, 12.92, 1.98, 1.18, 1.91, 10.12, 454.0, 456.0, 63.0, 21.0, 596.0, u'METROPOLITAN OAKLAND INTL', u\"Oakland Int'l Airport\", u'Airport', u'AWP', u'ALAMEDA', u'OAKLAND', u'CA', u'Federalized/Commercial', 37.721306, -122.220722, u'Yes'),\n",
       " (493L, u'OAK', 2013L, 60321L, 60591L, 0.7596, 0.7321, 0.7742, 12.28, 9.52, 1.94, 13.79, 1.5, 0.69, 1.58, 11.86, 472.0, 488.0, 60.0, 45.0, 596.0, u'METROPOLITAN OAKLAND INTL', u\"Oakland Int'l Airport\", u'Airport', u'AWP', u'ALAMEDA', u'OAKLAND', u'CA', u'Federalized/Commercial', 37.721306, -122.220722, u'Yes'),\n",
       " (494L, u'OAK', 2014L, 62502L, 62539L, 0.7003, 0.6633, 0.7139, 15.03, 10.0, 2.22, 16.97, 1.98, 1.37, 2.44, 14.93, 583.0, 606.0, 53.0, 16.0, 596.0, u'METROPOLITAN OAKLAND INTL', u\"Oakland Int'l Airport\", u'Airport', u'AWP', u'ALAMEDA', u'OAKLAND', u'CA', u'Federalized/Commercial', 37.721306, -122.220722, u'Yes'),\n",
       " (495L, u'OGG', 2004L, 8355L, 8424L, 0.8645, 0.8773, 0.847, 8.23, 7.85, 0.46, 7.71, 4.59, 0.54, 3.37, 9.78, 63.0, 45.0, 33.0, 16.0, 976.0, u'KAHULUI', u'Kahului Airport', u'Airport', u'AWP', u'MAUI', u'KAHULUI', u'HI', u'Federalized/Commercial', 20.89865, -156.430458, u'Yes'),\n",
       " (496L, u'OGG', 2005L, 35626L, 36108L, 0.8639, 0.8669, 0.8337, 7.89, 8.28, 0.76, 7.78, 3.52, 1.26, 4.21, 9.85, 42.0, 24.0, 16.0, 16.0, 976.0, u'KAHULUI', u'Kahului Airport', u'Airport', u'AWP', u'MAUI', u'KAHULUI', u'HI', u'Federalized/Commercial', 20.89865, -156.430458, u'Yes'),\n",
       " (497L, u'OGG', 2006L, 37108L, 37218L, 0.882, 0.8807, 0.8596, 6.69, 7.75, 1.05, 6.89, 2.9, 0.82, 3.7, 8.01, 292.0, 257.0, 22.0, 18.0, 976.0, u'KAHULUI', u'Kahului Airport', u'Airport', u'AWP', u'MAUI', u'KAHULUI', u'HI', u'Federalized/Commercial', 20.89865, -156.430458, u'Yes'),\n",
       " (498L, u'OGG', 2007L, 37476L, 35402L, 0.8871, 0.8836, 0.8719, 7.57, 7.52, 1.04, 7.9, 2.63, 0.62, 3.15, 7.89, 223.0, 190.0, 10.0, 16.0, 976.0, u'KAHULUI', u'Kahului Airport', u'Airport', u'AWP', u'MAUI', u'KAHULUI', u'HI', u'Federalized/Commercial', 20.89865, -156.430458, u'Yes'),\n",
       " (499L, u'OGG', 2008L, 32036L, 29420L, 0.8755, 0.8593, 0.8606, 9.61, 7.79, 1.56, 10.54, 1.86, 0.93, 3.52, 8.6, 287.0, 258.0, 24.0, 22.0, 976.0, u'KAHULUI', u'Kahului Airport', u'Airport', u'AWP', u'MAUI', u'KAHULUI', u'HI', u'Federalized/Commercial', 20.89865, -156.430458, u'Yes'),\n",
       " (500L, u'OGG', 2009L, 30677L, 30193L, 0.8957, 0.8853, 0.8749, 6.28, 8.01, 1.28, 6.9, 1.51, 0.68, 3.64, 7.12, 106.0, 80.0, 20.0, 18.0, 976.0, u'KAHULUI', u'Kahului Airport', u'Airport', u'AWP', u'MAUI', u'KAHULUI', u'HI', u'Federalized/Commercial', 20.89865, -156.430458, u'Yes'),\n",
       " (501L, u'OGG', 2010L, 27206L, 27084L, 0.9029, 0.8901, 0.8718, 5.81, 8.47, 1.56, 6.54, 1.43, 0.75, 3.94, 7.15, 116.0, 80.0, 19.0, 27.0, 976.0, u'KAHULUI', u'Kahului Airport', u'Airport', u'AWP', u'MAUI', u'KAHULUI', u'HI', u'Federalized/Commercial', 20.89865, -156.430458, u'Yes'),\n",
       " (502L, u'OGG', 2011L, 27142L, 27090L, 0.9097, 0.8974, 0.8803, 6.12, 8.61, 1.46, 6.85, 1.24, 0.62, 3.18, 7.25, 139.0, 106.0, 23.0, 27.0, 976.0, u'KAHULUI', u'Kahului Airport', u'Airport', u'AWP', u'MAUI', u'KAHULUI', u'HI', u'Federalized/Commercial', 20.89865, -156.430458, u'Yes'),\n",
       " (503L, u'OGG', 2012L, 31181L, 31051L, 0.9, 0.8883, 0.8747, 6.47, 8.59, 1.51, 7.21, 0.95, 0.9, 3.51, 7.48, 125.0, 91.0, 48.0, 37.0, 976.0, u'KAHULUI', u'Kahului Airport', u'Airport', u'AWP', u'MAUI', u'KAHULUI', u'HI', u'Federalized/Commercial', 20.89865, -156.430458, u'Yes'),\n",
       " (504L, u'OGG', 2013L, 30069L, 29737L, 0.8871, 0.8743, 0.8589, 7.26, 8.64, 1.53, 8.0, 1.01, 1.01, 3.48, 8.36, 210.0, 168.0, 40.0, 39.0, 976.0, u'KAHULUI', u'Kahului Airport', u'Airport', u'AWP', u'MAUI', u'KAHULUI', u'HI', u'Federalized/Commercial', 20.89865, -156.430458, u'Yes'),\n",
       " (505L, u'OGG', 2014L, 34163L, 33547L, 0.9007, 0.8881, 0.8784, 5.8, 8.58, 1.39, 6.44, 1.71, 0.87, 3.85, 7.18, 114.0, 85.0, 34.0, 35.0, 976.0, u'KAHULUI', u'Kahului Airport', u'Airport', u'AWP', u'MAUI', u'KAHULUI', u'HI', u'Federalized/Commercial', 20.89865, -156.430458, u'Yes'),\n",
       " (506L, u'OMA', 2004L, 9769L, 9740L, 0.781, 0.7602, 0.7523, 12.11, 10.94, 2.43, 13.63, 2.28, 0.59, 2.73, 13.01, 232.0, 203.0, 47.0, 29.0, 2252.0, u'EPPLEY AIRFIELD', u'Eppley Airfield', u'Airport', u'ACE', u'DOUGLAS', u'OMAHA', u'NE', u'Federalized/Commercial', 41.303167, -95.894056, u'Yes'),\n",
       " (507L, u'OMA', 2005L, 40412L, 40238L, 0.7747, 0.7399, 0.7392, 12.4, 11.47, 3.2, 14.61, 2.56, 1.07, 3.18, 13.97, 291.0, 235.0, 40.0, 21.0, 2252.0, u'EPPLEY AIRFIELD', u'Eppley Airfield', u'Airport', u'ACE', u'DOUGLAS', u'OMAHA', u'NE', u'Federalized/Commercial', 41.303167, -95.894056, u'Yes'),\n",
       " (508L, u'OMA', 2006L, 39777L, 40736L, 0.7485, 0.7272, 0.7197, 13.87, 11.13, 2.23, 15.44, 2.06, 0.86, 3.27, 15.25, 313.0, 290.0, 62.0, 32.0, 2252.0, u'EPPLEY AIRFIELD', u'Eppley Airfield', u'Airport', u'ACE', u'DOUGLAS', u'OMAHA', u'NE', u'Federalized/Commercial', 41.303167, -95.894056, u'Yes'),\n",
       " (509L, u'OMA', 2007L, 41352L, 41570L, 0.7288, 0.6884, 0.6866, 16.58, 12.42, 3.44, 19.22, 2.11, 1.08, 3.78, 17.38, 587.0, 522.0, 84.0, 51.0, 2252.0, u'EPPLEY AIRFIELD', u'Eppley Airfield', u'Airport', u'ACE', u'DOUGLAS', u'OMAHA', u'NE', u'Federalized/Commercial', 41.303167, -95.894056, u'Yes'),\n",
       " (510L, u'OMA', 2008L, 39881L, 39850L, 0.7488, 0.7173, 0.6956, 15.9, 12.16, 2.9, 17.93, 2.09, 0.95, 3.68, 16.71, 476.0, 419.0, 89.0, 53.0, 2252.0, u'EPPLEY AIRFIELD', u'Eppley Airfield', u'Airport', u'ACE', u'DOUGLAS', u'OMAHA', u'NE', u'Federalized/Commercial', 41.303167, -95.894056, u'Yes'),\n",
       " (511L, u'OMA', 2009L, 36834L, 36758L, 0.7816, 0.7462, 0.7561, 12.63, 12.34, 2.99, 14.75, 2.28, 1.37, 3.27, 12.81, 400.0, 314.0, 62.0, 60.0, 2252.0, u'EPPLEY AIRFIELD', u'Eppley Airfield', u'Airport', u'ACE', u'DOUGLAS', u'OMAHA', u'NE', u'Federalized/Commercial', 41.303167, -95.894056, u'Yes'),\n",
       " (512L, u'OMA', 2010L, 38331L, 38386L, 0.7917, 0.7521, 0.7558, 11.94, 12.12, 2.8, 13.91, 2.56, 0.77, 2.84, 13.08, 365.0, 291.0, 53.0, 54.0, 2252.0, u'EPPLEY AIRFIELD', u'Eppley Airfield', u'Airport', u'ACE', u'DOUGLAS', u'OMAHA', u'NE', u'Federalized/Commercial', 41.303167, -95.894056, u'Yes'),\n",
       " (513L, u'OMA', 2011L, 37305L, 37502L, 0.8049, 0.7781, 0.7599, 11.34, 11.68, 2.21, 12.8, 2.33, 0.55, 2.67, 13.33, 401.0, 358.0, 43.0, 50.0, 2252.0, u'EPPLEY AIRFIELD', u'Eppley Airfield', u'Airport', u'ACE', u'DOUGLAS', u'OMAHA', u'NE', u'Federalized/Commercial', 41.303167, -95.894056, u'Yes'),\n",
       " (514L, u'OMA', 2012L, 35067L, 35288L, 0.8177, 0.7964, 0.7764, 10.82, 11.3, 1.92, 12.01, 1.67, 0.66, 2.03, 12.24, 213.0, 166.0, 32.0, 36.0, 2252.0, u'EPPLEY AIRFIELD', u'Eppley Airfield', u'Airport', u'ACE', u'DOUGLAS', u'OMAHA', u'NE', u'Federalized/Commercial', 41.303167, -95.894056, u'Yes'),\n",
       " (515L, u'OMA', 2013L, 33253L, 33594L, 0.781, 0.7446, 0.7274, 12.8, 12.27, 3.0, 14.78, 1.61, 1.07, 2.88, 15.16, 394.0, 313.0, 65.0, 50.0, 2252.0, u'EPPLEY AIRFIELD', u'Eppley Airfield', u'Airport', u'ACE', u'DOUGLAS', u'OMAHA', u'NE', u'Federalized/Commercial', 41.303167, -95.894056, u'Yes'),\n",
       " (516L, u'OMA', 2014L, 33241L, 33237L, 0.766, 0.7386, 0.7097, 13.69, 11.8, 2.08, 15.15, 2.34, 0.69, 3.27, 16.92, 498.0, 447.0, 63.0, 72.0, 2252.0, u'EPPLEY AIRFIELD', u'Eppley Airfield', u'Airport', u'ACE', u'DOUGLAS', u'OMAHA', u'NE', u'Federalized/Commercial', 41.303167, -95.894056, u'Yes'),\n",
       " (517L, u'ONT', 2004L, 54166L, 54076L, 0.7729, 0.7488, 0.8078, 12.33, 9.78, 2.63, 14.25, 1.72, 0.77, 2.39, 9.88, 379.0, 338.0, 54.0, 52.0, 615.0, u'ONTARIO INTL', u\"Ontario Int'l Airport\", u'Airport', u'AWP', u'SAN BERNARDINO', u'ONTARIO', u'CA', u'Federalized/Commercial', 34.056, -117.601194, u'Yes'),\n",
       " (518L, u'ONT', 2005L, 54110L, 54080L, 0.7557, 0.7241, 0.777, 12.5, 10.23, 2.92, 14.66, 2.04, 1.04, 2.77, 11.11, 355.0, 319.0, 34.0, 51.0, 615.0, u'ONTARIO INTL', u\"Ontario Int'l Airport\", u'Airport', u'AWP', u'SAN BERNARDINO', u'ONTARIO', u'CA', u'Federalized/Commercial', 34.056, -117.601194, u'Yes'),\n",
       " (519L, u'ONT', 2006L, 53893L, 54211L, 0.7384, 0.6991, 0.7822, 13.85, 10.96, 3.06, 16.15, 1.85, 0.88, 2.81, 11.08, 408.0, 404.0, 36.0, 44.0, 615.0, u'ONTARIO INTL', u\"Ontario Int'l Airport\", u'Airport', u'AWP', u'SAN BERNARDINO', u'ONTARIO', u'CA', u'Federalized/Commercial', 34.056, -117.601194, u'Yes'),\n",
       " (520L, u'ONT', 2007L, 59098L, 58758L, 0.7602, 0.7229, 0.7927, 13.2, 11.28, 3.15, 15.35, 1.66, 0.77, 2.21, 11.05, 471.0, 441.0, 63.0, 68.0, 615.0, u'ONTARIO INTL', u\"Ontario Int'l Airport\", u'Airport', u'AWP', u'SAN BERNARDINO', u'ONTARIO', u'CA', u'Federalized/Commercial', 34.056, -117.601194, u'Yes'),\n",
       " (521L, u'ONT', 2008L, 51391L, 51123L, 0.7421, 0.7122, 0.787, 15.22, 10.91, 2.8, 17.07, 1.13, 0.74, 2.11, 11.28, 338.0, 338.0, 56.0, 35.0, 615.0, u'ONTARIO INTL', u\"Ontario Int'l Airport\", u'Airport', u'AWP', u'SAN BERNARDINO', u'ONTARIO', u'CA', u'Federalized/Commercial', 34.056, -117.601194, u'Yes'),\n",
       " (522L, u'ONT', 2009L, 40278L, 39956L, 0.7698, 0.7554, 0.8086, 13.86, 9.88, 1.92, 14.94, 1.19, 0.45, 1.33, 9.61, 213.0, 177.0, 25.0, 9.0, 615.0, u'ONTARIO INTL', u\"Ontario Int'l Airport\", u'Airport', u'AWP', u'SAN BERNARDINO', u'ONTARIO', u'CA', u'Federalized/Commercial', 34.056, -117.601194, u'Yes'),\n",
       " (523L, u'ONT', 2010L, 37332L, 37205L, 0.7561, 0.7421, 0.7904, 14.72, 9.65, 1.81, 15.83, 1.12, 0.45, 1.5, 10.38, 227.0, 200.0, 31.0, 18.0, 615.0, u'ONTARIO INTL', u\"Ontario Int'l Airport\", u'Airport', u'AWP', u'SAN BERNARDINO', u'ONTARIO', u'CA', u'Federalized/Commercial', 34.056, -117.601194, u'Yes'),\n",
       " (524L, u'ONT', 2011L, 35796L, 35541L, 0.753, 0.7306, 0.792, 14.62, 9.73, 2.14, 16.13, 1.11, 0.52, 1.56, 10.51, 234.0, 214.0, 30.0, 26.0, 615.0, u'ONTARIO INTL', u\"Ontario Int'l Airport\", u'Airport', u'AWP', u'SAN BERNARDINO', u'ONTARIO', u'CA', u'Federalized/Commercial', 34.056, -117.601194, u'Yes'),\n",
       " (525L, u'ONT', 2012L, 33371L, 33168L, 0.7727, 0.7491, 0.8086, 13.78, 9.91, 2.22, 15.38, 1.03, 0.59, 1.36, 9.96, 190.0, 186.0, 27.0, 24.0, 615.0, u'ONTARIO INTL', u\"Ontario Int'l Airport\", u'Airport', u'AWP', u'SAN BERNARDINO', u'ONTARIO', u'CA', u'Federalized/Commercial', 34.056, -117.601194, u'Yes'),\n",
       " (526L, u'ONT', 2013L, 32031L, 31743L, 0.7475, 0.7211, 0.7709, 15.26, 10.14, 2.33, 17.08, 1.15, 0.56, 1.61, 11.97, 204.0, 183.0, 35.0, 14.0, 615.0, u'ONTARIO INTL', u\"Ontario Int'l Airport\", u'Airport', u'AWP', u'SAN BERNARDINO', u'ONTARIO', u'CA', u'Federalized/Commercial', 34.056, -117.601194, u'Yes'),\n",
       " (527L, u'ONT', 2014L, 32791L, 32476L, 0.7161, 0.6824, 0.7347, 16.92, 10.79, 2.65, 19.09, 1.47, 0.56, 2.1, 14.01, 290.0, 266.0, 31.0, 21.0, 615.0, u'ONTARIO INTL', u\"Ontario Int'l Airport\", u'Airport', u'AWP', u'SAN BERNARDINO', u'ONTARIO', u'CA', u'Federalized/Commercial', 34.056, -117.601194, u'Yes'),\n",
       " (528L, u'ORD', 2004L, 485187L, 484859L, 0.7179, 0.5739, 0.721, 17.79, 20.23, 9.36, 25.86, 3.19, 3.34, 5.81, 19.19, 11725.0, 12579.0, 700.0, 648.0, 1164.0, u\"CHICAGO O'HARE INTL\", u\"Chicago Ohare Int'l Airport\", u'Airport', u'AGL', u'COOK', u'CHICAGO', u'IL', u'Federalized/Commercial', 41.981649, -87.906671, u'Yes'),\n",
       " (529L, u'ORD', 2005L, 473216L, 474168L, 0.7242, 0.6108, 0.7672, 16.76, 19.03, 7.45, 23.14, 3.05, 3.15, 4.11, 15.45, 8466.0, 9199.0, 665.0, 518.0, 1164.0, u\"CHICAGO O'HARE INTL\", u\"Chicago Ohare Int'l Airport\", u'Airport', u'AGL', u'COOK', u'CHICAGO', u'IL', u'Federalized/Commercial', 41.981649, -87.906671, u'Yes'),\n",
       " (530L, u'ORD', 2006L, 466079L, 467039L, 0.7036, 0.5881, 0.71, 19.66, 19.33, 7.75, 26.29, 3.56, 2.82, 5.59, 21.15, 12915.0, 13808.0, 766.0, 1063.0, 1164.0, u\"CHICAGO O'HARE INTL\", u\"Chicago Ohare Int'l Airport\", u'Airport', u'AGL', u'COOK', u'CHICAGO', u'IL', u'Federalized/Commercial', 41.981649, -87.906671, u'Yes'),\n",
       " (531L, u'ORD', 2007L, 455562L, 455118L, 0.6854, 0.5769, 0.6909, 20.81, 19.02, 7.63, 27.34, 3.81, 3.22, 5.73, 22.44, 16618.0, 17571.0, 707.0, 887.0, 1164.0, u\"CHICAGO O'HARE INTL\", u\"Chicago Ohare Int'l Airport\", u'Airport', u'AGL', u'COOK', u'CHICAGO', u'IL', u'Federalized/Commercial', 41.981649, -87.906671, u'Yes'),\n",
       " (532L, u'ORD', 2008L, 431539L, 431421L, 0.7049, 0.6115, 0.7062, 19.94, 18.67, 7.04, 25.98, 3.9, 3.34, 5.44, 21.9, 15050.0, 16094.0, 801.0, 1027.0, 1164.0, u\"CHICAGO O'HARE INTL\", u\"Chicago Ohare Int'l Airport\", u'Airport', u'AGL', u'COOK', u'CHICAGO', u'IL', u'Federalized/Commercial', 41.981649, -87.906671, u'Yes'),\n",
       " (533L, u'ORD', 2009L, 404978L, 404952L, 0.7916, 0.7251, 0.8063, 13.25, 16.78, 5.13, 17.31, 3.65, 3.84, 3.6, 13.39, 6827.0, 7679.0, 710.0, 677.0, 1164.0, u\"CHICAGO O'HARE INTL\", u\"Chicago Ohare Int'l Airport\", u'Airport', u'AGL', u'COOK', u'CHICAGO', u'IL', u'Federalized/Commercial', 41.981649, -87.906671, u'Yes'),\n",
       " (534L, u'ORD', 2010L, 430948L, 430618L, 0.7803, 0.709, 0.7938, 14.09, 16.26, 5.05, 18.26, 2.48, 3.31, 3.54, 14.33, 7786.0, 8443.0, 755.0, 845.0, 1164.0, u\"CHICAGO O'HARE INTL\", u\"Chicago Ohare Int'l Airport\", u'Airport', u'AGL', u'COOK', u'CHICAGO', u'IL', u'Federalized/Commercial', 41.981649, -87.906671, u'Yes'),\n",
       " (535L, u'ORD', 2011L, 429476L, 428779L, 0.7605, 0.6827, 0.7772, 15.61, 16.55, 5.6, 20.2, 2.16, 3.18, 3.59, 16.03, 11659.0, 12494.0, 830.0, 615.0, 1164.0, u\"CHICAGO O'HARE INTL\", u\"Chicago Ohare Int'l Airport\", u'Airport', u'AGL', u'COOK', u'CHICAGO', u'IL', u'Federalized/Commercial', 41.981649, -87.906671, u'Yes'),\n",
       " (536L, u'ORD', 2012L, 427374L, 427768L, 0.7707, 0.6981, 0.8069, 14.45, 16.06, 4.97, 18.5, 1.89, 3.16, 2.74, 13.31, 6157.0, 6814.0, 703.0, 640.0, 1164.0, u\"CHICAGO O'HARE INTL\", u\"Chicago Ohare Int'l Airport\", u'Airport', u'AGL', u'COOK', u'CHICAGO', u'IL', u'Federalized/Commercial', 41.981649, -87.906671, u'Yes'),\n",
       " (537L, u'ORD', 2013L, 425352L, 428767L, 0.7094, 0.6275, 0.7521, 18.64, 16.6, 5.46, 23.49, 2.26, 3.98, 3.71, 17.51, 9155.0, 9999.0, 709.0, 709.0, 1164.0, u\"CHICAGO O'HARE INTL\", u\"Chicago Ohare Int'l Airport\", u'Airport', u'AGL', u'COOK', u'CHICAGO', u'IL', u'Federalized/Commercial', 41.981649, -87.906671, u'Yes'),\n",
       " (538L, u'ORD', 2014L, 430429L, 430750L, 0.6787, 0.5784, 0.705, 20.21, 17.5, 6.17, 25.88, 3.47, 6.18, 5.05, 20.09, 13454.0, 14355.0, 739.0, 831.0, 1164.0, u\"CHICAGO O'HARE INTL\", u\"Chicago Ohare Int'l Airport\", u'Airport', u'AGL', u'COOK', u'CHICAGO', u'IL', u'Federalized/Commercial', 41.981649, -87.906671, u'Yes'),\n",
       " (539L, u'OXR', 2004L, 731L, 717L, 0.8837, 0.87, 0.8591, 6.75, 7.24, 1.73, 7.46, 1.17, 0.36, 1.42, 8.42, 43.0, 37.0, 0.0, 0.0, 617.0, u'OXNARD', u'Oxnard Airport', u'Airport', u'AWP', u'VENTURA', u'OXNARD', u'CA', u'Public Use', 34.200806, -119.207222, u'Yes'),\n",
       " (540L, u'OXR', 2005L, 2730L, 2817L, 0.8905, 0.8696, 0.8424, 5.35, 7.95, 2.11, 6.44, 1.58, 0.41, 2.11, 7.86, 33.0, 22.0, 0.0, 0.0, 617.0, u'OXNARD', u'Oxnard Airport', u'Airport', u'AWP', u'VENTURA', u'OXNARD', u'CA', u'Public Use', 34.200806, -119.207222, u'Yes'),\n",
       " (541L, u'OXR', 2006L, 2194L, 2191L, 0.8323, 0.8067, 0.7408, 7.73, 9.67, 3.29, 9.41, 1.66, 0.83, 2.97, 12.67, 51.0, 44.0, 2.0, 1.0, 617.0, u'OXNARD', u'Oxnard Airport', u'Airport', u'AWP', u'VENTURA', u'OXNARD', u'CA', u'Public Use', 34.200806, -119.207222, u'Yes'),\n",
       " (542L, u'OXR', 2007L, 2044L, 1928L, 0.8728, 0.8488, 0.8185, 6.27, 10.11, 2.62, 7.9, 1.53, 0.9, 2.78, 8.98, 21.0, 17.0, 1.0, 0.0, 617.0, u'OXNARD', u'Oxnard Airport', u'Airport', u'AWP', u'VENTURA', u'OXNARD', u'CA', u'Public Use', 34.200806, -119.207222, u'Yes'),\n",
       " (543L, u'OXR', 2008L, 1841L, 1768L, 0.8838, 0.8631, 0.8479, 5.44, 10.52, 2.33, 6.54, 1.76, 0.57, 2.01, 8.16, 20.0, 20.0, 1.0, 0.0, 617.0, u'OXNARD', u'Oxnard Airport', u'Airport', u'AWP', u'VENTURA', u'OXNARD', u'CA', u'Public Use', 34.200806, -119.207222, u'Yes'),\n",
       " (544L, u'OXR', 2009L, 1649L, 1504L, 0.8757, 0.8739, 0.8763, 5.92, 9.33, 1.35, 6.29, 1.43, 0.43, 1.53, 6.33, 27.0, 24.0, 0.0, 0.0, 617.0, u'OXNARD', u'Oxnard Airport', u'Airport', u'AWP', u'VENTURA', u'OXNARD', u'CA', u'Public Use', 34.200806, -119.207222, u'Yes'),\n",
       " (545L, u'OXR', 2010L, 955L, 948L, 0.8628, 0.8545, 0.8492, 6.21, 8.69, 0.86, 6.52, 1.42, 0.55, 2.31, 7.65, 10.0, 8.0, 0.0, 0.0, 617.0, u'OXNARD', u'Oxnard Airport', u'Airport', u'AWP', u'VENTURA', u'OXNARD', u'CA', u'Public Use', 34.200806, -119.207222, u'Yes'),\n",
       " (546L, u'PBI', 2004L, 44816L, 43468L, 0.7396, 0.7109, 0.6915, 12.92, 12.81, 2.75, 14.74, 3.02, 0.44, 4.16, 16.45, 416.0, 416.0, 80.0, 26.0, 843.0, u'PALM BEACH INTL', u\"Palm Beach Int'l Airport\", u'Airport', u'ASO', u'PALM BEACH', u'WEST PALM BEACH', u'FL', u'Federalized/Commercial', 26.683167, -80.095583, u'Yes'),\n",
       " (547L, u'PBI', 2005L, 44764L, 42951L, 0.6871, 0.655, 0.6567, 16.2, 12.58, 2.78, 18.29, 3.19, 0.76, 4.82, 18.74, 415.0, 398.0, 87.0, 48.0, 843.0, u'PALM BEACH INTL', u\"Palm Beach Int'l Airport\", u'Airport', u'ASO', u'PALM BEACH', u'WEST PALM BEACH', u'FL', u'Federalized/Commercial', 26.683167, -80.095583, u'Yes'),\n",
       " (548L, u'PBI', 2006L, 45031L, 43552L, 0.7026, 0.6656, 0.6858, 15.15, 13.13, 3.17, 17.54, 2.37, 0.8, 4.01, 16.47, 205.0, 171.0, 106.0, 31.0, 843.0, u'PALM BEACH INTL', u\"Palm Beach Int'l Airport\", u'Airport', u'ASO', u'PALM BEACH', u'WEST PALM BEACH', u'FL', u'Federalized/Commercial', 26.683167, -80.095583, u'Yes'),\n",
       " (549L, u'PBI', 2007L, 47394L, 46148L, 0.6927, 0.6576, 0.6611, 16.42, 13.26, 2.99, 18.71, 2.71, 0.87, 4.64, 18.65, 361.0, 359.0, 116.0, 42.0, 843.0, u'PALM BEACH INTL', u\"Palm Beach Int'l Airport\", u'Airport', u'ASO', u'PALM BEACH', u'WEST PALM BEACH', u'FL', u'Federalized/Commercial', 26.683167, -80.095583, u'Yes'),\n",
       " (550L, u'PBI', 2008L, 43427L, 42451L, 0.6972, 0.6686, 0.6665, 17.29, 13.0, 2.54, 19.21, 2.35, 0.89, 5.02, 18.72, 255.0, 238.0, 118.0, 44.0, 843.0, u'PALM BEACH INTL', u\"Palm Beach Int'l Airport\", u'Airport', u'ASO', u'PALM BEACH', u'WEST PALM BEACH', u'FL', u'Federalized/Commercial', 26.683167, -80.095583, u'Yes'),\n",
       " (551L, u'PBI', 2009L, 35423L, 34681L, 0.7105, 0.6857, 0.6971, 16.04, 12.71, 2.52, 17.76, 1.78, 0.75, 4.3, 16.59, 222.0, 193.0, 88.0, 56.0, 843.0, u'PALM BEACH INTL', u\"Palm Beach Int'l Airport\", u'Airport', u'ASO', u'PALM BEACH', u'WEST PALM BEACH', u'FL', u'Federalized/Commercial', 26.683167, -80.095583, u'Yes'),\n",
       " (552L, u'PBI', 2010L, 36664L, 35608L, 0.7167, 0.6927, 0.6965, 15.53, 12.52, 2.25, 17.02, 1.96, 0.76, 3.76, 16.68, 478.0, 454.0, 78.0, 54.0, 843.0, u'PALM BEACH INTL', u\"Palm Beach Int'l Airport\", u'Airport', u'ASO', u'PALM BEACH', u'WEST PALM BEACH', u'FL', u'Federalized/Commercial', 26.683167, -80.095583, u'Yes'),\n",
       " (553L, u'PBI', 2011L, 36530L, 35262L, 0.7117, 0.6872, 0.6989, 15.65, 12.62, 2.35, 17.2, 1.96, 0.65, 3.61, 16.5, 380.0, 344.0, 102.0, 47.0, 843.0, u'PALM BEACH INTL', u\"Palm Beach Int'l Airport\", u'Airport', u'ASO', u'PALM BEACH', u'WEST PALM BEACH', u'FL', u'Federalized/Commercial', 26.683167, -80.095583, u'Yes'),\n",
       " (554L, u'PBI', 2012L, 35521L, 34510L, 0.7188, 0.6917, 0.7044, 14.72, 12.94, 2.49, 16.4, 2.13, 0.75, 3.39, 15.79, 218.0, 201.0, 58.0, 54.0, 843.0, u'PALM BEACH INTL', u\"Palm Beach Int'l Airport\", u'Airport', u'ASO', u'PALM BEACH', u'WEST PALM BEACH', u'FL', u'Federalized/Commercial', 26.683167, -80.095583, u'Yes'),\n",
       " (555L, u'PBI', 2013L, 35800L, 34995L, 0.6705, 0.6426, 0.662, 17.67, 13.02, 2.2, 19.45, 2.2, 0.64, 4.18, 18.01, 164.0, 159.0, 79.0, 40.0, 843.0, u'PALM BEACH INTL', u\"Palm Beach Int'l Airport\", u'Airport', u'ASO', u'PALM BEACH', u'WEST PALM BEACH', u'FL', u'Federalized/Commercial', 26.683167, -80.095583, u'Yes'),\n",
       " (556L, u'PBI', 2014L, 37466L, 36904L, 0.6586, 0.6297, 0.6439, 18.58, 13.11, 2.21, 20.42, 2.93, 0.78, 5.03, 20.17, 429.0, 414.0, 88.0, 56.0, 843.0, u'PALM BEACH INTL', u\"Palm Beach Int'l Airport\", u'Airport', u'ASO', u'PALM BEACH', u'WEST PALM BEACH', u'FL', u'Federalized/Commercial', 26.683167, -80.095583, u'Yes'),\n",
       " (557L, u'PDX', 2004L, 107790L, 107597L, 0.8304, 0.819, 0.8132, 9.2, 10.01, 1.78, 10.05, 2.58, 0.56, 2.7, 9.69, 1038.0, 1043.0, 90.0, 104.0, 2775.0, u'PORTLAND INTL', u\"Portland Int'l Airport\", u'Airport', u'ANM', u'MULTNOMAH', u'PORTLAND', u'OR', u'Federalized/Commercial', 45.588709, -122.596869, u'Yes'),\n",
       " (558L, u'PDX', 2005L, 110782L, 110230L, 0.7933, 0.7733, 0.7808, 11.06, 10.28, 2.16, 12.41, 2.62, 0.98, 2.89, 11.27, 463.0, 505.0, 83.0, 70.0, 2775.0, u'PORTLAND INTL', u\"Portland Int'l Airport\", u'Airport', u'ANM', u'MULTNOMAH', u'PORTLAND', u'OR', u'Federalized/Commercial', 45.588709, -122.596869, u'Yes'),\n",
       " (559L, u'PDX', 2006L, 111646L, 111969L, 0.7963, 0.776, 0.7792, 10.93, 10.92, 2.15, 12.22, 2.54, 0.69, 3.41, 11.46, 446.0, 432.0, 84.0, 46.0, 2775.0, u'PORTLAND INTL', u\"Portland Int'l Airport\", u'Airport', u'ANM', u'MULTNOMAH', u'PORTLAND', u'OR', u'Federalized/Commercial', 45.588709, -122.596869, u'Yes'),\n",
       " (560L, u'PDX', 2007L, 114531L, 113943L, 0.8052, 0.7815, 0.7813, 10.77, 10.97, 1.96, 12.2, 2.41, 0.73, 3.37, 11.7, 442.0, 478.0, 87.0, 44.0, 2775.0, u'PORTLAND INTL', u\"Portland Int'l Airport\", u'Airport', u'ANM', u'MULTNOMAH', u'PORTLAND', u'OR', u'Federalized/Commercial', 45.588709, -122.596869, u'Yes'),\n",
       " (561L, u'PDX', 2008L, 107888L, 108006L, 0.8231, 0.8037, 0.8075, 9.99, 11.17, 2.04, 11.2, 2.32, 0.79, 2.98, 10.38, 652.0, 656.0, 116.0, 84.0, 2775.0, u'PORTLAND INTL', u\"Portland Int'l Airport\", u'Airport', u'ANM', u'MULTNOMAH', u'PORTLAND', u'OR', u'Federalized/Commercial', 45.588709, -122.596869, u'Yes'),\n",
       " (562L, u'PDX', 2009L, 96802L, 96828L, 0.8499, 0.826, 0.8439, 8.14, 11.54, 2.39, 9.68, 2.19, 0.85, 2.33, 8.16, 253.0, 260.0, 99.0, 76.0, 2775.0, u'PORTLAND INTL', u\"Portland Int'l Airport\", u'Airport', u'ANM', u'MULTNOMAH', u'PORTLAND', u'OR', u'Federalized/Commercial', 45.588709, -122.596869, u'Yes'),\n",
       " (563L, u'PDX', 2010L, 97133L, 96705L, 0.8393, 0.8244, 0.8396, 8.77, 11.01, 1.69, 9.74, 2.12, 0.7, 2.08, 8.46, 282.0, 311.0, 128.0, 57.0, 2775.0, u'PORTLAND INTL', u\"Portland Int'l Airport\", u'Airport', u'ANM', u'MULTNOMAH', u'PORTLAND', u'OR', u'Federalized/Commercial', 45.588709, -122.596869, u'Yes'),\n",
       " (564L, u'PDX', 2011L, 92795L, 93153L, 0.8448, 0.8187, 0.8255, 8.41, 11.48, 2.3, 10.02, 2.25, 0.8, 2.53, 9.2, 269.0, 282.0, 82.0, 60.0, 2775.0, u'PORTLAND INTL', u\"Portland Int'l Airport\", u'Airport', u'ANM', u'MULTNOMAH', u'PORTLAND', u'OR', u'Federalized/Commercial', 45.588709, -122.596869, u'Yes'),\n",
       " (565L, u'PDX', 2012L, 92223L, 92392L, 0.8578, 0.8421, 0.848, 7.97, 10.81, 1.62, 8.98, 2.09, 0.62, 2.16, 8.3, 289.0, 294.0, 107.0, 54.0, 2775.0, u'PORTLAND INTL', u\"Portland Int'l Airport\", u'Airport', u'ANM', u'MULTNOMAH', u'PORTLAND', u'OR', u'Federalized/Commercial', 45.588709, -122.596869, u'Yes'),\n",
       " (566L, u'PDX', 2013L, 92554L, 91943L, 0.8373, 0.8163, 0.8293, 9.07, 11.54, 2.07, 10.38, 2.01, 0.8, 2.74, 9.26, 322.0, 330.0, 125.0, 72.0, 2775.0, u'PORTLAND INTL', u\"Portland Int'l Airport\", u'Airport', u'ANM', u'MULTNOMAH', u'PORTLAND', u'OR', u'Federalized/Commercial', 45.588709, -122.596869, u'Yes'),\n",
       " (567L, u'PDX', 2014L, 94828L, 94702L, 0.8275, 0.8082, 0.8137, 9.47, 11.29, 1.92, 10.65, 1.98, 0.75, 3.31, 10.13, 404.0, 404.0, 123.0, 54.0, 2775.0, u'PORTLAND INTL', u\"Portland Int'l Airport\", u'Airport', u'ANM', u'MULTNOMAH', u'PORTLAND', u'OR', u'Federalized/Commercial', 45.588709, -122.596869, u'Yes'),\n",
       " (568L, u'PHL', 2004L, 225283L, 224381L, 0.7136, 0.5482, 0.7296, 16.68, 21.38, 9.79, 24.85, 7.58, 2.44, 4.96, 16.39, 2853.0, 2726.0, 247.0, 419.0, 2849.0, u'PHILADELPHIA INTL', u\"Philadelphia Int'l Airport\", u'Airport', u'AEA', u'PHILADELPHIA', u'PHILADELPHIA', u'PA', u'Federalized/Commercial', 39.872249, -75.240866, u'Yes'),\n",
       " (569L, u'PHL', 2005L, 252534L, 250524L, 0.6797, 0.5215, 0.7159, 19.11, 20.8, 9.67, 27.5, 6.22, 2.57, 4.37, 17.98, 3268.0, 3182.0, 226.0, 388.0, 2849.0, u'PHILADELPHIA INTL', u\"Philadelphia Int'l Airport\", u'Airport', u'AEA', u'PHILADELPHIA', u'PHILADELPHIA', u'PA', u'Federalized/Commercial', 39.872249, -75.240866, u'Yes'),\n",
       " (570L, u'PHL', 2006L, 241870L, 240724L, 0.6982, 0.5083, 0.7007, 18.18, 21.56, 10.81, 27.53, 6.66, 2.25, 4.7, 19.02, 1934.0, 1799.0, 260.0, 357.0, 2849.0, u'PHILADELPHIA INTL', u\"Philadelphia Int'l Airport\", u'Airport', u'AEA', u'PHILADELPHIA', u'PHILADELPHIA', u'PA', u'Federalized/Commercial', 39.872249, -75.240866, u'Yes'),\n",
       " (571L, u'PHL', 2007L, 232583L, 233078L, 0.6878, 0.4887, 0.6839, 19.64, 22.09, 11.2, 30.2, 7.65, 2.31, 4.94, 20.61, 2493.0, 2335.0, 275.0, 388.0, 2849.0, u'PHILADELPHIA INTL', u\"Philadelphia Int'l Airport\", u'Airport', u'AEA', u'PHILADELPHIA', u'PHILADELPHIA', u'PA', u'Federalized/Commercial', 39.872249, -75.240866, u'Yes'),\n",
       " (572L, u'PHL', 2008L, 229700L, 230105L, 0.7554, 0.604, 0.7376, 15.75, 20.2, 8.42, 23.37, 7.82, 2.02, 4.28, 17.64, 1969.0, 1990.0, 272.0, 320.0, 2849.0, u'PHILADELPHIA INTL', u\"Philadelphia Int'l Airport\", u'Airport', u'AEA', u'PHILADELPHIA', u'PHILADELPHIA', u'PA', u'Federalized/Commercial', 39.872249, -75.240866, u'Yes'),\n",
       " (573L, u'PHL', 2009L, 220842L, 220753L, 0.767, 0.5992, 0.738, 14.77, 20.73, 9.44, 23.51, 7.21, 2.39, 4.65, 16.84, 1732.0, 1679.0, 228.0, 284.0, 2849.0, u'PHILADELPHIA INTL', u\"Philadelphia Int'l Airport\", u'Airport', u'AEA', u'PHILADELPHIA', u'PHILADELPHIA', u'PA', u'Federalized/Commercial', 39.872249, -75.240866, u'Yes'),\n",
       " (574L, u'PHL', 2010L, 214485L, 214971L, 0.7824, 0.6507, 0.77, 13.4, 18.95, 7.49, 19.97, 6.41, 1.96, 3.5, 14.13, 2190.0, 2191.0, 172.0, 224.0, 2849.0, u'PHILADELPHIA INTL', u\"Philadelphia Int'l Airport\", u'Airport', u'AEA', u'PHILADELPHIA', u'PHILADELPHIA', u'PA', u'Federalized/Commercial', 39.872249, -75.240866, u'Yes'),\n",
       " (575L, u'PHL', 2011L, 213255L, 213163L, 0.7488, 0.6371, 0.7279, 16.17, 19.41, 6.56, 22.03, 6.36, 1.78, 3.72, 17.82, 1988.0, 1971.0, 206.0, 275.0, 2849.0, u'PHILADELPHIA INTL', u\"Philadelphia Int'l Airport\", u'Airport', u'AEA', u'PHILADELPHIA', u'PHILADELPHIA', u'PA', u'Federalized/Commercial', 39.872249, -75.240866, u'Yes'),\n",
       " (576L, u'PHL', 2012L, 211377L, 211189L, 0.7969, 0.6951, 0.7705, 12.28, 18.5, 5.6, 17.15, 4.72, 1.67, 3.07, 13.95, 1041.0, 1083.0, 168.0, 85.0, 2849.0, u'PHILADELPHIA INTL', u\"Philadelphia Int'l Airport\", u'Airport', u'AEA', u'PHILADELPHIA', u'PHILADELPHIA', u'PA', u'Federalized/Commercial', 39.872249, -75.240866, u'Yes'),\n",
       " (577L, u'PHL', 2013L, 206945L, 206032L, 0.7808, 0.6711, 0.7347, 13.74, 18.78, 6.56, 19.25, 4.4, 1.55, 3.82, 16.72, 1083.0, 1116.0, 195.0, 171.0, 2849.0, u'PHILADELPHIA INTL', u\"Philadelphia Int'l Airport\", u'Airport', u'AEA', u'PHILADELPHIA', u'PHILADELPHIA', u'PA', u'Federalized/Commercial', 39.872249, -75.240866, u'Yes'),\n",
       " (578L, u'PHL', 2014L, 200550L, 200637L, 0.7681, 0.6625, 0.7404, 14.27, 18.74, 6.13, 19.66, 4.87, 1.81, 3.39, 16.32, 1393.0, 1474.0, 200.0, 165.0, 2849.0, u'PHILADELPHIA INTL', u\"Philadelphia Int'l Airport\", u'Airport', u'AEA', u'PHILADELPHIA', u'PHILADELPHIA', u'PA', u'Federalized/Commercial', 39.872249, -75.240866, u'Yes'),\n",
       " (579L, u'PHX', 2004L, 240020L, 239521L, 0.7534, 0.6639, 0.7905, 12.68, 14.04, 4.85, 16.82, 3.8, 1.6, 2.84, 11.56, 1578.0, 1939.0, 355.0, 214.0, 456.0, u'PHOENIX SKY HARBOR INTL', u\"Sky Harbor Int'l Airport\", u'Airport', u'AWP', u'MARICOPA', u'PHOENIX', u'AZ', u'Federalized/Commercial', 33.434278, -112.011583, u'Yes'),\n",
       " (580L, u'PHX', 2005L, 249530L, 248195L, 0.7483, 0.6443, 0.8026, 12.44, 14.42, 5.24, 16.98, 3.87, 1.92, 2.51, 10.82, 1382.0, 1723.0, 296.0, 190.0, 456.0, u'PHOENIX SKY HARBOR INTL', u\"Sky Harbor Int'l Airport\", u'Airport', u'AWP', u'MARICOPA', u'PHOENIX', u'AZ', u'Federalized/Commercial', 33.434278, -112.011583, u'Yes'),\n",
       " (581L, u'PHX', 2006L, 245896L, 244854L, 0.7801, 0.6797, 0.7915, 11.64, 14.84, 5.57, 16.15, 3.58, 2.44, 3.19, 11.31, 1952.0, 2561.0, 500.0, 340.0, 456.0, u'PHOENIX SKY HARBOR INTL', u\"Sky Harbor Int'l Airport\", u'Airport', u'AWP', u'MARICOPA', u'PHOENIX', u'AZ', u'Federalized/Commercial', 33.434278, -112.011583, u'Yes'),\n",
       " (582L, u'PHX', 2007L, 240059L, 239897L, 0.7679, 0.6578, 0.7722, 12.87, 14.8, 5.59, 17.76, 2.97, 2.58, 3.37, 12.46, 2402.0, 3121.0, 467.0, 253.0, 456.0, u'PHOENIX SKY HARBOR INTL', u\"Sky Harbor Int'l Airport\", u'Airport', u'AWP', u'MARICOPA', u'PHOENIX', u'AZ', u'Federalized/Commercial', 33.434278, -112.011583, u'Yes'),\n",
       " (583L, u'PHX', 2008L, 226663L, 226405L, 0.8033, 0.7129, 0.8009, 10.96, 15.1, 5.44, 15.22, 2.45, 2.25, 3.56, 11.07, 1875.0, 2554.0, 442.0, 333.0, 456.0, u'PHOENIX SKY HARBOR INTL', u\"Sky Harbor Int'l Airport\", u'Airport', u'AWP', u'MARICOPA', u'PHOENIX', u'AZ', u'Federalized/Commercial', 33.434278, -112.011583, u'Yes'),\n",
       " (584L, u'PHX', 2009L, 208700L, 208786L, 0.8255, 0.7496, 0.8319, 9.34, 14.63, 4.5, 12.75, 2.07, 2.16, 3.18, 9.07, 1210.0, 1714.0, 427.0, 266.0, 456.0, u'PHOENIX SKY HARBOR INTL', u\"Sky Harbor Int'l Airport\", u'Airport', u'AWP', u'MARICOPA', u'PHOENIX', u'AZ', u'Federalized/Commercial', 33.434278, -112.011583, u'Yes'),\n",
       " (585L, u'PHX', 2010L, 205899L, 206051L, 0.8307, 0.7509, 0.8452, 9.11, 14.94, 4.88, 12.76, 1.76, 2.3, 2.59, 8.52, 1446.0, 1917.0, 418.0, 266.0, 456.0, u'PHOENIX SKY HARBOR INTL', u\"Sky Harbor Int'l Airport\", u'Airport', u'AWP', u'MARICOPA', u'PHOENIX', u'AZ', u'Federalized/Commercial', 33.434278, -112.011583, u'Yes'),\n",
       " (586L, u'PHX', 2011L, 213870L, 213498L, 0.8244, 0.7746, 0.8444, 9.64, 13.84, 3.77, 12.08, 2.65, 2.24, 2.54, 8.73, 1569.0, 2085.0, 377.0, 187.0, 456.0, u'PHOENIX SKY HARBOR INTL', u\"Sky Harbor Int'l Airport\", u'Airport', u'AWP', u'MARICOPA', u'PHOENIX', u'AZ', u'Federalized/Commercial', 33.434278, -112.011583, u'Yes'),\n",
       " (587L, u'PHX', 2012L, 207667L, 207206L, 0.8417, 0.7734, 0.8518, 8.52, 14.52, 4.55, 11.66, 2.34, 2.82, 2.57, 8.02, 947.0, 1342.0, 328.0, 203.0, 456.0, u'PHOENIX SKY HARBOR INTL', u\"Sky Harbor Int'l Airport\", u'Airport', u'AWP', u'MARICOPA', u'PHOENIX', u'AZ', u'Federalized/Commercial', 33.434278, -112.011583, u'Yes'),\n",
       " (588L, u'PHX', 2013L, 200341L, 199957L, 0.8126, 0.7323, 0.831, 9.86, 14.63, 4.81, 13.44, 1.92, 2.3, 2.71, 9.29, 1006.0, 1499.0, 325.0, 143.0, 456.0, u'PHOENIX SKY HARBOR INTL', u\"Sky Harbor Int'l Airport\", u'Airport', u'AWP', u'MARICOPA', u'PHOENIX', u'AZ', u'Federalized/Commercial', 33.434278, -112.011583, u'Yes'),\n",
       " (589L, u'PHX', 2014L, 200278L, 199312L, 0.7828, 0.7177, 0.809, 11.94, 14.53, 4.21, 14.99, 2.5, 2.23, 2.89, 10.91, 1136.0, 1535.0, 325.0, 255.0, 456.0, u'PHOENIX SKY HARBOR INTL', u\"Sky Harbor Int'l Airport\", u'Airport', u'AWP', u'MARICOPA', u'PHOENIX', u'AZ', u'Federalized/Commercial', 33.434278, -112.011583, u'Yes'),\n",
       " (590L, u'PIT', 2004L, 150501L, 150689L, 0.7964, 0.7653, 0.8164, 11.86, 13.72, 2.68, 13.43, 3.72, 0.65, 2.49, 10.72, 1063.0, 1153.0, 102.0, 35.0, 2850.0, u'PITTSBURGH INTL', u\"Pittsburgh Int'l Airport\", u'Airport', u'AEA', u'ALLEGHENY', u'PITTSBURGH', u'PA', u'Federalized/Commercial', 40.491472, -80.232861, u'Yes'),\n",
       " (591L, u'PIT', 2005L, 117635L, 117752L, 0.7999, 0.7615, 0.7954, 12.07, 13.11, 3.07, 14.05, 2.99, 1.07, 2.54, 12.06, 1076.0, 1155.0, 78.0, 43.0, 2850.0, u'PITTSBURGH INTL', u\"Pittsburgh Int'l Airport\", u'Airport', u'AEA', u'ALLEGHENY', u'PITTSBURGH', u'PA', u'Federalized/Commercial', 40.491472, -80.232861, u'Yes'),\n",
       " (592L, u'PIT', 2006L, 104606L, 104602L, 0.809, 0.7602, 0.7842, 11.72, 13.83, 3.84, 14.51, 2.79, 1.14, 3.11, 12.72, 847.0, 784.0, 116.0, 39.0, 2850.0, u'PITTSBURGH INTL', u\"Pittsburgh Int'l Airport\", u'Airport', u'AEA', u'ALLEGHENY', u'PITTSBURGH', u'PA', u'Federalized/Commercial', 40.491472, -80.232861, u'Yes'),\n",
       " (593L, u'PIT', 2007L, 92901L, 93107L, 0.7707, 0.7143, 0.7296, 14.73, 14.33, 3.7, 17.76, 3.26, 1.22, 3.58, 16.39, 1108.0, 1040.0, 133.0, 31.0, 2850.0, u'PITTSBURGH INTL', u\"Pittsburgh Int'l Airport\", u'Airport', u'AEA', u'ALLEGHENY', u'PITTSBURGH', u'PA', u'Federalized/Commercial', 40.491472, -80.232861, u'Yes'),\n",
       " (594L, u'PIT', 2008L, 71863L, 72058L, 0.7655, 0.7052, 0.7531, 15.41, 14.31, 3.81, 18.46, 3.14, 1.33, 3.35, 15.01, 759.0, 700.0, 133.0, 51.0, 2850.0, u'PITTSBURGH INTL', u\"Pittsburgh Int'l Airport\", u'Airport', u'AEA', u'ALLEGHENY', u'PITTSBURGH', u'PA', u'Federalized/Commercial', 40.491472, -80.232861, u'Yes'),\n",
       " (595L, u'PIT', 2009L, 61447L, 61411L, 0.7941, 0.7378, 0.7865, 13.09, 14.0, 3.49, 15.83, 2.78, 1.02, 2.66, 12.37, 419.0, 341.0, 88.0, 65.0, 2850.0, u'PITTSBURGH INTL', u\"Pittsburgh Int'l Airport\", u'Airport', u'AEA', u'ALLEGHENY', u'PITTSBURGH', u'PA', u'Federalized/Commercial', 40.491472, -80.232861, u'Yes'),\n",
       " (596L, u'PIT', 2010L, 60738L, 60748L, 0.8088, 0.7386, 0.7848, 12.1, 14.34, 4.01, 15.28, 2.62, 1.02, 2.72, 12.31, 735.0, 653.0, 106.0, 48.0, 2850.0, u'PITTSBURGH INTL', u\"Pittsburgh Int'l Airport\", u'Airport', u'AEA', u'ALLEGHENY', u'PITTSBURGH', u'PA', u'Federalized/Commercial', 40.491472, -80.232861, u'Yes'),\n",
       " (597L, u'PIT', 2011L, 63078L, 63037L, 0.7774, 0.7329, 0.7581, 14.26, 13.3, 2.9, 16.36, 2.6, 0.99, 3.01, 14.32, 527.0, 480.0, 88.0, 58.0, 2850.0, u'PITTSBURGH INTL', u\"Pittsburgh Int'l Airport\", u'Airport', u'AEA', u'ALLEGHENY', u'PITTSBURGH', u'PA', u'Federalized/Commercial', 40.491472, -80.232861, u'Yes'),\n",
       " (598L, u'PIT', 2012L, 58244L, 58161L, 0.8107, 0.7727, 0.7883, 11.73, 12.95, 2.63, 13.53, 2.01, 1.04, 2.26, 12.15, 372.0, 328.0, 64.0, 40.0, 2850.0, u'PITTSBURGH INTL', u\"Pittsburgh Int'l Airport\", u'Airport', u'AEA', u'ALLEGHENY', u'PITTSBURGH', u'PA', u'Federalized/Commercial', 40.491472, -80.232861, u'Yes'),\n",
       " (599L, u'PIT', 2013L, 59106L, 59132L, 0.7887, 0.7231, 0.7631, 13.18, 13.52, 3.58, 16.1, 2.06, 1.23, 2.65, 14.12, 472.0, 376.0, 65.0, 41.0, 2850.0, u'PITTSBURGH INTL', u\"Pittsburgh Int'l Airport\", u'Airport', u'AEA', u'ALLEGHENY', u'PITTSBURGH', u'PA', u'Federalized/Commercial', 40.491472, -80.232861, u'Yes'),\n",
       " (600L, u'PIT', 2014L, 58332L, 58291L, 0.777, 0.7409, 0.7498, 13.76, 12.42, 2.37, 15.3, 2.21, 1.21, 2.8, 15.1, 523.0, 457.0, 82.0, 31.0, 2850.0, u'PITTSBURGH INTL', u\"Pittsburgh Int'l Airport\", u'Airport', u'AEA', u'ALLEGHENY', u'PITTSBURGH', u'PA', u'Federalized/Commercial', 40.491472, -80.232861, u'Yes'),\n",
       " (601L, u'PSP', 2007L, 17764L, 17852L, 0.7411, 0.7053, 0.7011, 13.53, 11.4, 3.03, 15.56, 2.48, 1.0, 3.52, 15.67, 152.0, 121.0, 20.0, 14.0, 618.0, u'PALM SPRINGS INTL', u\"Palm Springs Int'l Airport\", u'Airport', u'AWP', u'RIVERSIDE', u'PALM SPRINGS', u'CA', u'Federalized/Commercial', 33.829667, -116.506694, u'Yes'),\n",
       " (602L, u'PSP', 2008L, 16005L, 16036L, 0.7683, 0.7321, 0.7312, 12.35, 12.16, 3.1, 14.32, 2.82, 1.17, 3.71, 13.87, 155.0, 130.0, 24.0, 30.0, 618.0, u'PALM SPRINGS INTL', u\"Palm Springs Int'l Airport\", u'Airport', u'AWP', u'RIVERSIDE', u'PALM SPRINGS', u'CA', u'Federalized/Commercial', 33.829667, -116.506694, u'Yes'),\n",
       " (603L, u'PSP', 2009L, 14802L, 14837L, 0.8128, 0.7919, 0.7853, 10.22, 11.9, 2.32, 11.52, 2.67, 0.68, 2.88, 10.95, 97.0, 70.0, 21.0, 31.0, 618.0, u'PALM SPRINGS INTL', u\"Palm Springs Int'l Airport\", u'Airport', u'AWP', u'RIVERSIDE', u'PALM SPRINGS', u'CA', u'Federalized/Commercial', 33.829667, -116.506694, u'Yes'),\n",
       " (604L, u'PSP', 2010L, 14769L, 14859L, 0.7944, 0.7699, 0.7574, 11.54, 11.77, 2.5, 12.97, 3.07, 0.73, 3.12, 12.86, 154.0, 119.0, 27.0, 54.0, 618.0, u'PALM SPRINGS INTL', u\"Palm Springs Int'l Airport\", u'Airport', u'AWP', u'RIVERSIDE', u'PALM SPRINGS', u'CA', u'Federalized/Commercial', 33.829667, -116.506694, u'Yes'),\n",
       " (605L, u'PSP', 2011L, 14458L, 14632L, 0.7738, 0.7484, 0.7484, 12.76, 11.89, 2.64, 14.33, 3.35, 0.77, 3.3, 13.57, 153.0, 125.0, 21.0, 17.0, 618.0, u'PALM SPRINGS INTL', u\"Palm Springs Int'l Airport\", u'Airport', u'AWP', u'RIVERSIDE', u'PALM SPRINGS', u'CA', u'Federalized/Commercial', 33.829667, -116.506694, u'Yes'),\n",
       " (606L, u'PSP', 2012L, 15601L, 15682L, 0.7692, 0.7362, 0.7587, 14.0, 12.51, 3.14, 15.98, 3.23, 0.84, 3.2, 12.85, 150.0, 104.0, 27.0, 31.0, 618.0, u'PALM SPRINGS INTL', u\"Palm Springs Int'l Airport\", u'Airport', u'AWP', u'RIVERSIDE', u'PALM SPRINGS', u'CA', u'Federalized/Commercial', 33.829667, -116.506694, u'Yes'),\n",
       " (607L, u'PSP', 2013L, 15346L, 15242L, 0.7754, 0.7483, 0.7683, 14.15, 12.5, 2.72, 15.76, 2.89, 0.95, 2.91, 12.66, 155.0, 121.0, 18.0, 26.0, 618.0, u'PALM SPRINGS INTL', u\"Palm Springs Int'l Airport\", u'Airport', u'AWP', u'RIVERSIDE', u'PALM SPRINGS', u'CA', u'Federalized/Commercial', 33.829667, -116.506694, u'Yes'),\n",
       " (608L, u'PSP', 2014L, 16231L, 16208L, 0.7632, 0.7332, 0.7512, 14.56, 12.67, 2.74, 16.29, 3.19, 0.99, 3.78, 13.81, 198.0, 154.0, 25.0, 17.0, 618.0, u'PALM SPRINGS INTL', u\"Palm Springs Int'l Airport\", u'Airport', u'AWP', u'RIVERSIDE', u'PALM SPRINGS', u'CA', u'Federalized/Commercial', 33.829667, -116.506694, u'Yes'),\n",
       " (609L, u'PVD', 2004L, 11349L, 11393L, 0.7967, 0.7554, 0.7633, 12.17, 12.94, 3.73, 14.82, 4.08, 0.72, 2.55, 13.08, 387.0, 364.0, 73.0, 27.0, 2893.0, u'THEODORE FRANCIS GREEN STATE', u'Tf Green State Airport', u'Airport', u'ANE', u'KENT', u'PROVIDENCE', u'RI', u'Federalized/Commercial', 41.723999, -71.428221, u'Yes'),\n",
       " (610L, u'PVD', 2005L, 42324L, 42517L, 0.7917, 0.7522, 0.7621, 12.52, 12.12, 3.41, 15.03, 4.14, 0.88, 2.97, 13.36, 609.0, 562.0, 64.0, 49.0, 2893.0, u'THEODORE FRANCIS GREEN STATE', u'Tf Green State Airport', u'Airport', u'ANE', u'KENT', u'PROVIDENCE', u'RI', u'Federalized/Commercial', 41.723999, -71.428221, u'Yes'),\n",
       " (611L, u'PVD', 2006L, 38925L, 39178L, 0.7857, 0.7539, 0.7516, 13.01, 11.8, 3.05, 15.1, 3.69, 0.79, 2.89, 13.99, 439.0, 403.0, 69.0, 40.0, 2893.0, u'THEODORE FRANCIS GREEN STATE', u'Tf Green State Airport', u'Airport', u'ANE', u'KENT', u'PROVIDENCE', u'RI', u'Federalized/Commercial', 41.723999, -71.428221, u'Yes'),\n",
       " (612L, u'PVD', 2007L, 38544L, 38598L, 0.7536, 0.711, 0.705, 16.41, 12.15, 3.32, 19.15, 3.75, 0.94, 3.1, 17.67, 625.0, 601.0, 77.0, 29.0, 2893.0, u'THEODORE FRANCIS GREEN STATE', u'Tf Green State Airport', u'Airport', u'ANE', u'KENT', u'PROVIDENCE', u'RI', u'Federalized/Commercial', 41.723999, -71.428221, u'Yes'),\n",
       " (613L, u'PVD', 2008L, 34486L, 34449L, 0.778, 0.7426, 0.7553, 14.78, 12.14, 3.05, 17.02, 3.7, 0.8, 2.74, 14.73, 379.0, 344.0, 73.0, 31.0, 2893.0, u'THEODORE FRANCIS GREEN STATE', u'Tf Green State Airport', u'Airport', u'ANE', u'KENT', u'PROVIDENCE', u'RI', u'Federalized/Commercial', 41.723999, -71.428221, u'Yes'),\n",
       " (614L, u'PVD', 2009L, 30672L, 30647L, 0.7929, 0.7594, 0.7815, 13.59, 11.88, 2.88, 15.62, 3.35, 0.79, 2.44, 12.26, 184.0, 156.0, 43.0, 26.0, 2893.0, u'THEODORE FRANCIS GREEN STATE', u'Tf Green State Airport', u'Airport', u'ANE', u'KENT', u'PROVIDENCE', u'RI', u'Federalized/Commercial', 41.723999, -71.428221, u'Yes'),\n",
       " (615L, u'PVD', 2010L, 29377L, 29257L, 0.8011, 0.7577, 0.77, 12.17, 12.3, 3.03, 14.29, 3.51, 0.63, 2.58, 12.7, 382.0, 367.0, 44.0, 38.0, 2893.0, u'THEODORE FRANCIS GREEN STATE', u'Tf Green State Airport', u'Airport', u'ANE', u'KENT', u'PROVIDENCE', u'RI', u'Federalized/Commercial', 41.723999, -71.428221, u'Yes'),\n",
       " (616L, u'PVD', 2011L, 28435L, 28405L, 0.7802, 0.7535, 0.7676, 14.61, 12.0, 2.44, 16.16, 3.27, 0.7, 2.24, 13.97, 421.0, 392.0, 37.0, 26.0, 2893.0, u'THEODORE FRANCIS GREEN STATE', u'Tf Green State Airport', u'Airport', u'ANE', u'KENT', u'PROVIDENCE', u'RI', u'Federalized/Commercial', 41.723999, -71.428221, u'Yes'),\n",
       " (617L, u'PVD', 2012L, 24534L, 24491L, 0.7971, 0.7779, 0.7784, 13.17, 11.22, 1.89, 14.19, 2.93, 0.66, 2.11, 12.56, 194.0, 165.0, 37.0, 37.0, 2893.0, u'THEODORE FRANCIS GREEN STATE', u'Tf Green State Airport', u'Airport', u'ANE', u'KENT', u'PROVIDENCE', u'RI', u'Federalized/Commercial', 41.723999, -71.428221, u'Yes'),\n",
       " (618L, u'PVD', 2013L, 23919L, 23904L, 0.7783, 0.7359, 0.7522, 14.17, 12.02, 3.14, 16.49, 2.62, 0.69, 2.47, 14.02, 212.0, 188.0, 33.0, 21.0, 2893.0, u'THEODORE FRANCIS GREEN STATE', u'Tf Green State Airport', u'Airport', u'ANE', u'KENT', u'PROVIDENCE', u'RI', u'Federalized/Commercial', 41.723999, -71.428221, u'Yes'),\n",
       " (619L, u'PVD', 2014L, 22281L, 21619L, 0.7845, 0.7601, 0.7381, 13.35, 11.61, 1.98, 14.73, 2.5, 0.66, 2.15, 15.11, 256.0, 235.0, 44.0, 21.0, 2893.0, u'THEODORE FRANCIS GREEN STATE', u'Tf Green State Airport', u'Airport', u'ANE', u'KENT', u'PROVIDENCE', u'RI', u'Federalized/Commercial', 41.723999, -71.428221, u'Yes'),\n",
       " (620L, u'RDU', 2004L, 91681L, 92066L, 0.7774, 0.7437, 0.7482, 13.02, 12.25, 3.27, 15.22, 2.39, 1.17, 3.47, 14.07, 1597.0, 1559.0, 139.0, 105.0, 2144.0, u'RALEIGH-DURHAM INTL', u\"Raleigh/Durham Int'l Airport\", u'Airport', u'ASO', u'WAKE', u'RALEIGH/DURHAM', u'NC', u'Federalized/Commercial', 35.877639, -78.787472, u'Yes'),\n",
       " (621L, u'RDU', 2005L, 92688L, 92884L, 0.7808, 0.7412, 0.7541, 12.61, 12.41, 3.49, 15.22, 2.32, 1.23, 3.02, 13.8, 1235.0, 1269.0, 182.0, 91.0, 2144.0, u'RALEIGH-DURHAM INTL', u\"Raleigh/Durham Int'l Airport\", u'Airport', u'ASO', u'WAKE', u'RALEIGH/DURHAM', u'NC', u'Federalized/Commercial', 35.877639, -78.787472, u'Yes'),\n",
       " (622L, u'RDU', 2006L, 88135L, 88308L, 0.7544, 0.7122, 0.7248, 14.76, 13.08, 3.76, 17.55, 2.47, 1.16, 3.55, 15.98, 1167.0, 1156.0, 178.0, 131.0, 2144.0, u'RALEIGH-DURHAM INTL', u\"Raleigh/Durham Int'l Airport\", u'Airport', u'ASO', u'WAKE', u'RALEIGH/DURHAM', u'NC', u'Federalized/Commercial', 35.877639, -78.787472, u'Yes'),\n",
       " (623L, u'RDU', 2007L, 92590L, 92877L, 0.7479, 0.7038, 0.7127, 15.65, 13.49, 3.85, 18.67, 2.64, 1.39, 3.54, 17.23, 1434.0, 1400.0, 198.0, 81.0, 2144.0, u'RALEIGH-DURHAM INTL', u\"Raleigh/Durham Int'l Airport\", u'Airport', u'ASO', u'WAKE', u'RALEIGH/DURHAM', u'NC', u'Federalized/Commercial', 35.877639, -78.787472, u'Yes'),\n",
       " (624L, u'RDU', 2008L, 82686L, 82877L, 0.7737, 0.7241, 0.7281, 14.46, 13.82, 4.08, 17.59, 2.83, 1.34, 3.79, 16.46, 1253.0, 1185.0, 136.0, 91.0, 2144.0, u'RALEIGH-DURHAM INTL', u\"Raleigh/Durham Int'l Airport\", u'Airport', u'ASO', u'WAKE', u'RALEIGH/DURHAM', u'NC', u'Federalized/Commercial', 35.877639, -78.787472, u'Yes'),\n",
       " (625L, u'RDU', 2009L, 73183L, 73439L, 0.798, 0.7486, 0.7757, 12.79, 14.18, 4.07, 15.83, 2.66, 1.12, 3.29, 13.07, 845.0, 791.0, 109.0, 71.0, 2144.0, u'RALEIGH-DURHAM INTL', u\"Raleigh/Durham Int'l Airport\", u'Airport', u'ASO', u'WAKE', u'RALEIGH/DURHAM', u'NC', u'Federalized/Commercial', 35.877639, -78.787472, u'Yes'),\n",
       " (626L, u'RDU', 2010L, 70023L, 70222L, 0.7987, 0.7516, 0.7737, 12.47, 13.87, 3.53, 15.03, 2.6, 0.97, 2.63, 13.01, 1207.0, 1134.0, 115.0, 73.0, 2144.0, u'RALEIGH-DURHAM INTL', u\"Raleigh/Durham Int'l Airport\", u'Airport', u'ASO', u'WAKE', u'RALEIGH/DURHAM', u'NC', u'Federalized/Commercial', 35.877639, -78.787472, u'Yes'),\n",
       " (627L, u'RDU', 2011L, 71200L, 71153L, 0.7824, 0.7408, 0.7668, 13.83, 13.68, 3.2, 16.04, 2.44, 0.86, 2.69, 13.63, 1020.0, 923.0, 99.0, 63.0, 2144.0, u'RALEIGH-DURHAM INTL', u\"Raleigh/Durham Int'l Airport\", u'Airport', u'ASO', u'WAKE', u'RALEIGH/DURHAM', u'NC', u'Federalized/Commercial', 35.877639, -78.787472, u'Yes'),\n",
       " (628L, u'RDU', 2012L, 68663L, 68555L, 0.8108, 0.7708, 0.7992, 11.89, 13.58, 3.15, 14.05, 2.16, 0.93, 2.11, 11.53, 679.0, 620.0, 88.0, 56.0, 2144.0, u'RALEIGH-DURHAM INTL', u\"Raleigh/Durham Int'l Airport\", u'Airport', u'ASO', u'WAKE', u'RALEIGH/DURHAM', u'NC', u'Federalized/Commercial', 35.877639, -78.787472, u'Yes'),\n",
       " (629L, u'RDU', 2013L, 67514L, 67182L, 0.7843, 0.7276, 0.7636, 13.8, 14.42, 4.14, 16.86, 2.25, 1.28, 2.74, 13.8, 926.0, 855.0, 95.0, 65.0, 2144.0, u'RALEIGH-DURHAM INTL', u\"Raleigh/Durham Int'l Airport\", u'Airport', u'ASO', u'WAKE', u'RALEIGH/DURHAM', u'NC', u'Federalized/Commercial', 35.877639, -78.787472, u'Yes'),\n",
       " (630L, u'RDU', 2014L, 67367L, 67330L, 0.7563, 0.7179, 0.752, 15.0, 13.67, 2.83, 17.11, 2.47, 0.9, 2.8, 14.55, 1156.0, 1019.0, 82.0, 66.0, 2144.0, u'RALEIGH-DURHAM INTL', u\"Raleigh/Durham Int'l Airport\", u'Airport', u'ASO', u'WAKE', u'RALEIGH/DURHAM', u'NC', u'Federalized/Commercial', 35.877639, -78.787472, u'Yes'),\n",
       " (631L, u'RFD', 2006L, 8649L, 8564L, 0.6907, 0.6568, 0.7287, 13.58, 7.96, 2.32, 15.1, 2.16, 0.85, 4.08, 13.46, 9.0, 11.0, 2.0, 8.0, 1165.0, u'CHICAGO/ROCKFORD INTL', u\"Chicago Rockford Int'l Airport\", u'Airport', u'AGL', u'WINNEBAGO', u'CHICAGO/ROCKFORD', u'IL', u'Federalized/Commercial', 42.195361, -89.097222, u'Yes'),\n",
       " (632L, u'RFD', 2007L, 9005L, 8979L, 0.684, 0.6338, 0.7453, 13.41, 8.53, 2.35, 15.39, 2.31, 0.77, 4.57, 13.18, 4.0, 7.0, 2.0, 11.0, 1165.0, u'CHICAGO/ROCKFORD INTL', u\"Chicago Rockford Int'l Airport\", u'Airport', u'AGL', u'WINNEBAGO', u'CHICAGO/ROCKFORD', u'IL', u'Federalized/Commercial', 42.195361, -89.097222, u'Yes'),\n",
       " (633L, u'RFD', 2008L, 8074L, 8011L, 0.6886, 0.6417, 0.7445, 14.56, 8.52, 2.31, 16.28, 2.19, 0.76, 4.26, 13.16, 5.0, 2.0, 0.0, 5.0, 1165.0, u'CHICAGO/ROCKFORD INTL', u\"Chicago Rockford Int'l Airport\", u'Airport', u'AGL', u'WINNEBAGO', u'CHICAGO/ROCKFORD', u'IL', u'Federalized/Commercial', 42.195361, -89.097222, u'Yes'),\n",
       " (634L, u'RFD', 2011L, 5094L, 5052L, 0.7899, 0.7905, 0.7838, 10.78, 10.67, 0.1, 10.63, 1.46, 0.02, 1.74, 10.49, 0.0, 0.0, 0.0, 0.0, 1165.0, u'CHICAGO/ROCKFORD INTL', u\"Chicago Rockford Int'l Airport\", u'Airport', u'AGL', u'WINNEBAGO', u'CHICAGO/ROCKFORD', u'IL', u'Federalized/Commercial', 42.195361, -89.097222, u'Yes'),\n",
       " (635L, u'RFD', 2012L, 4856L, 4762L, 0.793, 0.7807, 0.7934, 9.76, 10.51, 0.48, 10.22, 1.24, 0.03, 1.46, 10.22, 1.0, 1.0, 0.0, 0.0, 1165.0, u'CHICAGO/ROCKFORD INTL', u\"Chicago Rockford Int'l Airport\", u'Airport', u'AGL', u'WINNEBAGO', u'CHICAGO/ROCKFORD', u'IL', u'Federalized/Commercial', 42.195361, -89.097222, u'Yes'),\n",
       " (636L, u'RFD', 2013L, 4570L, 4445L, 0.754, 0.7425, 0.766, 12.23, 11.15, 0.31, 12.75, 1.41, 0.02, 1.97, 11.25, 0.0, 0.0, 0.0, 0.0, 1165.0, u'CHICAGO/ROCKFORD INTL', u\"Chicago Rockford Int'l Airport\", u'Airport', u'AGL', u'WINNEBAGO', u'CHICAGO/ROCKFORD', u'IL', u'Federalized/Commercial', 42.195361, -89.097222, u'Yes'),\n",
       " (637L, u'RSW', 2004L, 9204L, 9199L, 0.8228, 0.8101, 0.756, 10.72, 12.93, 2.09, 11.69, 1.64, 0.82, 3.39, 13.63, 270.0, 230.0, 48.0, 56.0, 857.0, u'SOUTHWEST FLORIDA INTL', u\"Southwest Florida Int'l Airport\", u'Airport', u'ASO', u'LEE', u'FORT MYERS', u'FL', u'Federalized/Commercial', 26.536167, -81.755167, u'Yes'),\n",
       " (638L, u'RSW', 2005L, 39361L, 39446L, 0.7828, 0.7557, 0.7208, 12.86, 13.46, 2.76, 14.55, 2.1, 1.6, 4.89, 14.91, 349.0, 331.0, 63.0, 34.0, 857.0, u'SOUTHWEST FLORIDA INTL', u\"Southwest Florida Int'l Airport\", u'Airport', u'ASO', u'LEE', u'FORT MYERS', u'FL', u'Federalized/Commercial', 26.536167, -81.755167, u'Yes'),\n",
       " (639L, u'RSW', 2006L, 38541L, 38574L, 0.7949, 0.7687, 0.7364, 12.31, 12.88, 2.44, 13.94, 2.49, 1.79, 4.82, 13.96, 179.0, 152.0, 89.0, 70.0, 857.0, u'SOUTHWEST FLORIDA INTL', u\"Southwest Florida Int'l Airport\", u'Airport', u'ASO', u'LEE', u'FORT MYERS', u'FL', u'Federalized/Commercial', 26.536167, -81.755167, u'Yes'),\n",
       " (640L, u'RSW', 2007L, 40564L, 40640L, 0.7825, 0.7528, 0.7281, 13.44, 12.63, 2.64, 15.27, 2.62, 1.41, 4.86, 14.86, 247.0, 231.0, 79.0, 48.0, 857.0, u'SOUTHWEST FLORIDA INTL', u\"Southwest Florida Int'l Airport\", u'Airport', u'ASO', u'LEE', u'FORT MYERS', u'FL', u'Federalized/Commercial', 26.536167, -81.755167, u'Yes'),\n",
       " (641L, u'RSW', 2008L, 38640L, 38758L, 0.8106, 0.7892, 0.7679, 12.09, 12.21, 2.21, 13.54, 2.05, 0.54, 4.4, 13.18, 250.0, 220.0, 79.0, 67.0, 857.0, u'SOUTHWEST FLORIDA INTL', u\"Southwest Florida Int'l Airport\", u'Airport', u'ASO', u'LEE', u'FORT MYERS', u'FL', u'Federalized/Commercial', 26.536167, -81.755167, u'Yes'),\n",
       " (642L, u'RSW', 2009L, 35902L, 35903L, 0.8298, 0.8077, 0.7976, 10.47, 11.98, 2.2, 11.86, 2.3, 0.75, 3.7, 11.06, 163.0, 140.0, 80.0, 40.0, 857.0, u'SOUTHWEST FLORIDA INTL', u\"Southwest Florida Int'l Airport\", u'Airport', u'ASO', u'LEE', u'FORT MYERS', u'FL', u'Federalized/Commercial', 26.536167, -81.755167, u'Yes'),\n",
       " (643L, u'RSW', 2010L, 36391L, 36472L, 0.833, 0.81, 0.7882, 10.55, 11.97, 2.23, 12.01, 2.46, 0.86, 3.58, 11.72, 347.0, 323.0, 64.0, 57.0, 857.0, u'SOUTHWEST FLORIDA INTL', u\"Southwest Florida Int'l Airport\", u'Airport', u'ASO', u'LEE', u'FORT MYERS', u'FL', u'Federalized/Commercial', 26.536167, -81.755167, u'Yes'),\n",
       " (644L, u'RSW', 2011L, 36450L, 36385L, 0.8199, 0.7929, 0.7812, 11.34, 12.13, 2.42, 12.89, 2.28, 0.94, 3.67, 12.27, 296.0, 241.0, 88.0, 73.0, 857.0, u'SOUTHWEST FLORIDA INTL', u\"Southwest Florida Int'l Airport\", u'Airport', u'ASO', u'LEE', u'FORT MYERS', u'FL', u'Federalized/Commercial', 26.536167, -81.755167, u'Yes'),\n",
       " (645L, u'RSW', 2012L, 34601L, 34659L, 0.8523, 0.8297, 0.811, 8.99, 11.97, 2.24, 10.33, 2.13, 0.88, 3.24, 10.36, 189.0, 165.0, 48.0, 43.0, 857.0, u'SOUTHWEST FLORIDA INTL', u\"Southwest Florida Int'l Airport\", u'Airport', u'ASO', u'LEE', u'FORT MYERS', u'FL', u'Federalized/Commercial', 26.536167, -81.755167, u'Yes'),\n",
       " (646L, u'RSW', 2013L, 35396L, 35252L, 0.8139, 0.788, 0.7735, 11.66, 12.21, 2.34, 13.25, 2.19, 1.03, 3.88, 12.59, 156.0, 138.0, 76.0, 59.0, 857.0, u'SOUTHWEST FLORIDA INTL', u\"Southwest Florida Int'l Airport\", u'Airport', u'ASO', u'LEE', u'FORT MYERS', u'FL', u'Federalized/Commercial', 26.536167, -81.755167, u'Yes'),\n",
       " (647L, u'RSW', 2014L, 34687L, 34572L, 0.7816, 0.7525, 0.7558, 13.91, 12.31, 2.45, 15.67, 2.61, 1.02, 3.93, 14.58, 384.0, 350.0, 92.0, 82.0, 857.0, u'SOUTHWEST FLORIDA INTL', u\"Southwest Florida Int'l Airport\", u'Airport', u'ASO', u'LEE', u'FORT MYERS', u'FL', u'Federalized/Commercial', 26.536167, -81.755167, u'Yes'),\n",
       " (648L, u'SAN', 2004L, 96361L, 95914L, 0.8296, 0.795, 0.7877, 8.8, 12.86, 3.49, 11.21, 2.62, 0.94, 3.04, 11.05, 944.0, 748.0, 165.0, 243.0, 650.0, u'SAN DIEGO INTL', u\"San Diego Int'l Airport\", u'Airport', u'AWP', u'SAN DIEGO', u'SAN DIEGO', u'CA', u'Federalized/Commercial', 32.733556, -117.189667, u'Yes'),\n",
       " (649L, u'SAN', 2005L, 102281L, 101518L, 0.8202, 0.776, 0.7774, 9.32, 13.3, 3.81, 12.15, 2.63, 1.16, 3.22, 11.49, 926.0, 768.0, 137.0, 202.0, 650.0, u'SAN DIEGO INTL', u\"San Diego Int'l Airport\", u'Airport', u'AWP', u'SAN DIEGO', u'SAN DIEGO', u'CA', u'Federalized/Commercial', 32.733556, -117.189667, u'Yes'),\n",
       " (650L, u'SAN', 2006L, 102803L, 102972L, 0.8189, 0.777, 0.7733, 9.64, 13.18, 3.5, 12.15, 2.55, 1.0, 3.11, 11.49, 1219.0, 1060.0, 171.0, 338.0, 650.0, u'SAN DIEGO INTL', u\"San Diego Int'l Airport\", u'Airport', u'AWP', u'SAN DIEGO', u'SAN DIEGO', u'CA', u'Federalized/Commercial', 32.733556, -117.189667, u'Yes'),\n",
       " (651L, u'SAN', 2007L, 106794L, 107009L, 0.8176, 0.7655, 0.7727, 10.11, 13.79, 4.03, 13.0, 2.73, 1.09, 2.96, 12.26, 1142.0, 1013.0, 236.0, 150.0, 650.0, u'SAN DIEGO INTL', u\"San Diego Int'l Airport\", u'Airport', u'AWP', u'SAN DIEGO', u'SAN DIEGO', u'CA', u'Federalized/Commercial', 32.733556, -117.189667, u'Yes'),\n",
       " (652L, u'SAN', 2008L, 103786L, 104107L, 0.8091, 0.7654, 0.7727, 11.02, 13.62, 3.75, 13.61, 2.66, 0.98, 3.19, 12.36, 1251.0, 1048.0, 201.0, 359.0, 650.0, u'SAN DIEGO INTL', u\"San Diego Int'l Airport\", u'Airport', u'AWP', u'SAN DIEGO', u'SAN DIEGO', u'CA', u'Federalized/Commercial', 32.733556, -117.189667, u'Yes'),\n",
       " (653L, u'SAN', 2009L, 91757L, 92101L, 0.83, 0.8021, 0.8048, 9.56, 12.95, 3.04, 11.45, 2.61, 0.89, 2.51, 10.11, 768.0, 653.0, 148.0, 219.0, 650.0, u'SAN DIEGO INTL', u\"San Diego Int'l Airport\", u'Airport', u'AWP', u'SAN DIEGO', u'SAN DIEGO', u'CA', u'Federalized/Commercial', 32.733556, -117.189667, u'Yes'),\n",
       " (654L, u'SAN', 2010L, 87436L, 87619L, 0.8166, 0.7808, 0.804, 10.2, 12.88, 3.11, 12.35, 2.37, 0.86, 2.21, 10.3, 858.0, 743.0, 128.0, 220.0, 650.0, u'SAN DIEGO INTL', u\"San Diego Int'l Airport\", u'Airport', u'AWP', u'SAN DIEGO', u'SAN DIEGO', u'CA', u'Federalized/Commercial', 32.733556, -117.189667, u'Yes'),\n",
       " (655L, u'SAN', 2011L, 85528L, 85655L, 0.8161, 0.7803, 0.7936, 10.36, 12.92, 3.17, 12.54, 2.02, 0.83, 2.52, 11.03, 1031.0, 884.0, 120.0, 172.0, 650.0, u'SAN DIEGO INTL', u\"San Diego Int'l Airport\", u'Airport', u'AWP', u'SAN DIEGO', u'SAN DIEGO', u'CA', u'Federalized/Commercial', 32.733556, -117.189667, u'Yes'),\n",
       " (656L, u'SAN', 2012L, 86058L, 86414L, 0.8273, 0.7819, 0.8065, 10.32, 13.37, 3.63, 12.91, 1.96, 1.06, 2.13, 10.76, 987.0, 830.0, 121.0, 253.0, 650.0, u'SAN DIEGO INTL', u\"San Diego Int'l Airport\", u'Airport', u'AWP', u'SAN DIEGO', u'SAN DIEGO', u'CA', u'Federalized/Commercial', 32.733556, -117.189667, u'Yes'),\n",
       " (657L, u'SAN', 2013L, 86848L, 87415L, 0.802, 0.7573, 0.7791, 11.26, 13.52, 3.71, 13.83, 1.95, 0.97, 2.39, 11.87, 956.0, 839.0, 133.0, 228.0, 650.0, u'SAN DIEGO INTL', u\"San Diego Int'l Airport\", u'Airport', u'AWP', u'SAN DIEGO', u'SAN DIEGO', u'CA', u'Federalized/Commercial', 32.733556, -117.189667, u'Yes'),\n",
       " (658L, u'SAN', 2014L, 90092L, 90007L, 0.7792, 0.7378, 0.7647, 12.82, 13.68, 3.58, 15.2, 2.1, 0.87, 2.46, 13.07, 1010.0, 931.0, 155.0, 183.0, 650.0, u'SAN DIEGO INTL', u\"San Diego Int'l Airport\", u'Airport', u'AWP', u'SAN DIEGO', u'SAN DIEGO', u'CA', u'Federalized/Commercial', 32.733556, -117.189667, u'Yes'),\n",
       " (659L, u'SAT', 2004L, 53755L, 54414L, 0.7849, 0.7684, 0.751, 11.87, 9.97, 2.37, 13.48, 2.88, 0.68, 3.35, 13.0, 555.0, 499.0, 51.0, 52.0, 3297.0, u'SAN ANTONIO INTL', u\"San Antonio Int'l Airport\", u'Airport', u'ASW', u'BEXAR', u'SAN ANTONIO', u'TX', u'Federalized/Commercial', 29.533694, -98.469778, u'Yes'),\n",
       " (660L, u'SAT', 2005L, 53524L, 54155L, 0.7943, 0.7735, 0.7637, 11.22, 10.08, 2.36, 12.83, 2.67, 0.97, 2.79, 12.23, 525.0, 502.0, 66.0, 31.0, 3297.0, u'SAN ANTONIO INTL', u\"San Antonio Int'l Airport\", u'Airport', u'ASW', u'BEXAR', u'SAN ANTONIO', u'TX', u'Federalized/Commercial', 29.533694, -98.469778, u'Yes'),\n",
       " (661L, u'SAT', 2006L, 56908L, 57817L, 0.7895, 0.7691, 0.7511, 11.92, 10.51, 2.42, 13.42, 2.75, 0.85, 3.03, 13.31, 474.0, 410.0, 94.0, 44.0, 3297.0, u'SAN ANTONIO INTL', u\"San Antonio Int'l Airport\", u'Airport', u'ASW', u'BEXAR', u'SAN ANTONIO', u'TX', u'Federalized/Commercial', 29.533694, -98.469778, u'Yes'),\n",
       " (662L, u'SAT', 2007L, 59403L, 60046L, 0.7702, 0.7403, 0.7189, 13.35, 11.11, 2.66, 15.21, 3.28, 0.95, 3.63, 15.26, 721.0, 660.0, 99.0, 113.0, 3297.0, u'SAN ANTONIO INTL', u\"San Antonio Int'l Airport\", u'Airport', u'ASW', u'BEXAR', u'SAN ANTONIO', u'TX', u'Federalized/Commercial', 29.533694, -98.469778, u'Yes'),\n",
       " (663L, u'SAT', 2008L, 58527L, 58757L, 0.7904, 0.7636, 0.7442, 12.26, 11.2, 2.58, 14.01, 2.56, 0.94, 3.14, 14.02, 542.0, 505.0, 99.0, 40.0, 3297.0, u'SAN ANTONIO INTL', u\"San Antonio Int'l Airport\", u'Airport', u'ASW', u'BEXAR', u'SAN ANTONIO', u'TX', u'Federalized/Commercial', 29.533694, -98.469778, u'Yes'),\n",
       " (664L, u'SAT', 2009L, 52057L, 52241L, 0.8059, 0.7851, 0.7788, 11.05, 10.55, 1.95, 12.29, 2.66, 0.8, 2.55, 12.23, 253.0, 207.0, 93.0, 61.0, 3297.0, u'SAN ANTONIO INTL', u\"San Antonio Int'l Airport\", u'Airport', u'ASW', u'BEXAR', u'SAN ANTONIO', u'TX', u'Federalized/Commercial', 29.533694, -98.469778, u'Yes'),\n",
       " (665L, u'SAT', 2010L, 52583L, 52984L, 0.7948, 0.7721, 0.764, 11.64, 10.57, 2.1, 12.98, 2.36, 0.92, 2.45, 13.12, 316.0, 292.0, 77.0, 72.0, 3297.0, u'SAN ANTONIO INTL', u\"San Antonio Int'l Airport\", u'Airport', u'ASW', u'BEXAR', u'SAN ANTONIO', u'TX', u'Federalized/Commercial', 29.533694, -98.469778, u'Yes'),\n",
       " (666L, u'SAT', 2011L, 52547L, 52923L, 0.8078, 0.7782, 0.7862, 11.09, 11.22, 2.63, 12.81, 1.71, 0.97, 2.25, 11.94, 418.0, 373.0, 97.0, 59.0, 3297.0, u'SAN ANTONIO INTL', u\"San Antonio Int'l Airport\", u'Airport', u'ASW', u'BEXAR', u'SAN ANTONIO', u'TX', u'Federalized/Commercial', 29.533694, -98.469778, u'Yes'),\n",
       " (667L, u'SAT', 2012L, 53839L, 53996L, 0.8082, 0.7789, 0.784, 10.82, 11.39, 2.74, 12.58, 1.69, 1.1, 2.45, 11.76, 303.0, 243.0, 64.0, 65.0, 3297.0, u'SAN ANTONIO INTL', u\"San Antonio Int'l Airport\", u'Airport', u'ASW', u'BEXAR', u'SAN ANTONIO', u'TX', u'Federalized/Commercial', 29.533694, -98.469778, u'Yes'),\n",
       " (668L, u'SAT', 2013L, 53652L, 54020L, 0.782, 0.76, 0.7557, 12.12, 11.14, 2.15, 13.44, 1.68, 0.86, 2.66, 13.21, 386.0, 330.0, 70.0, 88.0, 3297.0, u'SAN ANTONIO INTL', u\"San Antonio Int'l Airport\", u'Airport', u'ASW', u'BEXAR', u'SAN ANTONIO', u'TX', u'Federalized/Commercial', 29.533694, -98.469778, u'Yes'),\n",
       " (669L, u'SAT', 2014L, 53144L, 53325L, 0.7601, 0.7356, 0.7323, 13.55, 11.07, 2.07, 14.86, 2.17, 1.02, 2.84, 15.2, 458.0, 389.0, 80.0, 84.0, 3297.0, u'SAN ANTONIO INTL', u\"San Antonio Int'l Airport\", u'Airport', u'ASW', u'BEXAR', u'SAN ANTONIO', u'TX', u'Federalized/Commercial', 29.533694, -98.469778, u'Yes'),\n",
       " (670L, u'SDF', 2004L, 71480L, 71254L, 0.6908, 0.6431, 0.7361, 14.27, 11.73, 3.13, 16.62, 3.14, 1.09, 4.52, 13.33, 421.0, 359.0, 43.0, 44.0, 1437.0, u'LOUISVILLE INTL-STANDIFORD FIELD', u\"Louisville Int'l Airport\", u'Airport', u'ASO', u'JEFFERSON', u'LOUISVILLE', u'KY', u'Federalized/Commercial', 38.174086, -85.736499, u'Yes'),\n",
       " (671L, u'SDF', 2005L, 74853L, 74918L, 0.6405, 0.5939, 0.7037, 16.32, 11.85, 3.39, 18.97, 3.17, 1.49, 4.82, 14.63, 342.0, 314.0, 51.0, 19.0, 1437.0, u'LOUISVILLE INTL-STANDIFORD FIELD', u\"Louisville Int'l Airport\", u'Airport', u'ASO', u'JEFFERSON', u'LOUISVILLE', u'KY', u'Federalized/Commercial', 38.174086, -85.736499, u'Yes'),\n",
       " (672L, u'SDF', 2006L, 72888L, 72864L, 0.6283, 0.5702, 0.6786, 17.06, 13.09, 3.95, 20.27, 3.52, 1.67, 5.65, 15.97, 226.0, 189.0, 52.0, 32.0, 1437.0, u'LOUISVILLE INTL-STANDIFORD FIELD', u\"Louisville Int'l Airport\", u'Airport', u'ASO', u'JEFFERSON', u'LOUISVILLE', u'KY', u'Federalized/Commercial', 38.174086, -85.736499, u'Yes'),\n",
       " (673L, u'SDF', 2007L, 76091L, 75865L, 0.7061, 0.6413, 0.7182, 14.87, 12.91, 3.34, 17.54, 3.4, 1.17, 4.63, 14.6, 440.0, 399.0, 46.0, 12.0, 1437.0, u'LOUISVILLE INTL-STANDIFORD FIELD', u\"Louisville Int'l Airport\", u'Airport', u'ASO', u'JEFFERSON', u'LOUISVILLE', u'KY', u'Federalized/Commercial', 38.174086, -85.736499, u'Yes'),\n",
       " (674L, u'SDF', 2008L, 69842L, 69458L, 0.7034, 0.645, 0.7157, 15.22, 12.7, 3.03, 17.72, 3.51, 1.29, 5.13, 14.97, 405.0, 360.0, 60.0, 31.0, 1437.0, u'LOUISVILLE INTL-STANDIFORD FIELD', u\"Louisville Int'l Airport\", u'Airport', u'ASO', u'JEFFERSON', u'LOUISVILLE', u'KY', u'Federalized/Commercial', 38.174086, -85.736499, u'Yes'),\n",
       " (675L, u'SDF', 2009L, 63330L, 62958L, 0.7311, 0.6821, 0.7467, 14.04, 12.57, 2.59, 16.18, 2.99, 0.93, 4.18, 12.52, 276.0, 238.0, 42.0, 36.0, 1437.0, u'LOUISVILLE INTL-STANDIFORD FIELD', u\"Louisville Int'l Airport\", u'Airport', u'ASO', u'JEFFERSON', u'LOUISVILLE', u'KY', u'Federalized/Commercial', 38.174086, -85.736499, u'Yes'),\n",
       " (676L, u'SDF', 2010L, 65983L, 65408L, 0.7105, 0.6739, 0.729, 14.7, 12.62, 2.49, 16.54, 3.23, 0.88, 3.98, 13.52, 326.0, 288.0, 46.0, 22.0, 1437.0, u'LOUISVILLE INTL-STANDIFORD FIELD', u\"Louisville Int'l Airport\", u'Airport', u'ASO', u'JEFFERSON', u'LOUISVILLE', u'KY', u'Federalized/Commercial', 38.174086, -85.736499, u'Yes'),\n",
       " (677L, u'SDF', 2011L, 66057L, 65376L, 0.7105, 0.6952, 0.7288, 14.57, 11.91, 1.58, 15.48, 3.22, 0.6, 3.98, 13.58, 259.0, 241.0, 35.0, 39.0, 1437.0, u'LOUISVILLE INTL-STANDIFORD FIELD', u\"Louisville Int'l Airport\", u'Airport', u'ASO', u'JEFFERSON', u'LOUISVILLE', u'KY', u'Federalized/Commercial', 38.174086, -85.736499, u'Yes'),\n",
       " (678L, u'SDF', 2012L, 64282L, 63257L, 0.7131, 0.6973, 0.7286, 14.1, 11.95, 1.48, 15.04, 2.75, 0.73, 3.45, 13.24, 164.0, 140.0, 34.0, 21.0, 1437.0, u'LOUISVILLE INTL-STANDIFORD FIELD', u\"Louisville Int'l Airport\", u'Airport', u'ASO', u'JEFFERSON', u'LOUISVILLE', u'KY', u'Federalized/Commercial', 38.174086, -85.736499, u'Yes'),\n",
       " (679L, u'SDF', 2013L, 65029L, 63796L, 0.7236, 0.6863, 0.7131, 14.24, 12.54, 2.05, 16.02, 2.45, 0.75, 3.53, 14.23, 262.0, 213.0, 51.0, 26.0, 1437.0, u'LOUISVILLE INTL-STANDIFORD FIELD', u\"Louisville Int'l Airport\", u'Airport', u'ASO', u'JEFFERSON', u'LOUISVILLE', u'KY', u'Federalized/Commercial', 38.174086, -85.736499, u'Yes'),\n",
       " (680L, u'SDF', 2014L, 64316L, 63805L, 0.715, 0.6778, 0.727, 14.8, 12.39, 1.71, 16.43, 2.28, 0.71, 3.62, 14.26, 434.0, 383.0, 54.0, 15.0, 1437.0, u'LOUISVILLE INTL-STANDIFORD FIELD', u\"Louisville Int'l Airport\", u'Airport', u'ASO', u'JEFFERSON', u'LOUISVILLE', u'KY', u'Federalized/Commercial', 38.174086, -85.736499, u'Yes'),\n",
       " (681L, u'SEA', 2004L, 175769L, 175080L, 0.8173, 0.7812, 0.8107, 10.25, 13.17, 2.98, 12.34, 3.72, 1.14, 3.13, 10.27, 1280.0, 1366.0, 246.0, 179.0, 3520.0, u'SEATTLE-TACOMA INTL', u\"Seattle-Tacoma Int'l Airport\", u'Airport', u'ANM', u'KING', u'SEATTLE', u'WA', u'Federalized/Commercial', 47.449889, -122.311778, u'Yes'),\n",
       " (682L, u'SEA', 2005L, 167561L, 167023L, 0.7911, 0.7512, 0.776, 11.83, 13.29, 3.17, 14.04, 3.63, 1.44, 3.19, 12.53, 1006.0, 1161.0, 195.0, 178.0, 3520.0, u'SEATTLE-TACOMA INTL', u\"Seattle-Tacoma Int'l Airport\", u'Airport', u'ANM', u'KING', u'SEATTLE', u'WA', u'Federalized/Commercial', 47.449889, -122.311778, u'Yes'),\n",
       " (683L, u'SEA', 2006L, 166479L, 167019L, 0.7927, 0.7469, 0.7632, 11.67, 14.62, 3.8, 14.28, 3.78, 1.5, 4.15, 13.06, 913.0, 1052.0, 227.0, 180.0, 3520.0, u'SEATTLE-TACOMA INTL', u\"Seattle-Tacoma Int'l Airport\", u'Airport', u'ANM', u'KING', u'SEATTLE', u'WA', u'Federalized/Commercial', 47.449889, -122.311778, u'Yes'),\n",
       " (684L, u'SEA', 2007L, 167658L, 167931L, 0.7771, 0.7152, 0.7437, 12.38, 15.53, 4.04, 15.54, 4.18, 1.29, 4.66, 14.16, 1077.0, 1242.0, 253.0, 197.0, 3520.0, u'SEATTLE-TACOMA INTL', u\"Seattle-Tacoma Int'l Airport\", u'Airport', u'ANM', u'KING', u'SEATTLE', u'WA', u'Federalized/Commercial', 47.449889, -122.311778, u'Yes'),\n",
       " (685L, u'SEA', 2008L, 166460L, 167035L, 0.8173, 0.7716, 0.7763, 10.36, 15.77, 3.57, 12.93, 4.38, 1.47, 4.33, 12.19, 1142.0, 1163.0, 264.0, 175.0, 3520.0, u'SEATTLE-TACOMA INTL', u\"Seattle-Tacoma Int'l Airport\", u'Airport', u'ANM', u'KING', u'SEATTLE', u'WA', u'Federalized/Commercial', 47.449889, -122.311778, u'Yes'),\n",
       " (686L, u'SEA', 2009L, 154524L, 154814L, 0.867, 0.8208, 0.833, 7.66, 15.5, 3.39, 10.13, 3.7, 1.85, 3.36, 9.03, 487.0, 460.0, 245.0, 181.0, 3520.0, u'SEATTLE-TACOMA INTL', u\"Seattle-Tacoma Int'l Airport\", u'Airport', u'ANM', u'KING', u'SEATTLE', u'WA', u'Federalized/Commercial', 47.449889, -122.311778, u'Yes'),\n",
       " (687L, u'SEA', 2010L, 152846L, 153105L, 0.8708, 0.8449, 0.848, 7.46, 14.32, 2.39, 8.96, 3.1, 1.17, 2.64, 8.67, 480.0, 458.0, 253.0, 94.0, 3520.0, u'SEATTLE-TACOMA INTL', u\"Seattle-Tacoma Int'l Airport\", u'Airport', u'ANM', u'KING', u'SEATTLE', u'WA', u'Federalized/Commercial', 47.449889, -122.311778, u'Yes'),\n",
       " (688L, u'SEA', 2011L, 153354L, 153779L, 0.8786, 0.8503, 0.8456, 6.94, 14.09, 2.58, 8.65, 2.83, 0.96, 2.9, 8.56, 509.0, 509.0, 203.0, 127.0, 3520.0, u'SEATTLE-TACOMA INTL', u\"Seattle-Tacoma Int'l Airport\", u'Airport', u'ANM', u'KING', u'SEATTLE', u'WA', u'Federalized/Commercial', 47.449889, -122.311778, u'Yes'),\n",
       " (689L, u'SEA', 2012L, 151109L, 150604L, 0.8806, 0.8507, 0.8577, 7.13, 14.05, 2.6, 8.86, 2.56, 1.32, 2.73, 8.05, 658.0, 671.0, 236.0, 117.0, 3520.0, u'SEATTLE-TACOMA INTL', u\"Seattle-Tacoma Int'l Airport\", u'Airport', u'ANM', u'KING', u'SEATTLE', u'WA', u'Federalized/Commercial', 47.449889, -122.311778, u'Yes'),\n",
       " (690L, u'SEA', 2013L, 154456L, 153310L, 0.8626, 0.8212, 0.8413, 7.88, 14.54, 3.24, 10.09, 2.23, 1.86, 3.42, 8.76, 423.0, 441.0, 201.0, 184.0, 3520.0, u'SEATTLE-TACOMA INTL', u\"Seattle-Tacoma Int'l Airport\", u'Airport', u'ANM', u'KING', u'SEATTLE', u'WA', u'Federalized/Commercial', 47.449889, -122.311778, u'Yes'),\n",
       " (691L, u'SEA', 2014L, 165858L, 165955L, 0.848, 0.8063, 0.8245, 8.63, 14.79, 3.18, 10.87, 2.75, 1.82, 3.88, 9.86, 502.0, 543.0, 272.0, 98.0, 3520.0, u'SEATTLE-TACOMA INTL', u\"Seattle-Tacoma Int'l Airport\", u'Airport', u'ANM', u'KING', u'SEATTLE', u'WA', u'Federalized/Commercial', 47.449889, -122.311778, u'Yes'),\n",
       " (692L, u'SFO', 2004L, 162677L, 166132L, 0.8245, 0.767, 0.7627, 9.82, 15.8, 4.41, 12.84, 2.77, 1.15, 3.93, 13.28, 1768.0, 1987.0, 250.0, 139.0, 651.0, u'SAN FRANCISCO INTL', u\"San Francisco Int'l Airport\", u'Airport', u'AWP', u'SAN MATEO', u'SAN FRANCISCO', u'CA', u'Federalized/Commercial', 37.618972, -122.374889, u'Yes'),\n",
       " (693L, u'SFO', 2005L, 162913L, 164784L, 0.7958, 0.7376, 0.7438, 12.21, 15.72, 4.15, 15.17, 2.91, 1.32, 4.06, 15.25, 1644.0, 1865.0, 274.0, 138.0, 651.0, u'SAN FRANCISCO INTL', u\"San Francisco Int'l Airport\", u'Airport', u'AWP', u'SAN MATEO', u'SAN FRANCISCO', u'CA', u'Federalized/Commercial', 37.618972, -122.374889, u'Yes'),\n",
       " (694L, u'SFO', 2006L, 166306L, 168661L, 0.7467, 0.6851, 0.7019, 14.69, 16.1, 4.39, 17.91, 3.08, 1.38, 4.8, 17.17, 2361.0, 2530.0, 238.0, 129.0, 651.0, u'SAN FRANCISCO INTL', u\"San Francisco Int'l Airport\", u'Airport', u'AWP', u'SAN MATEO', u'SAN FRANCISCO', u'CA', u'Federalized/Commercial', 37.618972, -122.374889, u'Yes'),\n",
       " (695L, u'SFO', 2007L, 174691L, 174929L, 0.7459, 0.6652, 0.6959, 15.32, 17.32, 5.25, 19.36, 3.42, 1.6, 4.8, 18.14, 2550.0, 2753.0, 332.0, 162.0, 651.0, u'SAN FRANCISCO INTL', u\"San Francisco Int'l Airport\", u'Airport', u'AWP', u'SAN MATEO', u'SAN FRANCISCO', u'CA', u'Federalized/Commercial', 37.618972, -122.374889, u'Yes'),\n",
       " (696L, u'SFO', 2008L, 180476L, 180799L, 0.7532, 0.691, 0.7007, 16.12, 17.2, 4.51, 19.52, 3.59, 1.77, 4.72, 19.46, 2790.0, 2984.0, 342.0, 243.0, 651.0, u'SAN FRANCISCO INTL', u\"San Francisco Int'l Airport\", u'Airport', u'AWP', u'SAN MATEO', u'SAN FRANCISCO', u'CA', u'Federalized/Commercial', 37.618972, -122.374889, u'Yes'),\n",
       " (697L, u'SFO', 2009L, 178369L, 178980L, 0.7844, 0.7347, 0.7412, 13.52, 16.51, 3.87, 16.32, 3.66, 1.53, 3.92, 16.75, 1631.0, 1860.0, 302.0, 194.0, 651.0, u'SAN FRANCISCO INTL', u\"San Francisco Int'l Airport\", u'Airport', u'AWP', u'SAN MATEO', u'SAN FRANCISCO', u'CA', u'Federalized/Commercial', 37.618972, -122.374889, u'Yes'),\n",
       " (698L, u'SFO', 2010L, 181495L, 181856L, 0.7549, 0.7063, 0.7176, 16.22, 16.0, 3.73, 18.88, 3.65, 1.73, 3.89, 19.17, 2702.0, 2934.0, 365.0, 352.0, 651.0, u'SAN FRANCISCO INTL', u\"San Francisco Int'l Airport\", u'Airport', u'AWP', u'SAN MATEO', u'SAN FRANCISCO', u'CA', u'Federalized/Commercial', 37.618972, -122.374889, u'Yes'),\n",
       " (699L, u'SFO', 2011L, 189552L, 190242L, 0.7655, 0.6995, 0.7165, 14.81, 16.43, 4.4, 18.24, 3.66, 2.15, 3.84, 18.37, 2859.0, 3019.0, 324.0, 321.0, 651.0, u'SAN FRANCISCO INTL', u\"San Francisco Int'l Airport\", u'Airport', u'AWP', u'SAN MATEO', u'SAN FRANCISCO', u'CA', u'Federalized/Commercial', 37.618972, -122.374889, u'Yes'),\n",
       " (700L, u'SFO', 2012L, 199751L, 200238L, 0.7294, 0.6413, 0.6978, 17.53, 17.48, 5.32, 21.86, 3.24, 3.07, 3.69, 21.01, 4014.0, 4232.0, 383.0, 338.0, 651.0, u'SAN FRANCISCO INTL', u\"San Francisco Int'l Airport\", u'Airport', u'AWP', u'SAN MATEO', u'SAN FRANCISCO', u'CA', u'Federalized/Commercial', 37.618972, -122.374889, u'Yes'),\n",
       " (701L, u'SFO', 2013L, 198131L, 198877L, 0.7623, 0.7034, 0.727, 15.05, 16.43, 4.13, 18.08, 2.99, 2.23, 3.27, 18.44, 3318.0, 3503.0, 431.0, 476.0, 651.0, u'SAN FRANCISCO INTL', u\"San Francisco Int'l Airport\", u'Airport', u'AWP', u'SAN MATEO', u'SAN FRANCISCO', u'CA', u'Federalized/Commercial', 37.618972, -122.374889, u'Yes'),\n",
       " (702L, u'SFO', 2014L, 206374L, 205946L, 0.736, 0.6458, 0.6993, 16.16, 17.84, 5.59, 20.69, 3.2, 2.17, 3.71, 19.65, 4257.0, 4493.0, 441.0, 375.0, 651.0, u'SAN FRANCISCO INTL', u\"San Francisco Int'l Airport\", u'Airport', u'AWP', u'SAN MATEO', u'SAN FRANCISCO', u'CA', u'Federalized/Commercial', 37.618972, -122.374889, u'Yes'),\n",
       " (703L, u'SJC', 2004L, 75631L, 76805L, 0.8063, 0.7764, 0.783, 9.75, 12.05, 3.07, 11.97, 2.64, 0.82, 2.58, 11.3, 849.0, 797.0, 83.0, 83.0, 609.0, u'NORMAN Y. MINETA SAN JOSE INTL', u\"Norman Y Mineta San Jose Int'l\", u'Airport', u'AWP', u'SANTA CLARA', u'SAN JOSE', u'CA', u'Federalized/Commercial', 37.362667, -121.929111, u'Yes'),\n",
       " (704L, u'SJC', 2005L, 72696L, 73263L, 0.8011, 0.7849, 0.7688, 9.97, 11.08, 2.19, 11.43, 2.68, 1.08, 2.67, 11.87, 764.0, 691.0, 87.0, 43.0, 609.0, u'NORMAN Y. MINETA SAN JOSE INTL', u\"Norman Y Mineta San Jose Int'l\", u'Airport', u'AWP', u'SANTA CLARA', u'SAN JOSE', u'CA', u'Federalized/Commercial', 37.362667, -121.929111, u'Yes'),\n",
       " (705L, u'SJC', 2006L, 73196L, 73856L, 0.7908, 0.7599, 0.7588, 10.55, 11.92, 3.06, 12.65, 2.47, 0.99, 2.94, 12.25, 753.0, 669.0, 94.0, 103.0, 609.0, u'NORMAN Y. MINETA SAN JOSE INTL', u\"Norman Y Mineta San Jose Int'l\", u'Airport', u'AWP', u'SANTA CLARA', u'SAN JOSE', u'CA', u'Federalized/Commercial', 37.362667, -121.929111, u'Yes'),\n",
       " (706L, u'SJC', 2007L, 73741L, 74273L, 0.7988, 0.7761, 0.7649, 10.42, 11.5, 2.31, 11.75, 2.25, 0.81, 2.63, 12.24, 737.0, 678.0, 108.0, 57.0, 609.0, u'NORMAN Y. MINETA SAN JOSE INTL', u\"Norman Y Mineta San Jose Int'l\", u'Airport', u'AWP', u'SANTA CLARA', u'SAN JOSE', u'CA', u'Federalized/Commercial', 37.362667, -121.929111, u'Yes'),\n",
       " (707L, u'SJC', 2008L, 67435L, 67891L, 0.816, 0.7987, 0.7831, 9.98, 11.11, 2.15, 11.27, 1.97, 0.92, 2.52, 11.44, 806.0, 759.0, 111.0, 87.0, 609.0, u'NORMAN Y. MINETA SAN JOSE INTL', u\"Norman Y Mineta San Jose Int'l\", u'Airport', u'AWP', u'SANTA CLARA', u'SAN JOSE', u'CA', u'Federalized/Commercial', 37.362667, -121.929111, u'Yes'),\n",
       " (708L, u'SJC', 2009L, 57650L, 57930L, 0.8437, 0.8324, 0.8189, 8.21, 10.55, 1.74, 9.1, 1.61, 0.92, 1.9, 9.18, 535.0, 517.0, 62.0, 30.0, 609.0, u'NORMAN Y. MINETA SAN JOSE INTL', u\"Norman Y Mineta San Jose Int'l\", u'Airport', u'AWP', u'SANTA CLARA', u'SAN JOSE', u'CA', u'Federalized/Commercial', 37.362667, -121.929111, u'Yes'),\n",
       " (709L, u'SJC', 2010L, 52042L, 52357L, 0.7955, 0.7859, 0.7883, 10.32, 10.18, 1.59, 11.07, 1.65, 0.73, 2.13, 10.69, 380.0, 351.0, 72.0, 43.0, 609.0, u'NORMAN Y. MINETA SAN JOSE INTL', u\"Norman Y Mineta San Jose Int'l\", u'Airport', u'AWP', u'SANTA CLARA', u'SAN JOSE', u'CA', u'Federalized/Commercial', 37.362667, -121.929111, u'Yes'),\n",
       " (710L, u'SJC', 2011L, 51848L, 52070L, 0.8084, 0.7917, 0.7975, 9.9, 10.2, 1.83, 10.99, 1.36, 0.68, 2.05, 10.37, 489.0, 450.0, 60.0, 71.0, 609.0, u'NORMAN Y. MINETA SAN JOSE INTL', u\"Norman Y Mineta San Jose Int'l\", u'Airport', u'AWP', u'SANTA CLARA', u'SAN JOSE', u'CA', u'Federalized/Commercial', 37.362667, -121.929111, u'Yes'),\n",
       " (711L, u'SJC', 2012L, 50458L, 50521L, 0.8317, 0.8131, 0.8277, 8.66, 10.48, 2.1, 9.92, 1.39, 0.78, 1.8, 8.87, 398.0, 361.0, 49.0, 33.0, 609.0, u'NORMAN Y. MINETA SAN JOSE INTL', u\"Norman Y Mineta San Jose Int'l\", u'Airport', u'AWP', u'SANTA CLARA', u'SAN JOSE', u'CA', u'Federalized/Commercial', 37.362667, -121.929111, u'Yes'),\n",
       " (712L, u'SJC', 2013L, 52414L, 52518L, 0.7862, 0.763, 0.7797, 10.85, 11.01, 2.28, 12.29, 1.33, 0.71, 2.02, 11.31, 432.0, 403.0, 60.0, 25.0, 609.0, u'NORMAN Y. MINETA SAN JOSE INTL', u\"Norman Y Mineta San Jose Int'l\", u'Airport', u'AWP', u'SANTA CLARA', u'SAN JOSE', u'CA', u'Federalized/Commercial', 37.362667, -121.929111, u'Yes'),\n",
       " (713L, u'SJC', 2014L, 55558L, 55523L, 0.7589, 0.737, 0.7487, 12.67, 11.06, 2.14, 13.93, 1.8, 0.7, 2.46, 13.09, 428.0, 391.0, 70.0, 34.0, 609.0, u'NORMAN Y. MINETA SAN JOSE INTL', u\"Norman Y Mineta San Jose Int'l\", u'Airport', u'AWP', u'SANTA CLARA', u'SAN JOSE', u'CA', u'Federalized/Commercial', 37.362667, -121.929111, u'Yes'),\n",
       " (714L, u'SJU', 2004L, 60371L, 56735L, 0.8019, 0.7794, 0.7984, 11.19, 13.84, 2.27, 12.43, 1.88, 0.79, 3.39, 12.28, 330.0, 289.0, 55.0, 28.0, 2885.0, u'LUIS MUNOZ MARIN INTL', u\"Aeropuerto Int'l Luis Mu\\ufffdoz Marin\", u'Airport', u'ASO', u'#NAME?', u'SAN JUAN', u'PR', u'Federalized/Commercial', 18.439295, -66.002004, u'Yes'),\n",
       " (715L, u'SJU', 2005L, 57736L, 54870L, 0.7789, 0.7464, 0.7604, 12.74, 14.14, 3.03, 14.43, 1.63, 1.36, 4.04, 14.65, 315.0, 282.0, 64.0, 36.0, 2885.0, u'LUIS MUNOZ MARIN INTL', u\"Aeropuerto Int'l Luis Mu\\ufffdoz Marin\", u'Airport', u'ASO', u'#NAME?', u'SAN JUAN', u'PR', u'Federalized/Commercial', 18.439295, -66.002004, u'Yes'),\n",
       " (716L, u'SJU', 2006L, 55707L, 52948L, 0.8054, 0.7446, 0.7611, 11.61, 15.75, 4.28, 14.34, 1.73, 1.29, 4.19, 14.17, 257.0, 233.0, 63.0, 44.0, 2885.0, u'LUIS MUNOZ MARIN INTL', u\"Aeropuerto Int'l Luis Mu\\ufffdoz Marin\", u'Airport', u'ASO', u'#NAME?', u'SAN JUAN', u'PR', u'Federalized/Commercial', 18.439295, -66.002004, u'Yes'),\n",
       " (717L, u'SJU', 2007L, 47987L, 47246L, 0.8014, 0.7522, 0.7414, 12.53, 15.22, 3.16, 14.97, 1.55, 1.71, 4.09, 16.31, 307.0, 278.0, 70.0, 42.0, 2885.0, u'LUIS MUNOZ MARIN INTL', u\"Aeropuerto Int'l Luis Mu\\ufffdoz Marin\", u'Airport', u'ASO', u'#NAME?', u'SAN JUAN', u'PR', u'Federalized/Commercial', 18.439295, -66.002004, u'Yes'),\n",
       " (718L, u'SJU', 2008L, 44493L, 43448L, 0.8004, 0.781, 0.7533, 12.54, 14.22, 1.85, 13.59, 1.64, 1.25, 3.75, 15.18, 238.0, 197.0, 78.0, 29.0, 2885.0, u'LUIS MUNOZ MARIN INTL', u\"Aeropuerto Int'l Luis Mu\\ufffdoz Marin\", u'Airport', u'ASO', u'#NAME?', u'SAN JUAN', u'PR', u'Federalized/Commercial', 18.439295, -66.002004, u'Yes'),\n",
       " (719L, u'SJU', 2009L, 48418L, 46678L, 0.8168, 0.8015, 0.7999, 11.44, 13.29, 1.43, 12.28, 1.22, 0.95, 2.88, 11.77, 199.0, 159.0, 57.0, 58.0, 2885.0, u'LUIS MUNOZ MARIN INTL', u\"Aeropuerto Int'l Luis Mu\\ufffdoz Marin\", u'Airport', u'ASO', u'#NAME?', u'SAN JUAN', u'PR', u'Federalized/Commercial', 18.439295, -66.002004, u'Yes'),\n",
       " (720L, u'SJU', 2010L, 47314L, 45781L, 0.7967, 0.7815, 0.7719, 12.21, 13.04, 1.39, 13.0, 1.65, 1.32, 3.53, 13.4, 258.0, 207.0, 82.0, 45.0, 2885.0, u'LUIS MUNOZ MARIN INTL', u\"Aeropuerto Int'l Luis Mu\\ufffdoz Marin\", u'Airport', u'ASO', u'#NAME?', u'SAN JUAN', u'PR', u'Federalized/Commercial', 18.439295, -66.002004, u'Yes'),\n",
       " (721L, u'SJU', 2011L, 42803L, 42401L, 0.8179, 0.7934, 0.7899, 10.86, 13.23, 1.96, 12.07, 1.45, 1.57, 3.67, 12.28, 240.0, 201.0, 101.0, 55.0, 2885.0, u'LUIS MUNOZ MARIN INTL', u\"Aeropuerto Int'l Luis Mu\\ufffdoz Marin\", u'Airport', u'ASO', u'#NAME?', u'SAN JUAN', u'PR', u'Federalized/Commercial', 18.439295, -66.002004, u'Yes'),\n",
       " (722L, u'SJU', 2012L, 44716L, 43985L, 0.8417, 0.8228, 0.8181, 9.55, 13.15, 1.82, 10.55, 1.41, 1.33, 2.89, 10.64, 174.0, 141.0, 62.0, 41.0, 2885.0, u'LUIS MUNOZ MARIN INTL', u\"Aeropuerto Int'l Luis Mu\\ufffdoz Marin\", u'Airport', u'ASO', u'#NAME?', u'SAN JUAN', u'PR', u'Federalized/Commercial', 18.439295, -66.002004, u'Yes'),\n",
       " (723L, u'SJU', 2013L, 42902L, 42175L, 0.8058, 0.7808, 0.784, 12.31, 13.56, 2.2, 13.52, 1.78, 1.41, 2.86, 12.96, 127.0, 94.0, 65.0, 64.0, 2885.0, u'LUIS MUNOZ MARIN INTL', u\"Aeropuerto Int'l Luis Mu\\ufffdoz Marin\", u'Airport', u'ASO', u'#NAME?', u'SAN JUAN', u'PR', u'Federalized/Commercial', 18.439295, -66.002004, u'Yes'),\n",
       " (724L, u'SJU', 2014L, 43671L, 42965L, 0.8056, 0.7784, 0.7815, 11.71, 12.89, 1.88, 13.13, 1.81, 1.0, 2.93, 12.79, 280.0, 241.0, 72.0, 31.0, 2885.0, u'LUIS MUNOZ MARIN INTL', u\"Aeropuerto Int'l Luis Mu\\ufffdoz Marin\", u'Airport', u'ASO', u'#NAME?', u'SAN JUAN', u'PR', u'Federalized/Commercial', 18.439295, -66.002004, u'Yes'),\n",
       " (725L, u'SLC', 2004L, 161528L, 160765L, 0.833, 0.7503, 0.8062, 8.75, 15.88, 5.03, 12.78, 3.08, 1.53, 3.73, 10.23, 1547.0, 1931.0, 273.0, 93.0, 3377.0, u'SALT LAKE CITY INTL', u\"Salt Lake City Int'l Airport\", u'Airport', u'ANM', u'SALT LAKE', u'SALT LAKE CITY', u'UT', u'Federalized/Commercial', 40.788388, -111.977773, u'Yes'),\n",
       " (726L, u'SLC', 2005L, 186361L, 184974L, 0.8237, 0.743, 0.8195, 8.99, 16.25, 4.8, 12.77, 2.94, 1.84, 3.07, 9.47, 1685.0, 2222.0, 337.0, 115.0, 3377.0, u'SALT LAKE CITY INTL', u\"Salt Lake City Int'l Airport\", u'Airport', u'ANM', u'SALT LAKE', u'SALT LAKE CITY', u'UT', u'Federalized/Commercial', 40.788388, -111.977773, u'Yes'),\n",
       " (727L, u'SLC', 2006L, 205054L, 169156L, 0.8292, 0.7278, 0.8055, 9.04, 17.4, 5.76, 13.57, 3.82, 1.73, 3.42, 10.49, 1027.0, 1325.0, 285.0, 93.0, 3377.0, u'SALT LAKE CITY INTL', u\"Salt Lake City Int'l Airport\", u'Airport', u'ANM', u'SALT LAKE', u'SALT LAKE CITY', u'UT', u'Federalized/Commercial', 40.788388, -111.977773, u'Yes'),\n",
       " (728L, u'SLC', 2007L, 171576L, 169476L, 0.813, 0.6974, 0.7813, 10.06, 18.72, 6.6, 15.34, 4.62, 1.86, 3.77, 11.98, 1123.0, 1482.0, 353.0, 82.0, 3377.0, u'SALT LAKE CITY INTL', u\"Salt Lake City Int'l Airport\", u'Airport', u'ANM', u'SALT LAKE', u'SALT LAKE CITY', u'UT', u'Federalized/Commercial', 40.788388, -111.977773, u'Yes'),\n",
       " (729L, u'SLC', 2008L, 159347L, 157543L, 0.8369, 0.7518, 0.8192, 9.19, 18.25, 5.64, 13.43, 3.8, 1.79, 3.33, 10.38, 1089.0, 1335.0, 414.0, 172.0, 3377.0, u'SALT LAKE CITY INTL', u\"Salt Lake City Int'l Airport\", u'Airport', u'ANM', u'SALT LAKE', u'SALT LAKE CITY', u'UT', u'Federalized/Commercial', 40.788388, -111.977773, u'Yes'),\n",
       " (730L, u'SLC', 2009L, 151233L, 149920L, 0.8558, 0.7571, 0.8398, 7.86, 18.8, 5.93, 12.45, 4.08, 2.04, 3.22, 8.86, 734.0, 1000.0, 447.0, 190.0, 3377.0, u'SALT LAKE CITY INTL', u\"Salt Lake City Int'l Airport\", u'Airport', u'ANM', u'SALT LAKE', u'SALT LAKE CITY', u'UT', u'Federalized/Commercial', 40.788388, -111.977773, u'Yes'),\n",
       " (731L, u'SLC', 2010L, 147975L, 146918L, 0.8293, 0.7402, 0.8195, 9.44, 18.29, 5.28, 13.54, 4.06, 1.9, 3.11, 9.84, 1006.0, 1431.0, 483.0, 241.0, 3377.0, u'SALT LAKE CITY INTL', u\"Salt Lake City Int'l Airport\", u'Airport', u'ANM', u'SALT LAKE', u'SALT LAKE CITY', u'UT', u'Federalized/Commercial', 40.788388, -111.977773, u'Yes'),\n",
       " (732L, u'SLC', 2011L, 139366L, 139144L, 0.8529, 0.7914, 0.8488, 8.18, 17.41, 4.54, 11.25, 2.71, 1.32, 2.4, 8.38, 801.0, 1145.0, 387.0, 163.0, 3377.0, u'SALT LAKE CITY INTL', u\"Salt Lake City Int'l Airport\", u'Airport', u'ANM', u'SALT LAKE', u'SALT LAKE CITY', u'UT', u'Federalized/Commercial', 40.788388, -111.977773, u'Yes'),\n",
       " (733L, u'SLC', 2012L, 129026L, 129031L, 0.8691, 0.8153, 0.8661, 7.26, 17.21, 4.42, 10.16, 1.87, 1.3, 2.19, 7.52, 473.0, 754.0, 312.0, 62.0, 3377.0, u'SALT LAKE CITY INTL', u\"Salt Lake City Int'l Airport\", u'Airport', u'ANM', u'SALT LAKE', u'SALT LAKE CITY', u'UT', u'Federalized/Commercial', 40.788388, -111.977773, u'Yes'),\n",
       " (734L, u'SLC', 2013L, 128090L, 127946L, 0.8408, 0.7698, 0.8367, 9.44, 18.13, 5.31, 13.15, 2.02, 1.75, 2.79, 9.75, 869.0, 1139.0, 301.0, 291.0, 3377.0, u'SALT LAKE CITY INTL', u\"Salt Lake City Int'l Airport\", u'Airport', u'ANM', u'SALT LAKE', u'SALT LAKE CITY', u'UT', u'Federalized/Commercial', 40.788388, -111.977773, u'Yes'),\n",
       " (735L, u'SLC', 2014L, 129307L, 128941L, 0.8286, 0.7866, 0.8369, 9.86, 16.59, 3.72, 12.17, 1.84, 1.31, 2.47, 9.77, 573.0, 801.0, 278.0, 103.0, 3377.0, u'SALT LAKE CITY INTL', u\"Salt Lake City Int'l Airport\", u'Airport', u'ANM', u'SALT LAKE', u'SALT LAKE CITY', u'UT', u'Federalized/Commercial', 40.788388, -111.977773, u'Yes'),\n",
       " (736L, u'SMF', 2007L, 65686L, 65960L, 0.8025, 0.769, 0.7724, 11.01, 10.86, 2.64, 12.95, 2.54, 1.12, 2.59, 12.17, 551.0, 494.0, 100.0, 53.0, 644.0, u'SACRAMENTO INTL', u\"Sacramento Int'l Airport\", u'Airport', u'AWP', u'SACRAMENTO', u'SACRAMENTO', u'CA', u'Federalized/Commercial', 38.695444, -121.590778, u'Yes'),\n",
       " (737L, u'SMF', 2008L, 61470L, 61500L, 0.8067, 0.7884, 0.7706, 11.12, 10.46, 1.93, 12.29, 2.13, 0.73, 2.49, 12.13, 507.0, 457.0, 112.0, 63.0, 644.0, u'SACRAMENTO INTL', u\"Sacramento Int'l Airport\", u'Airport', u'AWP', u'SACRAMENTO', u'SACRAMENTO', u'CA', u'Federalized/Commercial', 38.695444, -121.590778, u'Yes'),\n",
       " (738L, u'SMF', 2009L, 52731L, 52905L, 0.8401, 0.8281, 0.8066, 9.02, 9.85, 1.57, 9.75, 1.88, 0.65, 1.75, 9.87, 344.0, 324.0, 58.0, 24.0, 644.0, u'SACRAMENTO INTL', u\"Sacramento Int'l Airport\", u'Airport', u'AWP', u'SACRAMENTO', u'SACRAMENTO', u'CA', u'Federalized/Commercial', 38.695444, -121.590778, u'Yes'),\n",
       " (739L, u'SMF', 2010L, 51516L, 51632L, 0.8209, 0.8073, 0.7886, 9.97, 9.64, 1.48, 10.86, 1.93, 0.66, 1.98, 11.1, 493.0, 451.0, 95.0, 34.0, 644.0, u'SACRAMENTO INTL', u\"Sacramento Int'l Airport\", u'Airport', u'AWP', u'SACRAMENTO', u'SACRAMENTO', u'CA', u'Federalized/Commercial', 38.695444, -121.590778, u'Yes'),\n",
       " (740L, u'SMF', 2011L, 50574L, 50719L, 0.8265, 0.7981, 0.8055, 9.82, 10.32, 2.19, 11.36, 1.86, 0.83, 2.01, 10.41, 538.0, 506.0, 74.0, 59.0, 644.0, u'SACRAMENTO INTL', u\"Sacramento Int'l Airport\", u'Airport', u'AWP', u'SACRAMENTO', u'SACRAMENTO', u'CA', u'Federalized/Commercial', 38.695444, -121.590778, u'Yes'),\n",
       " (741L, u'SMF', 2012L, 49016L, 49085L, 0.8505, 0.8285, 0.8311, 8.97, 10.43, 2.2, 10.4, 1.71, 1.01, 1.69, 9.28, 465.0, 440.0, 74.0, 35.0, 644.0, u'SACRAMENTO INTL', u\"Sacramento Int'l Airport\", u'Airport', u'AWP', u'SACRAMENTO', u'SACRAMENTO', u'CA', u'Federalized/Commercial', 38.695444, -121.590778, u'Yes'),\n",
       " (742L, u'SMF', 2013L, 46868L, 47183L, 0.8242, 0.7999, 0.8035, 9.88, 10.58, 2.13, 11.29, 1.87, 0.74, 1.64, 10.47, 437.0, 390.0, 75.0, 26.0, 644.0, u'SACRAMENTO INTL', u\"Sacramento Int'l Airport\", u'Airport', u'AWP', u'SACRAMENTO', u'SACRAMENTO', u'CA', u'Federalized/Commercial', 38.695444, -121.590778, u'Yes'),\n",
       " (743L, u'SMF', 2014L, 47618L, 47523L, 0.7861, 0.7661, 0.7659, 11.91, 10.75, 2.04, 13.09, 2.0, 0.85, 2.1, 12.57, 579.0, 536.0, 78.0, 27.0, 644.0, u'SACRAMENTO INTL', u\"Sacramento Int'l Airport\", u'Airport', u'AWP', u'SACRAMENTO', u'SACRAMENTO', u'CA', u'Federalized/Commercial', 38.695444, -121.590778, u'Yes'),\n",
       " (744L, u'SNA', 2004L, 14135L, 14276L, 0.7857, 0.721, 0.7716, 11.09, 13.48, 4.44, 14.34, 3.17, 1.81, 3.44, 11.12, 632.0, 583.0, 104.0, 107.0, 570.0, u'JOHN WAYNE AIRPORT-ORANGE COUNTY', u'John Wayne-Orange County Airport', u'Airport', u'AWP', u'ORANGE', u'SANTA ANA', u'CA', u'Federalized/Commercial', 33.675667, -117.868222, u'Yes'),\n",
       " (745L, u'SNA', 2005L, 55590L, 55995L, 0.8046, 0.7443, 0.7799, 10.03, 12.91, 4.07, 12.98, 2.96, 1.67, 3.06, 10.92, 559.0, 525.0, 84.0, 106.0, 570.0, u'JOHN WAYNE AIRPORT-ORANGE COUNTY', u'John Wayne-Orange County Airport', u'Airport', u'AWP', u'ORANGE', u'SANTA ANA', u'CA', u'Federalized/Commercial', 33.675667, -117.868222, u'Yes'),\n",
       " (746L, u'SNA', 2006L, 56634L, 57499L, 0.7952, 0.7312, 0.7668, 10.5, 12.91, 4.15, 13.51, 2.76, 1.65, 3.41, 11.48, 721.0, 653.0, 113.0, 140.0, 570.0, u'JOHN WAYNE AIRPORT-ORANGE COUNTY', u'John Wayne-Orange County Airport', u'Airport', u'AWP', u'ORANGE', u'SANTA ANA', u'CA', u'Federalized/Commercial', 33.675667, -117.868222, u'Yes'),\n",
       " (747L, u'SNA', 2007L, 57795L, 58356L, 0.7823, 0.7039, 0.7575, 11.29, 13.49, 4.66, 14.73, 3.12, 2.05, 3.39, 12.17, 895.0, 797.0, 149.0, 144.0, 570.0, u'JOHN WAYNE AIRPORT-ORANGE COUNTY', u'John Wayne-Orange County Airport', u'Airport', u'AWP', u'ORANGE', u'SANTA ANA', u'CA', u'Federalized/Commercial', 33.675667, -117.868222, u'Yes'),\n",
       " (748L, u'SNA', 2008L, 51644L, 52088L, 0.8028, 0.7394, 0.7788, 10.79, 13.31, 4.31, 13.7, 2.49, 1.75, 3.14, 11.18, 726.0, 653.0, 117.0, 128.0, 570.0, u'JOHN WAYNE AIRPORT-ORANGE COUNTY', u'John Wayne-Orange County Airport', u'Airport', u'AWP', u'ORANGE', u'SANTA ANA', u'CA', u'Federalized/Commercial', 33.675667, -117.868222, u'Yes'),\n",
       " (749L, u'SNA', 2009L, 50127L, 50368L, 0.8286, 0.7676, 0.8148, 9.33, 12.85, 4.04, 12.08, 2.38, 1.77, 2.71, 9.2, 516.0, 466.0, 104.0, 77.0, 570.0, u'JOHN WAYNE AIRPORT-ORANGE COUNTY', u'John Wayne-Orange County Airport', u'Airport', u'AWP', u'ORANGE', u'SANTA ANA', u'CA', u'Federalized/Commercial', 33.675667, -117.868222, u'Yes'),\n",
       " (750L, u'SNA', 2010L, 46002L, 46334L, 0.8067, 0.757, 0.8091, 10.42, 11.97, 3.38, 12.6, 2.3, 1.44, 2.24, 9.42, 456.0, 397.0, 103.0, 94.0, 570.0, u'JOHN WAYNE AIRPORT-ORANGE COUNTY', u'John Wayne-Orange County Airport', u'Airport', u'AWP', u'ORANGE', u'SANTA ANA', u'CA', u'Federalized/Commercial', 33.675667, -117.868222, u'Yes'),\n",
       " (751L, u'SNA', 2011L, 45157L, 45435L, 0.8199, 0.7672, 0.8182, 9.76, 11.72, 3.36, 11.92, 1.96, 1.29, 2.23, 9.07, 531.0, 475.0, 96.0, 77.0, 570.0, u'JOHN WAYNE AIRPORT-ORANGE COUNTY', u'John Wayne-Orange County Airport', u'Airport', u'AWP', u'ORANGE', u'SANTA ANA', u'CA', u'Federalized/Commercial', 33.675667, -117.868222, u'Yes'),\n",
       " (752L, u'SNA', 2012L, 45397L, 45653L, 0.8133, 0.7646, 0.8234, 10.47, 11.59, 3.28, 12.69, 1.74, 1.04, 1.91, 8.95, 496.0, 423.0, 82.0, 98.0, 570.0, u'JOHN WAYNE AIRPORT-ORANGE COUNTY', u'John Wayne-Orange County Airport', u'Airport', u'AWP', u'ORANGE', u'SANTA ANA', u'CA', u'Federalized/Commercial', 33.675667, -117.868222, u'Yes'),\n",
       " (753L, u'SNA', 2013L, 46656L, 46935L, 0.7907, 0.7531, 0.7986, 11.06, 11.28, 3.09, 13.08, 1.61, 1.04, 2.1, 9.89, 443.0, 387.0, 89.0, 93.0, 570.0, u'JOHN WAYNE AIRPORT-ORANGE COUNTY', u'John Wayne-Orange County Airport', u'Airport', u'AWP', u'ORANGE', u'SANTA ANA', u'CA', u'Federalized/Commercial', 33.675667, -117.868222, u'Yes'),\n",
       " (754L, u'SNA', 2014L, 47176L, 47252L, 0.7578, 0.715, 0.7688, 12.75, 11.39, 3.1, 14.85, 1.77, 0.82, 2.36, 11.67, 468.0, 425.0, 85.0, 71.0, 570.0, u'JOHN WAYNE AIRPORT-ORANGE COUNTY', u'John Wayne-Orange County Airport', u'Airport', u'AWP', u'ORANGE', u'SANTA ANA', u'CA', u'Federalized/Commercial', 33.675667, -117.868222, u'Yes'),\n",
       " (755L, u'STL', 2004L, 130440L, 130684L, 0.8232, 0.8126, 0.8263, 10.0, 11.42, 1.67, 10.94, 3.93, 0.53, 2.06, 9.76, 832.0, 805.0, 119.0, 135.0, 1895.0, u'LAMBERT-ST LOUIS INTL', u\"Lambert-St Louis Int'l Airport\", u'Airport', u'ACE', u'ST LOUIS CITY', u'ST LOUIS', u'MO', u'Federalized/Commercial', 38.748697, -90.370029, u'Yes'),\n",
       " (756L, u'STL', 2005L, 134794L, 134879L, 0.8164, 0.7915, 0.8193, 10.41, 11.69, 2.68, 12.15, 3.6, 1.31, 2.09, 10.72, 790.0, 756.0, 136.0, 116.0, 1895.0, u'LAMBERT-ST LOUIS INTL', u\"Lambert-St Louis Int'l Airport\", u'Airport', u'ACE', u'ST LOUIS CITY', u'ST LOUIS', u'MO', u'Federalized/Commercial', 38.748697, -90.370029, u'Yes'),\n",
       " (757L, u'STL', 2006L, 127485L, 127934L, 0.794, 0.7746, 0.8061, 11.71, 11.49, 2.06, 13.03, 3.03, 0.79, 2.25, 11.43, 994.0, 940.0, 158.0, 119.0, 1895.0, u'LAMBERT-ST LOUIS INTL', u\"Lambert-St Louis Int'l Airport\", u'Airport', u'ACE', u'ST LOUIS CITY', u'ST LOUIS', u'MO', u'Federalized/Commercial', 38.748697, -90.370029, u'Yes'),\n",
       " (758L, u'STL', 2007L, 118824L, 119185L, 0.761, 0.7371, 0.7604, 14.26, 11.45, 2.15, 15.77, 3.66, 1.18, 2.69, 14.37, 1292.0, 1256.0, 138.0, 144.0, 1895.0, u'LAMBERT-ST LOUIS INTL', u\"Lambert-St Louis Int'l Airport\", u'Airport', u'ACE', u'ST LOUIS CITY', u'ST LOUIS', u'MO', u'Federalized/Commercial', 38.748697, -90.370029, u'Yes'),\n",
       " (759L, u'STL', 2008L, 116267L, 116638L, 0.7737, 0.7515, 0.7758, 13.73, 11.4, 2.19, 15.22, 3.95, 1.15, 2.92, 13.86, 1316.0, 1244.0, 162.0, 165.0, 1895.0, u'LAMBERT-ST LOUIS INTL', u\"Lambert-St Louis Int'l Airport\", u'Airport', u'ACE', u'ST LOUIS CITY', u'ST LOUIS', u'MO', u'Federalized/Commercial', 38.748697, -90.370029, u'Yes'),\n",
       " (760L, u'STL', 2009L, 98714L, 98773L, 0.8163, 0.7976, 0.8168, 10.74, 11.0, 1.76, 11.93, 3.29, 0.78, 2.25, 10.54, 695.0, 642.0, 113.0, 83.0, 1895.0, u'LAMBERT-ST LOUIS INTL', u\"Lambert-St Louis Int'l Airport\", u'Airport', u'ACE', u'ST LOUIS CITY', u'ST LOUIS', u'MO', u'Federalized/Commercial', 38.748697, -90.370029, u'Yes'),\n",
       " (761L, u'STL', 2010L, 85835L, 85963L, 0.7849, 0.7635, 0.7952, 12.16, 10.84, 1.89, 13.33, 2.78, 1.28, 2.5, 11.6, 715.0, 700.0, 129.0, 85.0, 1895.0, u'LAMBERT-ST LOUIS INTL', u\"Lambert-St Louis Int'l Airport\", u'Airport', u'ACE', u'ST LOUIS CITY', u'ST LOUIS', u'MO', u'Federalized/Commercial', 38.748697, -90.370029, u'Yes'),\n",
       " (762L, u'STL', 2011L, 88445L, 88387L, 0.7855, 0.7623, 0.7897, 12.52, 10.74, 1.95, 13.86, 2.41, 1.38, 2.79, 12.15, 1238.0, 1135.0, 140.0, 150.0, 1895.0, u'LAMBERT-ST LOUIS INTL', u\"Lambert-St Louis Int'l Airport\", u'Airport', u'ACE', u'ST LOUIS CITY', u'ST LOUIS', u'MO', u'Federalized/Commercial', 38.748697, -90.370029, u'Yes'),\n",
       " (763L, u'STL', 2012L, 89904L, 89576L, 0.8094, 0.7851, 0.816, 11.03, 10.61, 1.89, 12.41, 2.03, 1.27, 2.3, 10.68, 502.0, 477.0, 107.0, 100.0, 1895.0, u'LAMBERT-ST LOUIS INTL', u\"Lambert-St Louis Int'l Airport\", u'Airport', u'ACE', u'ST LOUIS CITY', u'ST LOUIS', u'MO', u'Federalized/Commercial', 38.748697, -90.370029, u'Yes'),\n",
       " (764L, u'STL', 2013L, 87766L, 88139L, 0.7694, 0.7416, 0.7805, 13.24, 10.61, 2.04, 14.81, 1.59, 0.89, 2.36, 12.62, 765.0, 708.0, 116.0, 114.0, 1895.0, u'LAMBERT-ST LOUIS INTL', u\"Lambert-St Louis Int'l Airport\", u'Airport', u'ACE', u'ST LOUIS CITY', u'ST LOUIS', u'MO', u'Federalized/Commercial', 38.748697, -90.370029, u'Yes'),\n",
       " (765L, u'STL', 2014L, 86632L, 86474L, 0.743, 0.715, 0.7506, 15.01, 10.74, 2.1, 16.62, 1.78, 0.99, 2.75, 14.64, 1014.0, 920.0, 135.0, 105.0, 1895.0, u'LAMBERT-ST LOUIS INTL', u\"Lambert-St Louis Int'l Airport\", u'Airport', u'ACE', u'ST LOUIS CITY', u'ST LOUIS', u'MO', u'Federalized/Commercial', 38.748697, -90.370029, u'Yes'),\n",
       " (766L, u'SWF', 2004L, 2734L, 2662L, 0.7008, 0.6544, 0.6525, 16.63, 12.91, 3.42, 18.9, 3.63, 0.45, 4.34, 18.67, 81.0, 70.0, 4.0, 3.0, 2494.0, u'STEWART INTL', u\"Stewart Int'l Airport\", u'Airport', u'AEA', u'ORANGE', u'NEWBURGH', u'NY', u'Federalized/Commercial', 41.504111, -74.104833, u'Yes'),\n",
       " (767L, u'SWF', 2005L, 8820L, 8666L, 0.6991, 0.6776, 0.6547, 17.3, 12.1, 2.38, 18.61, 3.3, 0.74, 4.75, 17.92, 94.0, 80.0, 5.0, 7.0, 2494.0, u'STEWART INTL', u\"Stewart Int'l Airport\", u'Airport', u'AEA', u'ORANGE', u'NEWBURGH', u'NY', u'Federalized/Commercial', 41.504111, -74.104833, u'Yes'),\n",
       " (768L, u'SWF', 2006L, 6582L, 6359L, 0.6694, 0.6542, 0.6141, 18.78, 11.91, 1.92, 19.73, 3.38, 0.67, 5.72, 21.09, 39.0, 37.0, 3.0, 4.0, 2494.0, u'STEWART INTL', u\"Stewart Int'l Airport\", u'Airport', u'AEA', u'ORANGE', u'NEWBURGH', u'NY', u'Federalized/Commercial', 41.504111, -74.104833, u'Yes'),\n",
       " (769L, u'SWF', 2007L, 9634L, 9418L, 0.7162, 0.6583, 0.6277, 17.4, 13.76, 3.84, 20.49, 2.49, 1.61, 6.14, 20.78, 120.0, 103.0, 19.0, 21.0, 2494.0, u'STEWART INTL', u\"Stewart Int'l Airport\", u'Airport', u'AEA', u'ORANGE', u'NEWBURGH', u'NY', u'Federalized/Commercial', 41.504111, -74.104833, u'Yes'),\n",
       " (770L, u'SWF', 2008L, 8096L, 7907L, 0.7456, 0.7155, 0.692, 16.07, 13.37, 2.42, 17.78, 2.71, 0.68, 4.27, 17.68, 53.0, 41.0, 13.0, 15.0, 2494.0, u'STEWART INTL', u\"Stewart Int'l Airport\", u'Airport', u'AEA', u'ORANGE', u'NEWBURGH', u'NY', u'Federalized/Commercial', 41.504111, -74.104833, u'Yes'),\n",
       " (771L, u'SWF', 2009L, 5068L, 4975L, 0.7129, 0.6687, 0.6476, 16.71, 14.65, 3.02, 19.2, 2.84, 0.75, 4.93, 19.37, 29.0, 18.0, 7.0, 6.0, 2494.0, u'STEWART INTL', u\"Stewart Int'l Airport\", u'Airport', u'AEA', u'ORANGE', u'NEWBURGH', u'NY', u'Federalized/Commercial', 41.504111, -74.104833, u'Yes'),\n",
       " (772L, u'SWF', 2010L, 4840L, 4819L, 0.7519, 0.7192, 0.6559, 14.95, 14.09, 2.46, 16.71, 2.89, 0.51, 4.91, 19.69, 67.0, 54.0, 5.0, 12.0, 2494.0, u'STEWART INTL', u\"Stewart Int'l Airport\", u'Airport', u'AEA', u'ORANGE', u'NEWBURGH', u'NY', u'Federalized/Commercial', 41.504111, -74.104833, u'Yes'),\n",
       " (773L, u'SWF', 2011L, 5546L, 5444L, 0.7034, 0.6918, 0.6275, 17.8, 13.17, 1.3, 18.35, 2.91, 0.84, 4.34, 20.71, 42.0, 40.0, 4.0, 5.0, 2494.0, u'STEWART INTL', u\"Stewart Int'l Airport\", u'Airport', u'AEA', u'ORANGE', u'NEWBURGH', u'NY', u'Federalized/Commercial', 41.504111, -74.104833, u'Yes'),\n",
       " (774L, u'SWF', 2012L, 5546L, 5474L, 0.7495, 0.7467, 0.6955, 14.4, 12.31, 0.83, 14.59, 2.72, 0.34, 3.78, 16.55, 14.0, 12.0, 3.0, 1.0, 2494.0, u'STEWART INTL', u\"Stewart Int'l Airport\", u'Airport', u'AEA', u'ORANGE', u'NEWBURGH', u'NY', u'Federalized/Commercial', 41.504111, -74.104833, u'Yes'),\n",
       " (775L, u'SWF', 2013L, 4935L, 4873L, 0.74, 0.6987, 0.6483, 14.62, 14.03, 2.7, 16.73, 2.49, 0.82, 5.5, 18.87, 27.0, 23.0, 7.0, 6.0, 2494.0, u'STEWART INTL', u\"Stewart Int'l Airport\", u'Airport', u'AEA', u'ORANGE', u'NEWBURGH', u'NY', u'Federalized/Commercial', 41.504111, -74.104833, u'Yes'),\n",
       " (776L, u'SWF', 2014L, 4863L, 4871L, 0.7027, 0.6955, 0.6843, 16.78, 12.42, 0.65, 17.24, 2.83, 0.23, 4.73, 17.14, 17.0, 11.0, 3.0, 11.0, 2494.0, u'STEWART INTL', u\"Stewart Int'l Airport\", u'Airport', u'AEA', u'ORANGE', u'NEWBURGH', u'NY', u'Federalized/Commercial', 41.504111, -74.104833, u'Yes'),\n",
       " (777L, u'TPA', 2004L, 100556L, 100312L, 0.8245, 0.8023, 0.7921, 9.85, 11.88, 2.39, 11.53, 2.24, 0.7, 3.1, 11.3, 1167.0, 1016.0, 154.0, 139.0, 864.0, u'TAMPA INTL', u\"Tampa Int'l Airport\", u'Airport', u'ASO', u'HILLSBOROUGH', u'TAMPA', u'FL', u'Federalized/Commercial', 27.975472, -82.53325, u'Yes'),\n",
       " (778L, u'TPA', 2005L, 111899L, 111953L, 0.7996, 0.7656, 0.7696, 11.39, 12.17, 3.12, 13.76, 2.58, 1.03, 3.52, 12.84, 771.0, 746.0, 212.0, 103.0, 864.0, u'TAMPA INTL', u\"Tampa Int'l Airport\", u'Airport', u'ASO', u'HILLSBOROUGH', u'TAMPA', u'FL', u'Federalized/Commercial', 27.975472, -82.53325, u'Yes'),\n",
       " (779L, u'TPA', 2006L, 106426L, 106040L, 0.8129, 0.7871, 0.7869, 10.78, 12.13, 2.87, 12.7, 2.48, 0.93, 3.0, 11.87, 427.0, 356.0, 197.0, 189.0, 864.0, u'TAMPA INTL', u\"Tampa Int'l Airport\", u'Airport', u'ASO', u'HILLSBOROUGH', u'TAMPA', u'FL', u'Federalized/Commercial', 27.975472, -82.53325, u'Yes'),\n",
       " (780L, u'TPA', 2007L, 107523L, 107579L, 0.7903, 0.762, 0.7542, 12.55, 12.03, 2.78, 14.49, 2.19, 0.89, 3.51, 14.26, 705.0, 655.0, 186.0, 121.0, 864.0, u'TAMPA INTL', u\"Tampa Int'l Airport\", u'Airport', u'ASO', u'HILLSBOROUGH', u'TAMPA', u'FL', u'Federalized/Commercial', 27.975472, -82.53325, u'Yes'),\n",
       " (781L, u'TPA', 2008L, 100289L, 100528L, 0.7983, 0.7684, 0.7672, 12.39, 12.19, 2.85, 14.37, 1.3, 0.89, 3.7, 13.76, 727.0, 654.0, 194.0, 182.0, 864.0, u'TAMPA INTL', u\"Tampa Int'l Airport\", u'Airport', u'ASO', u'HILLSBOROUGH', u'TAMPA', u'FL', u'Federalized/Commercial', 27.975472, -82.53325, u'Yes'),\n",
       " (782L, u'TPA', 2009L, 83888L, 84140L, 0.8154, 0.7875, 0.7965, 10.86, 12.05, 2.59, 12.64, 1.08, 0.74, 3.0, 11.51, 349.0, 307.0, 201.0, 102.0, 864.0, u'TAMPA INTL', u\"Tampa Int'l Airport\", u'Airport', u'ASO', u'HILLSBOROUGH', u'TAMPA', u'FL', u'Federalized/Commercial', 27.975472, -82.53325, u'Yes'),\n",
       " (783L, u'TPA', 2010L, 82346L, 82582L, 0.8121, 0.7775, 0.7988, 11.02, 12.45, 3.03, 13.21, 1.86, 0.94, 2.68, 11.65, 709.0, 655.0, 157.0, 140.0, 864.0, u'TAMPA INTL', u\"Tampa Int'l Airport\", u'Airport', u'ASO', u'HILLSBOROUGH', u'TAMPA', u'FL', u'Federalized/Commercial', 27.975472, -82.53325, u'Yes'),\n",
       " (784L, u'TPA', 2011L, 81837L, 81897L, 0.8296, 0.8054, 0.8044, 10.6, 11.93, 2.42, 12.19, 1.66, 0.75, 2.53, 11.51, 667.0, 622.0, 176.0, 137.0, 864.0, u'TAMPA INTL', u\"Tampa Int'l Airport\", u'Airport', u'ASO', u'HILLSBOROUGH', u'TAMPA', u'FL', u'Federalized/Commercial', 27.975472, -82.53325, u'Yes'),\n",
       " (785L, u'TPA', 2012L, 80605L, 80523L, 0.8322, 0.8096, 0.808, 10.51, 11.69, 2.19, 11.88, 1.53, 0.85, 2.57, 11.3, 450.0, 411.0, 131.0, 132.0, 864.0, u'TAMPA INTL', u\"Tampa Int'l Airport\", u'Airport', u'ASO', u'HILLSBOROUGH', u'TAMPA', u'FL', u'Federalized/Commercial', 27.975472, -82.53325, u'Yes'),\n",
       " (786L, u'TPA', 2013L, 80603L, 79946L, 0.7997, 0.775, 0.7774, 11.9, 11.86, 2.36, 13.39, 1.63, 0.87, 3.0, 12.66, 326.0, 301.0, 152.0, 118.0, 864.0, u'TAMPA INTL', u\"Tampa Int'l Airport\", u'Airport', u'ASO', u'HILLSBOROUGH', u'TAMPA', u'FL', u'Federalized/Commercial', 27.975472, -82.53325, u'Yes'),\n",
       " (787L, u'TPA', 2014L, 79489L, 79173L, 0.7726, 0.7454, 0.7536, 14.33, 12.0, 2.39, 15.97, 2.24, 0.88, 3.53, 14.87, 723.0, 691.0, 183.0, 163.0, 864.0, u'TAMPA INTL', u\"Tampa Int'l Airport\", u'Airport', u'ASO', u'HILLSBOROUGH', u'TAMPA', u'FL', u'Federalized/Commercial', 27.975472, -82.53325, u'Yes'),\n",
       " (788L, u'TUS', 2004L, 7498L, 7501L, 0.7757, 0.7586, 0.7124, 14.09, 9.98, 2.31, 15.58, 2.37, 0.89, 3.48, 15.24, 103.0, 80.0, 50.0, 22.0, 474.0, u'TUCSON INTL', u\"Tucson Int'l Airport\", u'Airport', u'AWP', u'PIMA', u'TUCSON', u'AZ', u'Federalized/Commercial', 32.116083, -110.941028, u'Yes'),\n",
       " (789L, u'TUS', 2005L, 29803L, 29761L, 0.7868, 0.7666, 0.7493, 11.53, 9.87, 2.15, 12.89, 2.42, 0.79, 2.38, 12.86, 126.0, 101.0, 36.0, 26.0, 474.0, u'TUCSON INTL', u\"Tucson Int'l Airport\", u'Airport', u'AWP', u'PIMA', u'TUCSON', u'AZ', u'Federalized/Commercial', 32.116083, -110.941028, u'Yes'),\n",
       " (790L, u'TUS', 2006L, 29332L, 30490L, 0.8098, 0.7793, 0.7422, 10.49, 10.58, 2.56, 12.32, 2.11, 1.42, 3.3, 13.69, 206.0, 174.0, 63.0, 46.0, 474.0, u'TUCSON INTL', u\"Tucson Int'l Airport\", u'Airport', u'AWP', u'PIMA', u'TUCSON', u'AZ', u'Federalized/Commercial', 32.116083, -110.941028, u'Yes'),\n",
       " (791L, u'TUS', 2007L, 32136L, 32102L, 0.8152, 0.7827, 0.7412, 10.62, 11.1, 2.82, 12.41, 2.26, 1.08, 3.3, 13.94, 281.0, 237.0, 65.0, 22.0, 474.0, u'TUCSON INTL', u\"Tucson Int'l Airport\", u'Airport', u'AWP', u'PIMA', u'TUCSON', u'AZ', u'Federalized/Commercial', 32.116083, -110.941028, u'Yes'),\n",
       " (792L, u'TUS', 2008L, 30267L, 30337L, 0.8354, 0.8086, 0.7703, 9.51, 10.94, 2.42, 11.01, 1.63, 0.85, 2.93, 12.59, 206.0, 174.0, 59.0, 16.0, 474.0, u'TUCSON INTL', u\"Tucson Int'l Airport\", u'Airport', u'AWP', u'PIMA', u'TUCSON', u'AZ', u'Federalized/Commercial', 32.116083, -110.941028, u'Yes'),\n",
       " (793L, u'TUS', 2009L, 24475L, 24528L, 0.8507, 0.8278, 0.7965, 8.41, 10.7, 2.17, 9.71, 1.82, 0.79, 2.67, 10.73, 117.0, 100.0, 38.0, 28.0, 474.0, u'TUCSON INTL', u\"Tucson Int'l Airport\", u'Airport', u'AWP', u'PIMA', u'TUCSON', u'AZ', u'Federalized/Commercial', 32.116083, -110.941028, u'Yes'),\n",
       " (794L, u'TUS', 2010L, 24995L, 25088L, 0.8502, 0.8293, 0.7926, 8.27, 10.48, 2.01, 9.38, 1.64, 0.76, 2.33, 11.04, 144.0, 110.0, 42.0, 35.0, 474.0, u'TUCSON INTL', u\"Tucson Int'l Airport\", u'Airport', u'AWP', u'PIMA', u'TUCSON', u'AZ', u'Federalized/Commercial', 32.116083, -110.941028, u'Yes'),\n",
       " (795L, u'TUS', 2011L, 25149L, 25165L, 0.8458, 0.8216, 0.7795, 8.76, 11.06, 2.58, 10.17, 1.47, 0.8, 2.57, 11.77, 204.0, 183.0, 43.0, 28.0, 474.0, u'TUCSON INTL', u\"Tucson Int'l Airport\", u'Airport', u'AWP', u'PIMA', u'TUCSON', u'AZ', u'Federalized/Commercial', 32.116083, -110.941028, u'Yes'),\n",
       " (796L, u'TUS', 2012L, 23583L, 23679L, 0.8599, 0.8336, 0.7965, 8.1, 11.19, 2.59, 9.48, 1.56, 0.74, 2.29, 10.64, 117.0, 107.0, 38.0, 29.0, 474.0, u'TUCSON INTL', u\"Tucson Int'l Airport\", u'Airport', u'AWP', u'PIMA', u'TUCSON', u'AZ', u'Federalized/Commercial', 32.116083, -110.941028, u'Yes'),\n",
       " (797L, u'TUS', 2013L, 22502L, 22090L, 0.8145, 0.7914, 0.7628, 10.55, 11.43, 2.43, 11.96, 1.67, 0.7, 2.48, 12.76, 175.0, 153.0, 62.0, 18.0, 474.0, u'TUCSON INTL', u\"Tucson Int'l Airport\", u'Airport', u'AWP', u'PIMA', u'TUCSON', u'AZ', u'Federalized/Commercial', 32.116083, -110.941028, u'Yes'),\n",
       " (798L, u'TUS', 2014L, 22589L, 22340L, 0.7914, 0.7715, 0.7351, 12.33, 11.32, 2.03, 13.47, 1.84, 0.92, 2.57, 14.76, 178.0, 155.0, 55.0, 39.0, 474.0, u'TUCSON INTL', u\"Tucson Int'l Airport\", u'Airport', u'AWP', u'PIMA', u'TUCSON', u'AZ', u'Federalized/Commercial', 32.116083, -110.941028, u'Yes')]"
      ]
     },
     "execution_count": 4,
     "metadata": {},
     "output_type": "execute_result"
    }
   ],
   "source": [
    "user = 'Scott'\n",
    "url = 'localhost'\n",
    "port = 5432\n",
    "database = 'project7'\n",
    "password = ''\n",
    "\n",
    "engine = create_engine(\"postgresql://{}:{}@{}:{}/{}\".format(user, password, url, port, database))\n",
    "\n",
    "Clean_Airport_df.to_sql('data', engine)\n",
    "\n",
    "result = engine.execute(\"select * from data;\")\n",
    "\n",
    "result.fetchall()"
   ]
  },
  {
   "cell_type": "markdown",
   "metadata": {},
   "source": [
    "Above I created a postgres database, loaded the pandas data frame into database as table 'data' and used sqlalchemy to prove I did it."
   ]
  },
  {
   "cell_type": "code",
   "execution_count": 5,
   "metadata": {
    "collapsed": false
   },
   "outputs": [
    {
     "data": {
      "text/plain": [
       "percent on-time airport departures   -0.954832\n",
       "percent on-time gate departures      -0.764464\n",
       "percent on-time gate arrivals        -0.712975\n",
       "Year                                 -0.023332\n",
       "Key                                   0.176816\n",
       "Latitude                              0.240283\n",
       "Departure Diversions                  0.360954\n",
       "arrivals for metric computation       0.390470\n",
       "departures for metric computation     0.391838\n",
       "Arrival Diversions                    0.444050\n",
       "Arrival Cancellations                 0.487547\n",
       "average taxi in delay                 0.504119\n",
       "Departure Cancellations               0.504939\n",
       "Longitude                             0.506213\n",
       "average airborne delay                0.554790\n",
       "average block delay                   0.589096\n",
       "average_taxi_out_time                 0.688469\n",
       "average taxi out delay                0.733528\n",
       "average gate arrival delay            0.838877\n",
       "average_gate_departure_delay          0.886479\n",
       "average airport departure delay       1.000000\n",
       "Name: average airport departure delay, dtype: float64"
      ]
     },
     "execution_count": 5,
     "metadata": {},
     "output_type": "execute_result"
    }
   ],
   "source": [
    "Clean_Airport_df.corr()['average airport departure delay'].sort_values()"
   ]
  },
  {
   "cell_type": "markdown",
   "metadata": {},
   "source": [
    "Correlation calcualtion shows that Longitude, Depature Cancelations, Arrival Calculations and Arrival Diversions are strong predictors of airport depature delay"
   ]
  },
  {
   "cell_type": "code",
   "execution_count": 7,
   "metadata": {
    "collapsed": false
   },
   "outputs": [
    {
     "data": {
      "text/plain": [
       "<matplotlib.axes._subplots.AxesSubplot at 0x1130477d0>"
      ]
     },
     "execution_count": 7,
     "metadata": {},
     "output_type": "execute_result"
    },
    {
     "data": {
      "image/png": "[encoded data removed]",
      "text/plain": [
       "<matplotlib.figure.Figure at 0x1124d5490>"
      ]
     },
     "metadata": {},
     "output_type": "display_data"
    }
   ],
   "source": [
    "sns.regplot(Clean_Airport_df['Longitude'],Clean_Airport_df['average airport departure delay'])"
   ]
  },
  {
   "cell_type": "markdown",
   "metadata": {},
   "source": [
    "The Scatter plot above shows that average airport depature has a \"kinda\" linear relationship with Longitude"
   ]
  },
  {
   "cell_type": "code",
   "execution_count": 8,
   "metadata": {
    "collapsed": false
   },
   "outputs": [
    {
     "data": {
      "text/plain": [
       "<matplotlib.collections.PathCollection at 0x11272a690>"
      ]
     },
     "execution_count": 8,
     "metadata": {},
     "output_type": "execute_result"
    },
    {
     "data": {
      "image/png": "[encoded data removed]",
      "text/plain": [
       "<matplotlib.figure.Figure at 0x11311e450>"
      ]
     },
     "metadata": {},
     "output_type": "display_data"
    }
   ],
   "source": [
    "plt.scatter(Clean_Airport_df['Longitude'],Clean_Airport_df['Latitude'],c=Clean_Airport_df['average airport departure delay'])"
   ]
  },
  {
   "cell_type": "markdown",
   "metadata": {},
   "source": [
    "The scatter plot above plots the Longitude on the independent axis and Latitude on the dependent axis. The color is average airport depature delay, with darker being hues being more airport depature delay. It's also good to note that not only does the dely increase from west to east, but, the density of airports also increases. This means that Longitude can also serve as a proxy for density"
   ]
  },
  {
   "cell_type": "markdown",
   "metadata": {},
   "source": [
    "# Initial Model"
   ]
  },
  {
   "cell_type": "code",
   "execution_count": 10,
   "metadata": {
    "collapsed": true
   },
   "outputs": [],
   "source": [
    "x_train,x_test,y_train,y_test = train_test_split(Clean_Airport_df['Longitude'],Clean_Airport_df['average airport departure delay'],random_state=30)"
   ]
  },
  {
   "cell_type": "code",
   "execution_count": 11,
   "metadata": {
    "collapsed": true
   },
   "outputs": [],
   "source": [
    "lin = LinearRegression()"
   ]
  },
  {
   "cell_type": "code",
   "execution_count": 12,
   "metadata": {
    "collapsed": false
   },
   "outputs": [
    {
     "data": {
      "text/plain": [
       "LinearRegression(copy_X=True, fit_intercept=True, n_jobs=1, normalize=False)"
      ]
     },
     "execution_count": 12,
     "metadata": {},
     "output_type": "execute_result"
    }
   ],
   "source": [
    "lin.fit(X=x_train.reshape(-1,1),y=y_train)"
   ]
  },
  {
   "cell_type": "code",
   "execution_count": 13,
   "metadata": {
    "collapsed": false
   },
   "outputs": [
    {
     "data": {
      "text/plain": [
       "0.3134608273984073"
      ]
     },
     "execution_count": 13,
     "metadata": {},
     "output_type": "execute_result"
    }
   ],
   "source": [
    "lin.score(x_test.reshape(-1,1),y_test)"
   ]
  },
  {
   "cell_type": "markdown",
   "metadata": {},
   "source": [
    "Initial Linear model shows a decent, 0.31 test score when only using Longitude to predict average airport delay."
   ]
  },
  {
   "cell_type": "markdown",
   "metadata": {},
   "source": [
    "# Using dimensonality_reduction to create \"Delay\" Parameter"
   ]
  },
  {
   "cell_type": "code",
   "execution_count": 15,
   "metadata": {
    "collapsed": false
   },
   "outputs": [],
   "source": [
    "features = ['percent on-time airport departures',\n",
    "            'percent on-time gate departures',\n",
    "            'percent on-time gate arrivals',\n",
    "            'average airborne delay',\n",
    "            'average block delay',\n",
    "            'average_taxi_out_time',\n",
    "            'average taxi out delay',\n",
    "            'average gate arrival delay',\n",
    "            'average_gate_departure_delay',\n",
    "            'average airport departure delay']\n",
    "\n",
    "delay_features_df = Clean_Airport_df[features]"
   ]
  },
  {
   "cell_type": "markdown",
   "metadata": {},
   "source": [
    "Beacuse what the proper \"delay\" is in this data set is ambiguious, I will use TSNE to take the 10 delay features and turn them into a single delay targe"
   ]
  },
  {
   "cell_type": "code",
   "execution_count": 16,
   "metadata": {
    "collapsed": false
   },
   "outputs": [],
   "source": [
    "temp = delay_features_df.as_matrix()\n",
    "dem_reduct = TSNE(n_components=1)\n",
    "delay_factor = dem_reduct.fit_transform(temp)"
   ]
  },
  {
   "cell_type": "markdown",
   "metadata": {},
   "source": [
    "# Grid Searched SGD Regressor "
   ]
  },
  {
   "cell_type": "code",
   "execution_count": 48,
   "metadata": {
    "collapsed": false
   },
   "outputs": [],
   "source": [
    "predictive_factors = ['Year',\n",
    "                      'Key',\n",
    "                      'Latitude',\n",
    "                      'Departure Diversions',\n",
    "                      'arrivals for metric computation',\n",
    "                      'departures for metric computation',\n",
    "                      'Arrival Diversions',\n",
    "                      'Arrival Cancellations',\n",
    "                      'Departure Cancellations',\n",
    "                      'Longitude'\n",
    "                     ]\n",
    "\n",
    "feature_df = Clean_Airport_df[predictive_factors]"
   ]
  },
  {
   "cell_type": "markdown",
   "metadata": {},
   "source": [
    "The feature set I will be using in the varity of models will be the ones listed in predictive_factors. "
   ]
  },
  {
   "cell_type": "code",
   "execution_count": 56,
   "metadata": {
    "collapsed": true
   },
   "outputs": [],
   "source": [
    "x_train,x_test,y_train,y_test = train_test_split(feature_df,delay_factor,random_state=30)"
   ]
  },
  {
   "cell_type": "code",
   "execution_count": 57,
   "metadata": {
    "collapsed": false
   },
   "outputs": [],
   "source": [
    "params={'penalty':['l2','l1','elasticnet'],\n",
    "       'alpha':[0.0001,0.001,0.01,0.1,1],\n",
    "       'l1_ratio':[0,0.05,0.1,0.15,0.2,0.25,0.3,0.35,0.4,0.45,0.5],\n",
    "       'random_state':[30]   \n",
    "}"
   ]
  },
  {
   "cell_type": "code",
   "execution_count": 58,
   "metadata": {
    "collapsed": false
   },
   "outputs": [],
   "source": [
    "grid_SGD = GridSearchCV(SGDRegressor(),param_grid=params,n_jobs=-1)"
   ]
  },
  {
   "cell_type": "code",
   "execution_count": 59,
   "metadata": {
    "collapsed": false
   },
   "outputs": [
    {
     "data": {
      "text/plain": [
       "GridSearchCV(cv=None, error_score='raise',\n",
       "       estimator=SGDRegressor(alpha=0.0001, average=False, epsilon=0.1, eta0=0.01,\n",
       "       fit_intercept=True, l1_ratio=0.15, learning_rate='invscaling',\n",
       "       loss='squared_loss', n_iter=5, penalty='l2', power_t=0.25,\n",
       "       random_state=None, shuffle=True, verbose=0, warm_start=False),\n",
       "       fit_params={}, iid=True, n_jobs=-1,\n",
       "       param_grid={'penalty': ['l2', 'l1', 'elasticnet'], 'alpha': [0.0001, 0.001, 0.01, 0.1, 1], 'random_state': [30], 'l1_ratio': [0, 0.05, 0.1, 0.15, 0.2, 0.25, 0.3, 0.35, 0.4, 0.45, 0.5]},\n",
       "       pre_dispatch='2*n_jobs', refit=True, return_train_score=True,\n",
       "       scoring=None, verbose=0)"
      ]
     },
     "execution_count": 59,
     "metadata": {},
     "output_type": "execute_result"
    }
   ],
   "source": [
    "grid_SGD.fit(x_train,y_train.ravel())"
   ]
  },
  {
   "cell_type": "code",
   "execution_count": 60,
   "metadata": {
    "collapsed": false
   },
   "outputs": [],
   "source": [
    "best_SGD = grid_SGD.best_estimator_"
   ]
  },
  {
   "cell_type": "code",
   "execution_count": 61,
   "metadata": {
    "collapsed": false
   },
   "outputs": [
    {
     "data": {
      "text/plain": [
       "-3.3704979427582352e+34"
      ]
     },
     "execution_count": 61,
     "metadata": {},
     "output_type": "execute_result"
    }
   ],
   "source": [
    "grid_SGD.score(x_test,y_test)"
   ]
  },
  {
   "cell_type": "markdown",
   "metadata": {},
   "source": [
    "# KN Regressor"
   ]
  },
  {
   "cell_type": "code",
   "execution_count": 62,
   "metadata": {
    "collapsed": true
   },
   "outputs": [],
   "source": [
    "KNR = KNeighborsRegressor()"
   ]
  },
  {
   "cell_type": "code",
   "execution_count": 63,
   "metadata": {
    "collapsed": true
   },
   "outputs": [],
   "source": [
    "params={'n_neighbors':[1,2,3,4,5,6,7,8,9,10]\n",
    "       }"
   ]
  },
  {
   "cell_type": "code",
   "execution_count": 64,
   "metadata": {
    "collapsed": true
   },
   "outputs": [],
   "source": [
    "grid_KNR = GridSearchCV(KNR,param_grid=params,n_jobs=-1)"
   ]
  },
  {
   "cell_type": "code",
   "execution_count": 65,
   "metadata": {
    "collapsed": false
   },
   "outputs": [
    {
     "data": {
      "text/plain": [
       "GridSearchCV(cv=None, error_score='raise',\n",
       "       estimator=KNeighborsRegressor(algorithm='auto', leaf_size=30, metric='minkowski',\n",
       "          metric_params=None, n_jobs=1, n_neighbors=5, p=2,\n",
       "          weights='uniform'),\n",
       "       fit_params={}, iid=True, n_jobs=-1,\n",
       "       param_grid={'n_neighbors': [1, 2, 3, 4, 5, 6, 7, 8, 9, 10]},\n",
       "       pre_dispatch='2*n_jobs', refit=True, return_train_score=True,\n",
       "       scoring=None, verbose=0)"
      ]
     },
     "execution_count": 65,
     "metadata": {},
     "output_type": "execute_result"
    }
   ],
   "source": [
    "grid_KNR.fit(x_train,y_train)"
   ]
  },
  {
   "cell_type": "code",
   "execution_count": 66,
   "metadata": {
    "collapsed": false
   },
   "outputs": [
    {
     "data": {
      "text/plain": [
       "0.27326933726969349"
      ]
     },
     "execution_count": 66,
     "metadata": {},
     "output_type": "execute_result"
    }
   ],
   "source": [
    "grid_KNR.score(x_test,y_test)"
   ]
  },
  {
   "cell_type": "markdown",
   "metadata": {},
   "source": [
    "# Random Forest Regressor"
   ]
  },
  {
   "cell_type": "code",
   "execution_count": 67,
   "metadata": {
    "collapsed": true
   },
   "outputs": [],
   "source": [
    "RFR = RandomForestRegressor()"
   ]
  },
  {
   "cell_type": "code",
   "execution_count": 68,
   "metadata": {
    "collapsed": false
   },
   "outputs": [],
   "source": [
    "n_estimators = np.linspace(1,200,50)\n",
    "n_estimators= n_estimators.astype(int)"
   ]
  },
  {
   "cell_type": "code",
   "execution_count": 69,
   "metadata": {
    "collapsed": false
   },
   "outputs": [],
   "source": [
    "params = {'n_estimators':n_estimators}"
   ]
  },
  {
   "cell_type": "code",
   "execution_count": 70,
   "metadata": {
    "collapsed": false
   },
   "outputs": [],
   "source": [
    "grid_RFR = GridSearchCV(RFR,param_grid=params,n_jobs=-1)"
   ]
  },
  {
   "cell_type": "code",
   "execution_count": 71,
   "metadata": {
    "collapsed": false
   },
   "outputs": [
    {
     "data": {
      "text/plain": [
       "GridSearchCV(cv=None, error_score='raise',\n",
       "       estimator=RandomForestRegressor(bootstrap=True, criterion='mse', max_depth=None,\n",
       "           max_features='auto', max_leaf_nodes=None,\n",
       "           min_impurity_split=1e-07, min_samples_leaf=1,\n",
       "           min_samples_split=2, min_weight_fraction_leaf=0.0,\n",
       "           n_estimators=10, n_jobs=1, oob_score=False, random_state=None,\n",
       "           verbose=0, warm_start=False),\n",
       "       fit_params={}, iid=True, n_jobs=-1,\n",
       "       param_grid={'n_estimators': array([  1,   5,   9,  13,  17,  21,  25,  29,  33,  37,  41,  45,  49,\n",
       "        53,  57,  61,  65,  70,  74,  78,  82,  86,  90,  94,  98, 102,\n",
       "       106, 110, 114, 118, 122, 126, 130, 135, 139, 143, 147, 151, 155,\n",
       "       159, 163, 167, 171, 175, 179, 183, 187, 191, 195, 200])},\n",
       "       pre_dispatch='2*n_jobs', refit=True, return_train_score=True,\n",
       "       scoring=None, verbose=0)"
      ]
     },
     "execution_count": 71,
     "metadata": {},
     "output_type": "execute_result"
    }
   ],
   "source": [
    "grid_RFR.fit(x_train,y_train.ravel())"
   ]
  },
  {
   "cell_type": "code",
   "execution_count": 72,
   "metadata": {
    "collapsed": false
   },
   "outputs": [
    {
     "data": {
      "text/plain": [
       "array([  1,   5,   9,  13,  17,  21,  25,  29,  33,  37,  41,  45,  49,\n",
       "        53,  57,  61,  65,  70,  74,  78,  82,  86,  90,  94,  98, 102,\n",
       "       106, 110, 114, 118, 122, 126, 130, 135, 139, 143, 147, 151, 155,\n",
       "       159, 163, 167, 171, 175, 179, 183, 187, 191, 195, 200])"
      ]
     },
     "execution_count": 72,
     "metadata": {},
     "output_type": "execute_result"
    }
   ],
   "source": [
    "n_estimators"
   ]
  },
  {
   "cell_type": "code",
   "execution_count": 73,
   "metadata": {
    "collapsed": false
   },
   "outputs": [
    {
     "data": {
      "text/plain": [
       "0.7188783522390283"
      ]
     },
     "execution_count": 73,
     "metadata": {},
     "output_type": "execute_result"
    }
   ],
   "source": [
    "grid_RFR.score(x_test,y_test)"
   ]
  },
  {
   "cell_type": "code",
   "execution_count": 74,
   "metadata": {
    "collapsed": false
   },
   "outputs": [
    {
     "data": {
      "text/plain": [
       "0.94407778810754117"
      ]
     },
     "execution_count": 74,
     "metadata": {},
     "output_type": "execute_result"
    }
   ],
   "source": [
    "grid_RFR.score(x_train,y_train)"
   ]
  },
  {
   "cell_type": "markdown",
   "metadata": {},
   "source": [
    "# Support Vector Regressor"
   ]
  },
  {
   "cell_type": "code",
   "execution_count": 75,
   "metadata": {
    "collapsed": true
   },
   "outputs": [],
   "source": [
    "params = {'C':[1e-3,3e-3,1e-2,3e-2,1e-1,3e-1,1,3,10,30,100,300,1000],'kernel':['rbf','sigmoid']}"
   ]
  },
  {
   "cell_type": "code",
   "execution_count": 76,
   "metadata": {
    "collapsed": true
   },
   "outputs": [],
   "source": [
    "grid_SVR = GridSearchCV(SVR(),param_grid=params,n_jobs=-1)"
   ]
  },
  {
   "cell_type": "code",
   "execution_count": 80,
   "metadata": {
    "collapsed": false
   },
   "outputs": [
    {
     "data": {
      "text/plain": [
       "GridSearchCV(cv=None, error_score='raise',\n",
       "       estimator=SVR(C=1.0, cache_size=200, coef0=0.0, degree=3, epsilon=0.1, gamma='auto',\n",
       "  kernel='rbf', max_iter=-1, shrinking=True, tol=0.001, verbose=False),\n",
       "       fit_params={}, iid=True, n_jobs=-1,\n",
       "       param_grid={'kernel': ['rbf', 'sigmoid'], 'C': [0.001, 0.003, 0.01, 0.03, 0.1, 0.3, 1, 3, 10, 30, 100, 300, 1000]},\n",
       "       pre_dispatch='2*n_jobs', refit=True, return_train_score=True,\n",
       "       scoring=None, verbose=0)"
      ]
     },
     "execution_count": 80,
     "metadata": {},
     "output_type": "execute_result"
    }
   ],
   "source": [
    "grid_SVR.fit(x_train,y_train.ravel())"
   ]
  },
  {
   "cell_type": "code",
   "execution_count": 81,
   "metadata": {
    "collapsed": false
   },
   "outputs": [
    {
     "data": {
      "text/plain": [
       "-0.01136516625991657"
      ]
     },
     "execution_count": 81,
     "metadata": {},
     "output_type": "execute_result"
    }
   ],
   "source": [
    "grid_SVR.score(x_test,y_test)"
   ]
  },
  {
   "cell_type": "markdown",
   "metadata": {},
   "source": [
    "# Results \n",
    "\n",
    "The Random Forest Regressor had a Training score of : 0.94 and a Test score of : 0.72. This was byfar the best model, and seems to be a strong predictor of airport delay with the given features. "
   ]
  },
  {
   "cell_type": "code",
   "execution_count": 108,
   "metadata": {
    "collapsed": true
   },
   "outputs": [],
   "source": [
    "feature_val =[ val for val in grid_RFR.best_estimator_.feature_importances_]\n",
    "results_df = pd.DataFrame([predictive_factors,feature_val])"
   ]
  },
  {
   "cell_type": "code",
   "execution_count": 111,
   "metadata": {
    "collapsed": false
   },
   "outputs": [],
   "source": [
    "results_df = results_df.T"
   ]
  },
  {
   "cell_type": "code",
   "execution_count": 115,
   "metadata": {
    "collapsed": false
   },
   "outputs": [
    {
     "data": {
      "text/html": [
       "<div>\n",
       "<table border=\"1\" class=\"dataframe\">\n",
       "  <thead>\n",
       "    <tr style=\"text-align: right;\">\n",
       "      <th></th>\n",
       "      <th>0</th>\n",
       "      <th>1</th>\n",
       "    </tr>\n",
       "  </thead>\n",
       "  <tbody>\n",
       "    <tr>\n",
       "      <th>9</th>\n",
       "      <td>Longitude</td>\n",
       "      <td>0.200369</td>\n",
       "    </tr>\n",
       "    <tr>\n",
       "      <th>5</th>\n",
       "      <td>departures for metric computation</td>\n",
       "      <td>0.18625</td>\n",
       "    </tr>\n",
       "    <tr>\n",
       "      <th>7</th>\n",
       "      <td>Arrival Cancellations</td>\n",
       "      <td>0.108045</td>\n",
       "    </tr>\n",
       "    <tr>\n",
       "      <th>4</th>\n",
       "      <td>arrivals for metric computation</td>\n",
       "      <td>0.107675</td>\n",
       "    </tr>\n",
       "    <tr>\n",
       "      <th>8</th>\n",
       "      <td>Departure Cancellations</td>\n",
       "      <td>0.0975354</td>\n",
       "    </tr>\n",
       "    <tr>\n",
       "      <th>0</th>\n",
       "      <td>Year</td>\n",
       "      <td>0.0931141</td>\n",
       "    </tr>\n",
       "    <tr>\n",
       "      <th>3</th>\n",
       "      <td>Departure Diversions</td>\n",
       "      <td>0.0526476</td>\n",
       "    </tr>\n",
       "    <tr>\n",
       "      <th>6</th>\n",
       "      <td>Arrival Diversions</td>\n",
       "      <td>0.0525134</td>\n",
       "    </tr>\n",
       "    <tr>\n",
       "      <th>1</th>\n",
       "      <td>Key</td>\n",
       "      <td>0.05187</td>\n",
       "    </tr>\n",
       "    <tr>\n",
       "      <th>2</th>\n",
       "      <td>Latitude</td>\n",
       "      <td>0.0499806</td>\n",
       "    </tr>\n",
       "  </tbody>\n",
       "</table>\n",
       "</div>"
      ],
      "text/plain": [
       "                                   0          1\n",
       "9                          Longitude   0.200369\n",
       "5  departures for metric computation    0.18625\n",
       "7              Arrival Cancellations   0.108045\n",
       "4    arrivals for metric computation   0.107675\n",
       "8            Departure Cancellations  0.0975354\n",
       "0                               Year  0.0931141\n",
       "3               Departure Diversions  0.0526476\n",
       "6                 Arrival Diversions  0.0525134\n",
       "1                                Key    0.05187\n",
       "2                           Latitude  0.0499806"
      ]
     },
     "execution_count": 115,
     "metadata": {},
     "output_type": "execute_result"
    }
   ],
   "source": [
    "results_df.sort_values(1,ascending=False)"
   ]
  },
  {
   "cell_type": "markdown",
   "metadata": {},
   "source": [
    "The most predictive features of airport delay are Longitude, airport depatures, arrival cancellations, airport arrivals, and Departure Cancellations. Longitude, airport depatures, and airport arrivals are difficult paramters for an airport to change. However, if the FAA can do a better job controlling both Arrival and Departure cancelations, airport delays should be reduced. Furthermore, what is evident from this study is that Airports that are located in the Eastern United States, near many other airports, with many arrivals and depatrues are more likely to have significant delays than less busy and western airports."
   ]
  },
  {
   "cell_type": "code",
   "execution_count": null,
   "metadata": {
    "collapsed": true
   },
   "outputs": [],
   "source": []
  }
 ],
 "metadata": {
  "anaconda-cloud": {},
  "kernelspec": {
   "display_name": "Python [default]",
   "language": "python",
   "name": "python2"
  },
  "language_info": {
   "codemirror_mode": {
    "name": "ipython",
    "version": 2
   },
   "file_extension": ".py",
   "mimetype": "text/x-python",
   "name": "python",
   "nbconvert_exporter": "python",
   "pygments_lexer": "ipython2",
   "version": "2.7.12"
  }
 },
 "nbformat": 4,
 "nbformat_minor": 1
}
